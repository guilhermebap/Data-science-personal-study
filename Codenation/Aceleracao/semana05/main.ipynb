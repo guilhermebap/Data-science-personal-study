{
 "cells": [
  {
   "cell_type": "markdown",
   "metadata": {},
   "source": [
    "# Desafio 4\n",
    "\n",
    "Neste desafio, vamos praticar um pouco sobre testes de hipóteses. Utilizaremos o _data set_ [2016 Olympics in Rio de Janeiro](https://www.kaggle.com/rio2016/olympic-games/), que contém dados sobre os atletas das Olimpíadas de 2016 no Rio de Janeiro.\n",
    "\n",
    "Esse _data set_ conta com informações gerais sobre 11538 atletas como nome, nacionalidade, altura, peso e esporte praticado. Estaremos especialmente interessados nas variáveis numéricas altura (`height`) e peso (`weight`). As análises feitas aqui são parte de uma Análise Exploratória de Dados (EDA).\n",
    "\n",
    "> Obs.: Por favor, não modifique o nome das funções de resposta."
   ]
  },
  {
   "cell_type": "markdown",
   "metadata": {},
   "source": [
    "## _Setup_ geral"
   ]
  },
  {
   "cell_type": "code",
   "execution_count": 25,
   "metadata": {},
   "outputs": [],
   "source": [
    "import pandas as pd\n",
    "import matplotlib.pyplot as plt\n",
    "import numpy as np\n",
    "import scipy.stats as sct\n",
    "import seaborn as sns\n",
    "import math"
   ]
  },
  {
   "cell_type": "code",
   "execution_count": 11,
   "metadata": {},
   "outputs": [],
   "source": [
    "#%matplotlib inline\n",
    "\n",
    "from IPython.core.pylabtools import figsize\n",
    "\n",
    "\n",
    "figsize(12, 8)\n",
    "\n",
    "sns.set()"
   ]
  },
  {
   "cell_type": "code",
   "execution_count": 12,
   "metadata": {},
   "outputs": [],
   "source": [
    "athletes = pd.read_csv(\"athletes.csv\", parse_dates=['dob'])"
   ]
  },
  {
   "cell_type": "code",
   "execution_count": 13,
   "metadata": {},
   "outputs": [],
   "source": [
    "def get_sample(df, col_name, n=100, seed=42):\n",
    "    \"\"\"Get a sample from a column of a dataframe.\n",
    "    \n",
    "    It drops any numpy.nan entries before sampling. The sampling\n",
    "    is performed without replacement.\n",
    "    \n",
    "    Example of numpydoc for those who haven't seen yet.\n",
    "    \n",
    "    Parameters\n",
    "    ----------\n",
    "    df : pandas.DataFrame\n",
    "        Source dataframe.\n",
    "    col_name : str\n",
    "        Name of the column to be sampled.\n",
    "    n : int\n",
    "        Sample size. Default is 100.\n",
    "    seed : int\n",
    "        Random seed. Default is 42.\n",
    "    \n",
    "    Returns\n",
    "    -------\n",
    "    pandas.Series\n",
    "        Sample of size n from dataframe's column.\n",
    "    \"\"\"\n",
    "    np.random.seed(seed)\n",
    "    \n",
    "    random_idx = np.random.choice(df[col_name].dropna().index, size=n, replace=False)\n",
    "    \n",
    "    return df.loc[random_idx, col_name]"
   ]
  },
  {
   "cell_type": "markdown",
   "metadata": {},
   "source": [
    "## Inicia sua análise a partir daqui"
   ]
  },
  {
   "cell_type": "code",
   "execution_count": 14,
   "metadata": {},
   "outputs": [],
   "source": [
    "# Sua análise começa aqui.\n",
    "df = athletes"
   ]
  },
  {
   "cell_type": "code",
   "execution_count": 15,
   "metadata": {},
   "outputs": [
    {
     "data": {
      "text/plain": [
       "(11538, 11)"
      ]
     },
     "execution_count": 15,
     "metadata": {},
     "output_type": "execute_result"
    }
   ],
   "source": [
    "df.shape"
   ]
  },
  {
   "cell_type": "code",
   "execution_count": 22,
   "metadata": {},
   "outputs": [
    {
     "data": {
      "text/html": [
       "<div>\n",
       "<style scoped>\n",
       "    .dataframe tbody tr th:only-of-type {\n",
       "        vertical-align: middle;\n",
       "    }\n",
       "\n",
       "    .dataframe tbody tr th {\n",
       "        vertical-align: top;\n",
       "    }\n",
       "\n",
       "    .dataframe thead th {\n",
       "        text-align: right;\n",
       "    }\n",
       "</style>\n",
       "<table border=\"1\" class=\"dataframe\">\n",
       "  <thead>\n",
       "    <tr style=\"text-align: right;\">\n",
       "      <th></th>\n",
       "      <th>id</th>\n",
       "      <th>name</th>\n",
       "      <th>nationality</th>\n",
       "      <th>sex</th>\n",
       "      <th>dob</th>\n",
       "      <th>height</th>\n",
       "      <th>weight</th>\n",
       "      <th>sport</th>\n",
       "      <th>gold</th>\n",
       "      <th>silver</th>\n",
       "      <th>bronze</th>\n",
       "    </tr>\n",
       "  </thead>\n",
       "  <tbody>\n",
       "    <tr>\n",
       "      <th>0</th>\n",
       "      <td>736041664</td>\n",
       "      <td>A Jesus Garcia</td>\n",
       "      <td>ESP</td>\n",
       "      <td>male</td>\n",
       "      <td>2069-10-17</td>\n",
       "      <td>1.72</td>\n",
       "      <td>64.0</td>\n",
       "      <td>athletics</td>\n",
       "      <td>0</td>\n",
       "      <td>0</td>\n",
       "      <td>0</td>\n",
       "    </tr>\n",
       "    <tr>\n",
       "      <th>1</th>\n",
       "      <td>532037425</td>\n",
       "      <td>A Lam Shin</td>\n",
       "      <td>KOR</td>\n",
       "      <td>female</td>\n",
       "      <td>1986-09-23</td>\n",
       "      <td>1.68</td>\n",
       "      <td>56.0</td>\n",
       "      <td>fencing</td>\n",
       "      <td>0</td>\n",
       "      <td>0</td>\n",
       "      <td>0</td>\n",
       "    </tr>\n",
       "    <tr>\n",
       "      <th>2</th>\n",
       "      <td>435962603</td>\n",
       "      <td>Aaron Brown</td>\n",
       "      <td>CAN</td>\n",
       "      <td>male</td>\n",
       "      <td>1992-05-27</td>\n",
       "      <td>1.98</td>\n",
       "      <td>79.0</td>\n",
       "      <td>athletics</td>\n",
       "      <td>0</td>\n",
       "      <td>0</td>\n",
       "      <td>1</td>\n",
       "    </tr>\n",
       "    <tr>\n",
       "      <th>3</th>\n",
       "      <td>521041435</td>\n",
       "      <td>Aaron Cook</td>\n",
       "      <td>MDA</td>\n",
       "      <td>male</td>\n",
       "      <td>1991-01-02</td>\n",
       "      <td>1.83</td>\n",
       "      <td>80.0</td>\n",
       "      <td>taekwondo</td>\n",
       "      <td>0</td>\n",
       "      <td>0</td>\n",
       "      <td>0</td>\n",
       "    </tr>\n",
       "    <tr>\n",
       "      <th>4</th>\n",
       "      <td>33922579</td>\n",
       "      <td>Aaron Gate</td>\n",
       "      <td>NZL</td>\n",
       "      <td>male</td>\n",
       "      <td>1990-11-26</td>\n",
       "      <td>1.81</td>\n",
       "      <td>71.0</td>\n",
       "      <td>cycling</td>\n",
       "      <td>0</td>\n",
       "      <td>0</td>\n",
       "      <td>0</td>\n",
       "    </tr>\n",
       "    <tr>\n",
       "      <th>5</th>\n",
       "      <td>173071782</td>\n",
       "      <td>Aaron Royle</td>\n",
       "      <td>AUS</td>\n",
       "      <td>male</td>\n",
       "      <td>1990-01-26</td>\n",
       "      <td>1.80</td>\n",
       "      <td>67.0</td>\n",
       "      <td>triathlon</td>\n",
       "      <td>0</td>\n",
       "      <td>0</td>\n",
       "      <td>0</td>\n",
       "    </tr>\n",
       "    <tr>\n",
       "      <th>6</th>\n",
       "      <td>266237702</td>\n",
       "      <td>Aaron Russell</td>\n",
       "      <td>USA</td>\n",
       "      <td>male</td>\n",
       "      <td>1993-06-04</td>\n",
       "      <td>2.05</td>\n",
       "      <td>98.0</td>\n",
       "      <td>volleyball</td>\n",
       "      <td>0</td>\n",
       "      <td>0</td>\n",
       "      <td>1</td>\n",
       "    </tr>\n",
       "    <tr>\n",
       "      <th>7</th>\n",
       "      <td>382571888</td>\n",
       "      <td>Aaron Younger</td>\n",
       "      <td>AUS</td>\n",
       "      <td>male</td>\n",
       "      <td>1991-09-25</td>\n",
       "      <td>1.93</td>\n",
       "      <td>100.0</td>\n",
       "      <td>aquatics</td>\n",
       "      <td>0</td>\n",
       "      <td>0</td>\n",
       "      <td>0</td>\n",
       "    </tr>\n",
       "    <tr>\n",
       "      <th>8</th>\n",
       "      <td>87689776</td>\n",
       "      <td>Aauri Lorena Bokesa</td>\n",
       "      <td>ESP</td>\n",
       "      <td>female</td>\n",
       "      <td>1988-12-14</td>\n",
       "      <td>1.80</td>\n",
       "      <td>62.0</td>\n",
       "      <td>athletics</td>\n",
       "      <td>0</td>\n",
       "      <td>0</td>\n",
       "      <td>0</td>\n",
       "    </tr>\n",
       "    <tr>\n",
       "      <th>9</th>\n",
       "      <td>997877719</td>\n",
       "      <td>Ababel Yeshaneh</td>\n",
       "      <td>ETH</td>\n",
       "      <td>female</td>\n",
       "      <td>1991-07-22</td>\n",
       "      <td>1.65</td>\n",
       "      <td>54.0</td>\n",
       "      <td>athletics</td>\n",
       "      <td>0</td>\n",
       "      <td>0</td>\n",
       "      <td>0</td>\n",
       "    </tr>\n",
       "  </tbody>\n",
       "</table>\n",
       "</div>"
      ],
      "text/plain": [
       "          id                 name nationality     sex        dob  height  \\\n",
       "0  736041664       A Jesus Garcia         ESP    male 2069-10-17    1.72   \n",
       "1  532037425           A Lam Shin         KOR  female 1986-09-23    1.68   \n",
       "2  435962603          Aaron Brown         CAN    male 1992-05-27    1.98   \n",
       "3  521041435           Aaron Cook         MDA    male 1991-01-02    1.83   \n",
       "4   33922579           Aaron Gate         NZL    male 1990-11-26    1.81   \n",
       "5  173071782          Aaron Royle         AUS    male 1990-01-26    1.80   \n",
       "6  266237702        Aaron Russell         USA    male 1993-06-04    2.05   \n",
       "7  382571888        Aaron Younger         AUS    male 1991-09-25    1.93   \n",
       "8   87689776  Aauri Lorena Bokesa         ESP  female 1988-12-14    1.80   \n",
       "9  997877719      Ababel Yeshaneh         ETH  female 1991-07-22    1.65   \n",
       "\n",
       "   weight       sport  gold  silver  bronze  \n",
       "0    64.0   athletics     0       0       0  \n",
       "1    56.0     fencing     0       0       0  \n",
       "2    79.0   athletics     0       0       1  \n",
       "3    80.0   taekwondo     0       0       0  \n",
       "4    71.0     cycling     0       0       0  \n",
       "5    67.0   triathlon     0       0       0  \n",
       "6    98.0  volleyball     0       0       1  \n",
       "7   100.0    aquatics     0       0       0  \n",
       "8    62.0   athletics     0       0       0  \n",
       "9    54.0   athletics     0       0       0  "
      ]
     },
     "execution_count": 22,
     "metadata": {},
     "output_type": "execute_result"
    }
   ],
   "source": [
    "df.head(10)"
   ]
  },
  {
   "cell_type": "code",
   "execution_count": 13,
   "metadata": {
    "scrolled": true
   },
   "outputs": [
    {
     "name": "stdout",
     "output_type": "stream",
     "text": [
      "<class 'pandas.core.frame.DataFrame'>\n",
      "RangeIndex: 11538 entries, 0 to 11537\n",
      "Data columns (total 11 columns):\n",
      " #   Column       Non-Null Count  Dtype  \n",
      "---  ------       --------------  -----  \n",
      " 0   id           11538 non-null  int64  \n",
      " 1   name         11538 non-null  object \n",
      " 2   nationality  11538 non-null  object \n",
      " 3   sex          11538 non-null  object \n",
      " 4   dob          11537 non-null  object \n",
      " 5   height       11208 non-null  float64\n",
      " 6   weight       10879 non-null  float64\n",
      " 7   sport        11538 non-null  object \n",
      " 8   gold         11538 non-null  int64  \n",
      " 9   silver       11538 non-null  int64  \n",
      " 10  bronze       11538 non-null  int64  \n",
      "dtypes: float64(2), int64(4), object(5)\n",
      "memory usage: 991.7+ KB\n"
     ]
    }
   ],
   "source": [
    "df.info()"
   ]
  },
  {
   "cell_type": "code",
   "execution_count": 14,
   "metadata": {
    "scrolled": true
   },
   "outputs": [
    {
     "data": {
      "text/html": [
       "<div>\n",
       "<style scoped>\n",
       "    .dataframe tbody tr th:only-of-type {\n",
       "        vertical-align: middle;\n",
       "    }\n",
       "\n",
       "    .dataframe tbody tr th {\n",
       "        vertical-align: top;\n",
       "    }\n",
       "\n",
       "    .dataframe thead th {\n",
       "        text-align: right;\n",
       "    }\n",
       "</style>\n",
       "<table border=\"1\" class=\"dataframe\">\n",
       "  <thead>\n",
       "    <tr style=\"text-align: right;\">\n",
       "      <th></th>\n",
       "      <th>id</th>\n",
       "      <th>name</th>\n",
       "      <th>nationality</th>\n",
       "      <th>sex</th>\n",
       "      <th>dob</th>\n",
       "      <th>height</th>\n",
       "      <th>weight</th>\n",
       "      <th>sport</th>\n",
       "      <th>gold</th>\n",
       "      <th>silver</th>\n",
       "      <th>bronze</th>\n",
       "    </tr>\n",
       "  </thead>\n",
       "  <tbody>\n",
       "    <tr>\n",
       "      <th>790</th>\n",
       "      <td>294664221</td>\n",
       "      <td>Andreea Aanei</td>\n",
       "      <td>ROU</td>\n",
       "      <td>female</td>\n",
       "      <td>11/18/93</td>\n",
       "      <td>1.70</td>\n",
       "      <td>120.0</td>\n",
       "      <td>weightlifting</td>\n",
       "      <td>0</td>\n",
       "      <td>0</td>\n",
       "      <td>0</td>\n",
       "    </tr>\n",
       "    <tr>\n",
       "      <th>1337</th>\n",
       "      <td>467627104</td>\n",
       "      <td>Barna Bor</td>\n",
       "      <td>HUN</td>\n",
       "      <td>male</td>\n",
       "      <td>12/12/86</td>\n",
       "      <td>1.91</td>\n",
       "      <td>130.0</td>\n",
       "      <td>judo</td>\n",
       "      <td>0</td>\n",
       "      <td>0</td>\n",
       "      <td>0</td>\n",
       "    </tr>\n",
       "    <tr>\n",
       "      <th>9309</th>\n",
       "      <td>788805861</td>\n",
       "      <td>Ryan Held</td>\n",
       "      <td>USA</td>\n",
       "      <td>male</td>\n",
       "      <td>6/27/95</td>\n",
       "      <td>NaN</td>\n",
       "      <td>NaN</td>\n",
       "      <td>aquatics</td>\n",
       "      <td>1</td>\n",
       "      <td>0</td>\n",
       "      <td>0</td>\n",
       "    </tr>\n",
       "    <tr>\n",
       "      <th>10660</th>\n",
       "      <td>737278135</td>\n",
       "      <td>Tyler Martin</td>\n",
       "      <td>AUS</td>\n",
       "      <td>male</td>\n",
       "      <td>6/28/90</td>\n",
       "      <td>1.96</td>\n",
       "      <td>98.0</td>\n",
       "      <td>aquatics</td>\n",
       "      <td>0</td>\n",
       "      <td>0</td>\n",
       "      <td>0</td>\n",
       "    </tr>\n",
       "    <tr>\n",
       "      <th>10934</th>\n",
       "      <td>365006989</td>\n",
       "      <td>Volha Ziuzkova</td>\n",
       "      <td>BLR</td>\n",
       "      <td>female</td>\n",
       "      <td>6/14/83</td>\n",
       "      <td>1.71</td>\n",
       "      <td>69.0</td>\n",
       "      <td>basketball</td>\n",
       "      <td>0</td>\n",
       "      <td>0</td>\n",
       "      <td>0</td>\n",
       "    </tr>\n",
       "    <tr>\n",
       "      <th>6874</th>\n",
       "      <td>610975661</td>\n",
       "      <td>Mariano Canepa</td>\n",
       "      <td>ARG</td>\n",
       "      <td>male</td>\n",
       "      <td>5/7/87</td>\n",
       "      <td>1.85</td>\n",
       "      <td>98.0</td>\n",
       "      <td>handball</td>\n",
       "      <td>0</td>\n",
       "      <td>0</td>\n",
       "      <td>0</td>\n",
       "    </tr>\n",
       "    <tr>\n",
       "      <th>4790</th>\n",
       "      <td>240137595</td>\n",
       "      <td>Jeremy Desplanches</td>\n",
       "      <td>SUI</td>\n",
       "      <td>male</td>\n",
       "      <td>8/7/94</td>\n",
       "      <td>1.89</td>\n",
       "      <td>73.0</td>\n",
       "      <td>aquatics</td>\n",
       "      <td>0</td>\n",
       "      <td>0</td>\n",
       "      <td>0</td>\n",
       "    </tr>\n",
       "    <tr>\n",
       "      <th>3288</th>\n",
       "      <td>775503680</td>\n",
       "      <td>Fanny Deberghes</td>\n",
       "      <td>FRA</td>\n",
       "      <td>female</td>\n",
       "      <td>2/21/94</td>\n",
       "      <td>1.70</td>\n",
       "      <td>65.0</td>\n",
       "      <td>aquatics</td>\n",
       "      <td>0</td>\n",
       "      <td>0</td>\n",
       "      <td>0</td>\n",
       "    </tr>\n",
       "    <tr>\n",
       "      <th>6392</th>\n",
       "      <td>803793188</td>\n",
       "      <td>Ludger Beerbaum</td>\n",
       "      <td>GER</td>\n",
       "      <td>male</td>\n",
       "      <td>8/26/63</td>\n",
       "      <td>1.90</td>\n",
       "      <td>85.0</td>\n",
       "      <td>equestrian</td>\n",
       "      <td>0</td>\n",
       "      <td>0</td>\n",
       "      <td>1</td>\n",
       "    </tr>\n",
       "    <tr>\n",
       "      <th>4121</th>\n",
       "      <td>441329153</td>\n",
       "      <td>Hiromi Miyake</td>\n",
       "      <td>JPN</td>\n",
       "      <td>female</td>\n",
       "      <td>11/18/85</td>\n",
       "      <td>1.45</td>\n",
       "      <td>48.0</td>\n",
       "      <td>weightlifting</td>\n",
       "      <td>0</td>\n",
       "      <td>0</td>\n",
       "      <td>1</td>\n",
       "    </tr>\n",
       "    <tr>\n",
       "      <th>3714</th>\n",
       "      <td>436375736</td>\n",
       "      <td>Gintare Scheidt</td>\n",
       "      <td>LTU</td>\n",
       "      <td>female</td>\n",
       "      <td>11/12/82</td>\n",
       "      <td>1.72</td>\n",
       "      <td>63.0</td>\n",
       "      <td>sailing</td>\n",
       "      <td>0</td>\n",
       "      <td>0</td>\n",
       "      <td>0</td>\n",
       "    </tr>\n",
       "    <tr>\n",
       "      <th>1010</th>\n",
       "      <td>618542850</td>\n",
       "      <td>Anouk Verge-Depre</td>\n",
       "      <td>SUI</td>\n",
       "      <td>female</td>\n",
       "      <td>2/11/92</td>\n",
       "      <td>1.85</td>\n",
       "      <td>70.0</td>\n",
       "      <td>volleyball</td>\n",
       "      <td>0</td>\n",
       "      <td>0</td>\n",
       "      <td>0</td>\n",
       "    </tr>\n",
       "    <tr>\n",
       "      <th>3258</th>\n",
       "      <td>391451002</td>\n",
       "      <td>Fabiano Joseph</td>\n",
       "      <td>TAN</td>\n",
       "      <td>male</td>\n",
       "      <td>12/24/85</td>\n",
       "      <td>NaN</td>\n",
       "      <td>50.0</td>\n",
       "      <td>athletics</td>\n",
       "      <td>0</td>\n",
       "      <td>0</td>\n",
       "      <td>0</td>\n",
       "    </tr>\n",
       "    <tr>\n",
       "      <th>6675</th>\n",
       "      <td>653187190</td>\n",
       "      <td>Manuel Brunet</td>\n",
       "      <td>ARG</td>\n",
       "      <td>male</td>\n",
       "      <td>11/16/85</td>\n",
       "      <td>1.79</td>\n",
       "      <td>79.0</td>\n",
       "      <td>hockey</td>\n",
       "      <td>1</td>\n",
       "      <td>0</td>\n",
       "      <td>0</td>\n",
       "    </tr>\n",
       "    <tr>\n",
       "      <th>7735</th>\n",
       "      <td>933274052</td>\n",
       "      <td>Morgan Craft</td>\n",
       "      <td>USA</td>\n",
       "      <td>female</td>\n",
       "      <td>5/11/93</td>\n",
       "      <td>1.61</td>\n",
       "      <td>63.0</td>\n",
       "      <td>shooting</td>\n",
       "      <td>0</td>\n",
       "      <td>0</td>\n",
       "      <td>0</td>\n",
       "    </tr>\n",
       "  </tbody>\n",
       "</table>\n",
       "</div>"
      ],
      "text/plain": [
       "              id                name nationality     sex       dob  height  \\\n",
       "790    294664221       Andreea Aanei         ROU  female  11/18/93    1.70   \n",
       "1337   467627104           Barna Bor         HUN    male  12/12/86    1.91   \n",
       "9309   788805861           Ryan Held         USA    male   6/27/95     NaN   \n",
       "10660  737278135        Tyler Martin         AUS    male   6/28/90    1.96   \n",
       "10934  365006989      Volha Ziuzkova         BLR  female   6/14/83    1.71   \n",
       "6874   610975661      Mariano Canepa         ARG    male    5/7/87    1.85   \n",
       "4790   240137595  Jeremy Desplanches         SUI    male    8/7/94    1.89   \n",
       "3288   775503680     Fanny Deberghes         FRA  female   2/21/94    1.70   \n",
       "6392   803793188     Ludger Beerbaum         GER    male   8/26/63    1.90   \n",
       "4121   441329153       Hiromi Miyake         JPN  female  11/18/85    1.45   \n",
       "3714   436375736     Gintare Scheidt         LTU  female  11/12/82    1.72   \n",
       "1010   618542850   Anouk Verge-Depre         SUI  female   2/11/92    1.85   \n",
       "3258   391451002      Fabiano Joseph         TAN    male  12/24/85     NaN   \n",
       "6675   653187190       Manuel Brunet         ARG    male  11/16/85    1.79   \n",
       "7735   933274052        Morgan Craft         USA  female   5/11/93    1.61   \n",
       "\n",
       "       weight          sport  gold  silver  bronze  \n",
       "790     120.0  weightlifting     0       0       0  \n",
       "1337    130.0           judo     0       0       0  \n",
       "9309      NaN       aquatics     1       0       0  \n",
       "10660    98.0       aquatics     0       0       0  \n",
       "10934    69.0     basketball     0       0       0  \n",
       "6874     98.0       handball     0       0       0  \n",
       "4790     73.0       aquatics     0       0       0  \n",
       "3288     65.0       aquatics     0       0       0  \n",
       "6392     85.0     equestrian     0       0       1  \n",
       "4121     48.0  weightlifting     0       0       1  \n",
       "3714     63.0        sailing     0       0       0  \n",
       "1010     70.0     volleyball     0       0       0  \n",
       "3258     50.0      athletics     0       0       0  \n",
       "6675     79.0         hockey     1       0       0  \n",
       "7735     63.0       shooting     0       0       0  "
      ]
     },
     "execution_count": 14,
     "metadata": {},
     "output_type": "execute_result"
    }
   ],
   "source": [
    "df.sample(15)"
   ]
  },
  {
   "cell_type": "code",
   "execution_count": 32,
   "metadata": {
    "scrolled": true
   },
   "outputs": [
    {
     "data": {
      "text/plain": [
       "dob\n",
       "1988-12-31    65\n",
       "1994-12-31    55\n",
       "1990-12-31    53\n",
       "1989-12-31    51\n",
       "1991-12-31    50\n",
       "1993-12-31    49\n",
       "1985-12-31    47\n",
       "1992-12-31    46\n",
       "1986-12-31    39\n",
       "1995-12-31    37\n",
       "Name: gold, dtype: int64"
      ]
     },
     "execution_count": 32,
     "metadata": {},
     "output_type": "execute_result"
    }
   ],
   "source": [
    "df.resample('Y', on='dob').sum()['gold'].sort_values(ascending=False).head(10)"
   ]
  },
  {
   "cell_type": "code",
   "execution_count": 17,
   "metadata": {},
   "outputs": [
    {
     "data": {
      "image/png": "[encoded data removed]",
      "text/plain": [
       "<Figure size 864x576 with 1 Axes>"
      ]
     },
     "metadata": {},
     "output_type": "display_data"
    }
   ],
   "source": [
    "sns.distplot(df['height'])\n",
    "plt.show()"
   ]
  },
  {
   "cell_type": "code",
   "execution_count": 20,
   "metadata": {},
   "outputs": [
    {
     "data": {
      "text/plain": [
       "1811     1.79\n",
       "7962     1.81\n",
       "10280    1.83\n",
       "317      1.68\n",
       "6989     2.01\n",
       "Name: height, dtype: float64"
      ]
     },
     "execution_count": 20,
     "metadata": {},
     "output_type": "execute_result"
    }
   ],
   "source": [
    "# Questão 01\n",
    "\n",
    "sample1 = get_sample(df, 'height', n=3000)\n",
    "sample1.head()"
   ]
  },
  {
   "cell_type": "code",
   "execution_count": 41,
   "metadata": {},
   "outputs": [
    {
     "name": "stdout",
     "output_type": "stream",
     "text": [
      "False\n"
     ]
    }
   ],
   "source": [
    "pvalue = sct.shapiro(sample1)\n",
    "if pvalue[1] < 0.05:\n",
    "    print('False')\n",
    "else:\n",
    "    print('True')"
   ]
  },
  {
   "cell_type": "code",
   "execution_count": 18,
   "metadata": {},
   "outputs": [
    {
     "name": "stdout",
     "output_type": "stream",
     "text": [
      "True\n"
     ]
    }
   ],
   "source": [
    "# Questão 3\n",
    "sample3 = get_sample(df, 'weight', n=3000)\n",
    "if sct.normaltest(sample3)[1] <0.05:\n",
    "    print(True)\n",
    "else:\n",
    "    print(False)"
   ]
  },
  {
   "cell_type": "code",
   "execution_count": 42,
   "metadata": {},
   "outputs": [
    {
     "name": "stdout",
     "output_type": "stream",
     "text": [
      "False\n"
     ]
    }
   ],
   "source": [
    "# Questão 4\n",
    "sample3 = get_sample(df, 'weight', n=3000)\n",
    "logTrans = np.array([*map(lambda x: math.log(x, 10), sample3.values)])\n",
    "if sct.normaltest(logTrans)[1] < 0.05:\n",
    "    print(False)\n",
    "else:\n",
    "    print(True)"
   ]
  },
  {
   "cell_type": "code",
   "execution_count": 68,
   "metadata": {},
   "outputs": [
    {
     "name": "stdout",
     "output_type": "stream",
     "text": [
      "False\n"
     ]
    }
   ],
   "source": [
    "# Questão 5\n",
    "bra = df[df['nationality'] == 'BRA']\n",
    "usa = df[df['nationality'] == 'USA']\n",
    "can = df[df['nationality'] == 'CAN']\n",
    "\n",
    "pvalue = sct.ttest_ind(bra['height'].dropna(), usa['height'].dropna(), equal_var=False)[1]\n",
    "if pvalue < 0.05:\n",
    "    print(False)\n",
    "else:\n",
    "    print(True)"
   ]
  },
  {
   "cell_type": "code",
   "execution_count": 69,
   "metadata": {},
   "outputs": [
    {
     "name": "stdout",
     "output_type": "stream",
     "text": [
      "True\n"
     ]
    }
   ],
   "source": [
    "# Questão 6\n",
    "bra = df[df['nationality'] == 'BRA']\n",
    "usa = df[df['nationality'] == 'USA']\n",
    "can = df[df['nationality'] == 'CAN']\n",
    "\n",
    "pvalue = sct.ttest_ind(bra['height'].dropna(), can['height'].dropna(), equal_var=False)[1]\n",
    "if pvalue < 0.05:\n",
    "    print(False)\n",
    "else:\n",
    "    print(True)"
   ]
  },
  {
   "cell_type": "code",
   "execution_count": 93,
   "metadata": {},
   "outputs": [
    {
     "data": {
      "text/plain": [
       "0.00046601"
      ]
     },
     "execution_count": 93,
     "metadata": {},
     "output_type": "execute_result"
    }
   ],
   "source": [
    "# Questão 7\n",
    "bra = df[df['nationality'] == 'BRA']\n",
    "usa = df[df['nationality'] == 'USA']\n",
    "can = df[df['nationality'] == 'CAN']\n",
    "\n",
    "pvalue = sct.ttest_ind(usa['height'].dropna(), can['height'].dropna(), equal_var=False)[1]\n",
    "round(pvalue, 8)"
   ]
  },
  {
   "cell_type": "markdown",
   "metadata": {},
   "source": [
    "## Questão 1\n",
    "\n",
    "Considerando uma amostra de tamanho 3000 da coluna `height` obtida com a função `get_sample()`, execute o teste de normalidade de Shapiro-Wilk com a função `scipy.stats.shapiro()`. Podemos afirmar que as alturas são normalmente distribuídas com base nesse teste (ao nível de significância de 5%)? Responda com um boolean (`True` ou `False`)."
   ]
  },
  {
   "cell_type": "code",
   "execution_count": 42,
   "metadata": {},
   "outputs": [],
   "source": [
    "def q1():\n",
    "    sample1 = get_sample(df, 'height', n=3000)\n",
    "    pvalue = sct.shapiro(sample1)\n",
    "    if pvalue[1] < 0.05:\n",
    "        return False\n",
    "    else:\n",
    "        return True"
   ]
  },
  {
   "cell_type": "markdown",
   "metadata": {},
   "source": [
    "__Para refletir__:\n",
    "\n",
    "* Plote o histograma dessa variável (com, por exemplo, `bins=25`). A forma do gráfico e o resultado do teste são condizentes? Por que?\n",
    "* Plote o qq-plot para essa variável e a analise.\n",
    "* Existe algum nível de significância razoável que nos dê outro resultado no teste? (Não faça isso na prática. Isso é chamado _p-value hacking_, e não é legal)."
   ]
  },
  {
   "cell_type": "code",
   "execution_count": 22,
   "metadata": {},
   "outputs": [
    {
     "data": {
      "image/png": "[encoded data removed]",
      "text/plain": [
       "<Figure size 864x576 with 1 Axes>"
      ]
     },
     "metadata": {},
     "output_type": "display_data"
    }
   ],
   "source": [
    "sns.distplot(sample1)\n",
    "plt.show()"
   ]
  },
  {
   "cell_type": "markdown",
   "metadata": {},
   "source": [
    "## Questão 2\n",
    "\n",
    "Repita o mesmo procedimento acima, mas agora utilizando o teste de normalidade de Jarque-Bera através da função `scipy.stats.jarque_bera()`. Agora podemos afirmar que as alturas são normalmente distribuídas (ao nível de significância de 5%)? Responda com um boolean (`True` ou `False`)."
   ]
  },
  {
   "cell_type": "code",
   "execution_count": 2,
   "metadata": {},
   "outputs": [],
   "source": [
    "def q2():\n",
    "    sample2 = get_sample(df, 'height', n=3000)\n",
    "    pvalue = sct.jarque_bera(sample2)\n",
    "    if pvalue[1] < 0.05:\n",
    "        return False\n",
    "    else:\n",
    "        return True\n",
    "    pass"
   ]
  },
  {
   "cell_type": "markdown",
   "metadata": {},
   "source": [
    "__Para refletir__:\n",
    "\n",
    "* Esse resultado faz sentido?"
   ]
  },
  {
   "cell_type": "markdown",
   "metadata": {},
   "source": [
    "## Questão 3\n",
    "\n",
    "Considerando agora uma amostra de tamanho 3000 da coluna `weight` obtida com a função `get_sample()`. Faça o teste de normalidade de D'Agostino-Pearson utilizando a função `scipy.stats.normaltest()`. Podemos afirmar que os pesos vêm de uma distribuição normal ao nível de significância de 5%? Responda com um boolean (`True` ou `False`)."
   ]
  },
  {
   "cell_type": "code",
   "execution_count": 19,
   "metadata": {},
   "outputs": [],
   "source": [
    "def q3():\n",
    "    sample3 = get_sample(df, 'weight', n=3000)\n",
    "    if sct.normaltest(sample3)[1] <0.05:\n",
    "        return False\n",
    "    else:\n",
    "        return True"
   ]
  },
  {
   "cell_type": "code",
   "execution_count": 24,
   "metadata": {},
   "outputs": [
    {
     "data": {
      "image/png": "[encoded data removed]",
      "text/plain": [
       "<Figure size 864x576 with 1 Axes>"
      ]
     },
     "metadata": {},
     "output_type": "display_data"
    }
   ],
   "source": [
    "sns.distplot(sample3)\n",
    "plt.show()"
   ]
  },
  {
   "cell_type": "markdown",
   "metadata": {},
   "source": [
    "__Para refletir__:\n",
    "\n",
    "* Plote o histograma dessa variável (com, por exemplo, `bins=25`). A forma do gráfico e o resultado do teste são condizentes? Por que?\n",
    "* Um _box plot_ também poderia ajudar a entender a resposta."
   ]
  },
  {
   "cell_type": "markdown",
   "metadata": {},
   "source": [
    "## Questão 4\n",
    "\n",
    "Realize uma transformação logarítmica em na amostra de `weight` da questão 3 e repita o mesmo procedimento. Podemos afirmar a normalidade da variável transformada ao nível de significância de 5%? Responda com um boolean (`True` ou `False`)."
   ]
  },
  {
   "cell_type": "code",
   "execution_count": 43,
   "metadata": {},
   "outputs": [],
   "source": [
    "def q4():\n",
    "    sample3 = get_sample(df, 'weight', n=3000)\n",
    "    logTrans = np.array([*map(lambda x: math.log(x, 10), sample3.values)])\n",
    "    if sct.normaltest(logTrans)[1] < 0.05:\n",
    "        return False\n",
    "    else:\n",
    "        return True"
   ]
  },
  {
   "cell_type": "markdown",
   "metadata": {},
   "source": [
    "__Para refletir__:\n",
    "\n",
    "* Plote o histograma dessa variável (com, por exemplo, `bins=25`). A forma do gráfico e o resultado do teste são condizentes? Por que?\n",
    "* Você esperava um resultado diferente agora?"
   ]
  },
  {
   "cell_type": "code",
   "execution_count": 44,
   "metadata": {},
   "outputs": [
    {
     "data": {
      "image/png": "[encoded data removed]",
      "text/plain": [
       "<Figure size 864x576 with 1 Axes>"
      ]
     },
     "metadata": {},
     "output_type": "display_data"
    }
   ],
   "source": [
    "sns.distplot(logTrans)\n",
    "plt.show()"
   ]
  },
  {
   "cell_type": "markdown",
   "metadata": {},
   "source": [
    "> __Para as questão 5 6 e 7 a seguir considere todos testes efetuados ao nível de significância de 5%__."
   ]
  },
  {
   "cell_type": "markdown",
   "metadata": {},
   "source": [
    "## Questão 5\n",
    "\n",
    "Obtenha todos atletas brasileiros, norte-americanos e canadenses em `DataFrame`s chamados `bra`, `usa` e `can`,respectivamente. Realize um teste de hipóteses para comparação das médias das alturas (`height`) para amostras independentes e variâncias diferentes com a função `scipy.stats.ttest_ind()` entre `bra` e `usa`. Podemos afirmar que as médias são estatisticamente iguais? Responda com um boolean (`True` ou `False`)."
   ]
  },
  {
   "cell_type": "code",
   "execution_count": 71,
   "metadata": {},
   "outputs": [],
   "source": [
    "def q5():\n",
    "    bra = df[df['nationality'] == 'BRA']\n",
    "    usa = df[df['nationality'] == 'USA']\n",
    "    can = df[df['nationality'] == 'CAN']\n",
    "    \n",
    "    pvalue = sct.ttest_ind(bra['height'].dropna(), usa['height'].dropna(), equal_var=False)[1]\n",
    "    if pvalue < 0.05:\n",
    "        return False\n",
    "    else:\n",
    "        return True"
   ]
  },
  {
   "cell_type": "markdown",
   "metadata": {},
   "source": [
    "## Questão 6\n",
    "\n",
    "Repita o procedimento da questão 5, mas agora entre as alturas de `bra` e `can`. Podemos afimar agora que as médias são estatisticamente iguais? Reponda com um boolean (`True` ou `False`)."
   ]
  },
  {
   "cell_type": "code",
   "execution_count": 74,
   "metadata": {},
   "outputs": [],
   "source": [
    "def q6():\n",
    "    bra = df[df['nationality'] == 'BRA']\n",
    "    usa = df[df['nationality'] == 'USA']\n",
    "    can = df[df['nationality'] == 'CAN']\n",
    "    \n",
    "    pvalue = sct.ttest_ind(bra['height'].dropna(), can['height'].dropna(), equal_var=False)[1]\n",
    "    if pvalue < 0.05:\n",
    "        return False\n",
    "    else:\n",
    "        return True"
   ]
  },
  {
   "cell_type": "markdown",
   "metadata": {},
   "source": [
    "## Questão 7\n",
    "\n",
    "Repita o procedimento da questão 6, mas agora entre as alturas de `usa` e `can`. Qual o valor do p-valor retornado? Responda como um único escalar arredondado para oito casas decimais."
   ]
  },
  {
   "cell_type": "code",
   "execution_count": 76,
   "metadata": {},
   "outputs": [],
   "source": [
    "def q7():\n",
    "    bra = df[df['nationality'] == 'BRA']\n",
    "    usa = df[df['nationality'] == 'USA']\n",
    "    can = df[df['nationality'] == 'CAN']\n",
    "    \n",
    "    pvalue = sct.ttest_ind(usa['height'].dropna(), can['height'].dropna(), equal_var=False)[1]\n",
    "    return round(pvalue, 8)"
   ]
  },
  {
   "cell_type": "markdown",
   "metadata": {},
   "source": [
    "__Para refletir__:\n",
    "\n",
    "* O resultado faz sentido?\n",
    "* Você consegue interpretar esse p-valor?\n",
    "* Você consegue chegar a esse valor de p-valor a partir da variável de estatística?"
   ]
  }
 ],
 "metadata": {
  "kernelspec": {
   "display_name": "Python 3",
   "language": "python",
   "name": "python3"
  },
  "language_info": {
   "codemirror_mode": {
    "name": "ipython",
    "version": 3
   },
   "file_extension": ".py",
   "mimetype": "text/x-python",
   "name": "python",
   "nbconvert_exporter": "python",
   "pygments_lexer": "ipython3",
   "version": "3.7.7"
  }
 },
 "nbformat": 4,
 "nbformat_minor": 2
}
