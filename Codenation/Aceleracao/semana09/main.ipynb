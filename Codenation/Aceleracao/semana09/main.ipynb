{
 "cells": [
  {
   "cell_type": "markdown",
   "metadata": {},
   "source": [
    "# Desafio - Módulo 9 - Curso Aceleradev de Data Science da Codenation\n",
    "\n",
    "### Guilherme Barros Alves Pereira"
   ]
  },
  {
   "cell_type": "markdown",
   "metadata": {},
   "source": [
    "### Importando as bibliotecas necessárias"
   ]
  },
  {
   "cell_type": "code",
   "execution_count": 3,
   "metadata": {},
   "outputs": [],
   "source": [
    "import numpy as np\n",
    "import pandas as pd\n",
    "import seaborn as sns\n",
    "import matplotlib.pyplot as plt\n",
    "import re\n",
    "from sklearn.preprocessing import OneHotEncoder, StandardScaler\n",
    "from sklearn.compose import ColumnTransformer\n",
    "from sklearn.pipeline import Pipeline\n",
    "from sklearn.model_selection import train_test_split\n",
    "from sklearn.linear_model import LogisticRegression\n",
    "from sklearn.metrics import confusion_matrix, roc_curve, auc\n",
    "import imblearn"
   ]
  },
  {
   "cell_type": "markdown",
   "metadata": {},
   "source": [
    "### Importando os dataset"
   ]
  },
  {
   "cell_type": "code",
   "execution_count": 4,
   "metadata": {},
   "outputs": [],
   "source": [
    "df = pd.read_csv('train.csv', index_col=0)\n",
    "test_df = pd.read_csv('test.csv')"
   ]
  },
  {
   "cell_type": "markdown",
   "metadata": {},
   "source": [
    "### Analise exploratório de dados"
   ]
  },
  {
   "cell_type": "code",
   "execution_count": 5,
   "metadata": {},
   "outputs": [
    {
     "data": {
      "text/html": [
       "<div>\n",
       "<style scoped>\n",
       "    .dataframe tbody tr th:only-of-type {\n",
       "        vertical-align: middle;\n",
       "    }\n",
       "\n",
       "    .dataframe tbody tr th {\n",
       "        vertical-align: top;\n",
       "    }\n",
       "\n",
       "    .dataframe thead th {\n",
       "        text-align: right;\n",
       "    }\n",
       "</style>\n",
       "<table border=\"1\" class=\"dataframe\">\n",
       "  <thead>\n",
       "    <tr style=\"text-align: right;\">\n",
       "      <th></th>\n",
       "      <th>NU_INSCRICAO</th>\n",
       "      <th>NU_ANO</th>\n",
       "      <th>CO_MUNICIPIO_RESIDENCIA</th>\n",
       "      <th>NO_MUNICIPIO_RESIDENCIA</th>\n",
       "      <th>CO_UF_RESIDENCIA</th>\n",
       "      <th>SG_UF_RESIDENCIA</th>\n",
       "      <th>NU_IDADE</th>\n",
       "      <th>TP_SEXO</th>\n",
       "      <th>TP_ESTADO_CIVIL</th>\n",
       "      <th>TP_COR_RACA</th>\n",
       "      <th>...</th>\n",
       "      <th>Q041</th>\n",
       "      <th>Q042</th>\n",
       "      <th>Q043</th>\n",
       "      <th>Q044</th>\n",
       "      <th>Q045</th>\n",
       "      <th>Q046</th>\n",
       "      <th>Q047</th>\n",
       "      <th>Q048</th>\n",
       "      <th>Q049</th>\n",
       "      <th>Q050</th>\n",
       "    </tr>\n",
       "  </thead>\n",
       "  <tbody>\n",
       "    <tr>\n",
       "      <th>1</th>\n",
       "      <td>ed50e8aaa58e7a806c337585efee9ca41f1eb1ad</td>\n",
       "      <td>2016</td>\n",
       "      <td>4314902</td>\n",
       "      <td>Porto Alegre</td>\n",
       "      <td>43</td>\n",
       "      <td>RS</td>\n",
       "      <td>24</td>\n",
       "      <td>M</td>\n",
       "      <td>0.0</td>\n",
       "      <td>1</td>\n",
       "      <td>...</td>\n",
       "      <td>5.0</td>\n",
       "      <td>A</td>\n",
       "      <td>A</td>\n",
       "      <td>A</td>\n",
       "      <td>A</td>\n",
       "      <td>A</td>\n",
       "      <td>A</td>\n",
       "      <td>A</td>\n",
       "      <td>B</td>\n",
       "      <td>D</td>\n",
       "    </tr>\n",
       "    <tr>\n",
       "      <th>2</th>\n",
       "      <td>2c3acac4b33ec2b195d77e7c04a2d75727fad723</td>\n",
       "      <td>2016</td>\n",
       "      <td>2304707</td>\n",
       "      <td>Granja</td>\n",
       "      <td>23</td>\n",
       "      <td>CE</td>\n",
       "      <td>17</td>\n",
       "      <td>F</td>\n",
       "      <td>0.0</td>\n",
       "      <td>3</td>\n",
       "      <td>...</td>\n",
       "      <td>NaN</td>\n",
       "      <td>A</td>\n",
       "      <td>A</td>\n",
       "      <td>C</td>\n",
       "      <td>A</td>\n",
       "      <td>B</td>\n",
       "      <td>A</td>\n",
       "      <td>A</td>\n",
       "      <td>C</td>\n",
       "      <td>A</td>\n",
       "    </tr>\n",
       "    <tr>\n",
       "      <th>3</th>\n",
       "      <td>f4545f8ccb9ff5c8aad7d32951b3f251a26e6568</td>\n",
       "      <td>2016</td>\n",
       "      <td>2304400</td>\n",
       "      <td>Fortaleza</td>\n",
       "      <td>23</td>\n",
       "      <td>CE</td>\n",
       "      <td>21</td>\n",
       "      <td>F</td>\n",
       "      <td>0.0</td>\n",
       "      <td>3</td>\n",
       "      <td>...</td>\n",
       "      <td>NaN</td>\n",
       "      <td>A</td>\n",
       "      <td>A</td>\n",
       "      <td>A</td>\n",
       "      <td>A</td>\n",
       "      <td>C</td>\n",
       "      <td>A</td>\n",
       "      <td>A</td>\n",
       "      <td>B</td>\n",
       "      <td>A</td>\n",
       "    </tr>\n",
       "    <tr>\n",
       "      <th>4</th>\n",
       "      <td>3d6ec248fef899c414e77f82d5c6d2bffbeaf7fe</td>\n",
       "      <td>2016</td>\n",
       "      <td>3304557</td>\n",
       "      <td>Rio de Janeiro</td>\n",
       "      <td>33</td>\n",
       "      <td>RJ</td>\n",
       "      <td>25</td>\n",
       "      <td>F</td>\n",
       "      <td>0.0</td>\n",
       "      <td>0</td>\n",
       "      <td>...</td>\n",
       "      <td>5.0</td>\n",
       "      <td>C</td>\n",
       "      <td>A</td>\n",
       "      <td>A</td>\n",
       "      <td>A</td>\n",
       "      <td>A</td>\n",
       "      <td>D</td>\n",
       "      <td>A</td>\n",
       "      <td>A</td>\n",
       "      <td>A</td>\n",
       "    </tr>\n",
       "    <tr>\n",
       "      <th>5</th>\n",
       "      <td>bf896ac8d3ecadd6dba1dfbf50110afcbf5d3268</td>\n",
       "      <td>2016</td>\n",
       "      <td>1302603</td>\n",
       "      <td>Manaus</td>\n",
       "      <td>13</td>\n",
       "      <td>AM</td>\n",
       "      <td>28</td>\n",
       "      <td>M</td>\n",
       "      <td>0.0</td>\n",
       "      <td>2</td>\n",
       "      <td>...</td>\n",
       "      <td>NaN</td>\n",
       "      <td>A</td>\n",
       "      <td>A</td>\n",
       "      <td>A</td>\n",
       "      <td>A</td>\n",
       "      <td>A</td>\n",
       "      <td>A</td>\n",
       "      <td>A</td>\n",
       "      <td>A</td>\n",
       "      <td>A</td>\n",
       "    </tr>\n",
       "  </tbody>\n",
       "</table>\n",
       "<p>5 rows × 166 columns</p>\n",
       "</div>"
      ],
      "text/plain": [
       "                               NU_INSCRICAO  NU_ANO  CO_MUNICIPIO_RESIDENCIA  \\\n",
       "1  ed50e8aaa58e7a806c337585efee9ca41f1eb1ad    2016                  4314902   \n",
       "2  2c3acac4b33ec2b195d77e7c04a2d75727fad723    2016                  2304707   \n",
       "3  f4545f8ccb9ff5c8aad7d32951b3f251a26e6568    2016                  2304400   \n",
       "4  3d6ec248fef899c414e77f82d5c6d2bffbeaf7fe    2016                  3304557   \n",
       "5  bf896ac8d3ecadd6dba1dfbf50110afcbf5d3268    2016                  1302603   \n",
       "\n",
       "  NO_MUNICIPIO_RESIDENCIA  CO_UF_RESIDENCIA SG_UF_RESIDENCIA  NU_IDADE  \\\n",
       "1            Porto Alegre                43               RS        24   \n",
       "2                  Granja                23               CE        17   \n",
       "3               Fortaleza                23               CE        21   \n",
       "4          Rio de Janeiro                33               RJ        25   \n",
       "5                  Manaus                13               AM        28   \n",
       "\n",
       "  TP_SEXO  TP_ESTADO_CIVIL  TP_COR_RACA  ...  Q041  Q042 Q043  Q044 Q045  \\\n",
       "1       M              0.0            1  ...   5.0     A    A     A    A   \n",
       "2       F              0.0            3  ...   NaN     A    A     C    A   \n",
       "3       F              0.0            3  ...   NaN     A    A     A    A   \n",
       "4       F              0.0            0  ...   5.0     C    A     A    A   \n",
       "5       M              0.0            2  ...   NaN     A    A     A    A   \n",
       "\n",
       "   Q046  Q047  Q048  Q049  Q050  \n",
       "1     A     A     A     B     D  \n",
       "2     B     A     A     C     A  \n",
       "3     C     A     A     B     A  \n",
       "4     A     D     A     A     A  \n",
       "5     A     A     A     A     A  \n",
       "\n",
       "[5 rows x 166 columns]"
      ]
     },
     "execution_count": 5,
     "metadata": {},
     "output_type": "execute_result"
    }
   ],
   "source": [
    "df.head()"
   ]
  },
  {
   "cell_type": "code",
   "execution_count": 6,
   "metadata": {
    "scrolled": true
   },
   "outputs": [
    {
     "data": {
      "text/html": [
       "<div>\n",
       "<style scoped>\n",
       "    .dataframe tbody tr th:only-of-type {\n",
       "        vertical-align: middle;\n",
       "    }\n",
       "\n",
       "    .dataframe tbody tr th {\n",
       "        vertical-align: top;\n",
       "    }\n",
       "\n",
       "    .dataframe thead th {\n",
       "        text-align: right;\n",
       "    }\n",
       "</style>\n",
       "<table border=\"1\" class=\"dataframe\">\n",
       "  <thead>\n",
       "    <tr style=\"text-align: right;\">\n",
       "      <th></th>\n",
       "      <th>NU_INSCRICAO</th>\n",
       "      <th>CO_UF_RESIDENCIA</th>\n",
       "      <th>SG_UF_RESIDENCIA</th>\n",
       "      <th>NU_IDADE</th>\n",
       "      <th>TP_SEXO</th>\n",
       "      <th>TP_COR_RACA</th>\n",
       "      <th>TP_NACIONALIDADE</th>\n",
       "      <th>TP_ST_CONCLUSAO</th>\n",
       "      <th>TP_ANO_CONCLUIU</th>\n",
       "      <th>TP_ESCOLA</th>\n",
       "      <th>...</th>\n",
       "      <th>NU_NOTA_COMP5</th>\n",
       "      <th>NU_NOTA_REDACAO</th>\n",
       "      <th>Q001</th>\n",
       "      <th>Q002</th>\n",
       "      <th>Q006</th>\n",
       "      <th>Q024</th>\n",
       "      <th>Q025</th>\n",
       "      <th>Q026</th>\n",
       "      <th>Q027</th>\n",
       "      <th>Q047</th>\n",
       "    </tr>\n",
       "  </thead>\n",
       "  <tbody>\n",
       "    <tr>\n",
       "      <th>0</th>\n",
       "      <td>ba0cc30ba34e7a46764c09dfc38ed83d15828897</td>\n",
       "      <td>43</td>\n",
       "      <td>RS</td>\n",
       "      <td>19</td>\n",
       "      <td>F</td>\n",
       "      <td>1</td>\n",
       "      <td>1</td>\n",
       "      <td>1</td>\n",
       "      <td>3</td>\n",
       "      <td>1</td>\n",
       "      <td>...</td>\n",
       "      <td>NaN</td>\n",
       "      <td>NaN</td>\n",
       "      <td>E</td>\n",
       "      <td>E</td>\n",
       "      <td>H</td>\n",
       "      <td>B</td>\n",
       "      <td>B</td>\n",
       "      <td>C</td>\n",
       "      <td>D</td>\n",
       "      <td>A</td>\n",
       "    </tr>\n",
       "    <tr>\n",
       "      <th>1</th>\n",
       "      <td>177f281c68fa032aedbd842a745da68490926cd2</td>\n",
       "      <td>15</td>\n",
       "      <td>PA</td>\n",
       "      <td>24</td>\n",
       "      <td>M</td>\n",
       "      <td>3</td>\n",
       "      <td>2</td>\n",
       "      <td>1</td>\n",
       "      <td>4</td>\n",
       "      <td>1</td>\n",
       "      <td>...</td>\n",
       "      <td>NaN</td>\n",
       "      <td>NaN</td>\n",
       "      <td>B</td>\n",
       "      <td>C</td>\n",
       "      <td>B</td>\n",
       "      <td>A</td>\n",
       "      <td>A</td>\n",
       "      <td>C</td>\n",
       "      <td>D</td>\n",
       "      <td>A</td>\n",
       "    </tr>\n",
       "    <tr>\n",
       "      <th>2</th>\n",
       "      <td>6cf0d8b97597d7625cdedc7bdb6c0f052286c334</td>\n",
       "      <td>29</td>\n",
       "      <td>BA</td>\n",
       "      <td>16</td>\n",
       "      <td>F</td>\n",
       "      <td>2</td>\n",
       "      <td>1</td>\n",
       "      <td>3</td>\n",
       "      <td>0</td>\n",
       "      <td>1</td>\n",
       "      <td>...</td>\n",
       "      <td>NaN</td>\n",
       "      <td>NaN</td>\n",
       "      <td>E</td>\n",
       "      <td>F</td>\n",
       "      <td>G</td>\n",
       "      <td>B</td>\n",
       "      <td>B</td>\n",
       "      <td>A</td>\n",
       "      <td>NaN</td>\n",
       "      <td>D</td>\n",
       "    </tr>\n",
       "    <tr>\n",
       "      <th>3</th>\n",
       "      <td>5c356d810fa57671402502cd0933e5601a2ebf1e</td>\n",
       "      <td>41</td>\n",
       "      <td>PR</td>\n",
       "      <td>17</td>\n",
       "      <td>F</td>\n",
       "      <td>1</td>\n",
       "      <td>1</td>\n",
       "      <td>2</td>\n",
       "      <td>0</td>\n",
       "      <td>2</td>\n",
       "      <td>...</td>\n",
       "      <td>40.0</td>\n",
       "      <td>480.0</td>\n",
       "      <td>E</td>\n",
       "      <td>E</td>\n",
       "      <td>E</td>\n",
       "      <td>C</td>\n",
       "      <td>B</td>\n",
       "      <td>B</td>\n",
       "      <td>C</td>\n",
       "      <td>A</td>\n",
       "    </tr>\n",
       "    <tr>\n",
       "      <th>4</th>\n",
       "      <td>df47c07bd881c2db3f38c6048bf77c132ad0ceb3</td>\n",
       "      <td>53</td>\n",
       "      <td>DF</td>\n",
       "      <td>19</td>\n",
       "      <td>F</td>\n",
       "      <td>1</td>\n",
       "      <td>1</td>\n",
       "      <td>1</td>\n",
       "      <td>1</td>\n",
       "      <td>1</td>\n",
       "      <td>...</td>\n",
       "      <td>80.0</td>\n",
       "      <td>720.0</td>\n",
       "      <td>E</td>\n",
       "      <td>E</td>\n",
       "      <td>E</td>\n",
       "      <td>B</td>\n",
       "      <td>B</td>\n",
       "      <td>B</td>\n",
       "      <td>D</td>\n",
       "      <td>A</td>\n",
       "    </tr>\n",
       "  </tbody>\n",
       "</table>\n",
       "<p>5 rows × 43 columns</p>\n",
       "</div>"
      ],
      "text/plain": [
       "                               NU_INSCRICAO  CO_UF_RESIDENCIA  \\\n",
       "0  ba0cc30ba34e7a46764c09dfc38ed83d15828897                43   \n",
       "1  177f281c68fa032aedbd842a745da68490926cd2                15   \n",
       "2  6cf0d8b97597d7625cdedc7bdb6c0f052286c334                29   \n",
       "3  5c356d810fa57671402502cd0933e5601a2ebf1e                41   \n",
       "4  df47c07bd881c2db3f38c6048bf77c132ad0ceb3                53   \n",
       "\n",
       "  SG_UF_RESIDENCIA  NU_IDADE TP_SEXO  TP_COR_RACA  TP_NACIONALIDADE  \\\n",
       "0               RS        19       F            1                 1   \n",
       "1               PA        24       M            3                 2   \n",
       "2               BA        16       F            2                 1   \n",
       "3               PR        17       F            1                 1   \n",
       "4               DF        19       F            1                 1   \n",
       "\n",
       "   TP_ST_CONCLUSAO  TP_ANO_CONCLUIU  TP_ESCOLA  ...  NU_NOTA_COMP5  \\\n",
       "0                1                3          1  ...            NaN   \n",
       "1                1                4          1  ...            NaN   \n",
       "2                3                0          1  ...            NaN   \n",
       "3                2                0          2  ...           40.0   \n",
       "4                1                1          1  ...           80.0   \n",
       "\n",
       "   NU_NOTA_REDACAO  Q001  Q002  Q006  Q024  Q025  Q026  Q027  Q047  \n",
       "0              NaN     E     E     H     B     B     C     D     A  \n",
       "1              NaN     B     C     B     A     A     C     D     A  \n",
       "2              NaN     E     F     G     B     B     A   NaN     D  \n",
       "3            480.0     E     E     E     C     B     B     C     A  \n",
       "4            720.0     E     E     E     B     B     B     D     A  \n",
       "\n",
       "[5 rows x 43 columns]"
      ]
     },
     "execution_count": 6,
     "metadata": {},
     "output_type": "execute_result"
    }
   ],
   "source": [
    "test_df.head()"
   ]
  },
  {
   "cell_type": "code",
   "execution_count": 7,
   "metadata": {},
   "outputs": [
    {
     "data": {
      "text/plain": [
       "Index(['NU_INSCRICAO', 'CO_UF_RESIDENCIA', 'SG_UF_RESIDENCIA', 'NU_IDADE',\n",
       "       'TP_SEXO', 'TP_COR_RACA', 'TP_NACIONALIDADE', 'TP_ST_CONCLUSAO',\n",
       "       'TP_ANO_CONCLUIU', 'TP_ESCOLA', 'TP_ENSINO', 'TP_DEPENDENCIA_ADM_ESC',\n",
       "       'IN_BAIXA_VISAO', 'IN_CEGUEIRA', 'IN_SURDEZ', 'IN_DISLEXIA',\n",
       "       'IN_DISCALCULIA', 'IN_SABATISTA', 'IN_GESTANTE', 'IN_IDOSO',\n",
       "       'TP_PRESENCA_CN', 'TP_PRESENCA_CH', 'TP_PRESENCA_LC', 'TP_PRESENCA_MT',\n",
       "       'NU_NOTA_CN', 'NU_NOTA_CH', 'NU_NOTA_LC', 'TP_LINGUA',\n",
       "       'TP_STATUS_REDACAO', 'NU_NOTA_COMP1', 'NU_NOTA_COMP2', 'NU_NOTA_COMP3',\n",
       "       'NU_NOTA_COMP4', 'NU_NOTA_COMP5', 'NU_NOTA_REDACAO', 'Q001', 'Q002',\n",
       "       'Q006', 'Q024', 'Q025', 'Q026', 'Q027', 'Q047'],\n",
       "      dtype='object')"
      ]
     },
     "execution_count": 7,
     "metadata": {},
     "output_type": "execute_result"
    }
   ],
   "source": [
    "test_df.columns"
   ]
  },
  {
   "cell_type": "code",
   "execution_count": 8,
   "metadata": {
    "scrolled": false
   },
   "outputs": [
    {
     "data": {
      "text/html": [
       "<div>\n",
       "<style scoped>\n",
       "    .dataframe tbody tr th:only-of-type {\n",
       "        vertical-align: middle;\n",
       "    }\n",
       "\n",
       "    .dataframe tbody tr th {\n",
       "        vertical-align: top;\n",
       "    }\n",
       "\n",
       "    .dataframe thead th {\n",
       "        text-align: right;\n",
       "    }\n",
       "</style>\n",
       "<table border=\"1\" class=\"dataframe\">\n",
       "  <thead>\n",
       "    <tr style=\"text-align: right;\">\n",
       "      <th></th>\n",
       "      <th>coluna</th>\n",
       "      <th>tipo</th>\n",
       "      <th>na_count</th>\n",
       "      <th>na_percent</th>\n",
       "    </tr>\n",
       "  </thead>\n",
       "  <tbody>\n",
       "    <tr>\n",
       "      <th>SG_UF_ENTIDADE_CERTIFICACAO</th>\n",
       "      <td>SG_UF_ENTIDADE_CERTIFICACAO</td>\n",
       "      <td>object</td>\n",
       "      <td>12092</td>\n",
       "      <td>0.880699</td>\n",
       "    </tr>\n",
       "    <tr>\n",
       "      <th>CO_UF_ENTIDADE_CERTIFICACAO</th>\n",
       "      <td>CO_UF_ENTIDADE_CERTIFICACAO</td>\n",
       "      <td>float64</td>\n",
       "      <td>12092</td>\n",
       "      <td>0.880699</td>\n",
       "    </tr>\n",
       "    <tr>\n",
       "      <th>NO_ENTIDADE_CERTIFICACAO</th>\n",
       "      <td>NO_ENTIDADE_CERTIFICACAO</td>\n",
       "      <td>object</td>\n",
       "      <td>12092</td>\n",
       "      <td>0.880699</td>\n",
       "    </tr>\n",
       "    <tr>\n",
       "      <th>Q041</th>\n",
       "      <td>Q041</td>\n",
       "      <td>float64</td>\n",
       "      <td>10792</td>\n",
       "      <td>0.786016</td>\n",
       "    </tr>\n",
       "    <tr>\n",
       "      <th>TP_SIT_FUNC_ESC</th>\n",
       "      <td>TP_SIT_FUNC_ESC</td>\n",
       "      <td>float64</td>\n",
       "      <td>9448</td>\n",
       "      <td>0.688128</td>\n",
       "    </tr>\n",
       "    <tr>\n",
       "      <th>TP_LOCALIZACAO_ESC</th>\n",
       "      <td>TP_LOCALIZACAO_ESC</td>\n",
       "      <td>float64</td>\n",
       "      <td>9448</td>\n",
       "      <td>0.688128</td>\n",
       "    </tr>\n",
       "    <tr>\n",
       "      <th>TP_DEPENDENCIA_ADM_ESC</th>\n",
       "      <td>TP_DEPENDENCIA_ADM_ESC</td>\n",
       "      <td>float64</td>\n",
       "      <td>9448</td>\n",
       "      <td>0.688128</td>\n",
       "    </tr>\n",
       "    <tr>\n",
       "      <th>SG_UF_ESC</th>\n",
       "      <td>SG_UF_ESC</td>\n",
       "      <td>object</td>\n",
       "      <td>9448</td>\n",
       "      <td>0.688128</td>\n",
       "    </tr>\n",
       "    <tr>\n",
       "      <th>CO_UF_ESC</th>\n",
       "      <td>CO_UF_ESC</td>\n",
       "      <td>float64</td>\n",
       "      <td>9448</td>\n",
       "      <td>0.688128</td>\n",
       "    </tr>\n",
       "    <tr>\n",
       "      <th>NO_MUNICIPIO_ESC</th>\n",
       "      <td>NO_MUNICIPIO_ESC</td>\n",
       "      <td>object</td>\n",
       "      <td>9448</td>\n",
       "      <td>0.688128</td>\n",
       "    </tr>\n",
       "    <tr>\n",
       "      <th>CO_MUNICIPIO_ESC</th>\n",
       "      <td>CO_MUNICIPIO_ESC</td>\n",
       "      <td>float64</td>\n",
       "      <td>9448</td>\n",
       "      <td>0.688128</td>\n",
       "    </tr>\n",
       "    <tr>\n",
       "      <th>CO_ESCOLA</th>\n",
       "      <td>CO_ESCOLA</td>\n",
       "      <td>float64</td>\n",
       "      <td>9448</td>\n",
       "      <td>0.688128</td>\n",
       "    </tr>\n",
       "    <tr>\n",
       "      <th>TP_ENSINO</th>\n",
       "      <td>TP_ENSINO</td>\n",
       "      <td>float64</td>\n",
       "      <td>9448</td>\n",
       "      <td>0.688128</td>\n",
       "    </tr>\n",
       "    <tr>\n",
       "      <th>Q031</th>\n",
       "      <td>Q031</td>\n",
       "      <td>float64</td>\n",
       "      <td>7376</td>\n",
       "      <td>0.537218</td>\n",
       "    </tr>\n",
       "    <tr>\n",
       "      <th>Q032</th>\n",
       "      <td>Q032</td>\n",
       "      <td>float64</td>\n",
       "      <td>7376</td>\n",
       "      <td>0.537218</td>\n",
       "    </tr>\n",
       "    <tr>\n",
       "      <th>Q033</th>\n",
       "      <td>Q033</td>\n",
       "      <td>float64</td>\n",
       "      <td>7376</td>\n",
       "      <td>0.537218</td>\n",
       "    </tr>\n",
       "    <tr>\n",
       "      <th>Q028</th>\n",
       "      <td>Q028</td>\n",
       "      <td>object</td>\n",
       "      <td>7376</td>\n",
       "      <td>0.537218</td>\n",
       "    </tr>\n",
       "    <tr>\n",
       "      <th>Q030</th>\n",
       "      <td>Q030</td>\n",
       "      <td>float64</td>\n",
       "      <td>7375</td>\n",
       "      <td>0.537145</td>\n",
       "    </tr>\n",
       "    <tr>\n",
       "      <th>Q029</th>\n",
       "      <td>Q029</td>\n",
       "      <td>float64</td>\n",
       "      <td>7375</td>\n",
       "      <td>0.537145</td>\n",
       "    </tr>\n",
       "    <tr>\n",
       "      <th>Q027</th>\n",
       "      <td>Q027</td>\n",
       "      <td>object</td>\n",
       "      <td>7373</td>\n",
       "      <td>0.536999</td>\n",
       "    </tr>\n",
       "  </tbody>\n",
       "</table>\n",
       "</div>"
      ],
      "text/plain": [
       "                                                  coluna     tipo  na_count  \\\n",
       "SG_UF_ENTIDADE_CERTIFICACAO  SG_UF_ENTIDADE_CERTIFICACAO   object     12092   \n",
       "CO_UF_ENTIDADE_CERTIFICACAO  CO_UF_ENTIDADE_CERTIFICACAO  float64     12092   \n",
       "NO_ENTIDADE_CERTIFICACAO        NO_ENTIDADE_CERTIFICACAO   object     12092   \n",
       "Q041                                                Q041  float64     10792   \n",
       "TP_SIT_FUNC_ESC                          TP_SIT_FUNC_ESC  float64      9448   \n",
       "TP_LOCALIZACAO_ESC                    TP_LOCALIZACAO_ESC  float64      9448   \n",
       "TP_DEPENDENCIA_ADM_ESC            TP_DEPENDENCIA_ADM_ESC  float64      9448   \n",
       "SG_UF_ESC                                      SG_UF_ESC   object      9448   \n",
       "CO_UF_ESC                                      CO_UF_ESC  float64      9448   \n",
       "NO_MUNICIPIO_ESC                        NO_MUNICIPIO_ESC   object      9448   \n",
       "CO_MUNICIPIO_ESC                        CO_MUNICIPIO_ESC  float64      9448   \n",
       "CO_ESCOLA                                      CO_ESCOLA  float64      9448   \n",
       "TP_ENSINO                                      TP_ENSINO  float64      9448   \n",
       "Q031                                                Q031  float64      7376   \n",
       "Q032                                                Q032  float64      7376   \n",
       "Q033                                                Q033  float64      7376   \n",
       "Q028                                                Q028   object      7376   \n",
       "Q030                                                Q030  float64      7375   \n",
       "Q029                                                Q029  float64      7375   \n",
       "Q027                                                Q027   object      7373   \n",
       "\n",
       "                             na_percent  \n",
       "SG_UF_ENTIDADE_CERTIFICACAO    0.880699  \n",
       "CO_UF_ENTIDADE_CERTIFICACAO    0.880699  \n",
       "NO_ENTIDADE_CERTIFICACAO       0.880699  \n",
       "Q041                           0.786016  \n",
       "TP_SIT_FUNC_ESC                0.688128  \n",
       "TP_LOCALIZACAO_ESC             0.688128  \n",
       "TP_DEPENDENCIA_ADM_ESC         0.688128  \n",
       "SG_UF_ESC                      0.688128  \n",
       "CO_UF_ESC                      0.688128  \n",
       "NO_MUNICIPIO_ESC               0.688128  \n",
       "CO_MUNICIPIO_ESC               0.688128  \n",
       "CO_ESCOLA                      0.688128  \n",
       "TP_ENSINO                      0.688128  \n",
       "Q031                           0.537218  \n",
       "Q032                           0.537218  \n",
       "Q033                           0.537218  \n",
       "Q028                           0.537218  \n",
       "Q030                           0.537145  \n",
       "Q029                           0.537145  \n",
       "Q027                           0.536999  "
      ]
     },
     "execution_count": 8,
     "metadata": {},
     "output_type": "execute_result"
    }
   ],
   "source": [
    "df_aux = pd.DataFrame({'coluna': df.columns, 'tipo': df.dtypes, 'na_count': df.isna().sum(),\n",
    "                       'na_percent': df.isna().sum()/df.shape[0]})\n",
    "df_aux.sort_values('na_percent', ascending=False)[:20]"
   ]
  },
  {
   "cell_type": "code",
   "execution_count": 9,
   "metadata": {},
   "outputs": [
    {
     "data": {
      "text/plain": [
       "0    0.870138\n",
       "1    0.129862\n",
       "Name: IN_TREINEIRO, dtype: float64"
      ]
     },
     "execution_count": 9,
     "metadata": {},
     "output_type": "execute_result"
    }
   ],
   "source": [
    "# Podemos ver que os dados estão muito desbalanceados\n",
    "df['IN_TREINEIRO'].value_counts(normalize=True)"
   ]
  },
  {
   "cell_type": "markdown",
   "metadata": {},
   "source": [
    "### Pré-processamento de dados"
   ]
  },
  {
   "cell_type": "code",
   "execution_count": 12,
   "metadata": {
    "scrolled": true
   },
   "outputs": [
    {
     "name": "stdout",
     "output_type": "stream",
     "text": [
      "Começando o pré-processamento dos dados ...\n",
      "\n",
      "Deletando 20 colunas do dataset de treino e teste, porque mais de 50% dos dados neles estão ausentes\n",
      "\n",
      "Colunas removidas: \n",
      "['TP_ENSINO', 'CO_ESCOLA', 'CO_MUNICIPIO_ESC', 'NO_MUNICIPIO_ESC', 'CO_UF_ESC', 'SG_UF_ESC', 'TP_DEPENDENCIA_ADM_ESC', 'TP_LOCALIZACAO_ESC', 'TP_SIT_FUNC_ESC', 'NO_ENTIDADE_CERTIFICACAO', 'CO_UF_ENTIDADE_CERTIFICACAO', 'SG_UF_ENTIDADE_CERTIFICACAO', 'Q027', 'Q028', 'Q029', 'Q030', 'Q031', 'Q032', 'Q033', 'Q041']\n",
      "\n",
      "Selecionando apenas as colunas presentes em ambos os datasets\n",
      "\n",
      "As seguintes colunas foram removidas, por não contribuir em prever se o estudante é treineiro ou por já ter coluna com a mesma informação\n",
      "\n",
      "As colunas necessárias dos datasets de treino e test foram convertidas para o tipo categóricas\n",
      "\n",
      "Preenchendo os valores ausentes das colunas relativas a notas e status da redação com 0\n"
     ]
    }
   ],
   "source": [
    "if 'Q041' in df.columns:\n",
    "\n",
    "    # Algumas colunas tem mais de 50% de dados faltantes, imputar os dados não traria beneficio ao modelo de ML, \n",
    "    # assim essas colunas serão deletadas\n",
    "\n",
    "    print('Começando o pré-processamento dos dados ...\\n')\n",
    "    colComMuitosDadosFaltantes = [*df_aux [df_aux['na_percent'] >= 0.5]['coluna'].values]\n",
    "    print('Deletando {} colunas do dataset de treino e teste, porque mais de 50% dos dados neles \\\n",
    "estão ausentes\\n'.format(len(colComMuitosDadosFaltantes)))\n",
    "    df.drop(colComMuitosDadosFaltantes, axis=1, inplace=True)\n",
    "\n",
    "    col = [i for i in test_df.columns if i in colComMuitosDadosFaltantes]\n",
    "    test_df.drop(col, axis=1, inplace=True)\n",
    "    print('Colunas removidas: \\n{}\\n'.format(colComMuitosDadosFaltantes))\n",
    "\n",
    "\n",
    "    # Selecionando apenas as colunas presentes em ambos os datasets + IN_TREINEIRO\n",
    "    df = df[[*test_df.columns] + ['IN_TREINEIRO']]\n",
    "    print('Selecionando apenas as colunas presentes em ambos os datasets\\n')\n",
    "\n",
    "\n",
    "    colunas_dropadas = ['NU_INSCRICAO', 'CO_UF_RESIDENCIA']\n",
    "\n",
    "    num = re.compile('NU_')\n",
    "    colunas_numericas = [i for i in filter(num.match, test_df.columns) if i not in colunas_dropadas]\n",
    "\n",
    "    cat = re.compile('SG_|TP_|IN_|Q0')\n",
    "    colunas_categoricas = [i for i in filter(cat.match, test_df.columns) if i not in colunas_dropadas]\n",
    "\n",
    "\n",
    "    df.drop(colunas_dropadas, axis=1, inplace=True)\n",
    "    print('As seguintes colunas foram removidas, por não contribuir em prever se o estudante é treineiro ou \\\n",
    "por já ter coluna com a mesma informação\\n'.format(colunas_dropadas))\n",
    "\n",
    "    df[colunas_categoricas] = df[colunas_categoricas].astype('category')\n",
    "    test_df[colunas_categoricas] = test_df[colunas_categoricas].astype('category')\n",
    "    print('As colunas necessárias dos datasets de treino e test foram convertidas para o tipo categóricas\\n')\n",
    "\n",
    "    colWithMissingValues = [col for col, value in zip(df.isna().sum().index, df.isna().sum().values) if value > 0]\n",
    "    testColWithMissingValues = [col for col, value in zip(test_df.isna().sum().index, test_df.isna().sum().values) if value > 0]\n",
    "    df['TP_STATUS_REDACAO'].cat.add_categories(0, inplace=True)\n",
    "    df[colWithMissingValues] = df[colWithMissingValues].fillna(0)\n",
    "    test_df['TP_STATUS_REDACAO'].cat.add_categories(0, inplace=True)\n",
    "    test_df[testColWithMissingValues] = test_df[testColWithMissingValues].fillna(0)\n",
    "    print('Preenchendo os valores ausentes das colunas relativas a notas e status da redação com 0')\n",
    "    \n",
    "else:\n",
    "    print('Pré-processamento já realizado')"
   ]
  },
  {
   "cell_type": "code",
   "execution_count": 13,
   "metadata": {
    "scrolled": true
   },
   "outputs": [
    {
     "name": "stdout",
     "output_type": "stream",
     "text": [
      "['SG_UF_RESIDENCIA', 'TP_SEXO', 'TP_COR_RACA', 'TP_NACIONALIDADE', 'TP_ST_CONCLUSAO', 'TP_ANO_CONCLUIU', 'TP_ESCOLA', 'IN_BAIXA_VISAO', 'IN_CEGUEIRA', 'IN_SURDEZ', 'IN_DISLEXIA', 'IN_DISCALCULIA', 'IN_SABATISTA', 'IN_GESTANTE', 'IN_IDOSO', 'TP_PRESENCA_CN', 'TP_PRESENCA_CH', 'TP_PRESENCA_LC', 'TP_PRESENCA_MT', 'TP_LINGUA', 'TP_STATUS_REDACAO', 'Q001', 'Q002', 'Q006', 'Q024', 'Q025', 'Q026', 'Q047']\n"
     ]
    }
   ],
   "source": [
    "print(colunas_categoricas)\n",
    "categoriesTransform = ['SG_UF_RESIDENCIA', 'TP_SEXO', 'TP_COR_RACA', 'TP_NACIONALIDADE', 'TP_ST_CONCLUSAO', \\\n",
    "                       'TP_ANO_CONCLUIU', 'TP_ESCOLA', 'TP_PRESENCA_CN', 'TP_PRESENCA_CH', 'TP_PRESENCA_LC', \\\n",
    "                       'TP_PRESENCA_MT', 'TP_STATUS_REDACAO', 'Q001', 'Q002', 'Q006', 'Q024', 'Q025', 'Q026', 'Q047']"
   ]
  },
  {
   "cell_type": "code",
   "execution_count": 56,
   "metadata": {},
   "outputs": [],
   "source": [
    "inscricao = test_df['NU_INSCRICAO']\n",
    "X_test = test_df.drop(colunas_dropadas, axis=1)\n",
    "y = df['IN_TREINEIRO']\n",
    "X = df.drop('IN_TREINEIRO', axis=1)"
   ]
  },
  {
   "cell_type": "markdown",
   "metadata": {},
   "source": [
    "### Pipeline"
   ]
  },
  {
   "cell_type": "code",
   "execution_count": 57,
   "metadata": {},
   "outputs": [],
   "source": [
    "preProcessor = ColumnTransformer(transformers=[('encoder', OneHotEncoder(sparse=False, handle_unknown='ignore'), colunas_categoricas), \\\n",
    "                                               ('scaler', StandardScaler(), colunas_numericas)])\n",
    "clf = Pipeline(steps=[('preprocessor', preProcessor), ('clf', LogisticRegression(max_iter=300))])"
   ]
  },
  {
   "cell_type": "markdown",
   "metadata": {},
   "source": [
    "### Buscando balancear o dataset"
   ]
  },
  {
   "cell_type": "code",
   "execution_count": 30,
   "metadata": {},
   "outputs": [
    {
     "data": {
      "text/plain": [
       "(13730, 156)"
      ]
     },
     "execution_count": 30,
     "metadata": {},
     "output_type": "execute_result"
    }
   ],
   "source": [
    "X_transformed = preProcessor.fit_transform(X)\n",
    "colTransformed = [*preProcessor.named_transformers_['encoder'].get_feature_names()] + preProcessor.transformers_[1][2]\n",
    "X_test_transformed = preProcessor.transform(X_test)\n",
    "X_transformed.shape"
   ]
  },
  {
   "cell_type": "code",
   "execution_count": 31,
   "metadata": {
    "scrolled": false
   },
   "outputs": [],
   "source": [
    "imb = imblearn.over_sampling.SVMSMOTE()\n",
    "X_smote, y_smote = imb.fit_resample(X_transformed,y)"
   ]
  },
  {
   "cell_type": "code",
   "execution_count": 32,
   "metadata": {},
   "outputs": [],
   "source": [
    "X_smote_df = pd.DataFrame(X_smote, columns=colTransformed)"
   ]
  },
  {
   "cell_type": "code",
   "execution_count": 33,
   "metadata": {},
   "outputs": [],
   "source": [
    "logReg = LogisticRegression(max_iter=300)"
   ]
  },
  {
   "cell_type": "code",
   "execution_count": 34,
   "metadata": {},
   "outputs": [],
   "source": [
    "logReg.fit(X_smote, y_smote)\n",
    "y_pred = logReg.predict(X_test_transformed)"
   ]
  },
  {
   "cell_type": "code",
   "execution_count": 35,
   "metadata": {},
   "outputs": [
    {
     "data": {
      "text/plain": [
       "Index(['x0_RO', 'x0_RR', 'x0_RS', 'x0_SC', 'x0_SE', 'x0_SP', 'x0_TO', 'x1_F',\n",
       "       'x1_M', 'x2_0',\n",
       "       ...\n",
       "       'NU_IDADE', 'NU_NOTA_CN', 'NU_NOTA_CH', 'NU_NOTA_LC', 'NU_NOTA_COMP1',\n",
       "       'NU_NOTA_COMP2', 'NU_NOTA_COMP3', 'NU_NOTA_COMP4', 'NU_NOTA_COMP5',\n",
       "       'NU_NOTA_REDACAO'],\n",
       "      dtype='object', length=136)"
      ]
     },
     "execution_count": 35,
     "metadata": {},
     "output_type": "execute_result"
    }
   ],
   "source": [
    "col2 = [*preProcessor.named_transformers_['encoder'].get_feature_names()] + preProcessor.transformers_[1][2]\n",
    "pd.DataFrame(X_transformed, columns=col2).columns[20:]"
   ]
  },
  {
   "cell_type": "markdown",
   "metadata": {},
   "source": [
    "### Testando o modelo"
   ]
  },
  {
   "cell_type": "code",
   "execution_count": 36,
   "metadata": {},
   "outputs": [
    {
     "data": {
      "text/plain": [
       "0.9919883466860888"
      ]
     },
     "execution_count": 36,
     "metadata": {},
     "output_type": "execute_result"
    }
   ],
   "source": [
    "# Metodo sem balanceamento\n",
    "X_train, X_test, y_train, y_test = train_test_split(X, y, test_size=0.3)\n",
    "clf.fit(X_train, y_train)\n",
    "y_pred = clf.predict(X_test)\n",
    "clf.score(X_test, y_test)"
   ]
  },
  {
   "cell_type": "code",
   "execution_count": 37,
   "metadata": {},
   "outputs": [
    {
     "data": {
      "text/plain": [
       "array([[3564,   25],\n",
       "       [   8,  522]], dtype=int64)"
      ]
     },
     "execution_count": 37,
     "metadata": {},
     "output_type": "execute_result"
    }
   ],
   "source": [
    "confusion_matrix(y_test, y_pred)"
   ]
  },
  {
   "cell_type": "code",
   "execution_count": 39,
   "metadata": {},
   "outputs": [
    {
     "data": {
      "text/plain": [
       "0.9898172687962059"
      ]
     },
     "execution_count": 39,
     "metadata": {},
     "output_type": "execute_result"
    }
   ],
   "source": [
    "# Metodo com balanceamento\n",
    "X_transformed = preProcessor.fit_transform(X)\n",
    "\n",
    "imb = imblearn.over_sampling.SVMSMOTE()\n",
    "X_smote, y_smote = imb.fit_resample(X_transformed,y)\n",
    "X_smote_train, X_smote_test, y_smote_train, y_smote_test = train_test_split(X_smote, y_smote, test_size=0.3)\n",
    "y_smote_test\n",
    "logReg1 = LogisticRegression(max_iter=300)\n",
    "_ = logReg1.fit(X_smote_train, y_smote_train)\n",
    "\n",
    "y_smote_pred = logReg1.predict(X_smote_test)\n",
    "\n",
    "logReg1.score(X_smote_test, y_smote_test)"
   ]
  },
  {
   "cell_type": "code",
   "execution_count": 42,
   "metadata": {},
   "outputs": [
    {
     "data": {
      "image/png": "[encoded data removed]",
      "text/plain": [
       "<Figure size 432x288 with 1 Axes>"
      ]
     },
     "metadata": {
      "needs_background": "light"
     },
     "output_type": "display_data"
    }
   ],
   "source": [
    "probs = logReg1.predict_proba(X_smote_test)\n",
    "preds = probs[:,1]\n",
    "fpr, tpr, threshold = roc_curve(y_smote_test, preds)\n",
    "roc_auc = auc(fpr, tpr)\n",
    "\n",
    "plt.title('Receiver Operating Characteristic')\n",
    "plt.plot(fpr, tpr, 'b', label = 'AUC = %0.2f' % roc_auc)\n",
    "plt.legend(loc = 'lower right')\n",
    "plt.plot([0, 1], [0, 1],'r--')\n",
    "plt.xlim([0, 1])\n",
    "plt.ylim([0, 1])\n",
    "plt.ylabel('True Positive Rate')\n",
    "plt.xlabel('False Positive Rate')\n",
    "plt.show()"
   ]
  },
  {
   "cell_type": "code",
   "execution_count": 44,
   "metadata": {},
   "outputs": [
    {
     "data": {
      "text/plain": [
       "array([[3446,   70],\n",
       "       [   3, 3650]], dtype=int64)"
      ]
     },
     "execution_count": 44,
     "metadata": {},
     "output_type": "execute_result"
    }
   ],
   "source": [
    "matrix = confusion_matrix(y_smote_test, y_smote_pred)\n",
    "matrix"
   ]
  },
  {
   "cell_type": "markdown",
   "metadata": {},
   "source": [
    "### Aplicando o modelo"
   ]
  },
  {
   "cell_type": "code",
   "execution_count": 63,
   "metadata": {},
   "outputs": [
    {
     "data": {
      "text/html": [
       "<div>\n",
       "<style scoped>\n",
       "    .dataframe tbody tr th:only-of-type {\n",
       "        vertical-align: middle;\n",
       "    }\n",
       "\n",
       "    .dataframe tbody tr th {\n",
       "        vertical-align: top;\n",
       "    }\n",
       "\n",
       "    .dataframe thead th {\n",
       "        text-align: right;\n",
       "    }\n",
       "</style>\n",
       "<table border=\"1\" class=\"dataframe\">\n",
       "  <thead>\n",
       "    <tr style=\"text-align: right;\">\n",
       "      <th></th>\n",
       "      <th>NU_INSCRICAO</th>\n",
       "      <th>IN_TREINEIRO</th>\n",
       "    </tr>\n",
       "  </thead>\n",
       "  <tbody>\n",
       "    <tr>\n",
       "      <th>0</th>\n",
       "      <td>ba0cc30ba34e7a46764c09dfc38ed83d15828897</td>\n",
       "      <td>0</td>\n",
       "    </tr>\n",
       "    <tr>\n",
       "      <th>1</th>\n",
       "      <td>177f281c68fa032aedbd842a745da68490926cd2</td>\n",
       "      <td>0</td>\n",
       "    </tr>\n",
       "    <tr>\n",
       "      <th>2</th>\n",
       "      <td>6cf0d8b97597d7625cdedc7bdb6c0f052286c334</td>\n",
       "      <td>1</td>\n",
       "    </tr>\n",
       "    <tr>\n",
       "      <th>3</th>\n",
       "      <td>5c356d810fa57671402502cd0933e5601a2ebf1e</td>\n",
       "      <td>0</td>\n",
       "    </tr>\n",
       "    <tr>\n",
       "      <th>4</th>\n",
       "      <td>df47c07bd881c2db3f38c6048bf77c132ad0ceb3</td>\n",
       "      <td>0</td>\n",
       "    </tr>\n",
       "  </tbody>\n",
       "</table>\n",
       "</div>"
      ],
      "text/plain": [
       "                               NU_INSCRICAO  IN_TREINEIRO\n",
       "0  ba0cc30ba34e7a46764c09dfc38ed83d15828897             0\n",
       "1  177f281c68fa032aedbd842a745da68490926cd2             0\n",
       "2  6cf0d8b97597d7625cdedc7bdb6c0f052286c334             1\n",
       "3  5c356d810fa57671402502cd0933e5601a2ebf1e             0\n",
       "4  df47c07bd881c2db3f38c6048bf77c132ad0ceb3             0"
      ]
     },
     "execution_count": 63,
     "metadata": {},
     "output_type": "execute_result"
    }
   ],
   "source": [
    "# Treinando e prevendo quais alunos eram treineiros\n",
    "_ = clf.fit(X, y)\n",
    "y_pred = clf.predict(X_test)\n",
    "\n",
    "answer = pd.DataFrame({'NU_INSCRICAO': inscricao, 'IN_TREINEIRO': y_pred})\n",
    "answer.head()"
   ]
  },
  {
   "cell_type": "code",
   "execution_count": 50,
   "metadata": {},
   "outputs": [],
   "source": [
    "#clf['preprocessor'].named_transformers_['encoder'].categories_"
   ]
  },
  {
   "cell_type": "code",
   "execution_count": 62,
   "metadata": {},
   "outputs": [],
   "source": [
    "answer.to_csv('answer.csv', index_label=False)"
   ]
  },
  {
   "cell_type": "code",
   "execution_count": null,
   "metadata": {},
   "outputs": [],
   "source": []
  }
 ],
 "metadata": {
  "kernelspec": {
   "display_name": "Python 3",
   "language": "python",
   "name": "python3"
  },
  "language_info": {
   "codemirror_mode": {
    "name": "ipython",
    "version": 3
   },
   "file_extension": ".py",
   "mimetype": "text/x-python",
   "name": "python",
   "nbconvert_exporter": "python",
   "pygments_lexer": "ipython3",
   "version": "3.7.7"
  }
 },
 "nbformat": 4,
 "nbformat_minor": 4
}
