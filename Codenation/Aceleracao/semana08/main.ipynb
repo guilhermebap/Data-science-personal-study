{
 "cells": [
  {
   "cell_type": "markdown",
   "metadata": {},
   "source": [
    "# Avaliação das notas de matemática do ENEM 2016\n",
    "\n",
    "### Nesse exercício serão utilizados dados públicos disponibilizados pela INEP para construir um módelo que preeveja quanto um aluno obteria na prova de matemática"
   ]
  },
  {
   "cell_type": "markdown",
   "metadata": {},
   "source": [
    "## Importando as bibliotecas necessárias"
   ]
  },
  {
   "cell_type": "code",
   "execution_count": 3,
   "metadata": {},
   "outputs": [],
   "source": [
    "import numpy as np\n",
    "import pandas as pd\n",
    "import re\n",
    "from tpot import TPOTRegressor\n",
    "from sklearn.preprocessing import OneHotEncoder, StandardScaler\n",
    "from sklearn.compose import ColumnTransformer\n",
    "from sklearn.pipeline import Pipeline\n",
    "from sklearn.linear_model import LinearRegression\n",
    "from sklearn.model_selection import train_test_split\n",
    "from sklearn.metrics import mean_squared_error\n",
    "from sklearn.impute import SimpleImputer\n",
    "from sklearn.ensemble import RandomForestRegressor"
   ]
  },
  {
   "cell_type": "markdown",
   "metadata": {},
   "source": [
    "## Importando o dataset"
   ]
  },
  {
   "cell_type": "code",
   "execution_count": 4,
   "metadata": {},
   "outputs": [],
   "source": [
    "# Importando o dataset\n",
    "df = pd.read_csv('train.csv', index_col=0)\n",
    "X_test_df = pd.read_csv('test.csv')"
   ]
  },
  {
   "cell_type": "markdown",
   "metadata": {},
   "source": [
    "## Analise exploratório dos dados"
   ]
  },
  {
   "cell_type": "code",
   "execution_count": 5,
   "metadata": {
    "scrolled": false
   },
   "outputs": [
    {
     "data": {
      "text/html": [
       "<div>\n",
       "<style scoped>\n",
       "    .dataframe tbody tr th:only-of-type {\n",
       "        vertical-align: middle;\n",
       "    }\n",
       "\n",
       "    .dataframe tbody tr th {\n",
       "        vertical-align: top;\n",
       "    }\n",
       "\n",
       "    .dataframe thead th {\n",
       "        text-align: right;\n",
       "    }\n",
       "</style>\n",
       "<table border=\"1\" class=\"dataframe\">\n",
       "  <thead>\n",
       "    <tr style=\"text-align: right;\">\n",
       "      <th></th>\n",
       "      <th>NU_INSCRICAO</th>\n",
       "      <th>NU_ANO</th>\n",
       "      <th>CO_MUNICIPIO_RESIDENCIA</th>\n",
       "      <th>NO_MUNICIPIO_RESIDENCIA</th>\n",
       "      <th>CO_UF_RESIDENCIA</th>\n",
       "      <th>SG_UF_RESIDENCIA</th>\n",
       "      <th>NU_IDADE</th>\n",
       "      <th>TP_SEXO</th>\n",
       "      <th>TP_ESTADO_CIVIL</th>\n",
       "      <th>TP_COR_RACA</th>\n",
       "      <th>...</th>\n",
       "      <th>Q041</th>\n",
       "      <th>Q042</th>\n",
       "      <th>Q043</th>\n",
       "      <th>Q044</th>\n",
       "      <th>Q045</th>\n",
       "      <th>Q046</th>\n",
       "      <th>Q047</th>\n",
       "      <th>Q048</th>\n",
       "      <th>Q049</th>\n",
       "      <th>Q050</th>\n",
       "    </tr>\n",
       "  </thead>\n",
       "  <tbody>\n",
       "    <tr>\n",
       "      <th>1</th>\n",
       "      <td>ed50e8aaa58e7a806c337585efee9ca41f1eb1ad</td>\n",
       "      <td>2016</td>\n",
       "      <td>4314902</td>\n",
       "      <td>Porto Alegre</td>\n",
       "      <td>43</td>\n",
       "      <td>RS</td>\n",
       "      <td>24</td>\n",
       "      <td>M</td>\n",
       "      <td>0.0</td>\n",
       "      <td>1</td>\n",
       "      <td>...</td>\n",
       "      <td>5.0</td>\n",
       "      <td>A</td>\n",
       "      <td>A</td>\n",
       "      <td>A</td>\n",
       "      <td>A</td>\n",
       "      <td>A</td>\n",
       "      <td>A</td>\n",
       "      <td>A</td>\n",
       "      <td>B</td>\n",
       "      <td>D</td>\n",
       "    </tr>\n",
       "    <tr>\n",
       "      <th>2</th>\n",
       "      <td>2c3acac4b33ec2b195d77e7c04a2d75727fad723</td>\n",
       "      <td>2016</td>\n",
       "      <td>2304707</td>\n",
       "      <td>Granja</td>\n",
       "      <td>23</td>\n",
       "      <td>CE</td>\n",
       "      <td>17</td>\n",
       "      <td>F</td>\n",
       "      <td>0.0</td>\n",
       "      <td>3</td>\n",
       "      <td>...</td>\n",
       "      <td>NaN</td>\n",
       "      <td>A</td>\n",
       "      <td>A</td>\n",
       "      <td>C</td>\n",
       "      <td>A</td>\n",
       "      <td>B</td>\n",
       "      <td>A</td>\n",
       "      <td>A</td>\n",
       "      <td>C</td>\n",
       "      <td>A</td>\n",
       "    </tr>\n",
       "    <tr>\n",
       "      <th>3</th>\n",
       "      <td>f4545f8ccb9ff5c8aad7d32951b3f251a26e6568</td>\n",
       "      <td>2016</td>\n",
       "      <td>2304400</td>\n",
       "      <td>Fortaleza</td>\n",
       "      <td>23</td>\n",
       "      <td>CE</td>\n",
       "      <td>21</td>\n",
       "      <td>F</td>\n",
       "      <td>0.0</td>\n",
       "      <td>3</td>\n",
       "      <td>...</td>\n",
       "      <td>NaN</td>\n",
       "      <td>A</td>\n",
       "      <td>A</td>\n",
       "      <td>A</td>\n",
       "      <td>A</td>\n",
       "      <td>C</td>\n",
       "      <td>A</td>\n",
       "      <td>A</td>\n",
       "      <td>B</td>\n",
       "      <td>A</td>\n",
       "    </tr>\n",
       "    <tr>\n",
       "      <th>4</th>\n",
       "      <td>3d6ec248fef899c414e77f82d5c6d2bffbeaf7fe</td>\n",
       "      <td>2016</td>\n",
       "      <td>3304557</td>\n",
       "      <td>Rio de Janeiro</td>\n",
       "      <td>33</td>\n",
       "      <td>RJ</td>\n",
       "      <td>25</td>\n",
       "      <td>F</td>\n",
       "      <td>0.0</td>\n",
       "      <td>0</td>\n",
       "      <td>...</td>\n",
       "      <td>5.0</td>\n",
       "      <td>C</td>\n",
       "      <td>A</td>\n",
       "      <td>A</td>\n",
       "      <td>A</td>\n",
       "      <td>A</td>\n",
       "      <td>D</td>\n",
       "      <td>A</td>\n",
       "      <td>A</td>\n",
       "      <td>A</td>\n",
       "    </tr>\n",
       "    <tr>\n",
       "      <th>5</th>\n",
       "      <td>bf896ac8d3ecadd6dba1dfbf50110afcbf5d3268</td>\n",
       "      <td>2016</td>\n",
       "      <td>1302603</td>\n",
       "      <td>Manaus</td>\n",
       "      <td>13</td>\n",
       "      <td>AM</td>\n",
       "      <td>28</td>\n",
       "      <td>M</td>\n",
       "      <td>0.0</td>\n",
       "      <td>2</td>\n",
       "      <td>...</td>\n",
       "      <td>NaN</td>\n",
       "      <td>A</td>\n",
       "      <td>A</td>\n",
       "      <td>A</td>\n",
       "      <td>A</td>\n",
       "      <td>A</td>\n",
       "      <td>A</td>\n",
       "      <td>A</td>\n",
       "      <td>A</td>\n",
       "      <td>A</td>\n",
       "    </tr>\n",
       "  </tbody>\n",
       "</table>\n",
       "<p>5 rows × 166 columns</p>\n",
       "</div>"
      ],
      "text/plain": [
       "                               NU_INSCRICAO  NU_ANO  CO_MUNICIPIO_RESIDENCIA  \\\n",
       "1  ed50e8aaa58e7a806c337585efee9ca41f1eb1ad    2016                  4314902   \n",
       "2  2c3acac4b33ec2b195d77e7c04a2d75727fad723    2016                  2304707   \n",
       "3  f4545f8ccb9ff5c8aad7d32951b3f251a26e6568    2016                  2304400   \n",
       "4  3d6ec248fef899c414e77f82d5c6d2bffbeaf7fe    2016                  3304557   \n",
       "5  bf896ac8d3ecadd6dba1dfbf50110afcbf5d3268    2016                  1302603   \n",
       "\n",
       "  NO_MUNICIPIO_RESIDENCIA  CO_UF_RESIDENCIA SG_UF_RESIDENCIA  NU_IDADE  \\\n",
       "1            Porto Alegre                43               RS        24   \n",
       "2                  Granja                23               CE        17   \n",
       "3               Fortaleza                23               CE        21   \n",
       "4          Rio de Janeiro                33               RJ        25   \n",
       "5                  Manaus                13               AM        28   \n",
       "\n",
       "  TP_SEXO  TP_ESTADO_CIVIL  TP_COR_RACA  ...  Q041  Q042 Q043  Q044 Q045  \\\n",
       "1       M              0.0            1  ...   5.0     A    A     A    A   \n",
       "2       F              0.0            3  ...   NaN     A    A     C    A   \n",
       "3       F              0.0            3  ...   NaN     A    A     A    A   \n",
       "4       F              0.0            0  ...   5.0     C    A     A    A   \n",
       "5       M              0.0            2  ...   NaN     A    A     A    A   \n",
       "\n",
       "   Q046  Q047  Q048  Q049  Q050  \n",
       "1     A     A     A     B     D  \n",
       "2     B     A     A     C     A  \n",
       "3     C     A     A     B     A  \n",
       "4     A     D     A     A     A  \n",
       "5     A     A     A     A     A  \n",
       "\n",
       "[5 rows x 166 columns]"
      ]
     },
     "execution_count": 5,
     "metadata": {},
     "output_type": "execute_result"
    }
   ],
   "source": [
    "df.head()"
   ]
  },
  {
   "cell_type": "code",
   "execution_count": 6,
   "metadata": {},
   "outputs": [
    {
     "data": {
      "text/plain": [
       "(4576, 47)"
      ]
     },
     "execution_count": 6,
     "metadata": {},
     "output_type": "execute_result"
    }
   ],
   "source": [
    "X_test_df.shape"
   ]
  },
  {
   "cell_type": "code",
   "execution_count": 7,
   "metadata": {
    "scrolled": true
   },
   "outputs": [
    {
     "data": {
      "text/html": [
       "<div>\n",
       "<style scoped>\n",
       "    .dataframe tbody tr th:only-of-type {\n",
       "        vertical-align: middle;\n",
       "    }\n",
       "\n",
       "    .dataframe tbody tr th {\n",
       "        vertical-align: top;\n",
       "    }\n",
       "\n",
       "    .dataframe thead th {\n",
       "        text-align: right;\n",
       "    }\n",
       "</style>\n",
       "<table border=\"1\" class=\"dataframe\">\n",
       "  <thead>\n",
       "    <tr style=\"text-align: right;\">\n",
       "      <th></th>\n",
       "      <th>Colunas</th>\n",
       "      <th>Tipos</th>\n",
       "      <th>Na_count</th>\n",
       "      <th>Na_percent</th>\n",
       "    </tr>\n",
       "  </thead>\n",
       "  <tbody>\n",
       "    <tr>\n",
       "      <th>SG_UF_ENTIDADE_CERTIFICACAO</th>\n",
       "      <td>SG_UF_ENTIDADE_CERTIFICACAO</td>\n",
       "      <td>object</td>\n",
       "      <td>12092</td>\n",
       "      <td>0.880699</td>\n",
       "    </tr>\n",
       "    <tr>\n",
       "      <th>CO_UF_ENTIDADE_CERTIFICACAO</th>\n",
       "      <td>CO_UF_ENTIDADE_CERTIFICACAO</td>\n",
       "      <td>float64</td>\n",
       "      <td>12092</td>\n",
       "      <td>0.880699</td>\n",
       "    </tr>\n",
       "    <tr>\n",
       "      <th>NO_ENTIDADE_CERTIFICACAO</th>\n",
       "      <td>NO_ENTIDADE_CERTIFICACAO</td>\n",
       "      <td>object</td>\n",
       "      <td>12092</td>\n",
       "      <td>0.880699</td>\n",
       "    </tr>\n",
       "    <tr>\n",
       "      <th>Q041</th>\n",
       "      <td>Q041</td>\n",
       "      <td>float64</td>\n",
       "      <td>10792</td>\n",
       "      <td>0.786016</td>\n",
       "    </tr>\n",
       "    <tr>\n",
       "      <th>TP_SIT_FUNC_ESC</th>\n",
       "      <td>TP_SIT_FUNC_ESC</td>\n",
       "      <td>float64</td>\n",
       "      <td>9448</td>\n",
       "      <td>0.688128</td>\n",
       "    </tr>\n",
       "    <tr>\n",
       "      <th>TP_LOCALIZACAO_ESC</th>\n",
       "      <td>TP_LOCALIZACAO_ESC</td>\n",
       "      <td>float64</td>\n",
       "      <td>9448</td>\n",
       "      <td>0.688128</td>\n",
       "    </tr>\n",
       "    <tr>\n",
       "      <th>TP_DEPENDENCIA_ADM_ESC</th>\n",
       "      <td>TP_DEPENDENCIA_ADM_ESC</td>\n",
       "      <td>float64</td>\n",
       "      <td>9448</td>\n",
       "      <td>0.688128</td>\n",
       "    </tr>\n",
       "    <tr>\n",
       "      <th>SG_UF_ESC</th>\n",
       "      <td>SG_UF_ESC</td>\n",
       "      <td>object</td>\n",
       "      <td>9448</td>\n",
       "      <td>0.688128</td>\n",
       "    </tr>\n",
       "    <tr>\n",
       "      <th>CO_UF_ESC</th>\n",
       "      <td>CO_UF_ESC</td>\n",
       "      <td>float64</td>\n",
       "      <td>9448</td>\n",
       "      <td>0.688128</td>\n",
       "    </tr>\n",
       "    <tr>\n",
       "      <th>NO_MUNICIPIO_ESC</th>\n",
       "      <td>NO_MUNICIPIO_ESC</td>\n",
       "      <td>object</td>\n",
       "      <td>9448</td>\n",
       "      <td>0.688128</td>\n",
       "    </tr>\n",
       "  </tbody>\n",
       "</table>\n",
       "</div>"
      ],
      "text/plain": [
       "                                                 Colunas    Tipos  Na_count  \\\n",
       "SG_UF_ENTIDADE_CERTIFICACAO  SG_UF_ENTIDADE_CERTIFICACAO   object     12092   \n",
       "CO_UF_ENTIDADE_CERTIFICACAO  CO_UF_ENTIDADE_CERTIFICACAO  float64     12092   \n",
       "NO_ENTIDADE_CERTIFICACAO        NO_ENTIDADE_CERTIFICACAO   object     12092   \n",
       "Q041                                                Q041  float64     10792   \n",
       "TP_SIT_FUNC_ESC                          TP_SIT_FUNC_ESC  float64      9448   \n",
       "TP_LOCALIZACAO_ESC                    TP_LOCALIZACAO_ESC  float64      9448   \n",
       "TP_DEPENDENCIA_ADM_ESC            TP_DEPENDENCIA_ADM_ESC  float64      9448   \n",
       "SG_UF_ESC                                      SG_UF_ESC   object      9448   \n",
       "CO_UF_ESC                                      CO_UF_ESC  float64      9448   \n",
       "NO_MUNICIPIO_ESC                        NO_MUNICIPIO_ESC   object      9448   \n",
       "\n",
       "                             Na_percent  \n",
       "SG_UF_ENTIDADE_CERTIFICACAO    0.880699  \n",
       "CO_UF_ENTIDADE_CERTIFICACAO    0.880699  \n",
       "NO_ENTIDADE_CERTIFICACAO       0.880699  \n",
       "Q041                           0.786016  \n",
       "TP_SIT_FUNC_ESC                0.688128  \n",
       "TP_LOCALIZACAO_ESC             0.688128  \n",
       "TP_DEPENDENCIA_ADM_ESC         0.688128  \n",
       "SG_UF_ESC                      0.688128  \n",
       "CO_UF_ESC                      0.688128  \n",
       "NO_MUNICIPIO_ESC               0.688128  "
      ]
     },
     "execution_count": 7,
     "metadata": {},
     "output_type": "execute_result"
    }
   ],
   "source": [
    "df_aux = pd.DataFrame({'Colunas': df.columns, 'Tipos': df.dtypes, 'Na_count': df.isna().sum(), \n",
    "                       'Na_percent': df.isna().sum()/df.shape[0]})\n",
    "df_aux.sort_values('Na_percent', ascending=False)[:10]"
   ]
  },
  {
   "cell_type": "markdown",
   "metadata": {},
   "source": [
    "### Começando o pre-processamento dos dados"
   ]
  },
  {
   "cell_type": "code",
   "execution_count": 8,
   "metadata": {},
   "outputs": [],
   "source": [
    "# Substituindo as notas ausentes da coluna 'NU_NOTA_MT' para 0\n",
    "df['NU_NOTA_MT'].replace(np.nan, 0, inplace=True)"
   ]
  },
  {
   "cell_type": "code",
   "execution_count": 9,
   "metadata": {},
   "outputs": [
    {
     "name": "stdout",
     "output_type": "stream",
     "text": [
      "Deletando 20 colunas do dataset de treino e teste, porque mais de 50% de dados estão ausentes\n",
      "\n",
      "Colunas deletadas: ['TP_ENSINO', 'CO_ESCOLA', 'CO_MUNICIPIO_ESC', 'NO_MUNICIPIO_ESC', 'CO_UF_ESC', 'SG_UF_ESC', 'TP_DEPENDENCIA_ADM_ESC', 'TP_LOCALIZACAO_ESC', 'TP_SIT_FUNC_ESC', 'NO_ENTIDADE_CERTIFICACAO', 'CO_UF_ENTIDADE_CERTIFICACAO', 'SG_UF_ENTIDADE_CERTIFICACAO', 'Q027', 'Q028', 'Q029', 'Q030', 'Q031', 'Q032', 'Q033', 'Q041']\n"
     ]
    }
   ],
   "source": [
    "# Algumas colunas tem mais de 50% de dados faltantes, imputar os dados não traria beneficio ao modelo de ML, \n",
    "# assim essas colunas serão deletadas\n",
    "\n",
    "colComMuitosDadosFaltantes = [*df_aux [df_aux['Na_percent'] >= 0.5]['Colunas'].values]\n",
    "print('Deletando {} colunas do dataset de treino e teste, porque mais de 50% de dados estão ausentes'.format(len(colComMuitosDadosFaltantes)))\n",
    "print()\n",
    "df.drop(colComMuitosDadosFaltantes, axis=1, inplace=True)\n",
    "print('Colunas deletadas: {}'.format(colComMuitosDadosFaltantes))\n",
    "\n",
    "col = [i for i in X_test_df.columns if i in colComMuitosDadosFaltantes]\n",
    "X_test_df.drop(col, axis=1, inplace=True)"
   ]
  },
  {
   "cell_type": "code",
   "execution_count": 10,
   "metadata": {},
   "outputs": [],
   "source": [
    "# Selecionando apenas as colunas presentes em ambos os datasets + NU_NOTA_MT\n",
    "df = df[[*X_test_df.columns] + ['NU_NOTA_MT']]"
   ]
  },
  {
   "cell_type": "code",
   "execution_count": 11,
   "metadata": {},
   "outputs": [
    {
     "name": "stdout",
     "output_type": "stream",
     "text": [
      "['NU_IDADE', 'NU_NOTA_CN', 'NU_NOTA_CH', 'NU_NOTA_LC', 'NU_NOTA_COMP1', 'NU_NOTA_COMP2', 'NU_NOTA_COMP3', 'NU_NOTA_COMP4', 'NU_NOTA_COMP5', 'NU_NOTA_REDACAO']\n",
      "\n",
      "['SG_UF_RESIDENCIA', 'TP_SEXO', 'TP_COR_RACA', 'TP_NACIONALIDADE', 'TP_ST_CONCLUSAO', 'TP_ANO_CONCLUIU', 'TP_ESCOLA', 'IN_TREINEIRO', 'IN_BAIXA_VISAO', 'IN_CEGUEIRA', 'IN_SURDEZ', 'IN_DISLEXIA', 'IN_DISCALCULIA', 'IN_SABATISTA', 'IN_GESTANTE', 'IN_IDOSO', 'TP_PRESENCA_CN', 'TP_PRESENCA_CH', 'TP_PRESENCA_LC', 'TP_LINGUA', 'TP_STATUS_REDACAO', 'Q001', 'Q002', 'Q006', 'Q024', 'Q025', 'Q026', 'Q047']\n"
     ]
    }
   ],
   "source": [
    "colunas_dropadas = ['NU_INSCRICAO', 'CO_UF_RESIDENCIA', 'CO_PROVA_CN', 'CO_PROVA_CH', 'CO_PROVA_LC', 'CO_PROVA_MT']\n",
    "\n",
    "num = re.compile('NU_')\n",
    "colunas_numericas = [i for i in filter(num.match, X_test_df.columns) if i not in colunas_dropadas]\n",
    "print(colunas_numericas)\n",
    "\n",
    "print()\n",
    "\n",
    "cat = re.compile('SG_|TP_|IN_|Q0')\n",
    "colunas_categoricas = [i for i in filter(cat.match, X_test_df.columns) if i not in colunas_dropadas]\n",
    "print(colunas_categoricas)"
   ]
  },
  {
   "cell_type": "code",
   "execution_count": 12,
   "metadata": {},
   "outputs": [],
   "source": [
    "df.drop(colunas_dropadas, axis=1, inplace=True)"
   ]
  },
  {
   "cell_type": "code",
   "execution_count": 14,
   "metadata": {},
   "outputs": [],
   "source": [
    "df[colunas_categoricas] = df[colunas_categoricas].astype('category')\n",
    "X_test_df[colunas_categoricas] = X_test_df[colunas_categoricas].astype('category')"
   ]
  },
  {
   "cell_type": "code",
   "execution_count": 15,
   "metadata": {},
   "outputs": [
    {
     "name": "stdout",
     "output_type": "stream",
     "text": [
      "O dataset possui 13730 observações\n",
      "Após excluir as linhas com valores inexistentes, o dataset ainda possui 10097 observações\n"
     ]
    }
   ],
   "source": [
    "print('O dataset possui {} observações'.format(df.shape[0]))\n",
    "df2 = df.dropna()\n",
    "print('Após excluir as linhas com valores inexistentes, o dataset ainda possui {} observações'.format(df2.shape[0]))"
   ]
  },
  {
   "cell_type": "code",
   "execution_count": 16,
   "metadata": {},
   "outputs": [],
   "source": [
    "# Versão sem imputação de dados\n",
    "\n",
    "preProcessor = ColumnTransformer(transformers=[('cat', OneHotEncoder(), colunas_categoricas), ('num', StandardScaler(), colunas_numericas)])\n",
    "reg = Pipeline(steps=[('preprocessor', preProcessor), ('regression', LinearRegression())])"
   ]
  },
  {
   "cell_type": "code",
   "execution_count": 17,
   "metadata": {},
   "outputs": [],
   "source": [
    "# Versão imputando os dados\n",
    "\n",
    "numeric_transform = Pipeline(steps=[('imputer', SimpleImputer(strategy='median')), ('scaler', StandardScaler())])\n",
    "categorical_transform = Pipeline(steps=[('imputer', SimpleImputer(strategy='most_frequent')), ('encoder', OneHotEncoder(sparse=False, drop='first'))])\n",
    "preProcessor2 = ColumnTransformer(transformers=[('cat', categorical_transform, colunas_categoricas), ('num', numeric_transform, colunas_numericas)])\n",
    "reg2 = Pipeline(steps=[('preprocessor', preProcessor2), ('regression', LinearRegression())])"
   ]
  },
  {
   "cell_type": "code",
   "execution_count": 18,
   "metadata": {},
   "outputs": [],
   "source": [
    "y_train = df['NU_NOTA_MT']\n",
    "X_train = df.drop('NU_NOTA_MT', axis=1)\n",
    "y_train_sem_imp = df2['NU_NOTA_MT']\n",
    "X_train_sem_imp = df2.drop('NU_NOTA_MT', axis=1)\n",
    "inscricao = X_test_df['NU_INSCRICAO']\n",
    "X_test = X_test_df.drop(colunas_dropadas, axis=1)"
   ]
  },
  {
   "cell_type": "code",
   "execution_count": 19,
   "metadata": {},
   "outputs": [
    {
     "data": {
      "text/html": [
       "<div>\n",
       "<style scoped>\n",
       "    .dataframe tbody tr th:only-of-type {\n",
       "        vertical-align: middle;\n",
       "    }\n",
       "\n",
       "    .dataframe tbody tr th {\n",
       "        vertical-align: top;\n",
       "    }\n",
       "\n",
       "    .dataframe thead th {\n",
       "        text-align: right;\n",
       "    }\n",
       "</style>\n",
       "<table border=\"1\" class=\"dataframe\">\n",
       "  <thead>\n",
       "    <tr style=\"text-align: right;\">\n",
       "      <th></th>\n",
       "      <th>column</th>\n",
       "      <th>type</th>\n",
       "      <th>na_count</th>\n",
       "    </tr>\n",
       "  </thead>\n",
       "  <tbody>\n",
       "    <tr>\n",
       "      <th>SG_UF_RESIDENCIA</th>\n",
       "      <td>SG_UF_RESIDENCIA</td>\n",
       "      <td>category</td>\n",
       "      <td>0</td>\n",
       "    </tr>\n",
       "    <tr>\n",
       "      <th>NU_IDADE</th>\n",
       "      <td>NU_IDADE</td>\n",
       "      <td>int64</td>\n",
       "      <td>0</td>\n",
       "    </tr>\n",
       "    <tr>\n",
       "      <th>TP_SEXO</th>\n",
       "      <td>TP_SEXO</td>\n",
       "      <td>category</td>\n",
       "      <td>0</td>\n",
       "    </tr>\n",
       "    <tr>\n",
       "      <th>TP_COR_RACA</th>\n",
       "      <td>TP_COR_RACA</td>\n",
       "      <td>category</td>\n",
       "      <td>0</td>\n",
       "    </tr>\n",
       "    <tr>\n",
       "      <th>TP_NACIONALIDADE</th>\n",
       "      <td>TP_NACIONALIDADE</td>\n",
       "      <td>category</td>\n",
       "      <td>0</td>\n",
       "    </tr>\n",
       "    <tr>\n",
       "      <th>TP_ST_CONCLUSAO</th>\n",
       "      <td>TP_ST_CONCLUSAO</td>\n",
       "      <td>category</td>\n",
       "      <td>0</td>\n",
       "    </tr>\n",
       "    <tr>\n",
       "      <th>TP_ANO_CONCLUIU</th>\n",
       "      <td>TP_ANO_CONCLUIU</td>\n",
       "      <td>category</td>\n",
       "      <td>0</td>\n",
       "    </tr>\n",
       "    <tr>\n",
       "      <th>TP_ESCOLA</th>\n",
       "      <td>TP_ESCOLA</td>\n",
       "      <td>category</td>\n",
       "      <td>0</td>\n",
       "    </tr>\n",
       "    <tr>\n",
       "      <th>IN_TREINEIRO</th>\n",
       "      <td>IN_TREINEIRO</td>\n",
       "      <td>category</td>\n",
       "      <td>0</td>\n",
       "    </tr>\n",
       "    <tr>\n",
       "      <th>IN_BAIXA_VISAO</th>\n",
       "      <td>IN_BAIXA_VISAO</td>\n",
       "      <td>category</td>\n",
       "      <td>0</td>\n",
       "    </tr>\n",
       "    <tr>\n",
       "      <th>IN_CEGUEIRA</th>\n",
       "      <td>IN_CEGUEIRA</td>\n",
       "      <td>category</td>\n",
       "      <td>0</td>\n",
       "    </tr>\n",
       "    <tr>\n",
       "      <th>IN_SURDEZ</th>\n",
       "      <td>IN_SURDEZ</td>\n",
       "      <td>category</td>\n",
       "      <td>0</td>\n",
       "    </tr>\n",
       "    <tr>\n",
       "      <th>IN_DISLEXIA</th>\n",
       "      <td>IN_DISLEXIA</td>\n",
       "      <td>category</td>\n",
       "      <td>0</td>\n",
       "    </tr>\n",
       "    <tr>\n",
       "      <th>IN_DISCALCULIA</th>\n",
       "      <td>IN_DISCALCULIA</td>\n",
       "      <td>category</td>\n",
       "      <td>0</td>\n",
       "    </tr>\n",
       "    <tr>\n",
       "      <th>IN_SABATISTA</th>\n",
       "      <td>IN_SABATISTA</td>\n",
       "      <td>category</td>\n",
       "      <td>0</td>\n",
       "    </tr>\n",
       "    <tr>\n",
       "      <th>IN_GESTANTE</th>\n",
       "      <td>IN_GESTANTE</td>\n",
       "      <td>category</td>\n",
       "      <td>0</td>\n",
       "    </tr>\n",
       "    <tr>\n",
       "      <th>IN_IDOSO</th>\n",
       "      <td>IN_IDOSO</td>\n",
       "      <td>category</td>\n",
       "      <td>0</td>\n",
       "    </tr>\n",
       "    <tr>\n",
       "      <th>TP_PRESENCA_CN</th>\n",
       "      <td>TP_PRESENCA_CN</td>\n",
       "      <td>category</td>\n",
       "      <td>0</td>\n",
       "    </tr>\n",
       "    <tr>\n",
       "      <th>TP_PRESENCA_CH</th>\n",
       "      <td>TP_PRESENCA_CH</td>\n",
       "      <td>category</td>\n",
       "      <td>0</td>\n",
       "    </tr>\n",
       "    <tr>\n",
       "      <th>TP_PRESENCA_LC</th>\n",
       "      <td>TP_PRESENCA_LC</td>\n",
       "      <td>category</td>\n",
       "      <td>0</td>\n",
       "    </tr>\n",
       "    <tr>\n",
       "      <th>NU_NOTA_CN</th>\n",
       "      <td>NU_NOTA_CN</td>\n",
       "      <td>float64</td>\n",
       "      <td>3389</td>\n",
       "    </tr>\n",
       "    <tr>\n",
       "      <th>NU_NOTA_CH</th>\n",
       "      <td>NU_NOTA_CH</td>\n",
       "      <td>float64</td>\n",
       "      <td>3389</td>\n",
       "    </tr>\n",
       "    <tr>\n",
       "      <th>NU_NOTA_LC</th>\n",
       "      <td>NU_NOTA_LC</td>\n",
       "      <td>float64</td>\n",
       "      <td>3597</td>\n",
       "    </tr>\n",
       "    <tr>\n",
       "      <th>TP_LINGUA</th>\n",
       "      <td>TP_LINGUA</td>\n",
       "      <td>category</td>\n",
       "      <td>0</td>\n",
       "    </tr>\n",
       "    <tr>\n",
       "      <th>TP_STATUS_REDACAO</th>\n",
       "      <td>TP_STATUS_REDACAO</td>\n",
       "      <td>category</td>\n",
       "      <td>3597</td>\n",
       "    </tr>\n",
       "    <tr>\n",
       "      <th>NU_NOTA_COMP1</th>\n",
       "      <td>NU_NOTA_COMP1</td>\n",
       "      <td>float64</td>\n",
       "      <td>3597</td>\n",
       "    </tr>\n",
       "    <tr>\n",
       "      <th>NU_NOTA_COMP2</th>\n",
       "      <td>NU_NOTA_COMP2</td>\n",
       "      <td>float64</td>\n",
       "      <td>3597</td>\n",
       "    </tr>\n",
       "    <tr>\n",
       "      <th>NU_NOTA_COMP3</th>\n",
       "      <td>NU_NOTA_COMP3</td>\n",
       "      <td>float64</td>\n",
       "      <td>3597</td>\n",
       "    </tr>\n",
       "    <tr>\n",
       "      <th>NU_NOTA_COMP4</th>\n",
       "      <td>NU_NOTA_COMP4</td>\n",
       "      <td>float64</td>\n",
       "      <td>3597</td>\n",
       "    </tr>\n",
       "    <tr>\n",
       "      <th>NU_NOTA_COMP5</th>\n",
       "      <td>NU_NOTA_COMP5</td>\n",
       "      <td>float64</td>\n",
       "      <td>3597</td>\n",
       "    </tr>\n",
       "    <tr>\n",
       "      <th>NU_NOTA_REDACAO</th>\n",
       "      <td>NU_NOTA_REDACAO</td>\n",
       "      <td>float64</td>\n",
       "      <td>3597</td>\n",
       "    </tr>\n",
       "    <tr>\n",
       "      <th>Q001</th>\n",
       "      <td>Q001</td>\n",
       "      <td>category</td>\n",
       "      <td>0</td>\n",
       "    </tr>\n",
       "    <tr>\n",
       "      <th>Q002</th>\n",
       "      <td>Q002</td>\n",
       "      <td>category</td>\n",
       "      <td>0</td>\n",
       "    </tr>\n",
       "    <tr>\n",
       "      <th>Q006</th>\n",
       "      <td>Q006</td>\n",
       "      <td>category</td>\n",
       "      <td>0</td>\n",
       "    </tr>\n",
       "    <tr>\n",
       "      <th>Q024</th>\n",
       "      <td>Q024</td>\n",
       "      <td>category</td>\n",
       "      <td>0</td>\n",
       "    </tr>\n",
       "    <tr>\n",
       "      <th>Q025</th>\n",
       "      <td>Q025</td>\n",
       "      <td>category</td>\n",
       "      <td>0</td>\n",
       "    </tr>\n",
       "    <tr>\n",
       "      <th>Q026</th>\n",
       "      <td>Q026</td>\n",
       "      <td>category</td>\n",
       "      <td>0</td>\n",
       "    </tr>\n",
       "    <tr>\n",
       "      <th>Q047</th>\n",
       "      <td>Q047</td>\n",
       "      <td>category</td>\n",
       "      <td>0</td>\n",
       "    </tr>\n",
       "  </tbody>\n",
       "</table>\n",
       "</div>"
      ],
      "text/plain": [
       "                              column      type  na_count\n",
       "SG_UF_RESIDENCIA    SG_UF_RESIDENCIA  category         0\n",
       "NU_IDADE                    NU_IDADE     int64         0\n",
       "TP_SEXO                      TP_SEXO  category         0\n",
       "TP_COR_RACA              TP_COR_RACA  category         0\n",
       "TP_NACIONALIDADE    TP_NACIONALIDADE  category         0\n",
       "TP_ST_CONCLUSAO      TP_ST_CONCLUSAO  category         0\n",
       "TP_ANO_CONCLUIU      TP_ANO_CONCLUIU  category         0\n",
       "TP_ESCOLA                  TP_ESCOLA  category         0\n",
       "IN_TREINEIRO            IN_TREINEIRO  category         0\n",
       "IN_BAIXA_VISAO        IN_BAIXA_VISAO  category         0\n",
       "IN_CEGUEIRA              IN_CEGUEIRA  category         0\n",
       "IN_SURDEZ                  IN_SURDEZ  category         0\n",
       "IN_DISLEXIA              IN_DISLEXIA  category         0\n",
       "IN_DISCALCULIA        IN_DISCALCULIA  category         0\n",
       "IN_SABATISTA            IN_SABATISTA  category         0\n",
       "IN_GESTANTE              IN_GESTANTE  category         0\n",
       "IN_IDOSO                    IN_IDOSO  category         0\n",
       "TP_PRESENCA_CN        TP_PRESENCA_CN  category         0\n",
       "TP_PRESENCA_CH        TP_PRESENCA_CH  category         0\n",
       "TP_PRESENCA_LC        TP_PRESENCA_LC  category         0\n",
       "NU_NOTA_CN                NU_NOTA_CN   float64      3389\n",
       "NU_NOTA_CH                NU_NOTA_CH   float64      3389\n",
       "NU_NOTA_LC                NU_NOTA_LC   float64      3597\n",
       "TP_LINGUA                  TP_LINGUA  category         0\n",
       "TP_STATUS_REDACAO  TP_STATUS_REDACAO  category      3597\n",
       "NU_NOTA_COMP1          NU_NOTA_COMP1   float64      3597\n",
       "NU_NOTA_COMP2          NU_NOTA_COMP2   float64      3597\n",
       "NU_NOTA_COMP3          NU_NOTA_COMP3   float64      3597\n",
       "NU_NOTA_COMP4          NU_NOTA_COMP4   float64      3597\n",
       "NU_NOTA_COMP5          NU_NOTA_COMP5   float64      3597\n",
       "NU_NOTA_REDACAO      NU_NOTA_REDACAO   float64      3597\n",
       "Q001                            Q001  category         0\n",
       "Q002                            Q002  category         0\n",
       "Q006                            Q006  category         0\n",
       "Q024                            Q024  category         0\n",
       "Q025                            Q025  category         0\n",
       "Q026                            Q026  category         0\n",
       "Q047                            Q047  category         0"
      ]
     },
     "execution_count": 19,
     "metadata": {},
     "output_type": "execute_result"
    }
   ],
   "source": [
    "pd.DataFrame({'column': X_train.columns, 'type': X_train.dtypes, 'na_count': X_train.isna().sum()})"
   ]
  },
  {
   "cell_type": "code",
   "execution_count": 20,
   "metadata": {},
   "outputs": [],
   "source": [
    "X_test_df.dropna(inplace=True)"
   ]
  },
  {
   "cell_type": "code",
   "execution_count": 51,
   "metadata": {},
   "outputs": [
    {
     "data": {
      "text/plain": [
       "4357.543292355168"
      ]
     },
     "execution_count": 51,
     "metadata": {},
     "output_type": "execute_result"
    }
   ],
   "source": [
    "# Calculando o erro do modelo com os dados imputados\n",
    "X_train1, X_test1, y_train1, y_test1 = train_test_split(X_train, y_train, test_size=0.3, random_state=4)\n",
    "\n",
    "_ = reg2.fit(X_train1, y_train1)\n",
    "\n",
    "mean_squared_error(y_test1, reg2.predict(X_test1))"
   ]
  },
  {
   "cell_type": "code",
   "execution_count": 52,
   "metadata": {},
   "outputs": [
    {
     "data": {
      "text/plain": [
       "5453.369267285228"
      ]
     },
     "execution_count": 52,
     "metadata": {},
     "output_type": "execute_result"
    }
   ],
   "source": [
    "# Calculando o erro do modelo com os dados não imputados\n",
    "X_train1, X_test1, y_train1, y_test1 = train_test_split(X_train_sem_imp, y_train_sem_imp, test_size=0.3, random_state=40)\n",
    "\n",
    "_= reg.fit(X_train1, y_train1)\n",
    "\n",
    "mean_squared_error(y_test1, reg.predict(X_test1))"
   ]
  },
  {
   "cell_type": "markdown",
   "metadata": {},
   "source": [
    "### Modelo sem imputar os dados - Não utilizado"
   ]
  },
  {
   "cell_type": "code",
   "execution_count": 54,
   "metadata": {},
   "outputs": [],
   "source": [
    "#_ = reg.fit(X_train_sem_imp, y_train_sem_imp)\n",
    "#a = reg.predict(X_train.dropna())\n",
    "\n",
    "#answer = pd.DataFrame({'NU_INSCRICAO': inscricao, 'NU_NOTA_MT': a})\n",
    "#answer.to_csv('answer.csv', index=False)"
   ]
  },
  {
   "cell_type": "code",
   "execution_count": 579,
   "metadata": {
    "scrolled": true
   },
   "outputs": [],
   "source": [
    "#answer = pd.DataFrame({'NU_INSCRICAO': inscricao, 'NU_NOTA_MT': a})\n",
    "#answer.to_csv('answer1.csv', index=False)"
   ]
  },
  {
   "cell_type": "markdown",
   "metadata": {},
   "source": [
    "### Modelo imputando os dados"
   ]
  },
  {
   "cell_type": "code",
   "execution_count": 55,
   "metadata": {},
   "outputs": [
    {
     "data": {
      "text/html": [
       "<div>\n",
       "<style scoped>\n",
       "    .dataframe tbody tr th:only-of-type {\n",
       "        vertical-align: middle;\n",
       "    }\n",
       "\n",
       "    .dataframe tbody tr th {\n",
       "        vertical-align: top;\n",
       "    }\n",
       "\n",
       "    .dataframe thead th {\n",
       "        text-align: right;\n",
       "    }\n",
       "</style>\n",
       "<table border=\"1\" class=\"dataframe\">\n",
       "  <thead>\n",
       "    <tr style=\"text-align: right;\">\n",
       "      <th></th>\n",
       "      <th>NU_INSCRICAO</th>\n",
       "      <th>NU_NOTA_MT</th>\n",
       "    </tr>\n",
       "  </thead>\n",
       "  <tbody>\n",
       "    <tr>\n",
       "      <th>0</th>\n",
       "      <td>73ff9fcc02f0a99919906c942c2e1a1042cdcf98</td>\n",
       "      <td>431.5</td>\n",
       "    </tr>\n",
       "    <tr>\n",
       "      <th>1</th>\n",
       "      <td>71a95f9f1b91a82c65ad94abbdf9f54e6066f968</td>\n",
       "      <td>442.4</td>\n",
       "    </tr>\n",
       "    <tr>\n",
       "      <th>2</th>\n",
       "      <td>b38a03232f43b11c9d0788abaf060f7366053b6d</td>\n",
       "      <td>574.7</td>\n",
       "    </tr>\n",
       "    <tr>\n",
       "      <th>3</th>\n",
       "      <td>70b682d9a3636be23f6120fa9d6b164eb3c6002d</td>\n",
       "      <td>NaN</td>\n",
       "    </tr>\n",
       "    <tr>\n",
       "      <th>4</th>\n",
       "      <td>715494628a50142ce8cb17191cfe6d0f3cae0934</td>\n",
       "      <td>554.5</td>\n",
       "    </tr>\n",
       "  </tbody>\n",
       "</table>\n",
       "</div>"
      ],
      "text/plain": [
       "                               NU_INSCRICAO  NU_NOTA_MT\n",
       "0  73ff9fcc02f0a99919906c942c2e1a1042cdcf98       431.5\n",
       "1  71a95f9f1b91a82c65ad94abbdf9f54e6066f968       442.4\n",
       "2  b38a03232f43b11c9d0788abaf060f7366053b6d       574.7\n",
       "3  70b682d9a3636be23f6120fa9d6b164eb3c6002d         NaN\n",
       "4  715494628a50142ce8cb17191cfe6d0f3cae0934       554.5"
      ]
     },
     "execution_count": 55,
     "metadata": {},
     "output_type": "execute_result"
    }
   ],
   "source": [
    "# Modelo imputando os dados\n",
    "_ = reg2.fit(X_train, y_train)\n",
    "notas = reg2.predict(X_test)\n",
    "\n",
    "answer = pd.DataFrame({'NU_INSCRICAO': inscricao, 'NU_NOTA_MT': notas})\n",
    "answer['NU_NOTA_MT'] = answer['NU_NOTA_MT'].astype('float')\n",
    "\n",
    "def notaNan(x):\n",
    "    if x['NU_NOTA_MT'] <= 300:\n",
    "        return np.nan\n",
    "    else:\n",
    "        return round(x['NU_NOTA_MT'],1)\n",
    "\n",
    "answer['NU_NOTA_MT'] = answer.apply(notaNan, axis=1)\n",
    "answer.head()"
   ]
  },
  {
   "cell_type": "code",
   "execution_count": 56,
   "metadata": {},
   "outputs": [],
   "source": [
    "answer.to_csv('answer1.csv', index=False)"
   ]
  },
  {
   "cell_type": "markdown",
   "metadata": {},
   "source": [
    "### Usando TPOTRegressor"
   ]
  },
  {
   "cell_type": "code",
   "execution_count": 57,
   "metadata": {},
   "outputs": [],
   "source": [
    "# Primeiramente preprocessando os dados de treino\n",
    "X_train_preProcessed = preProcessor2.fit_transform(X_train)"
   ]
  },
  {
   "cell_type": "code",
   "execution_count": 58,
   "metadata": {},
   "outputs": [],
   "source": [
    "tpot = TPOTRegressor(generations=5, max_eval_time_mins= 1, population_size=10, verbosity=2)"
   ]
  },
  {
   "cell_type": "code",
   "execution_count": 59,
   "metadata": {},
   "outputs": [
    {
     "name": "stdout",
     "output_type": "stream",
     "text": [
      "Warning: xgboost.XGBRegressor is not available and will not be used by TPOT.\n"
     ]
    },
    {
     "data": {
      "application/vnd.jupyter.widget-view+json": {
       "model_id": "",
       "version_major": 2,
       "version_minor": 0
      },
      "text/plain": [
       "HBox(children=(FloatProgress(value=0.0, description='Optimization Progress', max=60.0, style=ProgressStyle(des…"
      ]
     },
     "metadata": {},
     "output_type": "display_data"
    },
    {
     "name": "stdout",
     "output_type": "stream",
     "text": [
      "\n",
      "Generation 1 - Current best internal CV score: -3982.774932187784\n",
      "Generation 2 - Current best internal CV score: -3949.093037730353\n",
      "Generation 3 - Current best internal CV score: -3949.093037730353\n",
      "Generation 4 - Current best internal CV score: -3949.093037730353\n",
      "Generation 5 - Current best internal CV score: -3949.093037730353\n",
      "Best pipeline: RandomForestRegressor(LinearSVR(input_matrix, C=10.0, dual=True, epsilon=0.0001, loss=squared_epsilon_insensitive, tol=0.1), bootstrap=False, max_features=0.2, min_samples_leaf=4, min_samples_split=11, n_estimators=100)\n"
     ]
    },
    {
     "data": {
      "text/plain": [
       "TPOTRegressor(config_dict=None, crossover_rate=0.1, cv=5,\n",
       "              disable_update_check=False, early_stop=None, generations=5,\n",
       "              log_file=<ipykernel.iostream.OutStream object at 0x0000012A9580D288>,\n",
       "              max_eval_time_mins=1, max_time_mins=None, memory=None,\n",
       "              mutation_rate=0.9, n_jobs=1, offspring_size=None,\n",
       "              periodic_checkpoint_folder=None, population_size=10,\n",
       "              random_state=None, scoring=None, subsample=1.0, template=None,\n",
       "              use_dask=False, verbosity=2, warm_start=False)"
      ]
     },
     "execution_count": 59,
     "metadata": {},
     "output_type": "execute_result"
    }
   ],
   "source": [
    "tpot.fit(X_train_preProcessed, y_train)"
   ]
  },
  {
   "cell_type": "code",
   "execution_count": 60,
   "metadata": {},
   "outputs": [],
   "source": [
    "X_test_preProcessed = preProcessor2.transform(X_test)"
   ]
  },
  {
   "cell_type": "code",
   "execution_count": 61,
   "metadata": {},
   "outputs": [],
   "source": [
    "notas2 = tpot.predict(X_test_preProcessed)"
   ]
  },
  {
   "cell_type": "code",
   "execution_count": 62,
   "metadata": {},
   "outputs": [
    {
     "data": {
      "text/html": [
       "<div>\n",
       "<style scoped>\n",
       "    .dataframe tbody tr th:only-of-type {\n",
       "        vertical-align: middle;\n",
       "    }\n",
       "\n",
       "    .dataframe tbody tr th {\n",
       "        vertical-align: top;\n",
       "    }\n",
       "\n",
       "    .dataframe thead th {\n",
       "        text-align: right;\n",
       "    }\n",
       "</style>\n",
       "<table border=\"1\" class=\"dataframe\">\n",
       "  <thead>\n",
       "    <tr style=\"text-align: right;\">\n",
       "      <th></th>\n",
       "      <th>NU_INSCRICAO</th>\n",
       "      <th>NU_NOTA_MT</th>\n",
       "    </tr>\n",
       "  </thead>\n",
       "  <tbody>\n",
       "    <tr>\n",
       "      <th>0</th>\n",
       "      <td>73ff9fcc02f0a99919906c942c2e1a1042cdcf98</td>\n",
       "      <td>422.0</td>\n",
       "    </tr>\n",
       "    <tr>\n",
       "      <th>1</th>\n",
       "      <td>71a95f9f1b91a82c65ad94abbdf9f54e6066f968</td>\n",
       "      <td>451.5</td>\n",
       "    </tr>\n",
       "    <tr>\n",
       "      <th>2</th>\n",
       "      <td>b38a03232f43b11c9d0788abaf060f7366053b6d</td>\n",
       "      <td>584.4</td>\n",
       "    </tr>\n",
       "    <tr>\n",
       "      <th>3</th>\n",
       "      <td>70b682d9a3636be23f6120fa9d6b164eb3c6002d</td>\n",
       "      <td>NaN</td>\n",
       "    </tr>\n",
       "    <tr>\n",
       "      <th>4</th>\n",
       "      <td>715494628a50142ce8cb17191cfe6d0f3cae0934</td>\n",
       "      <td>560.0</td>\n",
       "    </tr>\n",
       "  </tbody>\n",
       "</table>\n",
       "</div>"
      ],
      "text/plain": [
       "                               NU_INSCRICAO  NU_NOTA_MT\n",
       "0  73ff9fcc02f0a99919906c942c2e1a1042cdcf98       422.0\n",
       "1  71a95f9f1b91a82c65ad94abbdf9f54e6066f968       451.5\n",
       "2  b38a03232f43b11c9d0788abaf060f7366053b6d       584.4\n",
       "3  70b682d9a3636be23f6120fa9d6b164eb3c6002d         NaN\n",
       "4  715494628a50142ce8cb17191cfe6d0f3cae0934       560.0"
      ]
     },
     "execution_count": 62,
     "metadata": {},
     "output_type": "execute_result"
    }
   ],
   "source": [
    "answer2 = pd.DataFrame({'NU_INSCRICAO': inscricao, 'NU_NOTA_MT': notas2})\n",
    "answer2['NU_NOTA_MT'] = answer2['NU_NOTA_MT'].astype('float')\n",
    "\n",
    "def notaNan(x):\n",
    "    if x['NU_NOTA_MT'] <= 300:\n",
    "        return np.nan\n",
    "    else:\n",
    "        return round(x['NU_NOTA_MT'], 1)\n",
    "\n",
    "answer2['NU_NOTA_MT'] = answer2.apply(notaNan, axis=1)\n",
    "answer2.head()"
   ]
  },
  {
   "cell_type": "code",
   "execution_count": 63,
   "metadata": {},
   "outputs": [],
   "source": [
    "answer2.to_csv('answer2.csv', index=False)"
   ]
  },
  {
   "cell_type": "markdown",
   "metadata": {},
   "source": [
    "### Selecionando as colunas com maior correlação"
   ]
  },
  {
   "cell_type": "code",
   "execution_count": 65,
   "metadata": {},
   "outputs": [],
   "source": [
    "preProcessor2.fit(X_train)\n",
    "X = pd.DataFrame(preProcessor2.transform(X_train))\n",
    "X['NU_NOTA_MT'] = y_train.values\n",
    "correlation = X.corr()[['NU_NOTA_MT']].sort_values(by='NU_NOTA_MT', ascending=False)\n",
    "# Elevando ao quadrado para observar em valores absolutos quais correlações influenciam mais na nota\n",
    "correlation = np.power(correlation, 2).sort_values(by='NU_NOTA_MT', ascending=False)\n",
    "colunas_correlacionadas = correlation.index[1:7]"
   ]
  },
  {
   "cell_type": "code",
   "execution_count": 66,
   "metadata": {},
   "outputs": [],
   "source": [
    "X_test_final = preProcessor2.transform(X_test)\n",
    "X_test_final = pd.DataFrame(X_test_final)[colunas_correlacionadas].values"
   ]
  },
  {
   "cell_type": "code",
   "execution_count": 67,
   "metadata": {},
   "outputs": [],
   "source": [
    "X_preProcessado = X[colunas_correlacionadas].values"
   ]
  },
  {
   "cell_type": "code",
   "execution_count": 68,
   "metadata": {},
   "outputs": [],
   "source": [
    "regression = RandomForestRegressor()"
   ]
  },
  {
   "cell_type": "code",
   "execution_count": 69,
   "metadata": {},
   "outputs": [],
   "source": [
    "regression.fit(X_preProcessado, y_train)\n",
    "notas3 = regression.predict(X_test_final)"
   ]
  },
  {
   "cell_type": "code",
   "execution_count": 70,
   "metadata": {},
   "outputs": [
    {
     "data": {
      "text/html": [
       "<div>\n",
       "<style scoped>\n",
       "    .dataframe tbody tr th:only-of-type {\n",
       "        vertical-align: middle;\n",
       "    }\n",
       "\n",
       "    .dataframe tbody tr th {\n",
       "        vertical-align: top;\n",
       "    }\n",
       "\n",
       "    .dataframe thead th {\n",
       "        text-align: right;\n",
       "    }\n",
       "</style>\n",
       "<table border=\"1\" class=\"dataframe\">\n",
       "  <thead>\n",
       "    <tr style=\"text-align: right;\">\n",
       "      <th></th>\n",
       "      <th>NU_INSCRICAO</th>\n",
       "      <th>NU_NOTA_MT</th>\n",
       "    </tr>\n",
       "  </thead>\n",
       "  <tbody>\n",
       "    <tr>\n",
       "      <th>0</th>\n",
       "      <td>73ff9fcc02f0a99919906c942c2e1a1042cdcf98</td>\n",
       "      <td>522.2</td>\n",
       "    </tr>\n",
       "    <tr>\n",
       "      <th>1</th>\n",
       "      <td>71a95f9f1b91a82c65ad94abbdf9f54e6066f968</td>\n",
       "      <td>445.0</td>\n",
       "    </tr>\n",
       "    <tr>\n",
       "      <th>2</th>\n",
       "      <td>b38a03232f43b11c9d0788abaf060f7366053b6d</td>\n",
       "      <td>575.3</td>\n",
       "    </tr>\n",
       "    <tr>\n",
       "      <th>3</th>\n",
       "      <td>70b682d9a3636be23f6120fa9d6b164eb3c6002d</td>\n",
       "      <td>NaN</td>\n",
       "    </tr>\n",
       "    <tr>\n",
       "      <th>4</th>\n",
       "      <td>715494628a50142ce8cb17191cfe6d0f3cae0934</td>\n",
       "      <td>692.6</td>\n",
       "    </tr>\n",
       "  </tbody>\n",
       "</table>\n",
       "</div>"
      ],
      "text/plain": [
       "                               NU_INSCRICAO  NU_NOTA_MT\n",
       "0  73ff9fcc02f0a99919906c942c2e1a1042cdcf98       522.2\n",
       "1  71a95f9f1b91a82c65ad94abbdf9f54e6066f968       445.0\n",
       "2  b38a03232f43b11c9d0788abaf060f7366053b6d       575.3\n",
       "3  70b682d9a3636be23f6120fa9d6b164eb3c6002d         NaN\n",
       "4  715494628a50142ce8cb17191cfe6d0f3cae0934       692.6"
      ]
     },
     "execution_count": 70,
     "metadata": {},
     "output_type": "execute_result"
    }
   ],
   "source": [
    "answer3 = pd.DataFrame({'NU_INSCRICAO': inscricao, 'NU_NOTA_MT': notas3})\n",
    "answer3['NU_NOTA_MT'] = answer3['NU_NOTA_MT'].astype('float')\n",
    "\n",
    "def notaNan(x):\n",
    "    if x['NU_NOTA_MT'] <= 300:\n",
    "        return np.nan\n",
    "    else:\n",
    "        return round(x['NU_NOTA_MT'], 1)\n",
    "\n",
    "answer3['NU_NOTA_MT'] = answer3.apply(notaNan, axis=1)\n",
    "answer3.head()"
   ]
  },
  {
   "cell_type": "code",
   "execution_count": 71,
   "metadata": {},
   "outputs": [],
   "source": [
    "answer3.to_csv('answer3.csv', index=False)"
   ]
  },
  {
   "cell_type": "code",
   "execution_count": null,
   "metadata": {},
   "outputs": [],
   "source": []
  },
  {
   "cell_type": "markdown",
   "metadata": {},
   "source": [
    "### 2ª Tentativa com o TPOT"
   ]
  },
  {
   "cell_type": "code",
   "execution_count": 72,
   "metadata": {},
   "outputs": [],
   "source": [
    "X_test_preProcessed = preProcessor2.transform(X_test)"
   ]
  },
  {
   "cell_type": "code",
   "execution_count": 73,
   "metadata": {},
   "outputs": [],
   "source": [
    "tpot2 = TPOTRegressor(generations=5, max_eval_time_mins= 1, population_size=10, verbosity=2)"
   ]
  },
  {
   "cell_type": "code",
   "execution_count": 74,
   "metadata": {},
   "outputs": [
    {
     "name": "stdout",
     "output_type": "stream",
     "text": [
      "Warning: xgboost.XGBRegressor is not available and will not be used by TPOT.\n"
     ]
    },
    {
     "data": {
      "application/vnd.jupyter.widget-view+json": {
       "model_id": "",
       "version_major": 2,
       "version_minor": 0
      },
      "text/plain": [
       "HBox(children=(FloatProgress(value=0.0, description='Optimization Progress', max=60.0, style=ProgressStyle(des…"
      ]
     },
     "metadata": {},
     "output_type": "display_data"
    },
    {
     "name": "stdout",
     "output_type": "stream",
     "text": [
      "\n",
      "Generation 1 - Current best internal CV score: -4486.701882418409\n",
      "Generation 2 - Current best internal CV score: -4486.701882418409\n",
      "Generation 3 - Current best internal CV score: -4486.701882418409\n",
      "Generation 4 - Current best internal CV score: -4474.176231936462\n",
      "Generation 5 - Current best internal CV score: -4474.176231936462\n",
      "Best pipeline: GradientBoostingRegressor(input_matrix, alpha=0.8, learning_rate=0.1, loss=ls, max_depth=5, max_features=0.4, min_samples_leaf=10, min_samples_split=8, n_estimators=100, subsample=0.9500000000000001)\n"
     ]
    },
    {
     "data": {
      "text/plain": [
       "TPOTRegressor(config_dict=None, crossover_rate=0.1, cv=5,\n",
       "              disable_update_check=False, early_stop=None, generations=5,\n",
       "              log_file=<ipykernel.iostream.OutStream object at 0x0000012A9580D288>,\n",
       "              max_eval_time_mins=1, max_time_mins=None, memory=None,\n",
       "              mutation_rate=0.9, n_jobs=1, offspring_size=None,\n",
       "              periodic_checkpoint_folder=None, population_size=10,\n",
       "              random_state=None, scoring=None, subsample=1.0, template=None,\n",
       "              use_dask=False, verbosity=2, warm_start=False)"
      ]
     },
     "execution_count": 74,
     "metadata": {},
     "output_type": "execute_result"
    }
   ],
   "source": [
    "tpot2.fit(X_preProcessado, y_train)"
   ]
  },
  {
   "cell_type": "code",
   "execution_count": 75,
   "metadata": {},
   "outputs": [
    {
     "data": {
      "text/plain": [
       "array([ 4.64413094e+02,  4.48372507e+02,  5.77808884e+02, ...,\n",
       "        6.73772336e+02,  4.45672898e+02, -8.87303481e-02])"
      ]
     },
     "execution_count": 75,
     "metadata": {},
     "output_type": "execute_result"
    }
   ],
   "source": [
    "notas4 = tpot2.predict(X_test_final)\n",
    "notas4"
   ]
  },
  {
   "cell_type": "code",
   "execution_count": 76,
   "metadata": {},
   "outputs": [
    {
     "data": {
      "text/html": [
       "<div>\n",
       "<style scoped>\n",
       "    .dataframe tbody tr th:only-of-type {\n",
       "        vertical-align: middle;\n",
       "    }\n",
       "\n",
       "    .dataframe tbody tr th {\n",
       "        vertical-align: top;\n",
       "    }\n",
       "\n",
       "    .dataframe thead th {\n",
       "        text-align: right;\n",
       "    }\n",
       "</style>\n",
       "<table border=\"1\" class=\"dataframe\">\n",
       "  <thead>\n",
       "    <tr style=\"text-align: right;\">\n",
       "      <th></th>\n",
       "      <th>NU_INSCRICAO</th>\n",
       "      <th>NU_NOTA_MT</th>\n",
       "    </tr>\n",
       "  </thead>\n",
       "  <tbody>\n",
       "    <tr>\n",
       "      <th>0</th>\n",
       "      <td>73ff9fcc02f0a99919906c942c2e1a1042cdcf98</td>\n",
       "      <td>464.4</td>\n",
       "    </tr>\n",
       "    <tr>\n",
       "      <th>1</th>\n",
       "      <td>71a95f9f1b91a82c65ad94abbdf9f54e6066f968</td>\n",
       "      <td>448.4</td>\n",
       "    </tr>\n",
       "    <tr>\n",
       "      <th>2</th>\n",
       "      <td>b38a03232f43b11c9d0788abaf060f7366053b6d</td>\n",
       "      <td>577.8</td>\n",
       "    </tr>\n",
       "    <tr>\n",
       "      <th>3</th>\n",
       "      <td>70b682d9a3636be23f6120fa9d6b164eb3c6002d</td>\n",
       "      <td>NaN</td>\n",
       "    </tr>\n",
       "    <tr>\n",
       "      <th>4</th>\n",
       "      <td>715494628a50142ce8cb17191cfe6d0f3cae0934</td>\n",
       "      <td>594.4</td>\n",
       "    </tr>\n",
       "  </tbody>\n",
       "</table>\n",
       "</div>"
      ],
      "text/plain": [
       "                               NU_INSCRICAO  NU_NOTA_MT\n",
       "0  73ff9fcc02f0a99919906c942c2e1a1042cdcf98       464.4\n",
       "1  71a95f9f1b91a82c65ad94abbdf9f54e6066f968       448.4\n",
       "2  b38a03232f43b11c9d0788abaf060f7366053b6d       577.8\n",
       "3  70b682d9a3636be23f6120fa9d6b164eb3c6002d         NaN\n",
       "4  715494628a50142ce8cb17191cfe6d0f3cae0934       594.4"
      ]
     },
     "execution_count": 76,
     "metadata": {},
     "output_type": "execute_result"
    }
   ],
   "source": [
    "answer4 = pd.DataFrame({'NU_INSCRICAO': inscricao, 'NU_NOTA_MT': notas4})\n",
    "answer4['NU_NOTA_MT'] = answer4['NU_NOTA_MT'].astype('float')\n",
    "\n",
    "def notaNan(x):\n",
    "    if x['NU_NOTA_MT'] <= 300:\n",
    "        return np.nan\n",
    "    else:\n",
    "        return round(x['NU_NOTA_MT'], 1)\n",
    "\n",
    "answer4['NU_NOTA_MT'] = answer4.apply(notaNan, axis=1)\n",
    "answer4.head()"
   ]
  },
  {
   "cell_type": "code",
   "execution_count": 77,
   "metadata": {},
   "outputs": [],
   "source": [
    "answer4.to_csv('answer4.csv', index=False)"
   ]
  },
  {
   "cell_type": "code",
   "execution_count": null,
   "metadata": {},
   "outputs": [],
   "source": []
  },
  {
   "cell_type": "code",
   "execution_count": null,
   "metadata": {},
   "outputs": [],
   "source": []
  },
  {
   "cell_type": "code",
   "execution_count": null,
   "metadata": {},
   "outputs": [],
   "source": []
  },
  {
   "cell_type": "code",
   "execution_count": null,
   "metadata": {},
   "outputs": [],
   "source": []
  },
  {
   "cell_type": "code",
   "execution_count": null,
   "metadata": {},
   "outputs": [],
   "source": []
  },
  {
   "cell_type": "code",
   "execution_count": null,
   "metadata": {},
   "outputs": [],
   "source": [
    "# pre projeto da classe pre processamento\n",
    "class Preprocessamento():\n",
    "    def __init__(self):\n",
    "        self.X_treino = None\n",
    "        self.y_treino = None\n",
    "        self.X_teste = None\n",
    "        self.modelo = None\n",
    "    def preprocessar_treino_sem_imputacao(self, df, y_train):\n",
    "        df_aux = pd.DataFrame({'Colunas': df.columns, 'Tipos': df.dtypes, 'Na_count': df.isna().sum(), \n",
    "                       'Na_percent': df.isna().sum()/df.shape[0]})\n",
    "        \n",
    "        # Algumas colunas tem mais de 50% de dados faltantes, imputar os dados não traria beneficio ao modelo de ML, \n",
    "        # assim essas colunas serão deletadas\n",
    "        colComMuitosDadosFaltantes = [*df_aux [df_aux['Na_percent'] >= 0.5]['Colunas'].values]\n",
    "        print('Deletando {} colunas do dataset de treino e teste, porque mais de 50% de dados estão ausentes'.format(len(colComMuitosDadosFaltantes)))\n",
    "        print()\n",
    "        df.drop(colComMuitosDadosFaltantes, axis=1, inplace=True)\n",
    "        col = [i for i in X_test_df.columns if i in colComMuitosDadosFaltantes]\n",
    "        X_test_df.drop(col, axis=1, inplace=True)\n",
    "        print('-*-*-*-*-*-*-*-*-*-*-*-*-*')\n",
    "        print('Dropando {} linhas em que a nota de matemática do dataset de treino está faltando'.format(df_aux.loc['NU_NOTA_MT']['Na_count']))\n",
    "        df.dropna(subset=['NU_NOTA_MT'], axis=0, inplace=True)\n",
    "        \n",
    "        df = df[[*X_test_df.columns] + ['NU_NOTA_MT']]\n",
    "        \n",
    "               \n",
    "        colunas_dropadas = ['NU_INSCRICAO', 'CO_UF_RESIDENCIA', 'CO_PROVA_CN', 'CO_PROVA_CH', 'CO_PROVA_LC', 'CO_PROVA_MT']\n",
    "        cat = re.compile('SG_|TP_|IN_|Q0')\n",
    "        colunas_categoricas = [i for i in filter(cat.match, df.columns) if i not in colunas_dropadas]\n",
    "        num = re.compile('NU_')\n",
    "        colunas_numericas = [i for i in filter(num.match, df.columns) if i not in colunas_dropadas]\n",
    "        colunas_dropadas = ['NU_INSCRICAO', 'CO_UF_RESIDENCIA', 'CO_PROVA_CN', 'CO_PROVA_CH', 'CO_PROVA_LC', 'CO_PROVA_MT']\n",
    "        df.drop(colunas_dropadas, axis=1, inplace=True)\n",
    "        print('O dataset possui {} observações'.format(df.shape[0]))\n",
    "        df.dropna(inplace=True)\n",
    "        print('Após excluir as linhas com valores inexistentes, o dataset ainda possui {} observações'.format(df.shape[0]))\n",
    "        pass\n",
    "    def preprocessar_teste_sem_imputacao(self, df):\n",
    "        colunas_dropadas = ['NU_INSCRICAO', 'CO_UF_RESIDENCIA', 'CO_PROVA_CN', 'CO_PROVA_CH', 'CO_PROVA_LC', 'CO_PROVA_MT']\n",
    "        cat = re.compile('SG_|TP_|IN_|Q0')\n",
    "        colunas_categoricas = [i for i in filter(cat.match, df.columns) if i not in colunas_dropadas]\n",
    "        num = re.compile('NU_')\n",
    "        colunas_numericas = [i for i in filter(num.match, df.columns) if i not in colunas_dropadas]\n",
    "        pass"
   ]
  }
 ],
 "metadata": {
  "kernelspec": {
   "display_name": "Python 3",
   "language": "python",
   "name": "python3"
  },
  "language_info": {
   "codemirror_mode": {
    "name": "ipython",
    "version": 3
   },
   "file_extension": ".py",
   "mimetype": "text/x-python",
   "name": "python",
   "nbconvert_exporter": "python",
   "pygments_lexer": "ipython3",
   "version": "3.7.7"
  }
 },
 "nbformat": 4,
 "nbformat_minor": 4
}
