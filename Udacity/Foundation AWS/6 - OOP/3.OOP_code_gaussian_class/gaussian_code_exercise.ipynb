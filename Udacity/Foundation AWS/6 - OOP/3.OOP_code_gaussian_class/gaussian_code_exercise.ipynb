{
 "cells": [
  {
   "cell_type": "markdown",
   "metadata": {},
   "source": [
    "# Gaussian Code Exercise\n",
    "\n",
    "Read through the code below and fill out the TODOs. You'll find a cell at the end of the Jupyter notebook containing unit tests. After you've run the code cell with the Gaussian class, you can run the final cell to check that your code functions as expected.\n",
    "\n",
    "This exercise includes a file called 'numbers.txt', which you can see if you click on the 'Jupyter' icon at the top of the workspace and then go into the folder titled 3.OOP_code_gaussian_class. The 'numbers.txt' file is read in by the read_data_file() method. There is also a solution in the 3.OOP_code_gaussian_class folder in a file called answer.py."
   ]
  },
  {
   "cell_type": "code",
   "execution_count": 93,
   "metadata": {},
   "outputs": [],
   "source": [
    "import math\n",
    "import matplotlib.pyplot as plt\n",
    "\n",
    "class Gaussian():\n",
    "    \"\"\" Gaussian distribution class for calculating and \n",
    "    visualizing a Gaussian distribution.\n",
    "    \n",
    "    Attributes:\n",
    "        mean (float) representing the mean value of the distribution\n",
    "        stdev (float) representing the standard deviation of the distribution\n",
    "        data_list (list of floats) a list of floats extracted from the data file\n",
    "            \n",
    "    \"\"\"\n",
    "    def __init__(self, mu = 0, sigma = 1):\n",
    "        \n",
    "        self.mean = mu\n",
    "        self.stdev = sigma\n",
    "        self.data = []\n",
    "\n",
    "\n",
    "    \n",
    "    def calculate_mean(self):\n",
    "    \n",
    "        \"\"\"Method to calculate the mean of the data set.\n",
    "        \n",
    "        Args: \n",
    "            None\n",
    "        \n",
    "        Returns: \n",
    "            float: mean of the data set\n",
    "    \n",
    "        \"\"\"\n",
    "        \n",
    "        #TODO: Calculate the mean of the data set. Remember that the data set is stored in self.data\n",
    "        # Change the value of the mean attribute to be the mean of the data set\n",
    "        # Return the mean of the data set   \n",
    "        \n",
    "        self.mean = sum(self.data)/len(self.data)\n",
    "        return self.mean\n",
    "                \n",
    "\n",
    "\n",
    "    def calculate_stdev(self, sample=True):\n",
    "\n",
    "        \"\"\"Method to calculate the standard deviation of the data set.\n",
    "        \n",
    "        Args: \n",
    "            sample (bool): whether the data represents a sample or population\n",
    "        \n",
    "        Returns: \n",
    "            float: standard deviation of the data set\n",
    "    \n",
    "        \"\"\"\n",
    "\n",
    "        # TODO:\n",
    "        #   Calculate the standard deviation of the data set\n",
    "        #   \n",
    "        #   The sample variable determines if the data set contains a sample or a population\n",
    "        #   If sample = True, this means the data is a sample. \n",
    "        #   Keep the value of sample in mind for calculating the standard deviation\n",
    "        #\n",
    "        #   Make sure to update self.stdev and return the standard deviation as well    \n",
    "        \n",
    "        data_length = len(self.data)\n",
    "        sum_of_diference = 0\n",
    "        \n",
    "        for i in self.data:\n",
    "            sum_of_diference += math.pow(i - self.mean, 2)\n",
    "            \n",
    "        if sample:\n",
    "            var = sum_of_diference/(data_length - 1)\n",
    "        else:\n",
    "            var = sum_of_diference/data_length\n",
    "            \n",
    "        self.stdev = round(math.sqrt(var), 2)\n",
    "        return self.stdev\n",
    "        \n",
    "\n",
    "    def read_data_file(self, file_name, sample=True):\n",
    "    \n",
    "        \"\"\"Method to read in data from a txt file. The txt file should have\n",
    "        one number (float) per line. The numbers are stored in the data attribute. \n",
    "        After reading in the file, the mean and standard deviation are calculated\n",
    "                \n",
    "        Args:\n",
    "            file_name (string): name of a file to read from\n",
    "        \n",
    "        Returns:\n",
    "            None\n",
    "        \n",
    "        \"\"\"\n",
    "        \n",
    "        # This code opens a data file and appends the data to a list called data_list\n",
    "        with open(file_name) as file:\n",
    "            data_list = []\n",
    "            line = file.readline()\n",
    "            while line:\n",
    "                data_list.append(int(line))\n",
    "                line = file.readline()\n",
    "        file.close()\n",
    "    \n",
    "        # TODO: \n",
    "        #   Update the self.data attribute with the data_list\n",
    "        #   Update self.mean with the mean of the data_list. \n",
    "        #       You can use the calculate_mean() method with self.calculate_mean()\n",
    "        #   Update self.stdev with the standard deviation of the data_list. Use the \n",
    "        #       calculate_stdev() method.\n",
    "        self.data = data_list\n",
    "        self.calculate_mean()\n",
    "        self.calculate_stdev(sample)\n",
    "                \n",
    "        \n",
    "    def plot_histogram(self):\n",
    "        \"\"\"Method to output a histogram of the instance variable data using \n",
    "        matplotlib pyplot library.\n",
    "        \n",
    "        Args:\n",
    "            None\n",
    "            \n",
    "        Returns:\n",
    "            None\n",
    "        \"\"\"\n",
    "        \n",
    "        # TODO: Plot a histogram of the data_list using the matplotlib package.\n",
    "        #       Be sure to label the x and y axes and also give the chart a title\n",
    "        \n",
    "        fig, ax = plt.subplots(figsize=(6,4))\n",
    "        ax.hist(self.data)\n",
    "        ax.set_ylabel('Distribution', fontsize=14)\n",
    "        ax.set_title('Histogram of data', fontsize=18)\n",
    "        plt.show()\n",
    "                \n",
    "        \n",
    "    def pdf(self, x):\n",
    "        \"\"\"Probability density function calculator for the gaussian distribution.\n",
    "        \n",
    "        Args:\n",
    "            x (float): point for calculating the probability density function\n",
    "            \n",
    "        \n",
    "        Returns:\n",
    "            float: probability density function output\n",
    "        \"\"\"\n",
    "        \n",
    "        # TODO: Calculate the probability density function of the Gaussian distribution\n",
    "        #       at the value x. You'll need to use self.stdev and self.mean to do the calculation\n",
    "        return math.exp(-1/2 * ((x - self.mean)/(self.stdev))**2)/(self.stdev * math.sqrt(2 * math.pi))\n",
    "    \n",
    "    def plot_histogram_pdf(self, n_spaces = 50):\n",
    "\n",
    "        \"\"\"Method to plot the normalized histogram of the data and a plot of the \n",
    "        probability density function along the same range\n",
    "        \n",
    "        Args:\n",
    "            n_spaces (int): number of data points \n",
    "        \n",
    "        Returns:\n",
    "            list: x values for the pdf plot\n",
    "            list: y values for the pdf plot\n",
    "            \n",
    "        \"\"\"\n",
    "        \n",
    "        #TODO: Nothing to do for this method. Try it out and see how it works.\n",
    "        \n",
    "        mu = self.mean\n",
    "        sigma = self.stdev\n",
    "\n",
    "        min_range = min(self.data)\n",
    "        max_range = max(self.data)\n",
    "        \n",
    "         # calculates the interval between x values\n",
    "        interval = 1.0 * (max_range - min_range) / n_spaces\n",
    "\n",
    "        x = []\n",
    "        y = []\n",
    "        \n",
    "        # calculate the x values to visualize\n",
    "        for i in range(n_spaces):\n",
    "            tmp = min_range + interval*i\n",
    "            x.append(tmp)\n",
    "            y.append(self.pdf(tmp))\n",
    "\n",
    "        # make the plots\n",
    "        fig, axes = plt.subplots(2,sharex=True)\n",
    "        fig.subplots_adjust(hspace=.5)\n",
    "        axes[0].hist(self.data, density=True)\n",
    "        axes[0].set_title('Normed Histogram of Data')\n",
    "        axes[0].set_ylabel('Density')\n",
    "\n",
    "        axes[1].plot(x, y)\n",
    "        axes[1].set_title('Normal Distribution for \\n Sample Mean and Sample Standard Deviation')\n",
    "        axes[0].set_ylabel('Density')\n",
    "        plt.show()\n",
    "\n",
    "        return x, y"
   ]
  },
  {
   "cell_type": "code",
   "execution_count": 94,
   "metadata": {},
   "outputs": [
    {
     "name": "stderr",
     "output_type": "stream",
     "text": [
      "....\n",
      "----------------------------------------------------------------------\n",
      "Ran 4 tests in 0.005s\n",
      "\n",
      "OK\n"
     ]
    },
    {
     "data": {
      "text/plain": [
       "<unittest.runner.TextTestResult run=4 errors=0 failures=0>"
      ]
     },
     "execution_count": 94,
     "metadata": {},
     "output_type": "execute_result"
    }
   ],
   "source": [
    "# Unit tests to check your solution\n",
    "\n",
    "import unittest\n",
    "\n",
    "class TestGaussianClass(unittest.TestCase):\n",
    "    def setUp(self):\n",
    "        self.gaussian = Gaussian(25, 2)\n",
    "\n",
    "    def test_initialization(self): \n",
    "        self.assertEqual(self.gaussian.mean, 25, 'incorrect mean')\n",
    "        self.assertEqual(self.gaussian.stdev, 2, 'incorrect standard deviation')\n",
    "\n",
    "    def test_pdf(self):\n",
    "        self.assertEqual(round(self.gaussian.pdf(25), 5), 0.19947,\\\n",
    "         'pdf function does not give expected result') \n",
    "\n",
    "    def test_meancalculation(self):\n",
    "        self.gaussian.read_data_file('numbers.txt', True)\n",
    "        self.assertEqual(self.gaussian.calculate_mean(),\\\n",
    "         sum(self.gaussian.data) / float(len(self.gaussian.data)), 'calculated mean not as expected')\n",
    "\n",
    "    def test_stdevcalculation(self):\n",
    "        self.gaussian.read_data_file('numbers.txt', True)\n",
    "        self.assertEqual(round(self.gaussian.stdev, 2), 92.87, 'sample standard deviation incorrect')\n",
    "        self.gaussian.read_data_file('numbers.txt', False)\n",
    "        self.assertEqual(round(self.gaussian.stdev, 2), 88.55, 'population standard deviation incorrect')\n",
    "        \n",
    "tests = TestGaussianClass()\n",
    "\n",
    "tests_loaded = unittest.TestLoader().loadTestsFromModule(tests)\n",
    "\n",
    "unittest.TextTestRunner().run(tests_loaded)"
   ]
  },
  {
   "cell_type": "code",
   "execution_count": 21,
   "metadata": {},
   "outputs": [],
   "source": [
    "tests = TestGaussianClass()"
   ]
  },
  {
   "cell_type": "code",
   "execution_count": 46,
   "metadata": {},
   "outputs": [
    {
     "name": "stdout",
     "output_type": "stream",
     "text": [
      "0\n",
      "1\n"
     ]
    },
    {
     "data": {
      "image/png": "[encoded data removed]",
      "text/plain": [
       "<Figure size 600x400 with 1 Axes>"
      ]
     },
     "metadata": {},
     "output_type": "display_data"
    }
   ],
   "source": [
    "a = Gaussian()\n",
    "a.data = [2,3,4,5]\n",
    "print(a.mean)\n",
    "print(a.stdev)\n",
    "a.plot_histogram()"
   ]
  },
  {
   "cell_type": "code",
   "execution_count": 16,
   "metadata": {},
   "outputs": [
    {
     "data": {
      "text/plain": [
       "3.5"
      ]
     },
     "execution_count": 16,
     "metadata": {},
     "output_type": "execute_result"
    }
   ],
   "source": [
    "a.mean"
   ]
  },
  {
   "cell_type": "code",
   "execution_count": 95,
   "metadata": {},
   "outputs": [
    {
     "data": {
      "image/png": "[encoded data removed]",
      "text/plain": [
       "<Figure size 640x480 with 2 Axes>"
      ]
     },
     "metadata": {},
     "output_type": "display_data"
    }
   ],
   "source": [
    "gaussian = Gaussian(25, 2)\n",
    "gaussian.read_data_file('numbers.txt', True)\n",
    "a, b = gaussian.plot_histogram_pdf()"
   ]
  },
  {
   "cell_type": "code",
   "execution_count": 96,
   "metadata": {},
   "outputs": [
    {
     "data": {
      "text/plain": [
       "[1.0,\n",
       " 7.58,\n",
       " 14.16,\n",
       " 20.740000000000002,\n",
       " 27.32,\n",
       " 33.9,\n",
       " 40.480000000000004,\n",
       " 47.06,\n",
       " 53.64,\n",
       " 60.22,\n",
       " 66.8,\n",
       " 73.38,\n",
       " 79.96000000000001,\n",
       " 86.54,\n",
       " 93.12,\n",
       " 99.7,\n",
       " 106.28,\n",
       " 112.86,\n",
       " 119.44,\n",
       " 126.02,\n",
       " 132.6,\n",
       " 139.18,\n",
       " 145.76,\n",
       " 152.34,\n",
       " 158.92000000000002,\n",
       " 165.5,\n",
       " 172.08,\n",
       " 178.66,\n",
       " 185.24,\n",
       " 191.82,\n",
       " 198.4,\n",
       " 204.98,\n",
       " 211.56,\n",
       " 218.14000000000001,\n",
       " 224.72,\n",
       " 231.3,\n",
       " 237.88,\n",
       " 244.46,\n",
       " 251.04,\n",
       " 257.62,\n",
       " 264.2,\n",
       " 270.78000000000003,\n",
       " 277.36,\n",
       " 283.94,\n",
       " 290.52,\n",
       " 297.1,\n",
       " 303.68,\n",
       " 310.26,\n",
       " 316.84000000000003,\n",
       " 323.42]"
      ]
     },
     "execution_count": 96,
     "metadata": {},
     "output_type": "execute_result"
    }
   ],
   "source": [
    "a"
   ]
  },
  {
   "cell_type": "code",
   "execution_count": 97,
   "metadata": {},
   "outputs": [
    {
     "data": {
      "text/plain": [
       "[0.0030437409869301744,\n",
       " 0.003220031100241412,\n",
       " 0.0033894739144642366,\n",
       " 0.0035499675350525975,\n",
       " 0.0036994428510404164,\n",
       " 0.003835907446954606,\n",
       " 0.003957489515830697,\n",
       " 0.004062480430454159,\n",
       " 0.004149374624845217,\n",
       " 0.004216905487445715,\n",
       " 0.004264076071062959,\n",
       " 0.004290183579237397,\n",
       " 0.00429483678853339,\n",
       " 0.004277965803112702,\n",
       " 0.004239823801655856,\n",
       " 0.004180980715607627,\n",
       " 0.004102309059370266,\n",
       " 0.004004962404832388,\n",
       " 0.0038903472424239084,\n",
       " 0.0037600891878442084,\n",
       " 0.003615994668611803,\n",
       " 0.003460009350757786,\n",
       " 0.0032941746390243855,\n",
       " 0.003120583602254938,\n",
       " 0.0029413376404233147,\n",
       " 0.002758505124670118,\n",
       " 0.0025740831127776254,\n",
       " 0.002389963077557049,\n",
       " 0.0022079013938059635,\n",
       " 0.002029495120759946,\n",
       " 0.0018561634014500742,\n",
       " 0.0016891345878771535,\n",
       " 0.0015294390003727334,\n",
       " 0.0013779070486333383,\n",
       " 0.0012351722868271372,\n",
       " 0.0011016788502705684,\n",
       " 0.0009776926290178851,\n",
       " 0.0008633154750682706,\n",
       " 0.0007585017138820741,\n",
       " 0.0006630762351725642,\n",
       " 0.0005767534689922043,\n",
       " 0.000499156606589775,\n",
       " 0.00042983649646471077,\n",
       " 0.0003682897293529594,\n",
       " 0.00031397551647783996,\n",
       " 0.00026633105854110883,\n",
       " 0.0002247851943839119,\n",
       " 0.00018877020444764387,\n",
       " 0.00015773172229524828,\n",
       " 0.00013113677548343166]"
      ]
     },
     "execution_count": 97,
     "metadata": {},
     "output_type": "execute_result"
    }
   ],
   "source": [
    "b"
   ]
  },
  {
   "cell_type": "code",
   "execution_count": null,
   "metadata": {},
   "outputs": [],
   "source": []
  }
 ],
 "metadata": {
  "kernelspec": {
   "display_name": "Python 3",
   "language": "python",
   "name": "python3"
  },
  "language_info": {
   "codemirror_mode": {
    "name": "ipython",
    "version": 3
   },
   "file_extension": ".py",
   "mimetype": "text/x-python",
   "name": "python",
   "nbconvert_exporter": "python",
   "pygments_lexer": "ipython3",
   "version": "3.8.11"
  }
 },
 "nbformat": 4,
 "nbformat_minor": 2
}
