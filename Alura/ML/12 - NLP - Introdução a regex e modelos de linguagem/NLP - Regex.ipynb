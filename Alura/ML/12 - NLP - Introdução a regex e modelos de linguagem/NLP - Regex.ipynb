{
 "cells": [
  {
   "cell_type": "markdown",
   "id": "103cfb47",
   "metadata": {},
   "source": [
    "# NLP Introdução a regex e modelos de linguagem\n",
    "\n",
    "## Objetivos:\n",
    "* Avance nos estudos sobre Processamento de Linguagem Natural.\n",
    "* Aprenda como as regex pode ajudar no tratamento de dados textuais.\n",
    "* Entenda o que são o modelos de linguagem e suas aplicações\n",
    "* Crie um modelo que detecta idiomas modo automatizado.\n",
    "* Pratique bibliotecas python como NLTK e Scikit-Learn.\n",
    "\n",
    "link: https://cursos.alura.com.br/course/nlp-modelos-linguagem"
   ]
  },
  {
   "cell_type": "markdown",
   "id": "8a9cd4d2",
   "metadata": {},
   "source": [
    "## Importando as bibliotecas necessárias"
   ]
  },
  {
   "cell_type": "code",
   "execution_count": 1,
   "id": "89a53465",
   "metadata": {},
   "outputs": [],
   "source": [
    "import numpy as np\n",
    "import pandas as pd\n",
    "import matplotlib.pyplot as plt\n",
    "import seaborn as sns\n",
    "import re"
   ]
  },
  {
   "cell_type": "markdown",
   "id": "3f0c86b7",
   "metadata": {},
   "source": [
    "## Carregando os dados"
   ]
  },
  {
   "cell_type": "code",
   "execution_count": 3,
   "id": "196beecc",
   "metadata": {},
   "outputs": [
    {
     "data": {
      "text/html": [
       "<div>\n",
       "<style scoped>\n",
       "    .dataframe tbody tr th:only-of-type {\n",
       "        vertical-align: middle;\n",
       "    }\n",
       "\n",
       "    .dataframe tbody tr th {\n",
       "        vertical-align: top;\n",
       "    }\n",
       "\n",
       "    .dataframe thead th {\n",
       "        text-align: right;\n",
       "    }\n",
       "</style>\n",
       "<table border=\"1\" class=\"dataframe\">\n",
       "  <thead>\n",
       "    <tr style=\"text-align: right;\">\n",
       "      <th></th>\n",
       "      <th>Id</th>\n",
       "      <th>Título</th>\n",
       "      <th>Questão</th>\n",
       "      <th>Tags</th>\n",
       "      <th>Pontuação</th>\n",
       "      <th>Visualizações</th>\n",
       "    </tr>\n",
       "  </thead>\n",
       "  <tbody>\n",
       "    <tr>\n",
       "      <th>0</th>\n",
       "      <td>2402</td>\n",
       "      <td>Como fazer hash de senhas de forma segura?</td>\n",
       "      <td>&lt;p&gt;Se eu fizer o &lt;em&gt;&lt;a href=\"http://pt.wikipe...</td>\n",
       "      <td>&lt;hash&gt;&lt;segurança&gt;&lt;senhas&gt;&lt;criptografia&gt;</td>\n",
       "      <td>350</td>\n",
       "      <td>22367</td>\n",
       "    </tr>\n",
       "    <tr>\n",
       "      <th>1</th>\n",
       "      <td>6441</td>\n",
       "      <td>Qual é a diferença entre INNER JOIN e OUTER JOIN?</td>\n",
       "      <td>&lt;p&gt;Qual é a diferença entre &lt;code&gt;INNER JOIN&lt;/...</td>\n",
       "      <td>&lt;sql&gt;&lt;join&gt;</td>\n",
       "      <td>276</td>\n",
       "      <td>176953</td>\n",
       "    </tr>\n",
       "    <tr>\n",
       "      <th>2</th>\n",
       "      <td>579</td>\n",
       "      <td>Por que não devemos usar funções do tipo mysql_*?</td>\n",
       "      <td>&lt;p&gt;Uma dúvida muito comum é por que devemos pa...</td>\n",
       "      <td>&lt;php&gt;&lt;mysql&gt;</td>\n",
       "      <td>226</td>\n",
       "      <td>9761</td>\n",
       "    </tr>\n",
       "    <tr>\n",
       "      <th>3</th>\n",
       "      <td>2539</td>\n",
       "      <td>As mensagens de erro devem se desculpar?</td>\n",
       "      <td>&lt;p&gt;É comum encontrar uma mensagem de erro que ...</td>\n",
       "      <td>&lt;aplicação-web&gt;&lt;gui&gt;&lt;console&gt;&lt;ux&gt;</td>\n",
       "      <td>214</td>\n",
       "      <td>5075</td>\n",
       "    </tr>\n",
       "    <tr>\n",
       "      <th>4</th>\n",
       "      <td>17501</td>\n",
       "      <td>Qual é a diferença de API, biblioteca e Framew...</td>\n",
       "      <td>&lt;p&gt;Me parecem termos muito próximos e eventual...</td>\n",
       "      <td>&lt;api&gt;&lt;framework&gt;&lt;terminologia&gt;&lt;biblioteca&gt;</td>\n",
       "      <td>193</td>\n",
       "      <td>54191</td>\n",
       "    </tr>\n",
       "  </tbody>\n",
       "</table>\n",
       "</div>"
      ],
      "text/plain": [
       "      Id                                             Título  \\\n",
       "0   2402         Como fazer hash de senhas de forma segura?   \n",
       "1   6441  Qual é a diferença entre INNER JOIN e OUTER JOIN?   \n",
       "2    579  Por que não devemos usar funções do tipo mysql_*?   \n",
       "3   2539           As mensagens de erro devem se desculpar?   \n",
       "4  17501  Qual é a diferença de API, biblioteca e Framew...   \n",
       "\n",
       "                                             Questão  \\\n",
       "0  <p>Se eu fizer o <em><a href=\"http://pt.wikipe...   \n",
       "1  <p>Qual é a diferença entre <code>INNER JOIN</...   \n",
       "2  <p>Uma dúvida muito comum é por que devemos pa...   \n",
       "3  <p>É comum encontrar uma mensagem de erro que ...   \n",
       "4  <p>Me parecem termos muito próximos e eventual...   \n",
       "\n",
       "                                         Tags  Pontuação  Visualizações  \n",
       "0     <hash><segurança><senhas><criptografia>        350          22367  \n",
       "1                                 <sql><join>        276         176953  \n",
       "2                                <php><mysql>        226           9761  \n",
       "3           <aplicação-web><gui><console><ux>        214           5075  \n",
       "4  <api><framework><terminologia><biblioteca>        193          54191  "
      ]
     },
     "execution_count": 3,
     "metadata": {},
     "output_type": "execute_result"
    }
   ],
   "source": [
    "url_portugues = 'https://raw.githubusercontent.com/alura-cursos/nlp-modelos-linguagem/master/dataset/stackoverflow_portugues.csv'\n",
    "url_espanhol = 'https://raw.githubusercontent.com/alura-cursos/nlp-modelos-linguagem/master/dataset/stackoverflow_espanhol.csv'\n",
    "url_ingles = 'https://raw.githubusercontent.com/alura-cursos/nlp-modelos-linguagem/master/dataset/stackoverflow_ingles.csv'\n",
    "\n",
    "df_portugues = pd.read_csv(url_portugues)\n",
    "df_espanhol = pd.read_csv(url_espanhol)\n",
    "df_ingles = pd.read_csv(url_ingles)\n",
    "\n",
    "df_portugues.head()"
   ]
  },
  {
   "cell_type": "code",
   "execution_count": 5,
   "id": "7d3d2b08",
   "metadata": {},
   "outputs": [
    {
     "name": "stdout",
     "output_type": "stream",
     "text": [
      "<p>Desenvolvi uma página em PHP para uso interno da empresa que trabalho e apenas pouquíssimas pessoas a utilizam. Através dessa página é possível fazer algumas consultas, inserções, alterações e remoções de dados de uma tabela em um banco de dados MySQL, porém eu acredito que meu código em PHP não está protegido contra injeção de código SQL, por exemplo:</p>\n",
      "\n",
      "<pre><code>//----CONSULTA SQL----//\n",
      "$busca = mysql_query ('insert into Produtos (coluna) values(' . $valor . ')');\n",
      "</code></pre>\n",
      "\n",
      "<p>Logo, digamos que o usuário usar a sentença: <code>1); DROP TABLE Produtos;</code> para ao campo <code>valor</code> o comando ficaria: </p>\n",
      "\n",
      "<pre><code>insert into Produtos (coluna) values(1); DROP TABLE Produtos;\n",
      "</code></pre>\n",
      "\n",
      "<p>Ele vai inserir um novo registro cujo o campo <code>coluna</code> será <code>1</code> e logo em seguida ele vai deletar a tabela Produtos.</p>\n",
      "\n",
      "<p>Como posso melhorar meu código para prevenir essa situação?</p>\n",
      "\n"
     ]
    }
   ],
   "source": [
    "print(df_portugues.Questão[5])"
   ]
  },
  {
   "cell_type": "code",
   "execution_count": 6,
   "id": "f3571427",
   "metadata": {},
   "outputs": [
    {
     "name": "stdout",
     "output_type": "stream",
     "text": [
      "Os dados em português possuem 500 observações e 6 atributos\n",
      "Os dados em ingles possuem 500 observações e 6 atributos\n",
      "Os dados em espanhol possuem 500 observações e 6 atributos\n"
     ]
    }
   ],
   "source": [
    "print(f'Os dados em português possuem {df_portugues.shape[0]} observações e {df_portugues.shape[1]} atributos')\n",
    "print(f'Os dados em ingles possuem {df_ingles.shape[0]} observações e {df_ingles.shape[1]} atributos')\n",
    "print(f'Os dados em espanhol possuem {df_espanhol.shape[0]} observações e {df_espanhol.shape[1]} atributos')"
   ]
  },
  {
   "cell_type": "code",
   "execution_count": null,
   "id": "7446ad3c",
   "metadata": {},
   "outputs": [],
   "source": []
  }
 ],
 "metadata": {
  "kernelspec": {
   "display_name": "Python 3",
   "language": "python",
   "name": "python3"
  },
  "language_info": {
   "codemirror_mode": {
    "name": "ipython",
    "version": 3
   },
   "file_extension": ".py",
   "mimetype": "text/x-python",
   "name": "python",
   "nbconvert_exporter": "python",
   "pygments_lexer": "ipython3",
   "version": "3.7.10"
  }
 },
 "nbformat": 4,
 "nbformat_minor": 5
}
