{
 "cells": [
  {
   "cell_type": "markdown",
   "id": "103cfb47",
   "metadata": {},
   "source": [
    "# NLP Introdução a regex e modelos de linguagem\n",
    "\n",
    "## Objetivos:\n",
    "* Avance nos estudos sobre Processamento de Linguagem Natural.\n",
    "* Aprenda como as regex pode ajudar no tratamento de dados textuais.\n",
    "* Entenda o que são o modelos de linguagem e suas aplicações\n",
    "* Crie um modelo que detecta idiomas modo automatizado.\n",
    "* Pratique bibliotecas python como NLTK e Scikit-Learn.\n",
    "\n",
    "link: https://cursos.alura.com.br/course/nlp-modelos-linguagem"
   ]
  },
  {
   "cell_type": "markdown",
   "id": "8a9cd4d2",
   "metadata": {},
   "source": [
    "## Importando as bibliotecas necessárias"
   ]
  },
  {
   "cell_type": "code",
   "execution_count": 57,
   "id": "89a53465",
   "metadata": {},
   "outputs": [],
   "source": [
    "import numpy as np\n",
    "import pandas as pd\n",
    "import matplotlib.pyplot as plt\n",
    "import seaborn as sns\n",
    "import re\n",
    "import nltk\n",
    "from nltk.util import bigrams\n",
    "from nltk.lm import MLE, Laplace\n",
    "from nltk.lm.preprocessing import pad_both_ends, padded_everygram_pipeline\n",
    "from sklearn.model_selection import train_test_split"
   ]
  },
  {
   "cell_type": "markdown",
   "id": "3f0c86b7",
   "metadata": {},
   "source": [
    "## Carregando os dados"
   ]
  },
  {
   "cell_type": "code",
   "execution_count": 2,
   "id": "196beecc",
   "metadata": {
    "scrolled": true
   },
   "outputs": [
    {
     "data": {
      "text/html": [
       "<div>\n",
       "<style scoped>\n",
       "    .dataframe tbody tr th:only-of-type {\n",
       "        vertical-align: middle;\n",
       "    }\n",
       "\n",
       "    .dataframe tbody tr th {\n",
       "        vertical-align: top;\n",
       "    }\n",
       "\n",
       "    .dataframe thead th {\n",
       "        text-align: right;\n",
       "    }\n",
       "</style>\n",
       "<table border=\"1\" class=\"dataframe\">\n",
       "  <thead>\n",
       "    <tr style=\"text-align: right;\">\n",
       "      <th></th>\n",
       "      <th>Id</th>\n",
       "      <th>Título</th>\n",
       "      <th>Questão</th>\n",
       "      <th>Tags</th>\n",
       "      <th>Pontuação</th>\n",
       "      <th>Visualizações</th>\n",
       "    </tr>\n",
       "  </thead>\n",
       "  <tbody>\n",
       "    <tr>\n",
       "      <th>0</th>\n",
       "      <td>2402</td>\n",
       "      <td>Como fazer hash de senhas de forma segura?</td>\n",
       "      <td>&lt;p&gt;Se eu fizer o &lt;em&gt;&lt;a href=\"http://pt.wikipe...</td>\n",
       "      <td>&lt;hash&gt;&lt;segurança&gt;&lt;senhas&gt;&lt;criptografia&gt;</td>\n",
       "      <td>350</td>\n",
       "      <td>22367</td>\n",
       "    </tr>\n",
       "    <tr>\n",
       "      <th>1</th>\n",
       "      <td>6441</td>\n",
       "      <td>Qual é a diferença entre INNER JOIN e OUTER JOIN?</td>\n",
       "      <td>&lt;p&gt;Qual é a diferença entre &lt;code&gt;INNER JOIN&lt;/...</td>\n",
       "      <td>&lt;sql&gt;&lt;join&gt;</td>\n",
       "      <td>276</td>\n",
       "      <td>176953</td>\n",
       "    </tr>\n",
       "    <tr>\n",
       "      <th>2</th>\n",
       "      <td>579</td>\n",
       "      <td>Por que não devemos usar funções do tipo mysql_*?</td>\n",
       "      <td>&lt;p&gt;Uma dúvida muito comum é por que devemos pa...</td>\n",
       "      <td>&lt;php&gt;&lt;mysql&gt;</td>\n",
       "      <td>226</td>\n",
       "      <td>9761</td>\n",
       "    </tr>\n",
       "    <tr>\n",
       "      <th>3</th>\n",
       "      <td>2539</td>\n",
       "      <td>As mensagens de erro devem se desculpar?</td>\n",
       "      <td>&lt;p&gt;É comum encontrar uma mensagem de erro que ...</td>\n",
       "      <td>&lt;aplicação-web&gt;&lt;gui&gt;&lt;console&gt;&lt;ux&gt;</td>\n",
       "      <td>214</td>\n",
       "      <td>5075</td>\n",
       "    </tr>\n",
       "    <tr>\n",
       "      <th>4</th>\n",
       "      <td>17501</td>\n",
       "      <td>Qual é a diferença de API, biblioteca e Framew...</td>\n",
       "      <td>&lt;p&gt;Me parecem termos muito próximos e eventual...</td>\n",
       "      <td>&lt;api&gt;&lt;framework&gt;&lt;terminologia&gt;&lt;biblioteca&gt;</td>\n",
       "      <td>193</td>\n",
       "      <td>54191</td>\n",
       "    </tr>\n",
       "  </tbody>\n",
       "</table>\n",
       "</div>"
      ],
      "text/plain": [
       "      Id                                             Título  \\\n",
       "0   2402         Como fazer hash de senhas de forma segura?   \n",
       "1   6441  Qual é a diferença entre INNER JOIN e OUTER JOIN?   \n",
       "2    579  Por que não devemos usar funções do tipo mysql_*?   \n",
       "3   2539           As mensagens de erro devem se desculpar?   \n",
       "4  17501  Qual é a diferença de API, biblioteca e Framew...   \n",
       "\n",
       "                                             Questão  \\\n",
       "0  <p>Se eu fizer o <em><a href=\"http://pt.wikipe...   \n",
       "1  <p>Qual é a diferença entre <code>INNER JOIN</...   \n",
       "2  <p>Uma dúvida muito comum é por que devemos pa...   \n",
       "3  <p>É comum encontrar uma mensagem de erro que ...   \n",
       "4  <p>Me parecem termos muito próximos e eventual...   \n",
       "\n",
       "                                         Tags  Pontuação  Visualizações  \n",
       "0     <hash><segurança><senhas><criptografia>        350          22367  \n",
       "1                                 <sql><join>        276         176953  \n",
       "2                                <php><mysql>        226           9761  \n",
       "3           <aplicação-web><gui><console><ux>        214           5075  \n",
       "4  <api><framework><terminologia><biblioteca>        193          54191  "
      ]
     },
     "execution_count": 2,
     "metadata": {},
     "output_type": "execute_result"
    }
   ],
   "source": [
    "url_portugues = 'https://raw.githubusercontent.com/alura-cursos/nlp-modelos-linguagem/master/dataset/stackoverflow_portugues.csv'\n",
    "url_espanhol = 'https://raw.githubusercontent.com/alura-cursos/nlp-modelos-linguagem/master/dataset/stackoverflow_espanhol.csv'\n",
    "url_ingles = 'https://raw.githubusercontent.com/alura-cursos/nlp-modelos-linguagem/master/dataset/stackoverflow_ingles.csv'\n",
    "\n",
    "df_portugues = pd.read_csv(url_portugues)\n",
    "df_espanhol = pd.read_csv(url_espanhol)\n",
    "df_ingles = pd.read_csv(url_ingles)\n",
    "\n",
    "df_portugues.head()"
   ]
  },
  {
   "cell_type": "code",
   "execution_count": 3,
   "id": "c3eef4e5",
   "metadata": {},
   "outputs": [
    {
     "name": "stdout",
     "output_type": "stream",
     "text": [
      "Os dados em português possuem 500 observações e 6 atributos\n",
      "Os dados em ingles possuem 500 observações e 6 atributos\n",
      "Os dados em espanhol possuem 500 observações e 6 atributos\n"
     ]
    }
   ],
   "source": [
    "print(f'Os dados em português possuem {df_portugues.shape[0]} observações e {df_portugues.shape[1]} atributos')\n",
    "print(f'Os dados em ingles possuem {df_ingles.shape[0]} observações e {df_ingles.shape[1]} atributos')\n",
    "print(f'Os dados em espanhol possuem {df_espanhol.shape[0]} observações e {df_espanhol.shape[1]} atributos')"
   ]
  },
  {
   "cell_type": "code",
   "execution_count": 4,
   "id": "7235a7a9",
   "metadata": {},
   "outputs": [
    {
     "name": "stdout",
     "output_type": "stream",
     "text": [
      "<p>Siempre he visto que en <code>JavaScript</code> hay:</p>\n",
      "\n",
      "<ul>\n",
      "<li>asignaciones <code>=</code></li>\n",
      "<li>comparaciones <code>==</code> y <code>===</code></li>\n",
      "</ul>\n",
      "\n",
      "<p>Creo entender que <code>==</code> hace algo parecido a comparar el valor de la variable y el <code>===</code> también compara el tipo (como un equals de java). </p>\n",
      "\n",
      "<p><strong>¿Alguien podría confirmarme este punto y extenderlo?</strong>. Soy javero y el no tipado de javascript a veces me encanta y otras lo odio.</p>\n",
      "\n",
      "<hr>\n",
      "\n",
      "<p>¿Cuál es la manera correcta en javascript de comparar <code>undefined</code>, <code>null</code> y otros valores por defecto? </p>\n",
      "\n",
      "<pre><code>variable == null\n",
      "variable === null\n",
      "</code></pre>\n",
      "\n",
      "<p>¿<strong><code>undefined</code></strong> se usa como cadena de texto o como palabra clave? ¿Cual de las siguientes comparaciones es la correcta para un elemento <code>html</code> sin <code>value</code>? (por ejemplo un label sin contenido)</p>\n",
      "\n",
      "<pre><code>variable == \"undefined\"\n",
      "variable === \"undefined\"\n",
      "variable == undefined\n",
      "variable === undefined\n",
      "</code></pre>\n",
      "\n"
     ]
    }
   ],
   "source": [
    "questao_espanhol = df_espanhol.Questão[5]\n",
    "print(questao_espanhol)"
   ]
  },
  {
   "cell_type": "code",
   "execution_count": 5,
   "id": "edf14ff6",
   "metadata": {},
   "outputs": [
    {
     "name": "stdout",
     "output_type": "stream",
     "text": [
      "<p>What is the use of the <code>yield</code> keyword in Python? What does it do?</p>\n",
      "\n",
      "<p>For example, I'm trying to understand this code<sup><strong>1</strong></sup>:</p>\n",
      "\n",
      "<pre><code>def _get_child_candidates(self, distance, min_dist, max_dist):\n",
      "    if self._leftchild and distance - max_dist &lt; self._median:\n",
      "        yield self._leftchild\n",
      "    if self._rightchild and distance + max_dist &gt;= self._median:\n",
      "        yield self._rightchild  \n",
      "</code></pre>\n",
      "\n",
      "<p>And this is the caller:</p>\n",
      "\n",
      "<pre><code>result, candidates = [], [self]\n",
      "while candidates:\n",
      "    node = candidates.pop()\n",
      "    distance = node._get_dist(obj)\n",
      "    if distance &lt;= max_dist and distance &gt;= min_dist:\n",
      "        result.extend(node._values)\n",
      "    candidates.extend(node._get_child_candidates(distance, min_dist, max_dist))\n",
      "return result\n",
      "</code></pre>\n",
      "\n",
      "<p>What happens when the method <code>_get_child_candidates</code> is called?\n",
      "Is a list returned? A single element? Is it called again? When will subsequent calls stop?</p>\n",
      "\n",
      "<hr>\n",
      "\n",
      "<p><sub>\n",
      "1. This piece of code was written by Jochen Schulz (jrschulz), who made a great Python library for metric spaces. This is the link to the complete source: <a href=\"http://well-adjusted.de/~jrschulz/mspace/\" rel=\"noreferrer\">Module mspace</a>.</sub></p>\n",
      "\n"
     ]
    }
   ],
   "source": [
    "questao_ingles = df_ingles.Questão[5]\n",
    "print(questao_ingles)"
   ]
  },
  {
   "cell_type": "code",
   "execution_count": 6,
   "id": "7d3d2b08",
   "metadata": {},
   "outputs": [
    {
     "name": "stdout",
     "output_type": "stream",
     "text": [
      "<p>Desenvolvi uma página em PHP para uso interno da empresa que trabalho e apenas pouquíssimas pessoas a utilizam. Através dessa página é possível fazer algumas consultas, inserções, alterações e remoções de dados de uma tabela em um banco de dados MySQL, porém eu acredito que meu código em PHP não está protegido contra injeção de código SQL, por exemplo:</p>\n",
      "\n",
      "<pre><code>//----CONSULTA SQL----//\n",
      "$busca = mysql_query ('insert into Produtos (coluna) values(' . $valor . ')');\n",
      "</code></pre>\n",
      "\n",
      "<p>Logo, digamos que o usuário usar a sentença: <code>1); DROP TABLE Produtos;</code> para ao campo <code>valor</code> o comando ficaria: </p>\n",
      "\n",
      "<pre><code>insert into Produtos (coluna) values(1); DROP TABLE Produtos;\n",
      "</code></pre>\n",
      "\n",
      "<p>Ele vai inserir um novo registro cujo o campo <code>coluna</code> será <code>1</code> e logo em seguida ele vai deletar a tabela Produtos.</p>\n",
      "\n",
      "<p>Como posso melhorar meu código para prevenir essa situação?</p>\n",
      "\n"
     ]
    }
   ],
   "source": [
    "questao_portugues = df_portugues.Questão[5]\n",
    "print(questao_portugues)"
   ]
  },
  {
   "cell_type": "code",
   "execution_count": 7,
   "id": "7446ad3c",
   "metadata": {},
   "outputs": [
    {
     "data": {
      "text/plain": [
       "['<p>',\n",
       " '</p>',\n",
       " '<pre>',\n",
       " '<code>',\n",
       " '</code>',\n",
       " '</pre>',\n",
       " '<p>',\n",
       " '<code>',\n",
       " '</code>',\n",
       " '<code>',\n",
       " '</code>',\n",
       " '</p>',\n",
       " '<pre>',\n",
       " '<code>',\n",
       " '</code>',\n",
       " '</pre>',\n",
       " '<p>',\n",
       " '<code>',\n",
       " '</code>',\n",
       " '<code>',\n",
       " '</code>',\n",
       " '</p>',\n",
       " '<p>',\n",
       " '</p>']"
      ]
     },
     "execution_count": 7,
     "metadata": {},
     "output_type": "execute_result"
    }
   ],
   "source": [
    "re.findall(r'<.*?>', df_portugues.Questão[5])"
   ]
  },
  {
   "cell_type": "code",
   "execution_count": 8,
   "id": "2d55ac7f",
   "metadata": {},
   "outputs": [
    {
     "name": "stdout",
     "output_type": "stream",
     "text": [
      "T---E----S---T---EDesenvolvi uma página em PHP para uso interno da empresa que trabalho e apenas pouquíssimas pessoas a utilizam. Através dessa página é possível fazer algumas consultas, inserções, alterações e remoções de dados de uma tabela em um banco de dados MySQL, porém eu acredito que meu código em PHP não está protegido contra injeção de código SQL, por exemplo:T---E----S---T---E\n",
      "\n",
      "T---E----S---T---ET---E----S---T---E//----CONSULTA SQL----//\n",
      "$busca = mysql_query ('insert into Produtos (coluna) values(' . $valor . ')');\n",
      "T---E----S---T---ET---E----S---T---E\n",
      "\n",
      "T---E----S---T---ELogo, digamos que o usuário usar a sentença: T---E----S---T---E1); DROP TABLE Produtos;T---E----S---T---E para ao campo T---E----S---T---EvalorT---E----S---T---E o comando ficaria: T---E----S---T---E\n",
      "\n",
      "T---E----S---T---ET---E----S---T---Einsert into Produtos (coluna) values(1); DROP TABLE Produtos;\n",
      "T---E----S---T---ET---E----S---T---E\n",
      "\n",
      "T---E----S---T---EEle vai inserir um novo registro cujo o campo T---E----S---T---EcolunaT---E----S---T---E será T---E----S---T---E1T---E----S---T---E e logo em seguida ele vai deletar a tabela Produtos.T---E----S---T---E\n",
      "\n",
      "T---E----S---T---EComo posso melhorar meu código para prevenir essa situação?T---E----S---T---E\n",
      "\n"
     ]
    }
   ],
   "source": [
    "texto_teste = re.sub(r'<.*?>', 'T---E----S---T---E', questao_portugues)\n",
    "print(texto_teste)"
   ]
  },
  {
   "cell_type": "code",
   "execution_count": 9,
   "id": "99a9e0ab",
   "metadata": {},
   "outputs": [
    {
     "data": {
      "text/plain": [
       "<re.Match object; span=(23, 25), match='70'>"
      ]
     },
     "execution_count": 9,
     "metadata": {},
     "output_type": "execute_result"
    }
   ],
   "source": [
    "re.search(r'70', '51154414848784898788578705585545')"
   ]
  },
  {
   "cell_type": "code",
   "execution_count": 10,
   "id": "957d186c",
   "metadata": {},
   "outputs": [],
   "source": [
    "regex = re.compile(r'70')"
   ]
  },
  {
   "cell_type": "code",
   "execution_count": 11,
   "id": "864598f0",
   "metadata": {},
   "outputs": [
    {
     "data": {
      "text/plain": [
       "<re.Match object; span=(23, 25), match='70'>"
      ]
     },
     "execution_count": 11,
     "metadata": {},
     "output_type": "execute_result"
    }
   ],
   "source": [
    "regex.search('51154414848784898788578705585545')"
   ]
  },
  {
   "cell_type": "code",
   "execution_count": 12,
   "id": "2c455784",
   "metadata": {},
   "outputs": [],
   "source": [
    "from timeit import timeit"
   ]
  },
  {
   "cell_type": "code",
   "execution_count": 13,
   "id": "d74c9d68",
   "metadata": {},
   "outputs": [
    {
     "data": {
      "text/plain": [
       "1.109464000000001"
      ]
     },
     "execution_count": 13,
     "metadata": {},
     "output_type": "execute_result"
    }
   ],
   "source": [
    "setup = \"\"\"import re\"\"\"\n",
    "timeit(\"\"\"re.search(r'70', '51154414848784898788578705585545')\"\"\", setup)"
   ]
  },
  {
   "cell_type": "code",
   "execution_count": 14,
   "id": "e58e5c99",
   "metadata": {},
   "outputs": [
    {
     "data": {
      "text/plain": [
       "0.2936829000000003"
      ]
     },
     "execution_count": 14,
     "metadata": {},
     "output_type": "execute_result"
    }
   ],
   "source": [
    "setup = \"\"\"import re\n",
    "regex = re.compile(r'70')\"\"\" \n",
    "timeit('''regex.search('51154414848784898788578705585545')''', setup)\n"
   ]
  },
  {
   "cell_type": "code",
   "execution_count": 15,
   "id": "f82c0a63",
   "metadata": {},
   "outputs": [],
   "source": [
    "def remover(textos, regex):\n",
    "    if type(textos) == str:\n",
    "        return regex.sub(\"\", textos)\n",
    "    else:\n",
    "        return [regex.sub(\"\", texto) for texto in textos]"
   ]
  },
  {
   "cell_type": "code",
   "execution_count": 16,
   "id": "27c8c217",
   "metadata": {},
   "outputs": [
    {
     "name": "stdout",
     "output_type": "stream",
     "text": [
      "Siempre he visto que en JavaScript hay:\n",
      "\n",
      "\n",
      "asignaciones =\n",
      "comparaciones == y ===\n",
      "\n",
      "\n",
      "Creo entender que == hace algo parecido a comparar el valor de la variable y el === también compara el tipo (como un equals de java). \n",
      "\n",
      "¿Alguien podría confirmarme este punto y extenderlo?. Soy javero y el no tipado de javascript a veces me encanta y otras lo odio.\n",
      "\n",
      "\n",
      "\n",
      "¿Cuál es la manera correcta en javascript de comparar undefined, null y otros valores por defecto? \n",
      "\n",
      "variable == null\n",
      "variable === null\n",
      "\n",
      "\n",
      "¿undefined se usa como cadena de texto o como palabra clave? ¿Cual de las siguientes comparaciones es la correcta para un elemento html sin value? (por ejemplo un label sin contenido)\n",
      "\n",
      "variable == \"undefined\"\n",
      "variable === \"undefined\"\n",
      "variable == undefined\n",
      "variable === undefined\n",
      "\n",
      "\n"
     ]
    }
   ],
   "source": [
    "regex_html = re.compile(r'<.*?>')\n",
    "questao_sem_tag = remover(questao_espanhol, regex_html)\n",
    "print(questao_sem_tag)"
   ]
  },
  {
   "cell_type": "code",
   "execution_count": 17,
   "id": "69359909",
   "metadata": {},
   "outputs": [],
   "source": [
    "def substituir_codigo(textos, regex):\n",
    "    if type(textos) == str:\n",
    "        return regex.sub(\"CODE\", textos)\n",
    "    else:\n",
    "        return [regex.sub(\"CODE\", texto) for texto in textos]"
   ]
  },
  {
   "cell_type": "code",
   "execution_count": 18,
   "id": "2944353a",
   "metadata": {},
   "outputs": [
    {
     "name": "stdout",
     "output_type": "stream",
     "text": [
      "<p>What is the use of the CODE keyword in Python? What does it do?</p>\n",
      "\n",
      "<p>For example, I'm trying to understand this code<sup><strong>1</strong></sup>:</p>\n",
      "\n",
      "<pre>CODE</pre>\n",
      "\n",
      "<p>And this is the caller:</p>\n",
      "\n",
      "<pre>CODE</pre>\n",
      "\n",
      "<p>What happens when the method CODE is called?\n",
      "Is a list returned? A single element? Is it called again? When will subsequent calls stop?</p>\n",
      "\n",
      "<hr>\n",
      "\n",
      "<p><sub>\n",
      "1. This piece of code was written by Jochen Schulz (jrschulz), who made a great Python library for metric spaces. This is the link to the complete source: <a href=\"http://well-adjusted.de/~jrschulz/mspace/\" rel=\"noreferrer\">Module mspace</a>.</sub></p>\n",
      "\n"
     ]
    }
   ],
   "source": [
    "regex_codigo = re.compile(r'<code>(.|(\\n))*?</code>')\n",
    "questao_sem_codigo = substituir_codigo(questao_ingles, regex_codigo)\n",
    "print(questao_sem_codigo)"
   ]
  },
  {
   "cell_type": "code",
   "execution_count": 19,
   "id": "dc0f6ff1",
   "metadata": {},
   "outputs": [
    {
     "data": {
      "text/html": [
       "<div>\n",
       "<style scoped>\n",
       "    .dataframe tbody tr th:only-of-type {\n",
       "        vertical-align: middle;\n",
       "    }\n",
       "\n",
       "    .dataframe tbody tr th {\n",
       "        vertical-align: top;\n",
       "    }\n",
       "\n",
       "    .dataframe thead th {\n",
       "        text-align: right;\n",
       "    }\n",
       "</style>\n",
       "<table border=\"1\" class=\"dataframe\">\n",
       "  <thead>\n",
       "    <tr style=\"text-align: right;\">\n",
       "      <th></th>\n",
       "      <th>Id</th>\n",
       "      <th>Título</th>\n",
       "      <th>Questão</th>\n",
       "      <th>Tags</th>\n",
       "      <th>Pontuação</th>\n",
       "      <th>Visualizações</th>\n",
       "      <th>sem_code_tag</th>\n",
       "    </tr>\n",
       "  </thead>\n",
       "  <tbody>\n",
       "    <tr>\n",
       "      <th>0</th>\n",
       "      <td>2402</td>\n",
       "      <td>Como fazer hash de senhas de forma segura?</td>\n",
       "      <td>&lt;p&gt;Se eu fizer o &lt;em&gt;&lt;a href=\"http://pt.wikipe...</td>\n",
       "      <td>&lt;hash&gt;&lt;segurança&gt;&lt;senhas&gt;&lt;criptografia&gt;</td>\n",
       "      <td>350</td>\n",
       "      <td>22367</td>\n",
       "      <td>Se eu fizer o hash de senhas antes de armazená...</td>\n",
       "    </tr>\n",
       "    <tr>\n",
       "      <th>1</th>\n",
       "      <td>6441</td>\n",
       "      <td>Qual é a diferença entre INNER JOIN e OUTER JOIN?</td>\n",
       "      <td>&lt;p&gt;Qual é a diferença entre &lt;code&gt;INNER JOIN&lt;/...</td>\n",
       "      <td>&lt;sql&gt;&lt;join&gt;</td>\n",
       "      <td>276</td>\n",
       "      <td>176953</td>\n",
       "      <td>Qual é a diferença entre CODE e CODE? Podem me...</td>\n",
       "    </tr>\n",
       "    <tr>\n",
       "      <th>2</th>\n",
       "      <td>579</td>\n",
       "      <td>Por que não devemos usar funções do tipo mysql_*?</td>\n",
       "      <td>&lt;p&gt;Uma dúvida muito comum é por que devemos pa...</td>\n",
       "      <td>&lt;php&gt;&lt;mysql&gt;</td>\n",
       "      <td>226</td>\n",
       "      <td>9761</td>\n",
       "      <td>Uma dúvida muito comum é por que devemos parar...</td>\n",
       "    </tr>\n",
       "    <tr>\n",
       "      <th>3</th>\n",
       "      <td>2539</td>\n",
       "      <td>As mensagens de erro devem se desculpar?</td>\n",
       "      <td>&lt;p&gt;É comum encontrar uma mensagem de erro que ...</td>\n",
       "      <td>&lt;aplicação-web&gt;&lt;gui&gt;&lt;console&gt;&lt;ux&gt;</td>\n",
       "      <td>214</td>\n",
       "      <td>5075</td>\n",
       "      <td>É comum encontrar uma mensagem de erro que diz...</td>\n",
       "    </tr>\n",
       "    <tr>\n",
       "      <th>4</th>\n",
       "      <td>17501</td>\n",
       "      <td>Qual é a diferença de API, biblioteca e Framew...</td>\n",
       "      <td>&lt;p&gt;Me parecem termos muito próximos e eventual...</td>\n",
       "      <td>&lt;api&gt;&lt;framework&gt;&lt;terminologia&gt;&lt;biblioteca&gt;</td>\n",
       "      <td>193</td>\n",
       "      <td>54191</td>\n",
       "      <td>Me parecem termos muito próximos e eventualmen...</td>\n",
       "    </tr>\n",
       "  </tbody>\n",
       "</table>\n",
       "</div>"
      ],
      "text/plain": [
       "      Id                                             Título  \\\n",
       "0   2402         Como fazer hash de senhas de forma segura?   \n",
       "1   6441  Qual é a diferença entre INNER JOIN e OUTER JOIN?   \n",
       "2    579  Por que não devemos usar funções do tipo mysql_*?   \n",
       "3   2539           As mensagens de erro devem se desculpar?   \n",
       "4  17501  Qual é a diferença de API, biblioteca e Framew...   \n",
       "\n",
       "                                             Questão  \\\n",
       "0  <p>Se eu fizer o <em><a href=\"http://pt.wikipe...   \n",
       "1  <p>Qual é a diferença entre <code>INNER JOIN</...   \n",
       "2  <p>Uma dúvida muito comum é por que devemos pa...   \n",
       "3  <p>É comum encontrar uma mensagem de erro que ...   \n",
       "4  <p>Me parecem termos muito próximos e eventual...   \n",
       "\n",
       "                                         Tags  Pontuação  Visualizações  \\\n",
       "0     <hash><segurança><senhas><criptografia>        350          22367   \n",
       "1                                 <sql><join>        276         176953   \n",
       "2                                <php><mysql>        226           9761   \n",
       "3           <aplicação-web><gui><console><ux>        214           5075   \n",
       "4  <api><framework><terminologia><biblioteca>        193          54191   \n",
       "\n",
       "                                        sem_code_tag  \n",
       "0  Se eu fizer o hash de senhas antes de armazená...  \n",
       "1  Qual é a diferença entre CODE e CODE? Podem me...  \n",
       "2  Uma dúvida muito comum é por que devemos parar...  \n",
       "3  É comum encontrar uma mensagem de erro que diz...  \n",
       "4  Me parecem termos muito próximos e eventualmen...  "
      ]
     },
     "execution_count": 19,
     "metadata": {},
     "output_type": "execute_result"
    }
   ],
   "source": [
    "questoes_port_sem_code = substituir_codigo(df_portugues.Questão, regex_codigo)\n",
    "questoes_port_sem_code_tag = remover(questoes_port_sem_code, regex_html)\n",
    "\n",
    "df_portugues['sem_code_tag'] = questoes_port_sem_code_tag\n",
    "df_portugues.head()"
   ]
  },
  {
   "cell_type": "code",
   "execution_count": 20,
   "id": "71f0cad4",
   "metadata": {},
   "outputs": [
    {
     "data": {
      "text/html": [
       "<div>\n",
       "<style scoped>\n",
       "    .dataframe tbody tr th:only-of-type {\n",
       "        vertical-align: middle;\n",
       "    }\n",
       "\n",
       "    .dataframe tbody tr th {\n",
       "        vertical-align: top;\n",
       "    }\n",
       "\n",
       "    .dataframe thead th {\n",
       "        text-align: right;\n",
       "    }\n",
       "</style>\n",
       "<table border=\"1\" class=\"dataframe\">\n",
       "  <thead>\n",
       "    <tr style=\"text-align: right;\">\n",
       "      <th></th>\n",
       "      <th>Id</th>\n",
       "      <th>Título</th>\n",
       "      <th>Questão</th>\n",
       "      <th>Tags</th>\n",
       "      <th>Pontuação</th>\n",
       "      <th>Visualizações</th>\n",
       "      <th>sem_code_tag</th>\n",
       "    </tr>\n",
       "  </thead>\n",
       "  <tbody>\n",
       "    <tr>\n",
       "      <th>0</th>\n",
       "      <td>11227809</td>\n",
       "      <td>Why is it faster to process a sorted array tha...</td>\n",
       "      <td>&lt;p&gt;Here is a piece of C++ code that seems very...</td>\n",
       "      <td>&lt;java&gt;&lt;c++&gt;&lt;performance&gt;&lt;optimization&gt;&lt;branch-...</td>\n",
       "      <td>23057</td>\n",
       "      <td>1358574</td>\n",
       "      <td>Here is a piece of C++ code that seems very pe...</td>\n",
       "    </tr>\n",
       "    <tr>\n",
       "      <th>1</th>\n",
       "      <td>927358</td>\n",
       "      <td>How do I undo the most recent local commits in...</td>\n",
       "      <td>&lt;p&gt;I accidentally committed the wrong files to...</td>\n",
       "      <td>&lt;git&gt;&lt;version-control&gt;&lt;git-commit&gt;&lt;undo&gt;</td>\n",
       "      <td>19640</td>\n",
       "      <td>7906137</td>\n",
       "      <td>I accidentally committed the wrong files to Gi...</td>\n",
       "    </tr>\n",
       "    <tr>\n",
       "      <th>2</th>\n",
       "      <td>2003505</td>\n",
       "      <td>How do I delete a Git branch locally and remot...</td>\n",
       "      <td>&lt;p&gt;I want to delete a branch both locally and ...</td>\n",
       "      <td>&lt;git&gt;&lt;git-branch&gt;&lt;git-remote&gt;</td>\n",
       "      <td>15249</td>\n",
       "      <td>6940906</td>\n",
       "      <td>I want to delete a branch both locally and rem...</td>\n",
       "    </tr>\n",
       "    <tr>\n",
       "      <th>3</th>\n",
       "      <td>292357</td>\n",
       "      <td>What is the difference between 'git pull' and ...</td>\n",
       "      <td>&lt;blockquote&gt;\\n  &lt;p&gt;&lt;strong&gt;Moderator Note:&lt;/st...</td>\n",
       "      <td>&lt;git&gt;&lt;git-pull&gt;&lt;git-fetch&gt;</td>\n",
       "      <td>11008</td>\n",
       "      <td>2543052</td>\n",
       "      <td>\\n  Moderator Note: Given that this question h...</td>\n",
       "    </tr>\n",
       "    <tr>\n",
       "      <th>4</th>\n",
       "      <td>477816</td>\n",
       "      <td>What is the correct JSON content type?</td>\n",
       "      <td>&lt;p&gt;I've been messing around with &lt;a href=\"http...</td>\n",
       "      <td>&lt;json&gt;&lt;http-headers&gt;&lt;content-type&gt;</td>\n",
       "      <td>9701</td>\n",
       "      <td>2478940</td>\n",
       "      <td>I've been messing around with JSON for some ti...</td>\n",
       "    </tr>\n",
       "  </tbody>\n",
       "</table>\n",
       "</div>"
      ],
      "text/plain": [
       "         Id                                             Título  \\\n",
       "0  11227809  Why is it faster to process a sorted array tha...   \n",
       "1    927358  How do I undo the most recent local commits in...   \n",
       "2   2003505  How do I delete a Git branch locally and remot...   \n",
       "3    292357  What is the difference between 'git pull' and ...   \n",
       "4    477816             What is the correct JSON content type?   \n",
       "\n",
       "                                             Questão  \\\n",
       "0  <p>Here is a piece of C++ code that seems very...   \n",
       "1  <p>I accidentally committed the wrong files to...   \n",
       "2  <p>I want to delete a branch both locally and ...   \n",
       "3  <blockquote>\\n  <p><strong>Moderator Note:</st...   \n",
       "4  <p>I've been messing around with <a href=\"http...   \n",
       "\n",
       "                                                Tags  Pontuação  \\\n",
       "0  <java><c++><performance><optimization><branch-...      23057   \n",
       "1           <git><version-control><git-commit><undo>      19640   \n",
       "2                      <git><git-branch><git-remote>      15249   \n",
       "3                         <git><git-pull><git-fetch>      11008   \n",
       "4                 <json><http-headers><content-type>       9701   \n",
       "\n",
       "   Visualizações                                       sem_code_tag  \n",
       "0        1358574  Here is a piece of C++ code that seems very pe...  \n",
       "1        7906137  I accidentally committed the wrong files to Gi...  \n",
       "2        6940906  I want to delete a branch both locally and rem...  \n",
       "3        2543052  \\n  Moderator Note: Given that this question h...  \n",
       "4        2478940  I've been messing around with JSON for some ti...  "
      ]
     },
     "execution_count": 20,
     "metadata": {},
     "output_type": "execute_result"
    }
   ],
   "source": [
    "questoes_ingles_sem_code = substituir_codigo(df_ingles.Questão, regex_codigo)\n",
    "questoes_ingles_sem_code_tag = remover(questoes_ingles_sem_code, regex_html)\n",
    "\n",
    "df_ingles['sem_code_tag'] = questoes_ingles_sem_code_tag\n",
    "df_ingles.head()"
   ]
  },
  {
   "cell_type": "code",
   "execution_count": 21,
   "id": "f5cc3993",
   "metadata": {},
   "outputs": [
    {
     "data": {
      "text/html": [
       "<div>\n",
       "<style scoped>\n",
       "    .dataframe tbody tr th:only-of-type {\n",
       "        vertical-align: middle;\n",
       "    }\n",
       "\n",
       "    .dataframe tbody tr th {\n",
       "        vertical-align: top;\n",
       "    }\n",
       "\n",
       "    .dataframe thead th {\n",
       "        text-align: right;\n",
       "    }\n",
       "</style>\n",
       "<table border=\"1\" class=\"dataframe\">\n",
       "  <thead>\n",
       "    <tr style=\"text-align: right;\">\n",
       "      <th></th>\n",
       "      <th>Id</th>\n",
       "      <th>Título</th>\n",
       "      <th>Questão</th>\n",
       "      <th>Tags</th>\n",
       "      <th>Pontuação</th>\n",
       "      <th>Visualizações</th>\n",
       "      <th>sem_code_tag</th>\n",
       "    </tr>\n",
       "  </thead>\n",
       "  <tbody>\n",
       "    <tr>\n",
       "      <th>0</th>\n",
       "      <td>18232</td>\n",
       "      <td>¿Cómo evitar la inyección SQL en PHP?</td>\n",
       "      <td>&lt;p&gt;Las sentencias dinámicas son sentencias SQL...</td>\n",
       "      <td>&lt;php&gt;&lt;mysql&gt;&lt;sql&gt;&lt;seguridad&gt;&lt;inyección-sql&gt;</td>\n",
       "      <td>169</td>\n",
       "      <td>38614</td>\n",
       "      <td>Las sentencias dinámicas son sentencias SQL qu...</td>\n",
       "    </tr>\n",
       "    <tr>\n",
       "      <th>1</th>\n",
       "      <td>197</td>\n",
       "      <td>¿Por qué mis programas no pueden hacer cálculo...</td>\n",
       "      <td>&lt;p&gt;Unas veces los cálculos funcionan correctam...</td>\n",
       "      <td>&lt;matemáticas&gt;&lt;coma-flotante&gt;&lt;lenguaje-agnóstico&gt;</td>\n",
       "      <td>141</td>\n",
       "      <td>3860</td>\n",
       "      <td>Unas veces los cálculos funcionan correctament...</td>\n",
       "    </tr>\n",
       "    <tr>\n",
       "      <th>2</th>\n",
       "      <td>36</td>\n",
       "      <td>¿Cuál es la diferencia entre un inner y un out...</td>\n",
       "      <td>&lt;p&gt;¿Cuál es la diferencia entre un &lt;code&gt;inner...</td>\n",
       "      <td>&lt;mysql&gt;&lt;sql&gt;&lt;join&gt;</td>\n",
       "      <td>97</td>\n",
       "      <td>53627</td>\n",
       "      <td>¿Cuál es la diferencia entre un CODE y un CODE...</td>\n",
       "    </tr>\n",
       "    <tr>\n",
       "      <th>3</th>\n",
       "      <td>29177</td>\n",
       "      <td>¿Por qué es considerado una mala práctica util...</td>\n",
       "      <td>&lt;p&gt;La mayoría de nosotros decimos, (muchas vec...</td>\n",
       "      <td>&lt;variables&gt;&lt;variables-globales&gt;&lt;patrones-de-di...</td>\n",
       "      <td>89</td>\n",
       "      <td>9987</td>\n",
       "      <td>La mayoría de nosotros decimos, (muchas veces ...</td>\n",
       "    </tr>\n",
       "    <tr>\n",
       "      <th>4</th>\n",
       "      <td>142</td>\n",
       "      <td>Validar un email en JavaScript que acepte todo...</td>\n",
       "      <td>&lt;h3&gt;Pregunta&lt;/h3&gt;\\n\\n&lt;p&gt;¿Cómo validar un e-mai...</td>\n",
       "      <td>&lt;javascript&gt;&lt;validación&gt;&lt;email&gt;&lt;regex&gt;</td>\n",
       "      <td>87</td>\n",
       "      <td>73129</td>\n",
       "      <td>Pregunta\\n\\n¿Cómo validar un e-mail que acepte...</td>\n",
       "    </tr>\n",
       "  </tbody>\n",
       "</table>\n",
       "</div>"
      ],
      "text/plain": [
       "      Id                                             Título  \\\n",
       "0  18232              ¿Cómo evitar la inyección SQL en PHP?   \n",
       "1    197  ¿Por qué mis programas no pueden hacer cálculo...   \n",
       "2     36  ¿Cuál es la diferencia entre un inner y un out...   \n",
       "3  29177  ¿Por qué es considerado una mala práctica util...   \n",
       "4    142  Validar un email en JavaScript que acepte todo...   \n",
       "\n",
       "                                             Questão  \\\n",
       "0  <p>Las sentencias dinámicas son sentencias SQL...   \n",
       "1  <p>Unas veces los cálculos funcionan correctam...   \n",
       "2  <p>¿Cuál es la diferencia entre un <code>inner...   \n",
       "3  <p>La mayoría de nosotros decimos, (muchas vec...   \n",
       "4  <h3>Pregunta</h3>\\n\\n<p>¿Cómo validar un e-mai...   \n",
       "\n",
       "                                                Tags  Pontuação  \\\n",
       "0        <php><mysql><sql><seguridad><inyección-sql>        169   \n",
       "1   <matemáticas><coma-flotante><lenguaje-agnóstico>        141   \n",
       "2                                 <mysql><sql><join>         97   \n",
       "3  <variables><variables-globales><patrones-de-di...         89   \n",
       "4             <javascript><validación><email><regex>         87   \n",
       "\n",
       "   Visualizações                                       sem_code_tag  \n",
       "0          38614  Las sentencias dinámicas son sentencias SQL qu...  \n",
       "1           3860  Unas veces los cálculos funcionan correctament...  \n",
       "2          53627  ¿Cuál es la diferencia entre un CODE y un CODE...  \n",
       "3           9987  La mayoría de nosotros decimos, (muchas veces ...  \n",
       "4          73129  Pregunta\\n\\n¿Cómo validar un e-mail que acepte...  "
      ]
     },
     "execution_count": 21,
     "metadata": {},
     "output_type": "execute_result"
    }
   ],
   "source": [
    "questoes_espanhol_sem_code = substituir_codigo(df_espanhol.Questão, regex_codigo)\n",
    "questoes_espanhol_sem_code_tag = remover(questoes_espanhol_sem_code, regex_html)\n",
    "\n",
    "df_espanhol['sem_code_tag'] = questoes_espanhol_sem_code_tag\n",
    "df_espanhol.head()"
   ]
  },
  {
   "cell_type": "code",
   "execution_count": 22,
   "id": "72c93932",
   "metadata": {},
   "outputs": [
    {
     "name": "stdout",
     "output_type": "stream",
     "text": [
      "Here is a piece of C code that seems very peculiar For some strange reason sorting the data miraculously makes the code almost six times faster\n",
      "\n",
      "CODE\n",
      "\n",
      "\n",
      "Without CODE the code runs in 1154 seconds\n",
      "With the sorted data the code runs in 193 seconds\n",
      "\n",
      "\n",
      "Initially I thought this might be just a language or compiler anomaly So I tried it in Java\n",
      "\n",
      "CODE\n",
      "\n",
      "With a somewhat similar but less extreme result\n",
      "\n",
      "\n",
      "\n",
      "My first thought was that sorting brings the data into the cache but then I thought how silly that is because the array was just generated\n",
      "\n",
      "\n",
      "What is going on\n",
      "Why is it faster to process a sorted array than an unsorted array\n",
      "The code is summing up some independent terms and the order should not matter\n",
      "\n",
      "\n"
     ]
    }
   ],
   "source": [
    "regex_pontuacao = re.compile(r'[^ \\w\\s]')\n",
    "print(remover(questoes_ingles_sem_code_tag[0], regex_pontuacao))"
   ]
  },
  {
   "cell_type": "code",
   "execution_count": 23,
   "id": "6c7786d3",
   "metadata": {},
   "outputs": [
    {
     "name": "stdout",
     "output_type": "stream",
     "text": [
      "pLas sentencias dinámicas son sentencias SQL que se crean como cadenas de texto strings y en las que se insertanconcatenan valores obtenidos de alguna fuente normalmente proveniente del usuario lo que puede hacer que sean vulnerables a inyección SQL si no se sanean las entradas como por ejemplop\n",
      "\n",
      "preCODEpre\n",
      "\n",
      "pEso es un ejemplo de una vulnerabilidad grave en la seguridad de una aplicación web o no porque si el usuario introdujese un valor como CODE nos encontraríamos con que la sentencia ejecutada seríap\n",
      "\n",
      "preCODEpre\n",
      "\n",
      "pY se eliminaría la tabla Usuarios con todos los datos contenidos en ella p\n",
      "\n",
      "pstrongCómo puedo evitar que la inyección SQL ocurra en PHPstrongp\n",
      "\n"
     ]
    }
   ],
   "source": [
    "print(remover(questoes_espanhol_sem_code[0], regex_pontuacao))"
   ]
  },
  {
   "cell_type": "code",
   "execution_count": 24,
   "id": "c1dac31b",
   "metadata": {},
   "outputs": [],
   "source": [
    "def minusculo(textos):\n",
    "    if type(textos) == str:\n",
    "        return textos.lower()\n",
    "    else:\n",
    "        return [texto.lower() for texto in textos]"
   ]
  },
  {
   "cell_type": "code",
   "execution_count": 25,
   "id": "841658c6",
   "metadata": {},
   "outputs": [
    {
     "name": "stdout",
     "output_type": "stream",
     "text": [
      "las sentencias dinámicas son sentencias sql que se crean como cadenas de texto (strings) y en las que se insertan/concatenan valores obtenidos de alguna fuente (normalmente proveniente del usuario), lo que puede hacer que sean vulnerables a inyección sql si no se sanean las entradas, como por ejemplo:\n",
      "\n",
      "code\n",
      "\n",
      "eso es un ejemplo de una vulnerabilidad grave en la seguridad de una aplicación (web o no) porque si el usuario introdujese un valor como code nos encontraríamos con que la sentencia ejecutada sería:\n",
      "\n",
      "code\n",
      "\n",
      "y se eliminaría la tabla usuarios con todos los datos contenidos en ella. \n",
      "\n",
      "¿cómo puedo evitar que la inyección sql ocurra en php?\n",
      "\n"
     ]
    }
   ],
   "source": [
    "print(minusculo(questoes_espanhol_sem_code_tag[0]))"
   ]
  },
  {
   "cell_type": "code",
   "execution_count": 26,
   "id": "8d04b2d4",
   "metadata": {},
   "outputs": [
    {
     "name": "stdout",
     "output_type": "stream",
     "text": [
      "Alura  Caleum \n"
     ]
    }
   ],
   "source": [
    "regex_digitos = re.compile(r'\\d+')\n",
    "print(remover('Alura 1234 Caleum 1234566345', regex_digitos))"
   ]
  },
  {
   "cell_type": "code",
   "execution_count": 27,
   "id": "a4041917",
   "metadata": {},
   "outputs": [],
   "source": [
    "regex_espaco = re.compile(r' +')\n",
    "regex_quebra_linha = re.compile(r'\\n')\n",
    "\n",
    "def substituir_por_espaco(textos, regex):\n",
    "    if type(textos) == str:\n",
    "        return regex.sub(\" \", textos)\n",
    "    else:\n",
    "        return [regex.sub(\" \", texto) for texto in textos]"
   ]
  },
  {
   "cell_type": "code",
   "execution_count": 28,
   "id": "cf014509",
   "metadata": {},
   "outputs": [
    {
     "name": "stdout",
     "output_type": "stream",
     "text": [
      "Alura \n",
      " Caelum \n"
     ]
    }
   ],
   "source": [
    "print(substituir_por_espaco('Alura      \\n    Caelum        ', regex_espaco))"
   ]
  },
  {
   "cell_type": "code",
   "execution_count": 29,
   "id": "322f5c74",
   "metadata": {
    "scrolled": true
   },
   "outputs": [
    {
     "name": "stdout",
     "output_type": "stream",
     "text": [
      "Alura           Caelum        \n"
     ]
    }
   ],
   "source": [
    "print(substituir_por_espaco('Alura      \\n    Caelum        ', regex_quebra_linha))"
   ]
  },
  {
   "cell_type": "markdown",
   "id": "d8826fee",
   "metadata": {},
   "source": [
    "### Tratamento final nas questões\n",
    "* Eliminando pontuação, \n",
    "* Convertendo todas as letras em minusculas,\n",
    "* Removendo digitos\n",
    "* Removendo quebra de linha\n",
    "* Removendo espaços duplicados\n"
   ]
  },
  {
   "cell_type": "code",
   "execution_count": 30,
   "id": "198b1d7d",
   "metadata": {},
   "outputs": [
    {
     "data": {
      "text/html": [
       "<div>\n",
       "<style scoped>\n",
       "    .dataframe tbody tr th:only-of-type {\n",
       "        vertical-align: middle;\n",
       "    }\n",
       "\n",
       "    .dataframe tbody tr th {\n",
       "        vertical-align: top;\n",
       "    }\n",
       "\n",
       "    .dataframe thead th {\n",
       "        text-align: right;\n",
       "    }\n",
       "</style>\n",
       "<table border=\"1\" class=\"dataframe\">\n",
       "  <thead>\n",
       "    <tr style=\"text-align: right;\">\n",
       "      <th></th>\n",
       "      <th>Id</th>\n",
       "      <th>Título</th>\n",
       "      <th>Questão</th>\n",
       "      <th>Tags</th>\n",
       "      <th>Pontuação</th>\n",
       "      <th>Visualizações</th>\n",
       "      <th>sem_code_tag</th>\n",
       "      <th>questoes_tratadas</th>\n",
       "    </tr>\n",
       "  </thead>\n",
       "  <tbody>\n",
       "    <tr>\n",
       "      <th>0</th>\n",
       "      <td>2402</td>\n",
       "      <td>Como fazer hash de senhas de forma segura?</td>\n",
       "      <td>&lt;p&gt;Se eu fizer o &lt;em&gt;&lt;a href=\"http://pt.wikipe...</td>\n",
       "      <td>&lt;hash&gt;&lt;segurança&gt;&lt;senhas&gt;&lt;criptografia&gt;</td>\n",
       "      <td>350</td>\n",
       "      <td>22367</td>\n",
       "      <td>Se eu fizer o hash de senhas antes de armazená...</td>\n",
       "      <td>se eu fizer o hash de senhas antes de armazená...</td>\n",
       "    </tr>\n",
       "    <tr>\n",
       "      <th>1</th>\n",
       "      <td>6441</td>\n",
       "      <td>Qual é a diferença entre INNER JOIN e OUTER JOIN?</td>\n",
       "      <td>&lt;p&gt;Qual é a diferença entre &lt;code&gt;INNER JOIN&lt;/...</td>\n",
       "      <td>&lt;sql&gt;&lt;join&gt;</td>\n",
       "      <td>276</td>\n",
       "      <td>176953</td>\n",
       "      <td>Qual é a diferença entre CODE e CODE? Podem me...</td>\n",
       "      <td>qual é a diferença entre code e code podem me ...</td>\n",
       "    </tr>\n",
       "    <tr>\n",
       "      <th>2</th>\n",
       "      <td>579</td>\n",
       "      <td>Por que não devemos usar funções do tipo mysql_*?</td>\n",
       "      <td>&lt;p&gt;Uma dúvida muito comum é por que devemos pa...</td>\n",
       "      <td>&lt;php&gt;&lt;mysql&gt;</td>\n",
       "      <td>226</td>\n",
       "      <td>9761</td>\n",
       "      <td>Uma dúvida muito comum é por que devemos parar...</td>\n",
       "      <td>uma dúvida muito comum é por que devemos parar...</td>\n",
       "    </tr>\n",
       "    <tr>\n",
       "      <th>3</th>\n",
       "      <td>2539</td>\n",
       "      <td>As mensagens de erro devem se desculpar?</td>\n",
       "      <td>&lt;p&gt;É comum encontrar uma mensagem de erro que ...</td>\n",
       "      <td>&lt;aplicação-web&gt;&lt;gui&gt;&lt;console&gt;&lt;ux&gt;</td>\n",
       "      <td>214</td>\n",
       "      <td>5075</td>\n",
       "      <td>É comum encontrar uma mensagem de erro que diz...</td>\n",
       "      <td>é comum encontrar uma mensagem de erro que diz...</td>\n",
       "    </tr>\n",
       "    <tr>\n",
       "      <th>4</th>\n",
       "      <td>17501</td>\n",
       "      <td>Qual é a diferença de API, biblioteca e Framew...</td>\n",
       "      <td>&lt;p&gt;Me parecem termos muito próximos e eventual...</td>\n",
       "      <td>&lt;api&gt;&lt;framework&gt;&lt;terminologia&gt;&lt;biblioteca&gt;</td>\n",
       "      <td>193</td>\n",
       "      <td>54191</td>\n",
       "      <td>Me parecem termos muito próximos e eventualmen...</td>\n",
       "      <td>me parecem termos muito próximos e eventualmen...</td>\n",
       "    </tr>\n",
       "  </tbody>\n",
       "</table>\n",
       "</div>"
      ],
      "text/plain": [
       "      Id                                             Título  \\\n",
       "0   2402         Como fazer hash de senhas de forma segura?   \n",
       "1   6441  Qual é a diferença entre INNER JOIN e OUTER JOIN?   \n",
       "2    579  Por que não devemos usar funções do tipo mysql_*?   \n",
       "3   2539           As mensagens de erro devem se desculpar?   \n",
       "4  17501  Qual é a diferença de API, biblioteca e Framew...   \n",
       "\n",
       "                                             Questão  \\\n",
       "0  <p>Se eu fizer o <em><a href=\"http://pt.wikipe...   \n",
       "1  <p>Qual é a diferença entre <code>INNER JOIN</...   \n",
       "2  <p>Uma dúvida muito comum é por que devemos pa...   \n",
       "3  <p>É comum encontrar uma mensagem de erro que ...   \n",
       "4  <p>Me parecem termos muito próximos e eventual...   \n",
       "\n",
       "                                         Tags  Pontuação  Visualizações  \\\n",
       "0     <hash><segurança><senhas><criptografia>        350          22367   \n",
       "1                                 <sql><join>        276         176953   \n",
       "2                                <php><mysql>        226           9761   \n",
       "3           <aplicação-web><gui><console><ux>        214           5075   \n",
       "4  <api><framework><terminologia><biblioteca>        193          54191   \n",
       "\n",
       "                                        sem_code_tag  \\\n",
       "0  Se eu fizer o hash de senhas antes de armazená...   \n",
       "1  Qual é a diferença entre CODE e CODE? Podem me...   \n",
       "2  Uma dúvida muito comum é por que devemos parar...   \n",
       "3  É comum encontrar uma mensagem de erro que diz...   \n",
       "4  Me parecem termos muito próximos e eventualmen...   \n",
       "\n",
       "                                   questoes_tratadas  \n",
       "0  se eu fizer o hash de senhas antes de armazená...  \n",
       "1  qual é a diferença entre code e code podem me ...  \n",
       "2  uma dúvida muito comum é por que devemos parar...  \n",
       "3  é comum encontrar uma mensagem de erro que diz...  \n",
       "4  me parecem termos muito próximos e eventualmen...  "
      ]
     },
     "execution_count": 30,
     "metadata": {},
     "output_type": "execute_result"
    }
   ],
   "source": [
    "questoes_port_sem_pont = remover(df_portugues['sem_code_tag'],\n",
    "                                 regex_pontuacao)\n",
    "questoes_port_sem_pont_minus = minusculo(questoes_port_sem_pont)\n",
    "\n",
    "questoes_port_sem_pont_minus_dig = remover(questoes_port_sem_pont_minus, \n",
    "                                           regex_digitos)\n",
    "\n",
    "questoes_port_sem_quebra_linha = substituir_por_espaco(questoes_port_sem_pont_minus_dig, \n",
    "                                                       regex_quebra_linha)\n",
    "\n",
    "questoes_port_sem_espaco_dupli = substituir_por_espaco(questoes_port_sem_quebra_linha, \n",
    "                                                       regex_espaco)\n",
    "\n",
    "df_portugues['questoes_tratadas'] = questoes_port_sem_espaco_dupli\n",
    "\n",
    "df_portugues.head()"
   ]
  },
  {
   "cell_type": "code",
   "execution_count": 31,
   "id": "e131c1fb",
   "metadata": {},
   "outputs": [
    {
     "data": {
      "text/html": [
       "<div>\n",
       "<style scoped>\n",
       "    .dataframe tbody tr th:only-of-type {\n",
       "        vertical-align: middle;\n",
       "    }\n",
       "\n",
       "    .dataframe tbody tr th {\n",
       "        vertical-align: top;\n",
       "    }\n",
       "\n",
       "    .dataframe thead th {\n",
       "        text-align: right;\n",
       "    }\n",
       "</style>\n",
       "<table border=\"1\" class=\"dataframe\">\n",
       "  <thead>\n",
       "    <tr style=\"text-align: right;\">\n",
       "      <th></th>\n",
       "      <th>Id</th>\n",
       "      <th>Título</th>\n",
       "      <th>Questão</th>\n",
       "      <th>Tags</th>\n",
       "      <th>Pontuação</th>\n",
       "      <th>Visualizações</th>\n",
       "      <th>sem_code_tag</th>\n",
       "      <th>questoes_tratadas</th>\n",
       "    </tr>\n",
       "  </thead>\n",
       "  <tbody>\n",
       "    <tr>\n",
       "      <th>0</th>\n",
       "      <td>18232</td>\n",
       "      <td>¿Cómo evitar la inyección SQL en PHP?</td>\n",
       "      <td>&lt;p&gt;Las sentencias dinámicas son sentencias SQL...</td>\n",
       "      <td>&lt;php&gt;&lt;mysql&gt;&lt;sql&gt;&lt;seguridad&gt;&lt;inyección-sql&gt;</td>\n",
       "      <td>169</td>\n",
       "      <td>38614</td>\n",
       "      <td>Las sentencias dinámicas son sentencias SQL qu...</td>\n",
       "      <td>las sentencias dinámicas son sentencias sql qu...</td>\n",
       "    </tr>\n",
       "    <tr>\n",
       "      <th>1</th>\n",
       "      <td>197</td>\n",
       "      <td>¿Por qué mis programas no pueden hacer cálculo...</td>\n",
       "      <td>&lt;p&gt;Unas veces los cálculos funcionan correctam...</td>\n",
       "      <td>&lt;matemáticas&gt;&lt;coma-flotante&gt;&lt;lenguaje-agnóstico&gt;</td>\n",
       "      <td>141</td>\n",
       "      <td>3860</td>\n",
       "      <td>Unas veces los cálculos funcionan correctament...</td>\n",
       "      <td>unas veces los cálculos funcionan correctament...</td>\n",
       "    </tr>\n",
       "    <tr>\n",
       "      <th>2</th>\n",
       "      <td>36</td>\n",
       "      <td>¿Cuál es la diferencia entre un inner y un out...</td>\n",
       "      <td>&lt;p&gt;¿Cuál es la diferencia entre un &lt;code&gt;inner...</td>\n",
       "      <td>&lt;mysql&gt;&lt;sql&gt;&lt;join&gt;</td>\n",
       "      <td>97</td>\n",
       "      <td>53627</td>\n",
       "      <td>¿Cuál es la diferencia entre un CODE y un CODE...</td>\n",
       "      <td>cuál es la diferencia entre un code y un code ...</td>\n",
       "    </tr>\n",
       "    <tr>\n",
       "      <th>3</th>\n",
       "      <td>29177</td>\n",
       "      <td>¿Por qué es considerado una mala práctica util...</td>\n",
       "      <td>&lt;p&gt;La mayoría de nosotros decimos, (muchas vec...</td>\n",
       "      <td>&lt;variables&gt;&lt;variables-globales&gt;&lt;patrones-de-di...</td>\n",
       "      <td>89</td>\n",
       "      <td>9987</td>\n",
       "      <td>La mayoría de nosotros decimos, (muchas veces ...</td>\n",
       "      <td>la mayoría de nosotros decimos muchas veces si...</td>\n",
       "    </tr>\n",
       "    <tr>\n",
       "      <th>4</th>\n",
       "      <td>142</td>\n",
       "      <td>Validar un email en JavaScript que acepte todo...</td>\n",
       "      <td>&lt;h3&gt;Pregunta&lt;/h3&gt;\\n\\n&lt;p&gt;¿Cómo validar un e-mai...</td>\n",
       "      <td>&lt;javascript&gt;&lt;validación&gt;&lt;email&gt;&lt;regex&gt;</td>\n",
       "      <td>87</td>\n",
       "      <td>73129</td>\n",
       "      <td>Pregunta\\n\\n¿Cómo validar un e-mail que acepte...</td>\n",
       "      <td>pregunta cómo validar un email que acepte todo...</td>\n",
       "    </tr>\n",
       "  </tbody>\n",
       "</table>\n",
       "</div>"
      ],
      "text/plain": [
       "      Id                                             Título  \\\n",
       "0  18232              ¿Cómo evitar la inyección SQL en PHP?   \n",
       "1    197  ¿Por qué mis programas no pueden hacer cálculo...   \n",
       "2     36  ¿Cuál es la diferencia entre un inner y un out...   \n",
       "3  29177  ¿Por qué es considerado una mala práctica util...   \n",
       "4    142  Validar un email en JavaScript que acepte todo...   \n",
       "\n",
       "                                             Questão  \\\n",
       "0  <p>Las sentencias dinámicas son sentencias SQL...   \n",
       "1  <p>Unas veces los cálculos funcionan correctam...   \n",
       "2  <p>¿Cuál es la diferencia entre un <code>inner...   \n",
       "3  <p>La mayoría de nosotros decimos, (muchas vec...   \n",
       "4  <h3>Pregunta</h3>\\n\\n<p>¿Cómo validar un e-mai...   \n",
       "\n",
       "                                                Tags  Pontuação  \\\n",
       "0        <php><mysql><sql><seguridad><inyección-sql>        169   \n",
       "1   <matemáticas><coma-flotante><lenguaje-agnóstico>        141   \n",
       "2                                 <mysql><sql><join>         97   \n",
       "3  <variables><variables-globales><patrones-de-di...         89   \n",
       "4             <javascript><validación><email><regex>         87   \n",
       "\n",
       "   Visualizações                                       sem_code_tag  \\\n",
       "0          38614  Las sentencias dinámicas son sentencias SQL qu...   \n",
       "1           3860  Unas veces los cálculos funcionan correctament...   \n",
       "2          53627  ¿Cuál es la diferencia entre un CODE y un CODE...   \n",
       "3           9987  La mayoría de nosotros decimos, (muchas veces ...   \n",
       "4          73129  Pregunta\\n\\n¿Cómo validar un e-mail que acepte...   \n",
       "\n",
       "                                   questoes_tratadas  \n",
       "0  las sentencias dinámicas son sentencias sql qu...  \n",
       "1  unas veces los cálculos funcionan correctament...  \n",
       "2  cuál es la diferencia entre un code y un code ...  \n",
       "3  la mayoría de nosotros decimos muchas veces si...  \n",
       "4  pregunta cómo validar un email que acepte todo...  "
      ]
     },
     "execution_count": 31,
     "metadata": {},
     "output_type": "execute_result"
    }
   ],
   "source": [
    "questoes_espan_sem_pont = remover(df_espanhol['sem_code_tag'],\n",
    "                                 regex_pontuacao)\n",
    "questoes_espan_sem_pont_minus = minusculo(questoes_espan_sem_pont)\n",
    "\n",
    "questoes_espan_sem_pont_minus_dig = remover(questoes_espan_sem_pont_minus, \n",
    "                                           regex_digitos)\n",
    "\n",
    "questoes_espan_sem_quebra_linha = substituir_por_espaco(questoes_espan_sem_pont_minus_dig, \n",
    "                                                       regex_quebra_linha)\n",
    "\n",
    "questoes_espan_sem_espaco_dupli = substituir_por_espaco(questoes_espan_sem_quebra_linha, \n",
    "                                                       regex_espaco)\n",
    "\n",
    "df_espanhol['questoes_tratadas'] = questoes_espan_sem_espaco_dupli\n",
    "\n",
    "df_espanhol.head()"
   ]
  },
  {
   "cell_type": "code",
   "execution_count": 32,
   "id": "2cedd1bd",
   "metadata": {
    "scrolled": true
   },
   "outputs": [
    {
     "data": {
      "text/html": [
       "<div>\n",
       "<style scoped>\n",
       "    .dataframe tbody tr th:only-of-type {\n",
       "        vertical-align: middle;\n",
       "    }\n",
       "\n",
       "    .dataframe tbody tr th {\n",
       "        vertical-align: top;\n",
       "    }\n",
       "\n",
       "    .dataframe thead th {\n",
       "        text-align: right;\n",
       "    }\n",
       "</style>\n",
       "<table border=\"1\" class=\"dataframe\">\n",
       "  <thead>\n",
       "    <tr style=\"text-align: right;\">\n",
       "      <th></th>\n",
       "      <th>Id</th>\n",
       "      <th>Título</th>\n",
       "      <th>Questão</th>\n",
       "      <th>Tags</th>\n",
       "      <th>Pontuação</th>\n",
       "      <th>Visualizações</th>\n",
       "      <th>sem_code_tag</th>\n",
       "      <th>questoes_tratadas</th>\n",
       "    </tr>\n",
       "  </thead>\n",
       "  <tbody>\n",
       "    <tr>\n",
       "      <th>0</th>\n",
       "      <td>11227809</td>\n",
       "      <td>Why is it faster to process a sorted array tha...</td>\n",
       "      <td>&lt;p&gt;Here is a piece of C++ code that seems very...</td>\n",
       "      <td>&lt;java&gt;&lt;c++&gt;&lt;performance&gt;&lt;optimization&gt;&lt;branch-...</td>\n",
       "      <td>23057</td>\n",
       "      <td>1358574</td>\n",
       "      <td>Here is a piece of C++ code that seems very pe...</td>\n",
       "      <td>here is a piece of c code that seems very pecu...</td>\n",
       "    </tr>\n",
       "    <tr>\n",
       "      <th>1</th>\n",
       "      <td>927358</td>\n",
       "      <td>How do I undo the most recent local commits in...</td>\n",
       "      <td>&lt;p&gt;I accidentally committed the wrong files to...</td>\n",
       "      <td>&lt;git&gt;&lt;version-control&gt;&lt;git-commit&gt;&lt;undo&gt;</td>\n",
       "      <td>19640</td>\n",
       "      <td>7906137</td>\n",
       "      <td>I accidentally committed the wrong files to Gi...</td>\n",
       "      <td>i accidentally committed the wrong files to gi...</td>\n",
       "    </tr>\n",
       "    <tr>\n",
       "      <th>2</th>\n",
       "      <td>2003505</td>\n",
       "      <td>How do I delete a Git branch locally and remot...</td>\n",
       "      <td>&lt;p&gt;I want to delete a branch both locally and ...</td>\n",
       "      <td>&lt;git&gt;&lt;git-branch&gt;&lt;git-remote&gt;</td>\n",
       "      <td>15249</td>\n",
       "      <td>6940906</td>\n",
       "      <td>I want to delete a branch both locally and rem...</td>\n",
       "      <td>i want to delete a branch both locally and rem...</td>\n",
       "    </tr>\n",
       "    <tr>\n",
       "      <th>3</th>\n",
       "      <td>292357</td>\n",
       "      <td>What is the difference between 'git pull' and ...</td>\n",
       "      <td>&lt;blockquote&gt;\\n  &lt;p&gt;&lt;strong&gt;Moderator Note:&lt;/st...</td>\n",
       "      <td>&lt;git&gt;&lt;git-pull&gt;&lt;git-fetch&gt;</td>\n",
       "      <td>11008</td>\n",
       "      <td>2543052</td>\n",
       "      <td>\\n  Moderator Note: Given that this question h...</td>\n",
       "      <td>moderator note given that this question has a...</td>\n",
       "    </tr>\n",
       "    <tr>\n",
       "      <th>4</th>\n",
       "      <td>477816</td>\n",
       "      <td>What is the correct JSON content type?</td>\n",
       "      <td>&lt;p&gt;I've been messing around with &lt;a href=\"http...</td>\n",
       "      <td>&lt;json&gt;&lt;http-headers&gt;&lt;content-type&gt;</td>\n",
       "      <td>9701</td>\n",
       "      <td>2478940</td>\n",
       "      <td>I've been messing around with JSON for some ti...</td>\n",
       "      <td>ive been messing around with json for some tim...</td>\n",
       "    </tr>\n",
       "  </tbody>\n",
       "</table>\n",
       "</div>"
      ],
      "text/plain": [
       "         Id                                             Título  \\\n",
       "0  11227809  Why is it faster to process a sorted array tha...   \n",
       "1    927358  How do I undo the most recent local commits in...   \n",
       "2   2003505  How do I delete a Git branch locally and remot...   \n",
       "3    292357  What is the difference between 'git pull' and ...   \n",
       "4    477816             What is the correct JSON content type?   \n",
       "\n",
       "                                             Questão  \\\n",
       "0  <p>Here is a piece of C++ code that seems very...   \n",
       "1  <p>I accidentally committed the wrong files to...   \n",
       "2  <p>I want to delete a branch both locally and ...   \n",
       "3  <blockquote>\\n  <p><strong>Moderator Note:</st...   \n",
       "4  <p>I've been messing around with <a href=\"http...   \n",
       "\n",
       "                                                Tags  Pontuação  \\\n",
       "0  <java><c++><performance><optimization><branch-...      23057   \n",
       "1           <git><version-control><git-commit><undo>      19640   \n",
       "2                      <git><git-branch><git-remote>      15249   \n",
       "3                         <git><git-pull><git-fetch>      11008   \n",
       "4                 <json><http-headers><content-type>       9701   \n",
       "\n",
       "   Visualizações                                       sem_code_tag  \\\n",
       "0        1358574  Here is a piece of C++ code that seems very pe...   \n",
       "1        7906137  I accidentally committed the wrong files to Gi...   \n",
       "2        6940906  I want to delete a branch both locally and rem...   \n",
       "3        2543052  \\n  Moderator Note: Given that this question h...   \n",
       "4        2478940  I've been messing around with JSON for some ti...   \n",
       "\n",
       "                                   questoes_tratadas  \n",
       "0  here is a piece of c code that seems very pecu...  \n",
       "1  i accidentally committed the wrong files to gi...  \n",
       "2  i want to delete a branch both locally and rem...  \n",
       "3   moderator note given that this question has a...  \n",
       "4  ive been messing around with json for some tim...  "
      ]
     },
     "execution_count": 32,
     "metadata": {},
     "output_type": "execute_result"
    }
   ],
   "source": [
    "questoes_ingles_sem_pont = remover(df_ingles['sem_code_tag'],\n",
    "                                 regex_pontuacao)\n",
    "questoes_ingles_sem_pont_minus = minusculo(questoes_ingles_sem_pont)\n",
    "\n",
    "questoes_ingles_sem_pont_minus_dig = remover(questoes_ingles_sem_pont_minus, \n",
    "                                           regex_digitos)\n",
    "\n",
    "questoes_ingles_sem_quebra_linha = substituir_por_espaco(questoes_ingles_sem_pont_minus_dig, \n",
    "                                                       regex_quebra_linha)\n",
    "\n",
    "questoes_ingles_sem_espaco_dupli = substituir_por_espaco(questoes_ingles_sem_quebra_linha, \n",
    "                                                       regex_espaco)\n",
    "\n",
    "df_ingles['questoes_tratadas'] = questoes_ingles_sem_espaco_dupli\n",
    "\n",
    "df_ingles.head()"
   ]
  },
  {
   "cell_type": "markdown",
   "id": "b589d83a",
   "metadata": {},
   "source": [
    "## Criando o modelo de linguagem com NLTK\n",
    "\n",
    "Quando utilizamos os bigrams, o primeiro e o último caracter da frase aparece uma única vez, diferentes dos outros caracteres, para resolver isso podemos adicionar um caracter falso para evitar esse tipo de problema, utilizando a função do NLTK - **pad_both_ends**\n",
    "\n",
    "https://www.nltk.org/api/nltk.lm.html"
   ]
  },
  {
   "cell_type": "code",
   "execution_count": 33,
   "id": "5522e6e3",
   "metadata": {},
   "outputs": [
    {
     "name": "stdout",
     "output_type": "stream",
     "text": [
      "('A', 'l') ('l', 'u') ('u', 'r') ('r', 'a')\n"
     ]
    }
   ],
   "source": [
    "texto_teste = \"Alura\"\n",
    "print(*bigrams(texto_teste))"
   ]
  },
  {
   "cell_type": "code",
   "execution_count": 34,
   "id": "eabccaf7",
   "metadata": {},
   "outputs": [
    {
     "name": "stdout",
     "output_type": "stream",
     "text": [
      "('<s>', 'A') ('A', 'l') ('l', 'u') ('u', 'r') ('r', 'a') ('a', '</s>')\n"
     ]
    }
   ],
   "source": [
    "texto_teste = \"Alura\"\n",
    "print(*bigrams(pad_both_ends(texto_teste, n=2)))"
   ]
  },
  {
   "cell_type": "code",
   "execution_count": 35,
   "id": "cb0a1373",
   "metadata": {},
   "outputs": [],
   "source": [
    "df_portugues['idioma'] = 'port'\n",
    "df_espanhol['idioma'] = 'esp'\n",
    "df_ingles['idioma'] = 'ing'"
   ]
  },
  {
   "cell_type": "code",
   "execution_count": 36,
   "id": "27021f33",
   "metadata": {},
   "outputs": [],
   "source": [
    "X_train_port, X_test_port = train_test_split(df_portugues['questoes_tratadas'], \n",
    "                                             test_size=0.2, random_state=123)\n",
    "\n",
    "X_train_ing, X_test_ing = train_test_split(df_ingles['questoes_tratadas'], \n",
    "                                             test_size=0.2, random_state=123)\n",
    "\n",
    "X_train_esp, X_test_esp = train_test_split(df_espanhol['questoes_tratadas'], \n",
    "                                             test_size=0.2, random_state=123)"
   ]
  },
  {
   "cell_type": "code",
   "execution_count": 37,
   "id": "e5b1baeb",
   "metadata": {},
   "outputs": [
    {
     "data": {
      "text/plain": [
       "'sou iniciante em php e gostaria de saber se pdophp data objects é a maneira mais segura de se conectar a um banco de dados preciso também de um exemplo de como fazer esta conexão e inserirselecionar dados  por exemplo code estou fazendo um efeito aqui mas não estou entendendo esse sinal de code que tem no framework resultado final \\r \\r code\\r code\\r code\\r \\r \\r  qual diferença de linguagem compilada para linguagem interpretada e quais as vantagens de uma para outra  qual a diferença entre code e code ambas são muito parecidas mas em qual caso é melhor usar uma ou a outra gostaria de código de exemplos  um compilador é programado em qual linguagem todos os compiladores de uma linguagem são iguais ou pode existir um melhor que outro  essa pergunta parece ter uma resposta óbvia mas eu confesso que ainda não peguei a ideia sozinho estou trabalhando com orientação a objetos desde principalmente voltado para desenvolvimento web logo que comecei já ouvi falar sobre mvc quando peguei um livro de mv'"
      ]
     },
     "execution_count": 37,
     "metadata": {},
     "output_type": "execute_result"
    }
   ],
   "source": [
    "todas_questoes_port = ' '.join(X_train_port)\n",
    "todas_questoes_port[:1000]"
   ]
  },
  {
   "cell_type": "code",
   "execution_count": 38,
   "id": "7aa36417",
   "metadata": {},
   "outputs": [
    {
     "name": "stdout",
     "output_type": "stream",
     "text": [
      "['sou', 'iniciante', 'em', 'php', 'e', 'gostaria', 'de', 'saber', 'se', 'pdophp', 'data', 'objects', 'é', 'a', 'maneira', 'mais', 'segura', 'de', 'se', 'conectar', 'a', 'um', 'banco', 'de', 'dados', 'preciso', 'também', 'de', 'um', 'exemplo', 'de', 'como', 'fazer', 'esta', 'conexão', 'e', 'inserirselecionar', 'dados', 'por', 'exemplo', 'code', 'estou', 'fazendo', 'um', 'efeito', 'aqui', 'mas', 'não', 'estou', 'entendendo']\n"
     ]
    }
   ],
   "source": [
    "todas_palavras_port = nltk.tokenize.WhitespaceTokenizer().tokenize(todas_questoes_port)\n",
    "print(todas_palavras_port[:50])"
   ]
  },
  {
   "cell_type": "code",
   "execution_count": 39,
   "id": "686c74b9",
   "metadata": {},
   "outputs": [],
   "source": [
    "X_train_port_bigram, vocab_port = padded_everygram_pipeline(2, todas_palavras_port)"
   ]
  },
  {
   "cell_type": "code",
   "execution_count": 40,
   "id": "d71a5f69",
   "metadata": {},
   "outputs": [
    {
     "data": {
      "text/plain": [
       "('<s>',)"
      ]
     },
     "execution_count": 40,
     "metadata": {},
     "output_type": "execute_result"
    }
   ],
   "source": [
    "next(next(X_train_port_bigram))"
   ]
  },
  {
   "cell_type": "markdown",
   "id": "cd2d2331",
   "metadata": {},
   "source": [
    "### 1º Modelo - Maxima verossimilhança"
   ]
  },
  {
   "cell_type": "code",
   "execution_count": 41,
   "id": "697043f7",
   "metadata": {},
   "outputs": [],
   "source": [
    "modelo_port = MLE(2)\n",
    "modelo_port.fit(X_train_port_bigram, vocab_port)"
   ]
  },
  {
   "cell_type": "code",
   "execution_count": 42,
   "id": "3addedbf",
   "metadata": {},
   "outputs": [
    {
     "data": {
      "text/plain": [
       "['<s>', 'd', 'a', 'c', 'e', 's']"
      ]
     },
     "execution_count": 42,
     "metadata": {},
     "output_type": "execute_result"
    }
   ],
   "source": [
    "modelo_port.generate(num_words=6)"
   ]
  },
  {
   "cell_type": "code",
   "execution_count": 43,
   "id": "6e62cc1d",
   "metadata": {},
   "outputs": [
    {
     "data": {
      "text/plain": [
       "dict_items([('</s>', 2741), ('a', 2052), ('b', 144), ('p', 722), ('o', 854), ('e', 1503), ('u', 227), ('v', 16), ('í', 13), ('i', 290), ('ó', 37), ('â', 11), ('l', 23), ('é', 76), ('ú', 5), ('ã', 4), ('á', 32), ('s', 9), ('m', 25), ('g', 4), ('w', 1), ('_', 1), ('y', 10), ('d', 3)])"
      ]
     },
     "execution_count": 43,
     "metadata": {},
     "output_type": "execute_result"
    }
   ],
   "source": [
    "from nltk.lm import NgramCounter\n",
    "\n",
    "modelo_port.counts[['m']].items()"
   ]
  },
  {
   "cell_type": "code",
   "execution_count": 44,
   "id": "400b4589",
   "metadata": {},
   "outputs": [
    {
     "data": {
      "text/plain": [
       "[[('<s>', 'b'), ('b', 'o'), ('o', 'm'), ('m', '</s>')],\n",
       " [('<s>', 'd'), ('d', 'i'), ('i', 'a'), ('a', '</s>')]]"
      ]
     },
     "execution_count": 44,
     "metadata": {},
     "output_type": "execute_result"
    }
   ],
   "source": [
    "texto = 'bom dia'\n",
    "palavras = nltk.tokenize.WhitespaceTokenizer().tokenize(texto)\n",
    "palavras_fakechar = [list(pad_both_ends(palavra, n=2)) for palavra in palavras]\n",
    "palavras_bigramns = [list(bigrams(palavra)) for palavra in palavras_fakechar]\n",
    "palavras_bigramns"
   ]
  },
  {
   "cell_type": "code",
   "execution_count": 45,
   "id": "8c6e34a3",
   "metadata": {},
   "outputs": [
    {
     "name": "stdout",
     "output_type": "stream",
     "text": [
      "[('<s>', 'b'), ('b', 'o'), ('o', 'm'), ('m', '</s>')]\n"
     ]
    }
   ],
   "source": [
    "print(palavras_bigramns[0])"
   ]
  },
  {
   "cell_type": "code",
   "execution_count": 46,
   "id": "1352da2a",
   "metadata": {},
   "outputs": [
    {
     "name": "stdout",
     "output_type": "stream",
     "text": [
      "15.298816480210654\n",
      "8.118235162682486\n"
     ]
    }
   ],
   "source": [
    "print(modelo_port.perplexity(palavras_bigramns[0]))\n",
    "print(modelo_port.perplexity(palavras_bigramns[1]))\n"
   ]
  },
  {
   "cell_type": "code",
   "execution_count": 47,
   "id": "505c81e2",
   "metadata": {},
   "outputs": [
    {
     "name": "stdout",
     "output_type": "stream",
     "text": [
      "47.67050825747126\n",
      "21.535588522214386\n"
     ]
    }
   ],
   "source": [
    "texto = 'good morning'\n",
    "palavras = nltk.tokenize.WhitespaceTokenizer().tokenize(texto)\n",
    "palavras_fakechar = [list(pad_both_ends(palavra, n=2)) for palavra in palavras]\n",
    "palavras_bigramns = [list(bigrams(palavra)) for palavra in palavras_fakechar]\n",
    "\n",
    "print(modelo_port.perplexity(palavras_bigramns[0]))\n",
    "print(modelo_port.perplexity(palavras_bigramns[1]))"
   ]
  },
  {
   "cell_type": "code",
   "execution_count": 48,
   "id": "168ec2b5",
   "metadata": {},
   "outputs": [],
   "source": [
    "def treinar_modelo_mle(lista_textos):\n",
    "    todas_questoes = ' '.join(lista_textos)\n",
    "    todas_palavras = nltk.tokenize.WhitespaceTokenizer().tokenize(todas_questoes)\n",
    "    X_train_bigram, vocab = padded_everygram_pipeline(2, todas_palavras)\n",
    "    modelo = MLE(2)\n",
    "    modelo.fit(X_train_bigram, vocab)\n",
    "    return modelo\n",
    "    \n",
    "    "
   ]
  },
  {
   "cell_type": "code",
   "execution_count": 49,
   "id": "b79cc9fa",
   "metadata": {},
   "outputs": [
    {
     "name": "stdout",
     "output_type": "stream",
     "text": [
      "47.67178908687439\n",
      "21.535806001201696\n"
     ]
    }
   ],
   "source": [
    "modelo_port_2 = treinar_modelo_mle(X_train_port)\n",
    "\n",
    "texto = 'good morning'\n",
    "palavras = nltk.tokenize.WhitespaceTokenizer().tokenize(texto)\n",
    "palavras_fakechar = [list(pad_both_ends(palavra, n=2)) for palavra in palavras]\n",
    "palavras_bigramns = [list(bigrams(palavra)) for palavra in palavras_fakechar]\n",
    "\n",
    "print(modelo_port_2.perplexity(palavras_bigramns[0]))\n",
    "print(modelo_port_2.perplexity(palavras_bigramns[1]))"
   ]
  },
  {
   "cell_type": "code",
   "execution_count": 50,
   "id": "c14eb766",
   "metadata": {},
   "outputs": [],
   "source": [
    "modelo_ing = treinar_modelo_mle(X_train_ing)\n",
    "modelo_esp = treinar_modelo_mle(X_train_esp)"
   ]
  },
  {
   "cell_type": "code",
   "execution_count": 51,
   "id": "2263c22f",
   "metadata": {},
   "outputs": [
    {
     "name": "stdout",
     "output_type": "stream",
     "text": [
      "17.26133308212415\n",
      "12.900755877319751\n"
     ]
    }
   ],
   "source": [
    "print(modelo_ing.perplexity(palavras_bigramns[0]))\n",
    "print(modelo_ing.perplexity(palavras_bigramns[1]))"
   ]
  },
  {
   "cell_type": "code",
   "execution_count": 52,
   "id": "87b6d85b",
   "metadata": {},
   "outputs": [],
   "source": [
    "def calcular_perplexidade(modelo, texto):\n",
    "    perplexidade = 0\n",
    "    palavras = nltk.tokenize.WhitespaceTokenizer().tokenize(texto)\n",
    "    palavras_fakechar = [list(pad_both_ends(palavra, n=2)) for palavra in palavras]\n",
    "    palavras_bigramns = [list(bigrams(palavra)) for palavra in palavras_fakechar]\n",
    "    \n",
    "    for palavra in palavras_bigramns:\n",
    "        perplexidade += modelo.perplexity(palavra)\n",
    "    \n",
    "    return perplexidade"
   ]
  },
  {
   "cell_type": "code",
   "execution_count": 53,
   "id": "feec064b",
   "metadata": {},
   "outputs": [
    {
     "name": "stdout",
     "output_type": "stream",
     "text": [
      "30.1620889594439\n"
     ]
    }
   ],
   "source": [
    "print(calcular_perplexidade(modelo_ing, 'good morning'))"
   ]
  },
  {
   "cell_type": "code",
   "execution_count": 54,
   "id": "38dbb439",
   "metadata": {},
   "outputs": [
    {
     "name": "stdout",
     "output_type": "stream",
     "text": [
      "2006.996969376799\n"
     ]
    }
   ],
   "source": [
    "print(calcular_perplexidade(modelo_port, X_test_port.iloc[0]))"
   ]
  },
  {
   "cell_type": "code",
   "execution_count": 55,
   "id": "87e9f7a8",
   "metadata": {},
   "outputs": [
    {
     "name": "stdout",
     "output_type": "stream",
     "text": [
      "inf\n"
     ]
    }
   ],
   "source": [
    "print(calcular_perplexidade(modelo_ing, X_test_port.iloc[0]))"
   ]
  },
  {
   "cell_type": "markdown",
   "id": "9c387906",
   "metadata": {},
   "source": [
    "### Modelo de laplace\n",
    "Utiliza-se esse técnica para evitar que a perplexidade seja infinita, esse método consiste em adicionar 1 na probabilidade."
   ]
  },
  {
   "cell_type": "code",
   "execution_count": 58,
   "id": "e5cc4955",
   "metadata": {},
   "outputs": [],
   "source": [
    "def treinar_modelo_laplace(lista_textos):\n",
    "    todas_questoes = ' '.join(lista_textos)\n",
    "    todas_palavras = nltk.tokenize.WhitespaceTokenizer().tokenize(todas_questoes)\n",
    "    X_train_bigram, vocab = padded_everygram_pipeline(2, todas_palavras)\n",
    "    modelo = Laplace(2)\n",
    "    modelo.fit(X_train_bigram, vocab)\n",
    "    return modelo"
   ]
  },
  {
   "cell_type": "code",
   "execution_count": 66,
   "id": "6ecae69a",
   "metadata": {},
   "outputs": [
    {
     "name": "stdout",
     "output_type": "stream",
     "text": [
      "5876.837588345698\n"
     ]
    }
   ],
   "source": [
    "modelo_ing_Laplace = treinar_modelo_laplace(X_train_ing)\n",
    "print(calcular_perplexidade(modelo_ing_Laplace, X_test_port.iloc[0]))"
   ]
  },
  {
   "cell_type": "code",
   "execution_count": 67,
   "id": "c4d3a50a",
   "metadata": {},
   "outputs": [
    {
     "name": "stdout",
     "output_type": "stream",
     "text": [
      "2009.1937946178912\n"
     ]
    }
   ],
   "source": [
    "modelo_port_Laplace = treinar_modelo_laplace(X_train_port)\n",
    "print(calcular_perplexidade(modelo_port_Laplace, X_test_port.iloc[0]))"
   ]
  },
  {
   "cell_type": "code",
   "execution_count": 68,
   "id": "3785215d",
   "metadata": {},
   "outputs": [
    {
     "name": "stdout",
     "output_type": "stream",
     "text": [
      "3488.5698949157722\n"
     ]
    }
   ],
   "source": [
    "modelo_esp_Laplace = treinar_modelo_laplace(X_train_esp)\n",
    "print(calcular_perplexidade(modelo_esp_Laplace, X_test_port.iloc[0]))"
   ]
  },
  {
   "cell_type": "code",
   "execution_count": 71,
   "id": "205ebf6a",
   "metadata": {},
   "outputs": [],
   "source": [
    "def atribui_idioma(lista_textos):\n",
    "    idioma = []\n",
    "    for texto in lista_textos:\n",
    "        portugues = calcular_perplexidade(modelo_port_Laplace, texto)\n",
    "        ingles = calcular_perplexidade(modelo_ing_Laplace, texto)\n",
    "        espanhol = calcular_perplexidade(modelo_esp_Laplace, texto)\n",
    "        \n",
    "        if portugues <= ingles and portugues <= espanhol:\n",
    "            idioma.append('portugues')\n",
    "        elif ingles <= espanhol:\n",
    "            idioma.append('ingles')\n",
    "        else:\n",
    "            idioma.append('espanhol')\n",
    "    return idioma"
   ]
  },
  {
   "cell_type": "code",
   "execution_count": 79,
   "id": "2f49338d",
   "metadata": {},
   "outputs": [],
   "source": [
    "resultado_portugues = atribui_idioma(X_test_port)\n",
    "taxa_portugues = resultado_portugues.count('portugues') / len(resultado_portugues)\n",
    "\n",
    "resultado_ingles = atribui_idioma(X_test_ing)\n",
    "taxa_ingles = resultado_ingles.count('ingles') / len(resultado_ingles)\n",
    "\n",
    "resultado_espanhol = atribui_idioma(X_test_esp)\n",
    "taxa_espanhol = resultado_espanhol.count('espanhol') / len(resultado_espanhol)"
   ]
  },
  {
   "cell_type": "code",
   "execution_count": 80,
   "id": "0a3a60bc",
   "metadata": {},
   "outputs": [
    {
     "name": "stdout",
     "output_type": "stream",
     "text": [
      "A taxa de acerto para palavras em portugues foi de 100.00%\n",
      "A taxa de acerto para palavras em espanhol foi de 97.00%\n",
      "A taxa de acerto para palavras em inglês foi de 100.00%\n"
     ]
    }
   ],
   "source": [
    "print(f'A taxa de acerto para palavras em portugues foi de {taxa_portugues:0.2%}')\n",
    "print(f'A taxa de acerto para palavras em espanhol foi de {taxa_espanhol:0.2%}')\n",
    "print(f'A taxa de acerto para palavras em inglês foi de {taxa_ingles:0.2%}')"
   ]
  },
  {
   "cell_type": "code",
   "execution_count": null,
   "id": "2529000b",
   "metadata": {},
   "outputs": [],
   "source": []
  }
 ],
 "metadata": {
  "kernelspec": {
   "display_name": "Python 3",
   "language": "python",
   "name": "python3"
  },
  "language_info": {
   "codemirror_mode": {
    "name": "ipython",
    "version": 3
   },
   "file_extension": ".py",
   "mimetype": "text/x-python",
   "name": "python",
   "nbconvert_exporter": "python",
   "pygments_lexer": "ipython3",
   "version": "3.7.10"
  }
 },
 "nbformat": 4,
 "nbformat_minor": 5
}
