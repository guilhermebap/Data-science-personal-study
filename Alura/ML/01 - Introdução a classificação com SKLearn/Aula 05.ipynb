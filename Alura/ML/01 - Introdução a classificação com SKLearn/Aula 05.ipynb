{
 "cells": [
  {
   "cell_type": "markdown",
   "id": "1a6b207a",
   "metadata": {},
   "source": [
    "# Cursos de Introdução a classificação com SKLearn\n",
    "\n",
    "## Aula 05"
   ]
  },
  {
   "cell_type": "markdown",
   "id": "8ec17bff",
   "metadata": {},
   "source": [
    "### Importando as Bibliotecas necessárias"
   ]
  },
  {
   "cell_type": "code",
   "execution_count": 1,
   "id": "580affad",
   "metadata": {},
   "outputs": [],
   "source": [
    "import numpy as np\n",
    "import pandas as pd\n",
    "import seaborn as sns\n",
    "import matplotlib.pyplot as plt\n",
    "from sklearn.svm import LinearSVC, SVC\n",
    "from sklearn.metrics import accuracy_score\n",
    "from sklearn.model_selection import train_test_split\n",
    "from sklearn.preprocessing import StandardScaler\n",
    "from sklearn.dummy import DummyClassifier\n",
    "from sklearn.tree import DecisionTreeClassifier, export_graphviz\n",
    "import graphviz"
   ]
  },
  {
   "cell_type": "markdown",
   "id": "cf492745",
   "metadata": {},
   "source": [
    "### Importando os datasets"
   ]
  },
  {
   "cell_type": "code",
   "execution_count": 2,
   "id": "cb0e767e",
   "metadata": {},
   "outputs": [],
   "source": [
    "url = 'https://gist.githubusercontent.com/guilhermesilveira/4d1d4a16ccbf6ea4e0a64a38a24ec884/raw/afd05cb0c796d18f3f5a6537053ded308ba94bf7/car-prices.csv'\n",
    "df = pd.read_csv(url, index_col=0)"
   ]
  },
  {
   "cell_type": "markdown",
   "id": "06e1ebef",
   "metadata": {},
   "source": [
    "### Explorando os dados"
   ]
  },
  {
   "cell_type": "code",
   "execution_count": 3,
   "id": "833a1c90",
   "metadata": {},
   "outputs": [
    {
     "data": {
      "text/html": [
       "<div>\n",
       "<style scoped>\n",
       "    .dataframe tbody tr th:only-of-type {\n",
       "        vertical-align: middle;\n",
       "    }\n",
       "\n",
       "    .dataframe tbody tr th {\n",
       "        vertical-align: top;\n",
       "    }\n",
       "\n",
       "    .dataframe thead th {\n",
       "        text-align: right;\n",
       "    }\n",
       "</style>\n",
       "<table border=\"1\" class=\"dataframe\">\n",
       "  <thead>\n",
       "    <tr style=\"text-align: right;\">\n",
       "      <th></th>\n",
       "      <th>mileage_per_year</th>\n",
       "      <th>model_year</th>\n",
       "      <th>price</th>\n",
       "      <th>sold</th>\n",
       "    </tr>\n",
       "  </thead>\n",
       "  <tbody>\n",
       "    <tr>\n",
       "      <th>0</th>\n",
       "      <td>21801</td>\n",
       "      <td>2000</td>\n",
       "      <td>30941.02</td>\n",
       "      <td>yes</td>\n",
       "    </tr>\n",
       "    <tr>\n",
       "      <th>1</th>\n",
       "      <td>7843</td>\n",
       "      <td>1998</td>\n",
       "      <td>40557.96</td>\n",
       "      <td>yes</td>\n",
       "    </tr>\n",
       "    <tr>\n",
       "      <th>2</th>\n",
       "      <td>7109</td>\n",
       "      <td>2006</td>\n",
       "      <td>89627.50</td>\n",
       "      <td>no</td>\n",
       "    </tr>\n",
       "    <tr>\n",
       "      <th>3</th>\n",
       "      <td>26823</td>\n",
       "      <td>2015</td>\n",
       "      <td>95276.14</td>\n",
       "      <td>no</td>\n",
       "    </tr>\n",
       "    <tr>\n",
       "      <th>4</th>\n",
       "      <td>7935</td>\n",
       "      <td>2014</td>\n",
       "      <td>117384.68</td>\n",
       "      <td>yes</td>\n",
       "    </tr>\n",
       "  </tbody>\n",
       "</table>\n",
       "</div>"
      ],
      "text/plain": [
       "   mileage_per_year  model_year      price sold\n",
       "0             21801        2000   30941.02  yes\n",
       "1              7843        1998   40557.96  yes\n",
       "2              7109        2006   89627.50   no\n",
       "3             26823        2015   95276.14   no\n",
       "4              7935        2014  117384.68  yes"
      ]
     },
     "execution_count": 3,
     "metadata": {},
     "output_type": "execute_result"
    }
   ],
   "source": [
    "df.head()"
   ]
  },
  {
   "cell_type": "code",
   "execution_count": 4,
   "id": "2a4e6121",
   "metadata": {},
   "outputs": [
    {
     "data": {
      "text/plain": [
       "(10000, 4)"
      ]
     },
     "execution_count": 4,
     "metadata": {},
     "output_type": "execute_result"
    }
   ],
   "source": [
    "df.shape"
   ]
  },
  {
   "cell_type": "code",
   "execution_count": 5,
   "id": "f2aeec0a",
   "metadata": {},
   "outputs": [
    {
     "data": {
      "text/html": [
       "<div>\n",
       "<style scoped>\n",
       "    .dataframe tbody tr th:only-of-type {\n",
       "        vertical-align: middle;\n",
       "    }\n",
       "\n",
       "    .dataframe tbody tr th {\n",
       "        vertical-align: top;\n",
       "    }\n",
       "\n",
       "    .dataframe thead th {\n",
       "        text-align: right;\n",
       "    }\n",
       "</style>\n",
       "<table border=\"1\" class=\"dataframe\">\n",
       "  <thead>\n",
       "    <tr style=\"text-align: right;\">\n",
       "      <th></th>\n",
       "      <th>mileage_per_year</th>\n",
       "      <th>model_year</th>\n",
       "      <th>price</th>\n",
       "      <th>sold</th>\n",
       "    </tr>\n",
       "  </thead>\n",
       "  <tbody>\n",
       "    <tr>\n",
       "      <th>0</th>\n",
       "      <td>21801</td>\n",
       "      <td>2000</td>\n",
       "      <td>30941.02</td>\n",
       "      <td>1</td>\n",
       "    </tr>\n",
       "    <tr>\n",
       "      <th>1</th>\n",
       "      <td>7843</td>\n",
       "      <td>1998</td>\n",
       "      <td>40557.96</td>\n",
       "      <td>1</td>\n",
       "    </tr>\n",
       "    <tr>\n",
       "      <th>2</th>\n",
       "      <td>7109</td>\n",
       "      <td>2006</td>\n",
       "      <td>89627.50</td>\n",
       "      <td>0</td>\n",
       "    </tr>\n",
       "    <tr>\n",
       "      <th>3</th>\n",
       "      <td>26823</td>\n",
       "      <td>2015</td>\n",
       "      <td>95276.14</td>\n",
       "      <td>0</td>\n",
       "    </tr>\n",
       "    <tr>\n",
       "      <th>4</th>\n",
       "      <td>7935</td>\n",
       "      <td>2014</td>\n",
       "      <td>117384.68</td>\n",
       "      <td>1</td>\n",
       "    </tr>\n",
       "  </tbody>\n",
       "</table>\n",
       "</div>"
      ],
      "text/plain": [
       "   mileage_per_year  model_year      price  sold\n",
       "0             21801        2000   30941.02     1\n",
       "1              7843        1998   40557.96     1\n",
       "2              7109        2006   89627.50     0\n",
       "3             26823        2015   95276.14     0\n",
       "4              7935        2014  117384.68     1"
      ]
     },
     "execution_count": 5,
     "metadata": {},
     "output_type": "execute_result"
    }
   ],
   "source": [
    "mapa = {'yes': 1, 'no': 0}\n",
    "\n",
    "df['sold'] = df['sold'].map(mapa)\n",
    "df.head()"
   ]
  },
  {
   "cell_type": "code",
   "execution_count": 6,
   "id": "3def5aed",
   "metadata": {},
   "outputs": [
    {
     "data": {
      "text/html": [
       "<div>\n",
       "<style scoped>\n",
       "    .dataframe tbody tr th:only-of-type {\n",
       "        vertical-align: middle;\n",
       "    }\n",
       "\n",
       "    .dataframe tbody tr th {\n",
       "        vertical-align: top;\n",
       "    }\n",
       "\n",
       "    .dataframe thead th {\n",
       "        text-align: right;\n",
       "    }\n",
       "</style>\n",
       "<table border=\"1\" class=\"dataframe\">\n",
       "  <thead>\n",
       "    <tr style=\"text-align: right;\">\n",
       "      <th></th>\n",
       "      <th>mileage_per_year</th>\n",
       "      <th>model_year</th>\n",
       "      <th>price</th>\n",
       "      <th>sold</th>\n",
       "      <th>model_age</th>\n",
       "    </tr>\n",
       "  </thead>\n",
       "  <tbody>\n",
       "    <tr>\n",
       "      <th>0</th>\n",
       "      <td>21801</td>\n",
       "      <td>2000</td>\n",
       "      <td>30941.02</td>\n",
       "      <td>1</td>\n",
       "      <td>18</td>\n",
       "    </tr>\n",
       "    <tr>\n",
       "      <th>1</th>\n",
       "      <td>7843</td>\n",
       "      <td>1998</td>\n",
       "      <td>40557.96</td>\n",
       "      <td>1</td>\n",
       "      <td>20</td>\n",
       "    </tr>\n",
       "    <tr>\n",
       "      <th>2</th>\n",
       "      <td>7109</td>\n",
       "      <td>2006</td>\n",
       "      <td>89627.50</td>\n",
       "      <td>0</td>\n",
       "      <td>12</td>\n",
       "    </tr>\n",
       "    <tr>\n",
       "      <th>3</th>\n",
       "      <td>26823</td>\n",
       "      <td>2015</td>\n",
       "      <td>95276.14</td>\n",
       "      <td>0</td>\n",
       "      <td>3</td>\n",
       "    </tr>\n",
       "    <tr>\n",
       "      <th>4</th>\n",
       "      <td>7935</td>\n",
       "      <td>2014</td>\n",
       "      <td>117384.68</td>\n",
       "      <td>1</td>\n",
       "      <td>4</td>\n",
       "    </tr>\n",
       "  </tbody>\n",
       "</table>\n",
       "</div>"
      ],
      "text/plain": [
       "   mileage_per_year  model_year      price  sold  model_age\n",
       "0             21801        2000   30941.02     1         18\n",
       "1              7843        1998   40557.96     1         20\n",
       "2              7109        2006   89627.50     0         12\n",
       "3             26823        2015   95276.14     0          3\n",
       "4              7935        2014  117384.68     1          4"
      ]
     },
     "execution_count": 6,
     "metadata": {},
     "output_type": "execute_result"
    }
   ],
   "source": [
    "ano = 2018\n",
    "df['model_age'] = ano - df['model_year']\n",
    "df.head()"
   ]
  },
  {
   "cell_type": "code",
   "execution_count": 7,
   "id": "83ef5b04",
   "metadata": {},
   "outputs": [
    {
     "data": {
      "text/html": [
       "<div>\n",
       "<style scoped>\n",
       "    .dataframe tbody tr th:only-of-type {\n",
       "        vertical-align: middle;\n",
       "    }\n",
       "\n",
       "    .dataframe tbody tr th {\n",
       "        vertical-align: top;\n",
       "    }\n",
       "\n",
       "    .dataframe thead th {\n",
       "        text-align: right;\n",
       "    }\n",
       "</style>\n",
       "<table border=\"1\" class=\"dataframe\">\n",
       "  <thead>\n",
       "    <tr style=\"text-align: right;\">\n",
       "      <th></th>\n",
       "      <th>mileage_per_year</th>\n",
       "      <th>model_year</th>\n",
       "      <th>price</th>\n",
       "      <th>sold</th>\n",
       "      <th>model_age</th>\n",
       "      <th>km_per_year</th>\n",
       "    </tr>\n",
       "  </thead>\n",
       "  <tbody>\n",
       "    <tr>\n",
       "      <th>0</th>\n",
       "      <td>21801</td>\n",
       "      <td>2000</td>\n",
       "      <td>30941.02</td>\n",
       "      <td>1</td>\n",
       "      <td>18</td>\n",
       "      <td>35085.22134</td>\n",
       "    </tr>\n",
       "    <tr>\n",
       "      <th>1</th>\n",
       "      <td>7843</td>\n",
       "      <td>1998</td>\n",
       "      <td>40557.96</td>\n",
       "      <td>1</td>\n",
       "      <td>20</td>\n",
       "      <td>12622.05362</td>\n",
       "    </tr>\n",
       "    <tr>\n",
       "      <th>2</th>\n",
       "      <td>7109</td>\n",
       "      <td>2006</td>\n",
       "      <td>89627.50</td>\n",
       "      <td>0</td>\n",
       "      <td>12</td>\n",
       "      <td>11440.79806</td>\n",
       "    </tr>\n",
       "    <tr>\n",
       "      <th>3</th>\n",
       "      <td>26823</td>\n",
       "      <td>2015</td>\n",
       "      <td>95276.14</td>\n",
       "      <td>0</td>\n",
       "      <td>3</td>\n",
       "      <td>43167.32682</td>\n",
       "    </tr>\n",
       "    <tr>\n",
       "      <th>4</th>\n",
       "      <td>7935</td>\n",
       "      <td>2014</td>\n",
       "      <td>117384.68</td>\n",
       "      <td>1</td>\n",
       "      <td>4</td>\n",
       "      <td>12770.11290</td>\n",
       "    </tr>\n",
       "  </tbody>\n",
       "</table>\n",
       "</div>"
      ],
      "text/plain": [
       "   mileage_per_year  model_year      price  sold  model_age  km_per_year\n",
       "0             21801        2000   30941.02     1         18  35085.22134\n",
       "1              7843        1998   40557.96     1         20  12622.05362\n",
       "2              7109        2006   89627.50     0         12  11440.79806\n",
       "3             26823        2015   95276.14     0          3  43167.32682\n",
       "4              7935        2014  117384.68     1          4  12770.11290"
      ]
     },
     "execution_count": 7,
     "metadata": {},
     "output_type": "execute_result"
    }
   ],
   "source": [
    "fator_de_conversao_milha = 1.60934\n",
    "df['km_per_year'] = df['mileage_per_year'] * fator_de_conversao_milha\n",
    "df.head()"
   ]
  },
  {
   "cell_type": "code",
   "execution_count": 8,
   "id": "fa71272d",
   "metadata": {},
   "outputs": [
    {
     "data": {
      "text/html": [
       "<div>\n",
       "<style scoped>\n",
       "    .dataframe tbody tr th:only-of-type {\n",
       "        vertical-align: middle;\n",
       "    }\n",
       "\n",
       "    .dataframe tbody tr th {\n",
       "        vertical-align: top;\n",
       "    }\n",
       "\n",
       "    .dataframe thead th {\n",
       "        text-align: right;\n",
       "    }\n",
       "</style>\n",
       "<table border=\"1\" class=\"dataframe\">\n",
       "  <thead>\n",
       "    <tr style=\"text-align: right;\">\n",
       "      <th></th>\n",
       "      <th>price</th>\n",
       "      <th>sold</th>\n",
       "      <th>model_age</th>\n",
       "      <th>km_per_year</th>\n",
       "    </tr>\n",
       "  </thead>\n",
       "  <tbody>\n",
       "    <tr>\n",
       "      <th>0</th>\n",
       "      <td>30941.02</td>\n",
       "      <td>1</td>\n",
       "      <td>18</td>\n",
       "      <td>35085.22134</td>\n",
       "    </tr>\n",
       "    <tr>\n",
       "      <th>1</th>\n",
       "      <td>40557.96</td>\n",
       "      <td>1</td>\n",
       "      <td>20</td>\n",
       "      <td>12622.05362</td>\n",
       "    </tr>\n",
       "    <tr>\n",
       "      <th>2</th>\n",
       "      <td>89627.50</td>\n",
       "      <td>0</td>\n",
       "      <td>12</td>\n",
       "      <td>11440.79806</td>\n",
       "    </tr>\n",
       "    <tr>\n",
       "      <th>3</th>\n",
       "      <td>95276.14</td>\n",
       "      <td>0</td>\n",
       "      <td>3</td>\n",
       "      <td>43167.32682</td>\n",
       "    </tr>\n",
       "    <tr>\n",
       "      <th>4</th>\n",
       "      <td>117384.68</td>\n",
       "      <td>1</td>\n",
       "      <td>4</td>\n",
       "      <td>12770.11290</td>\n",
       "    </tr>\n",
       "  </tbody>\n",
       "</table>\n",
       "</div>"
      ],
      "text/plain": [
       "       price  sold  model_age  km_per_year\n",
       "0   30941.02     1         18  35085.22134\n",
       "1   40557.96     1         20  12622.05362\n",
       "2   89627.50     0         12  11440.79806\n",
       "3   95276.14     0          3  43167.32682\n",
       "4  117384.68     1          4  12770.11290"
      ]
     },
     "execution_count": 8,
     "metadata": {},
     "output_type": "execute_result"
    }
   ],
   "source": [
    "df = df.drop(columns=['mileage_per_year', 'model_year'])\n",
    "df.head()"
   ]
  },
  {
   "cell_type": "code",
   "execution_count": 9,
   "id": "ec7ebd5e",
   "metadata": {
    "scrolled": true
   },
   "outputs": [
    {
     "name": "stdout",
     "output_type": "stream",
     "text": [
      "A acurancia do modelo é: 58.00%\n"
     ]
    },
    {
     "name": "stderr",
     "output_type": "stream",
     "text": [
      "C:\\Users\\guilh\\Anaconda3\\lib\\site-packages\\sklearn\\svm\\_base.py:986: ConvergenceWarning: Liblinear failed to converge, increase the number of iterations.\n",
      "  \"the number of iterations.\", ConvergenceWarning)\n"
     ]
    }
   ],
   "source": [
    "X = df[['model_age', 'km_per_year', 'price']]\n",
    "y = df['sold']\n",
    "\n",
    "seed = 20\n",
    "X_train, X_test, y_train, y_test = train_test_split(X, y, random_state=seed, stratify=y, test_size=0.25)\n",
    "\n",
    "modelo = LinearSVC(random_state=seed)\n",
    "modelo.fit(X_train, y_train)\n",
    "y_pred = modelo.predict(X_test)\n",
    "acuracia = accuracy_score(y_test, y_pred)\n",
    "print(f'A acurancia do modelo é: {acuracia:0.2%}')"
   ]
  },
  {
   "cell_type": "markdown",
   "id": "290e6069",
   "metadata": {},
   "source": [
    "## Utilizando um classe dummy para criar um modelo que sirva de baseline"
   ]
  },
  {
   "cell_type": "code",
   "execution_count": 10,
   "id": "10e7d42b",
   "metadata": {},
   "outputs": [
    {
     "name": "stdout",
     "output_type": "stream",
     "text": [
      "A acurácia do dummy stratified foi 58.00%\n"
     ]
    }
   ],
   "source": [
    "dummy_stratified = DummyClassifier(random_state=seed)\n",
    "dummy_stratified.fit(X_train, y_train)\n",
    "accuracy = dummy_stratified.score(X_test, y_test)\n",
    "\n",
    "print(f'A acurácia do dummy stratified foi {accuracy:0.2%}')"
   ]
  },
  {
   "cell_type": "code",
   "execution_count": 11,
   "id": "87cd50d0",
   "metadata": {},
   "outputs": [
    {
     "name": "stdout",
     "output_type": "stream",
     "text": [
      "A acurácia do dummy most frequent foi 58.00%\n"
     ]
    }
   ],
   "source": [
    "dummy_mostfrequent = DummyClassifier(strategy='most_frequent', random_state=seed)\n",
    "dummy_mostfrequent.fit(X_train, y_train)\n",
    "accuracy = dummy_mostfrequent.score(X_test, y_test)\n",
    "\n",
    "print(f'A acurácia do dummy most frequent foi {accuracy:0.2%}')"
   ]
  },
  {
   "cell_type": "code",
   "execution_count": 12,
   "id": "3bd9b083",
   "metadata": {},
   "outputs": [
    {
     "name": "stdout",
     "output_type": "stream",
     "text": [
      "A acurancia do modelo é: 75.92%\n"
     ]
    }
   ],
   "source": [
    "seed = 20\n",
    "X_train_raw, X_test_raw, y_train, y_test = train_test_split(X, y, random_state=seed, stratify=y, test_size=0.25)\n",
    "\n",
    "scaler = StandardScaler()\n",
    "scaler.fit(X_train_raw)\n",
    "X_train = scaler.transform(X_train_raw)\n",
    "X_test = scaler.transform(X_test_raw)\n",
    "\n",
    "\n",
    "modelo = SVC(random_state=20)\n",
    "modelo.fit(X_train, y_train)\n",
    "y_pred = modelo.predict(X_test)\n",
    "acuracia = accuracy_score(y_test, y_pred)\n",
    "print(f'A acurancia do modelo é: {acuracia:0.2%}')"
   ]
  },
  {
   "cell_type": "markdown",
   "id": "291fc100",
   "metadata": {},
   "source": [
    "## Utilizando um estimador do tipo árvore de decisão"
   ]
  },
  {
   "cell_type": "code",
   "execution_count": 29,
   "id": "eb1c9daa",
   "metadata": {},
   "outputs": [
    {
     "name": "stdout",
     "output_type": "stream",
     "text": [
      "A acurancia do modelo é: 78.40%\n"
     ]
    }
   ],
   "source": [
    "seed = 20\n",
    "X_train, X_test, y_train, y_test = train_test_split(X, y, random_state=seed, stratify=y, test_size=0.25)\n",
    "\n",
    "modelo = DecisionTreeClassifier(random_state=20, max_depth=3)\n",
    "modelo.fit(X_train, y_train)\n",
    "y_pred = modelo.predict(X_test)\n",
    "acuracia = accuracy_score(y_test, y_pred)\n",
    "print(f'A acurancia do modelo é: {acuracia:0.2%}')"
   ]
  },
  {
   "cell_type": "code",
   "execution_count": 30,
   "id": "dc306d0c",
   "metadata": {},
   "outputs": [
    {
     "data": {
      "image/svg+xml": [
       "<?xml version=\"1.0\" encoding=\"UTF-8\" standalone=\"no\"?>\r\n",
       "<!DOCTYPE svg PUBLIC \"-//W3C//DTD SVG 1.1//EN\"\r\n",
       " \"http://www.w3.org/Graphics/SVG/1.1/DTD/svg11.dtd\">\r\n",
       "<!-- Generated by graphviz version 2.46.0 (20210118.1747)\r\n",
       " -->\r\n",
       "<!-- Title: Tree Pages: 1 -->\r\n",
       "<svg width=\"902pt\" height=\"433pt\"\r\n",
       " viewBox=\"0.00 0.00 902.00 433.00\" xmlns=\"http://www.w3.org/2000/svg\" xmlns:xlink=\"http://www.w3.org/1999/xlink\">\r\n",
       "<g id=\"graph0\" class=\"graph\" transform=\"scale(1 1) rotate(0) translate(4 429)\">\r\n",
       "<title>Tree</title>\r\n",
       "<polygon fill=\"white\" stroke=\"transparent\" points=\"-4,4 -4,-429 898,-429 898,4 -4,4\"/>\r\n",
       "<!-- 0 -->\r\n",
       "<g id=\"node1\" class=\"node\">\r\n",
       "<title>0</title>\r\n",
       "<path fill=\"#c8e4f8\" stroke=\"black\" d=\"M387,-425C387,-425 265,-425 265,-425 259,-425 253,-419 253,-413 253,-413 253,-354 253,-354 253,-348 259,-342 265,-342 265,-342 387,-342 387,-342 393,-342 399,-348 399,-354 399,-354 399,-413 399,-413 399,-419 393,-425 387,-425\"/>\r\n",
       "<text text-anchor=\"middle\" x=\"326\" y=\"-409.8\" font-family=\"Helvetica,sans-Serif\" font-size=\"14.00\">price &lt;= 59976.24</text>\r\n",
       "<text text-anchor=\"middle\" x=\"326\" y=\"-394.8\" font-family=\"Helvetica,sans-Serif\" font-size=\"14.00\">gini = 0.487</text>\r\n",
       "<text text-anchor=\"middle\" x=\"326\" y=\"-379.8\" font-family=\"Helvetica,sans-Serif\" font-size=\"14.00\">samples = 7500</text>\r\n",
       "<text text-anchor=\"middle\" x=\"326\" y=\"-364.8\" font-family=\"Helvetica,sans-Serif\" font-size=\"14.00\">value = [3150, 4350]</text>\r\n",
       "<text text-anchor=\"middle\" x=\"326\" y=\"-349.8\" font-family=\"Helvetica,sans-Serif\" font-size=\"14.00\">class = Sim</text>\r\n",
       "</g>\r\n",
       "<!-- 1 -->\r\n",
       "<g id=\"node2\" class=\"node\">\r\n",
       "<title>1</title>\r\n",
       "<path fill=\"#52a9e8\" stroke=\"black\" d=\"M292,-306C292,-306 174,-306 174,-306 168,-306 162,-300 162,-294 162,-294 162,-235 162,-235 162,-229 168,-223 174,-223 174,-223 292,-223 292,-223 298,-223 304,-229 304,-235 304,-235 304,-294 304,-294 304,-300 298,-306 292,-306\"/>\r\n",
       "<text text-anchor=\"middle\" x=\"233\" y=\"-290.8\" font-family=\"Helvetica,sans-Serif\" font-size=\"14.00\">price &lt;= 40083.385</text>\r\n",
       "<text text-anchor=\"middle\" x=\"233\" y=\"-275.8\" font-family=\"Helvetica,sans-Serif\" font-size=\"14.00\">gini = 0.198</text>\r\n",
       "<text text-anchor=\"middle\" x=\"233\" y=\"-260.8\" font-family=\"Helvetica,sans-Serif\" font-size=\"14.00\">samples = 3261</text>\r\n",
       "<text text-anchor=\"middle\" x=\"233\" y=\"-245.8\" font-family=\"Helvetica,sans-Serif\" font-size=\"14.00\">value = [364, 2897]</text>\r\n",
       "<text text-anchor=\"middle\" x=\"233\" y=\"-230.8\" font-family=\"Helvetica,sans-Serif\" font-size=\"14.00\">class = Sim</text>\r\n",
       "</g>\r\n",
       "<!-- 0&#45;&gt;1 -->\r\n",
       "<g id=\"edge1\" class=\"edge\">\r\n",
       "<title>0&#45;&gt;1</title>\r\n",
       "<path fill=\"none\" stroke=\"black\" d=\"M293.73,-341.91C286.59,-332.92 278.96,-323.32 271.59,-314.05\"/>\r\n",
       "<polygon fill=\"black\" stroke=\"black\" points=\"274.17,-311.67 265.21,-306.02 268.69,-316.03 274.17,-311.67\"/>\r\n",
       "<text text-anchor=\"middle\" x=\"262.37\" y=\"-327.16\" font-family=\"Helvetica,sans-Serif\" font-size=\"14.00\">True</text>\r\n",
       "</g>\r\n",
       "<!-- 6 -->\r\n",
       "<g id=\"node7\" class=\"node\">\r\n",
       "<title>6</title>\r\n",
       "<path fill=\"#f3c3a0\" stroke=\"black\" d=\"M556,-306C556,-306 386,-306 386,-306 380,-306 374,-300 374,-294 374,-294 374,-235 374,-235 374,-229 380,-223 386,-223 386,-223 556,-223 556,-223 562,-223 568,-229 568,-235 568,-235 568,-294 568,-294 568,-300 562,-306 556,-306\"/>\r\n",
       "<text text-anchor=\"middle\" x=\"471\" y=\"-290.8\" font-family=\"Helvetica,sans-Serif\" font-size=\"14.00\">km_per_year &lt;= 24124.006</text>\r\n",
       "<text text-anchor=\"middle\" x=\"471\" y=\"-275.8\" font-family=\"Helvetica,sans-Serif\" font-size=\"14.00\">gini = 0.451</text>\r\n",
       "<text text-anchor=\"middle\" x=\"471\" y=\"-260.8\" font-family=\"Helvetica,sans-Serif\" font-size=\"14.00\">samples = 4239</text>\r\n",
       "<text text-anchor=\"middle\" x=\"471\" y=\"-245.8\" font-family=\"Helvetica,sans-Serif\" font-size=\"14.00\">value = [2786, 1453]</text>\r\n",
       "<text text-anchor=\"middle\" x=\"471\" y=\"-230.8\" font-family=\"Helvetica,sans-Serif\" font-size=\"14.00\">class = Não</text>\r\n",
       "</g>\r\n",
       "<!-- 0&#45;&gt;6 -->\r\n",
       "<g id=\"edge6\" class=\"edge\">\r\n",
       "<title>0&#45;&gt;6</title>\r\n",
       "<path fill=\"none\" stroke=\"black\" d=\"M376.31,-341.91C388.12,-332.38 400.79,-322.15 412.91,-312.37\"/>\r\n",
       "<polygon fill=\"black\" stroke=\"black\" points=\"415.2,-315.02 420.78,-306.02 410.8,-309.58 415.2,-315.02\"/>\r\n",
       "<text text-anchor=\"middle\" x=\"418.13\" y=\"-327.18\" font-family=\"Helvetica,sans-Serif\" font-size=\"14.00\">False</text>\r\n",
       "</g>\r\n",
       "<!-- 2 -->\r\n",
       "<g id=\"node3\" class=\"node\">\r\n",
       "<title>2</title>\r\n",
       "<path fill=\"#399de5\" stroke=\"black\" d=\"M110,-179.5C110,-179.5 12,-179.5 12,-179.5 6,-179.5 0,-173.5 0,-167.5 0,-167.5 0,-123.5 0,-123.5 0,-117.5 6,-111.5 12,-111.5 12,-111.5 110,-111.5 110,-111.5 116,-111.5 122,-117.5 122,-123.5 122,-123.5 122,-167.5 122,-167.5 122,-173.5 116,-179.5 110,-179.5\"/>\r\n",
       "<text text-anchor=\"middle\" x=\"61\" y=\"-164.3\" font-family=\"Helvetica,sans-Serif\" font-size=\"14.00\">gini = 0.0</text>\r\n",
       "<text text-anchor=\"middle\" x=\"61\" y=\"-149.3\" font-family=\"Helvetica,sans-Serif\" font-size=\"14.00\">samples = 1425</text>\r\n",
       "<text text-anchor=\"middle\" x=\"61\" y=\"-134.3\" font-family=\"Helvetica,sans-Serif\" font-size=\"14.00\">value = [0, 1425]</text>\r\n",
       "<text text-anchor=\"middle\" x=\"61\" y=\"-119.3\" font-family=\"Helvetica,sans-Serif\" font-size=\"14.00\">class = Sim</text>\r\n",
       "</g>\r\n",
       "<!-- 1&#45;&gt;2 -->\r\n",
       "<g id=\"edge2\" class=\"edge\">\r\n",
       "<title>1&#45;&gt;2</title>\r\n",
       "<path fill=\"none\" stroke=\"black\" d=\"M173.33,-222.91C155.48,-210.77 135.96,-197.49 118.28,-185.46\"/>\r\n",
       "<polygon fill=\"black\" stroke=\"black\" points=\"120,-182.4 109.76,-179.67 116.06,-188.19 120,-182.4\"/>\r\n",
       "</g>\r\n",
       "<!-- 3 -->\r\n",
       "<g id=\"node4\" class=\"node\">\r\n",
       "<title>3</title>\r\n",
       "<path fill=\"#6ab5eb\" stroke=\"black\" d=\"M313.5,-187C313.5,-187 152.5,-187 152.5,-187 146.5,-187 140.5,-181 140.5,-175 140.5,-175 140.5,-116 140.5,-116 140.5,-110 146.5,-104 152.5,-104 152.5,-104 313.5,-104 313.5,-104 319.5,-104 325.5,-110 325.5,-116 325.5,-116 325.5,-175 325.5,-175 325.5,-181 319.5,-187 313.5,-187\"/>\r\n",
       "<text text-anchor=\"middle\" x=\"233\" y=\"-171.8\" font-family=\"Helvetica,sans-Serif\" font-size=\"14.00\">km_per_year &lt;= 10288.51</text>\r\n",
       "<text text-anchor=\"middle\" x=\"233\" y=\"-156.8\" font-family=\"Helvetica,sans-Serif\" font-size=\"14.00\">gini = 0.318</text>\r\n",
       "<text text-anchor=\"middle\" x=\"233\" y=\"-141.8\" font-family=\"Helvetica,sans-Serif\" font-size=\"14.00\">samples = 1836</text>\r\n",
       "<text text-anchor=\"middle\" x=\"233\" y=\"-126.8\" font-family=\"Helvetica,sans-Serif\" font-size=\"14.00\">value = [364, 1472]</text>\r\n",
       "<text text-anchor=\"middle\" x=\"233\" y=\"-111.8\" font-family=\"Helvetica,sans-Serif\" font-size=\"14.00\">class = Sim</text>\r\n",
       "</g>\r\n",
       "<!-- 1&#45;&gt;3 -->\r\n",
       "<g id=\"edge3\" class=\"edge\">\r\n",
       "<title>1&#45;&gt;3</title>\r\n",
       "<path fill=\"none\" stroke=\"black\" d=\"M233,-222.91C233,-214.65 233,-205.86 233,-197.3\"/>\r\n",
       "<polygon fill=\"black\" stroke=\"black\" points=\"236.5,-197.02 233,-187.02 229.5,-197.02 236.5,-197.02\"/>\r\n",
       "</g>\r\n",
       "<!-- 4 -->\r\n",
       "<g id=\"node5\" class=\"node\">\r\n",
       "<title>4</title>\r\n",
       "<path fill=\"#c0e0f7\" stroke=\"black\" d=\"M133.5,-68C133.5,-68 44.5,-68 44.5,-68 38.5,-68 32.5,-62 32.5,-56 32.5,-56 32.5,-12 32.5,-12 32.5,-6 38.5,0 44.5,0 44.5,0 133.5,0 133.5,0 139.5,0 145.5,-6 145.5,-12 145.5,-12 145.5,-56 145.5,-56 145.5,-62 139.5,-68 133.5,-68\"/>\r\n",
       "<text text-anchor=\"middle\" x=\"89\" y=\"-52.8\" font-family=\"Helvetica,sans-Serif\" font-size=\"14.00\">gini = 0.482</text>\r\n",
       "<text text-anchor=\"middle\" x=\"89\" y=\"-37.8\" font-family=\"Helvetica,sans-Serif\" font-size=\"14.00\">samples = 42</text>\r\n",
       "<text text-anchor=\"middle\" x=\"89\" y=\"-22.8\" font-family=\"Helvetica,sans-Serif\" font-size=\"14.00\">value = [17, 25]</text>\r\n",
       "<text text-anchor=\"middle\" x=\"89\" y=\"-7.8\" font-family=\"Helvetica,sans-Serif\" font-size=\"14.00\">class = Sim</text>\r\n",
       "</g>\r\n",
       "<!-- 3&#45;&gt;4 -->\r\n",
       "<g id=\"edge4\" class=\"edge\">\r\n",
       "<title>3&#45;&gt;4</title>\r\n",
       "<path fill=\"none\" stroke=\"black\" d=\"M179.38,-103.73C166.79,-94.15 153.39,-83.96 140.87,-74.44\"/>\r\n",
       "<polygon fill=\"black\" stroke=\"black\" points=\"142.87,-71.57 132.79,-68.3 138.63,-77.14 142.87,-71.57\"/>\r\n",
       "</g>\r\n",
       "<!-- 5 -->\r\n",
       "<g id=\"node6\" class=\"node\">\r\n",
       "<title>5</title>\r\n",
       "<path fill=\"#68b5eb\" stroke=\"black\" d=\"M290,-68C290,-68 176,-68 176,-68 170,-68 164,-62 164,-56 164,-56 164,-12 164,-12 164,-6 170,0 176,0 176,0 290,0 290,0 296,0 302,-6 302,-12 302,-12 302,-56 302,-56 302,-62 296,-68 290,-68\"/>\r\n",
       "<text text-anchor=\"middle\" x=\"233\" y=\"-52.8\" font-family=\"Helvetica,sans-Serif\" font-size=\"14.00\">gini = 0.312</text>\r\n",
       "<text text-anchor=\"middle\" x=\"233\" y=\"-37.8\" font-family=\"Helvetica,sans-Serif\" font-size=\"14.00\">samples = 1794</text>\r\n",
       "<text text-anchor=\"middle\" x=\"233\" y=\"-22.8\" font-family=\"Helvetica,sans-Serif\" font-size=\"14.00\">value = [347, 1447]</text>\r\n",
       "<text text-anchor=\"middle\" x=\"233\" y=\"-7.8\" font-family=\"Helvetica,sans-Serif\" font-size=\"14.00\">class = Sim</text>\r\n",
       "</g>\r\n",
       "<!-- 3&#45;&gt;5 -->\r\n",
       "<g id=\"edge5\" class=\"edge\">\r\n",
       "<title>3&#45;&gt;5</title>\r\n",
       "<path fill=\"none\" stroke=\"black\" d=\"M233,-103.73C233,-95.52 233,-86.86 233,-78.56\"/>\r\n",
       "<polygon fill=\"black\" stroke=\"black\" points=\"236.5,-78.3 233,-68.3 229.5,-78.3 236.5,-78.3\"/>\r\n",
       "</g>\r\n",
       "<!-- 7 -->\r\n",
       "<g id=\"node8\" class=\"node\">\r\n",
       "<title>7</title>\r\n",
       "<path fill=\"#fceee5\" stroke=\"black\" d=\"M532,-187C532,-187 410,-187 410,-187 404,-187 398,-181 398,-175 398,-175 398,-116 398,-116 398,-110 404,-104 410,-104 410,-104 532,-104 532,-104 538,-104 544,-110 544,-116 544,-116 544,-175 544,-175 544,-181 538,-187 532,-187\"/>\r\n",
       "<text text-anchor=\"middle\" x=\"471\" y=\"-171.8\" font-family=\"Helvetica,sans-Serif\" font-size=\"14.00\">price &lt;= 99965.645</text>\r\n",
       "<text text-anchor=\"middle\" x=\"471\" y=\"-156.8\" font-family=\"Helvetica,sans-Serif\" font-size=\"14.00\">gini = 0.498</text>\r\n",
       "<text text-anchor=\"middle\" x=\"471\" y=\"-141.8\" font-family=\"Helvetica,sans-Serif\" font-size=\"14.00\">samples = 2627</text>\r\n",
       "<text text-anchor=\"middle\" x=\"471\" y=\"-126.8\" font-family=\"Helvetica,sans-Serif\" font-size=\"14.00\">value = [1406, 1221]</text>\r\n",
       "<text text-anchor=\"middle\" x=\"471\" y=\"-111.8\" font-family=\"Helvetica,sans-Serif\" font-size=\"14.00\">class = Não</text>\r\n",
       "</g>\r\n",
       "<!-- 6&#45;&gt;7 -->\r\n",
       "<g id=\"edge7\" class=\"edge\">\r\n",
       "<title>6&#45;&gt;7</title>\r\n",
       "<path fill=\"none\" stroke=\"black\" d=\"M471,-222.91C471,-214.65 471,-205.86 471,-197.3\"/>\r\n",
       "<polygon fill=\"black\" stroke=\"black\" points=\"474.5,-197.02 471,-187.02 467.5,-197.02 474.5,-197.02\"/>\r\n",
       "</g>\r\n",
       "<!-- 10 -->\r\n",
       "<g id=\"node11\" class=\"node\">\r\n",
       "<title>10</title>\r\n",
       "<path fill=\"#e9965a\" stroke=\"black\" d=\"M752,-187C752,-187 626,-187 626,-187 620,-187 614,-181 614,-175 614,-175 614,-116 614,-116 614,-110 620,-104 626,-104 626,-104 752,-104 752,-104 758,-104 764,-110 764,-116 764,-116 764,-175 764,-175 764,-181 758,-187 752,-187\"/>\r\n",
       "<text text-anchor=\"middle\" x=\"689\" y=\"-171.8\" font-family=\"Helvetica,sans-Serif\" font-size=\"14.00\">price &lt;= 100076.957</text>\r\n",
       "<text text-anchor=\"middle\" x=\"689\" y=\"-156.8\" font-family=\"Helvetica,sans-Serif\" font-size=\"14.00\">gini = 0.246</text>\r\n",
       "<text text-anchor=\"middle\" x=\"689\" y=\"-141.8\" font-family=\"Helvetica,sans-Serif\" font-size=\"14.00\">samples = 1612</text>\r\n",
       "<text text-anchor=\"middle\" x=\"689\" y=\"-126.8\" font-family=\"Helvetica,sans-Serif\" font-size=\"14.00\">value = [1380, 232]</text>\r\n",
       "<text text-anchor=\"middle\" x=\"689\" y=\"-111.8\" font-family=\"Helvetica,sans-Serif\" font-size=\"14.00\">class = Não</text>\r\n",
       "</g>\r\n",
       "<!-- 6&#45;&gt;10 -->\r\n",
       "<g id=\"edge10\" class=\"edge\">\r\n",
       "<title>6&#45;&gt;10</title>\r\n",
       "<path fill=\"none\" stroke=\"black\" d=\"M546.63,-222.91C565.42,-212.82 585.68,-201.95 604.85,-191.66\"/>\r\n",
       "<polygon fill=\"black\" stroke=\"black\" points=\"606.71,-194.64 613.87,-186.82 603.4,-188.47 606.71,-194.64\"/>\r\n",
       "</g>\r\n",
       "<!-- 8 -->\r\n",
       "<g id=\"node9\" class=\"node\">\r\n",
       "<title>8</title>\r\n",
       "<path fill=\"#f8dfcc\" stroke=\"black\" d=\"M446,-68C446,-68 332,-68 332,-68 326,-68 320,-62 320,-56 320,-56 320,-12 320,-12 320,-6 326,0 332,0 332,0 446,0 446,0 452,0 458,-6 458,-12 458,-12 458,-56 458,-56 458,-62 452,-68 446,-68\"/>\r\n",
       "<text text-anchor=\"middle\" x=\"389\" y=\"-52.8\" font-family=\"Helvetica,sans-Serif\" font-size=\"14.00\">gini = 0.489</text>\r\n",
       "<text text-anchor=\"middle\" x=\"389\" y=\"-37.8\" font-family=\"Helvetica,sans-Serif\" font-size=\"14.00\">samples = 2206</text>\r\n",
       "<text text-anchor=\"middle\" x=\"389\" y=\"-22.8\" font-family=\"Helvetica,sans-Serif\" font-size=\"14.00\">value = [1266, 940]</text>\r\n",
       "<text text-anchor=\"middle\" x=\"389\" y=\"-7.8\" font-family=\"Helvetica,sans-Serif\" font-size=\"14.00\">class = Não</text>\r\n",
       "</g>\r\n",
       "<!-- 7&#45;&gt;8 -->\r\n",
       "<g id=\"edge8\" class=\"edge\">\r\n",
       "<title>7&#45;&gt;8</title>\r\n",
       "<path fill=\"none\" stroke=\"black\" d=\"M440.47,-103.73C433.77,-94.79 426.68,-85.32 419.97,-76.36\"/>\r\n",
       "<polygon fill=\"black\" stroke=\"black\" points=\"422.73,-74.21 413.94,-68.3 417.13,-78.4 422.73,-74.21\"/>\r\n",
       "</g>\r\n",
       "<!-- 9 -->\r\n",
       "<g id=\"node10\" class=\"node\">\r\n",
       "<title>9</title>\r\n",
       "<path fill=\"#9ccef2\" stroke=\"black\" d=\"M594,-68C594,-68 488,-68 488,-68 482,-68 476,-62 476,-56 476,-56 476,-12 476,-12 476,-6 482,0 488,0 488,0 594,0 594,0 600,0 606,-6 606,-12 606,-12 606,-56 606,-56 606,-62 600,-68 594,-68\"/>\r\n",
       "<text text-anchor=\"middle\" x=\"541\" y=\"-52.8\" font-family=\"Helvetica,sans-Serif\" font-size=\"14.00\">gini = 0.444</text>\r\n",
       "<text text-anchor=\"middle\" x=\"541\" y=\"-37.8\" font-family=\"Helvetica,sans-Serif\" font-size=\"14.00\">samples = 421</text>\r\n",
       "<text text-anchor=\"middle\" x=\"541\" y=\"-22.8\" font-family=\"Helvetica,sans-Serif\" font-size=\"14.00\">value = [140, 281]</text>\r\n",
       "<text text-anchor=\"middle\" x=\"541\" y=\"-7.8\" font-family=\"Helvetica,sans-Serif\" font-size=\"14.00\">class = Sim</text>\r\n",
       "</g>\r\n",
       "<!-- 7&#45;&gt;9 -->\r\n",
       "<g id=\"edge9\" class=\"edge\">\r\n",
       "<title>7&#45;&gt;9</title>\r\n",
       "<path fill=\"none\" stroke=\"black\" d=\"M497.07,-103.73C502.66,-94.97 508.59,-85.7 514.21,-76.91\"/>\r\n",
       "<polygon fill=\"black\" stroke=\"black\" points=\"517.28,-78.61 519.71,-68.3 511.38,-74.84 517.28,-78.61\"/>\r\n",
       "</g>\r\n",
       "<!-- 11 -->\r\n",
       "<g id=\"node12\" class=\"node\">\r\n",
       "<title>11</title>\r\n",
       "<path fill=\"#e68642\" stroke=\"black\" d=\"M742,-68C742,-68 636,-68 636,-68 630,-68 624,-62 624,-56 624,-56 624,-12 624,-12 624,-6 630,0 636,0 636,0 742,0 742,0 748,0 754,-6 754,-12 754,-12 754,-56 754,-56 754,-62 748,-68 742,-68\"/>\r\n",
       "<text text-anchor=\"middle\" x=\"689\" y=\"-52.8\" font-family=\"Helvetica,sans-Serif\" font-size=\"14.00\">gini = 0.08</text>\r\n",
       "<text text-anchor=\"middle\" x=\"689\" y=\"-37.8\" font-family=\"Helvetica,sans-Serif\" font-size=\"14.00\">samples = 1350</text>\r\n",
       "<text text-anchor=\"middle\" x=\"689\" y=\"-22.8\" font-family=\"Helvetica,sans-Serif\" font-size=\"14.00\">value = [1294, 56]</text>\r\n",
       "<text text-anchor=\"middle\" x=\"689\" y=\"-7.8\" font-family=\"Helvetica,sans-Serif\" font-size=\"14.00\">class = Não</text>\r\n",
       "</g>\r\n",
       "<!-- 10&#45;&gt;11 -->\r\n",
       "<g id=\"edge11\" class=\"edge\">\r\n",
       "<title>10&#45;&gt;11</title>\r\n",
       "<path fill=\"none\" stroke=\"black\" d=\"M689,-103.73C689,-95.52 689,-86.86 689,-78.56\"/>\r\n",
       "<polygon fill=\"black\" stroke=\"black\" points=\"692.5,-78.3 689,-68.3 685.5,-78.3 692.5,-78.3\"/>\r\n",
       "</g>\r\n",
       "<!-- 12 -->\r\n",
       "<g id=\"node13\" class=\"node\">\r\n",
       "<title>12</title>\r\n",
       "<path fill=\"#9acdf2\" stroke=\"black\" d=\"M882,-68C882,-68 784,-68 784,-68 778,-68 772,-62 772,-56 772,-56 772,-12 772,-12 772,-6 778,0 784,0 784,0 882,0 882,0 888,0 894,-6 894,-12 894,-12 894,-56 894,-56 894,-62 888,-68 882,-68\"/>\r\n",
       "<text text-anchor=\"middle\" x=\"833\" y=\"-52.8\" font-family=\"Helvetica,sans-Serif\" font-size=\"14.00\">gini = 0.441</text>\r\n",
       "<text text-anchor=\"middle\" x=\"833\" y=\"-37.8\" font-family=\"Helvetica,sans-Serif\" font-size=\"14.00\">samples = 262</text>\r\n",
       "<text text-anchor=\"middle\" x=\"833\" y=\"-22.8\" font-family=\"Helvetica,sans-Serif\" font-size=\"14.00\">value = [86, 176]</text>\r\n",
       "<text text-anchor=\"middle\" x=\"833\" y=\"-7.8\" font-family=\"Helvetica,sans-Serif\" font-size=\"14.00\">class = Sim</text>\r\n",
       "</g>\r\n",
       "<!-- 10&#45;&gt;12 -->\r\n",
       "<g id=\"edge12\" class=\"edge\">\r\n",
       "<title>10&#45;&gt;12</title>\r\n",
       "<path fill=\"none\" stroke=\"black\" d=\"M742.62,-103.73C755.21,-94.15 768.61,-83.96 781.13,-74.44\"/>\r\n",
       "<polygon fill=\"black\" stroke=\"black\" points=\"783.37,-77.14 789.21,-68.3 779.13,-71.57 783.37,-77.14\"/>\r\n",
       "</g>\r\n",
       "</g>\r\n",
       "</svg>\r\n"
      ],
      "text/plain": [
       "<graphviz.files.Source at 0x279a2b371c8>"
      ]
     },
     "execution_count": 30,
     "metadata": {},
     "output_type": "execute_result"
    }
   ],
   "source": [
    "features = X.columns\n",
    "dot_data = export_graphviz(modelo, feature_names=features, class_names=['Não', 'Sim'],\n",
    "                           filled=True, rounded=True)\n",
    "graphviz.Source(dot_data)"
   ]
  },
  {
   "cell_type": "code",
   "execution_count": null,
   "id": "42890f62",
   "metadata": {},
   "outputs": [],
   "source": []
  }
 ],
 "metadata": {
  "kernelspec": {
   "display_name": "Python 3",
   "language": "python",
   "name": "python3"
  },
  "language_info": {
   "codemirror_mode": {
    "name": "ipython",
    "version": 3
   },
   "file_extension": ".py",
   "mimetype": "text/x-python",
   "name": "python",
   "nbconvert_exporter": "python",
   "pygments_lexer": "ipython3",
   "version": "3.7.10"
  }
 },
 "nbformat": 4,
 "nbformat_minor": 5
}
