{
 "cells": [
  {
   "cell_type": "markdown",
   "id": "eec0d7d1",
   "metadata": {},
   "source": [
    "# Cursos de Introdução a classificação com SKLearn\n",
    "\n",
    "## Aula 01\n",
    "\n",
    "### Objetivos do curso\n",
    "* Aplique machine learning na sua empresa\n",
    "* Pratique com diversos exemplos\n",
    "* Veja como algoritmos de classificação estão por todos os lados no nosso dia a dia\n",
    "* Analise resultados com a mente de um cientista de dados\n",
    "* Compare o resultado de algoritmos lineares e não lineares\n",
    "* Entenda por trás dos panos o que é o tal do aprendizado de máquina para classificação\n",
    "* Faça estudos replicáveis, com estratégias de testes\n",
    "* Veja Support Vector Machines, Árvores de Decisão e Dummy Classifiers\n",
    "\n",
    "Link: https://cursos.alura.com.br/course/machine-learning-introducao-a-classificacao-com-sklearn"
   ]
  },
  {
   "cell_type": "markdown",
   "id": "f73b815f",
   "metadata": {},
   "source": [
    "### Importandos as bibliotecas necessárias"
   ]
  },
  {
   "cell_type": "code",
   "execution_count": 21,
   "id": "0f4fb87b",
   "metadata": {},
   "outputs": [],
   "source": [
    "from sklearn.svm import LinearSVC\n",
    "from sklearn.metrics import accuracy_score"
   ]
  },
  {
   "cell_type": "markdown",
   "id": "ac679946",
   "metadata": {},
   "source": [
    "### Introdução"
   ]
  },
  {
   "cell_type": "code",
   "execution_count": 28,
   "id": "3eed3bb9",
   "metadata": {},
   "outputs": [],
   "source": [
    "# features (1 sim, 0 não)\n",
    "# pelo longo? \n",
    "# perna curta?\n",
    "# faz auau?\n",
    "porco1 = [0, 1, 0]\n",
    "porco2 = [0, 1, 1]\n",
    "porco3 = [1, 1, 0]\n",
    "\n",
    "cachorro1 = [0, 1, 1]\n",
    "cachorro2 = [1, 0, 1]\n",
    "cachorro3 = [1, 1, 1]\n",
    "\n",
    "# 1 => porco, 0 => cachorro\n",
    "X_train = [porco1, porco2, porco3, cachorro1, cachorro2, cachorro3]\n",
    "y_train = [1,1,1,0,0,0]"
   ]
  },
  {
   "cell_type": "code",
   "execution_count": 29,
   "id": "171dd0fa",
   "metadata": {},
   "outputs": [
    {
     "data": {
      "text/plain": [
       "LinearSVC()"
      ]
     },
     "execution_count": 29,
     "metadata": {},
     "output_type": "execute_result"
    }
   ],
   "source": [
    "model = LinearSVC()\n",
    "model.fit(X_train, y_train)"
   ]
  },
  {
   "cell_type": "code",
   "execution_count": 30,
   "id": "7748864b",
   "metadata": {},
   "outputs": [
    {
     "data": {
      "text/plain": [
       "array([0])"
      ]
     },
     "execution_count": 30,
     "metadata": {},
     "output_type": "execute_result"
    }
   ],
   "source": [
    "animal_misterioso = [1,1,1]\n",
    "model.predict([animal_misterioso])"
   ]
  },
  {
   "cell_type": "code",
   "execution_count": 34,
   "id": "5138454c",
   "metadata": {},
   "outputs": [],
   "source": [
    "misterio1 = [1,1,1]\n",
    "misterio2 = [1,1,0]\n",
    "misterio3 = [0,1,1]\n",
    "\n",
    "x_test = [misterio1, misterio2, misterio3]"
   ]
  },
  {
   "cell_type": "code",
   "execution_count": 35,
   "id": "a77a15d1",
   "metadata": {},
   "outputs": [
    {
     "data": {
      "text/plain": [
       "array([0, 1, 0])"
      ]
     },
     "execution_count": 35,
     "metadata": {},
     "output_type": "execute_result"
    }
   ],
   "source": [
    "model.predict(x_test)"
   ]
  },
  {
   "cell_type": "code",
   "execution_count": 37,
   "id": "a4ba19be",
   "metadata": {},
   "outputs": [],
   "source": [
    "misterio1 = [1,1,1]\n",
    "misterio2 = [1,1,0]\n",
    "misterio3 = [0,1,1]\n",
    "\n",
    "x_test = [misterio1, misterio2, misterio3]\n",
    "y_pred = model.predict(testes)\n",
    "\n",
    "y_test = [0, 1, 1]"
   ]
  },
  {
   "cell_type": "code",
   "execution_count": 38,
   "id": "d1243f3b",
   "metadata": {},
   "outputs": [
    {
     "data": {
      "text/plain": [
       "array([ True,  True, False])"
      ]
     },
     "execution_count": 38,
     "metadata": {},
     "output_type": "execute_result"
    }
   ],
   "source": [
    "y_test == y_pred"
   ]
  },
  {
   "cell_type": "code",
   "execution_count": 39,
   "id": "8dce93e3",
   "metadata": {},
   "outputs": [
    {
     "data": {
      "text/plain": [
       "2"
      ]
     },
     "execution_count": 39,
     "metadata": {},
     "output_type": "execute_result"
    }
   ],
   "source": [
    "corretos = (y_test == y_pred).sum()\n",
    "corretos"
   ]
  },
  {
   "cell_type": "code",
   "execution_count": 43,
   "id": "729b8680",
   "metadata": {
    "scrolled": true
   },
   "outputs": [
    {
     "name": "stdout",
     "output_type": "stream",
     "text": [
      "Taxa de acerto 66.67%\n"
     ]
    }
   ],
   "source": [
    "corretos = (y_test == y_pred).sum()\n",
    "total = len(y_test)\n",
    "taxa_de_acerto = corretos/total\n",
    "print(f\"Taxa de acerto {taxa_de_acerto:0.2%}\")"
   ]
  },
  {
   "cell_type": "markdown",
   "id": "bbd3116d",
   "metadata": {},
   "source": [
    "### Utilizando a função accuracy_score do sklearn"
   ]
  },
  {
   "cell_type": "code",
   "execution_count": 42,
   "id": "7de985fe",
   "metadata": {},
   "outputs": [
    {
     "name": "stdout",
     "output_type": "stream",
     "text": [
      "Taxa de acerto 66.66666666666666\n"
     ]
    }
   ],
   "source": [
    "from sklearn.metrics import accuracy_score\n",
    "\n",
    "taxa_de_acerto = accuracy_score(y_test, y_pred)\n",
    "print(\"Taxa de acerto\", taxa_de_acerto * 100)"
   ]
  }
 ],
 "metadata": {
  "kernelspec": {
   "display_name": "Python 3",
   "language": "python",
   "name": "python3"
  },
  "language_info": {
   "codemirror_mode": {
    "name": "ipython",
    "version": 3
   },
   "file_extension": ".py",
   "mimetype": "text/x-python",
   "name": "python",
   "nbconvert_exporter": "python",
   "pygments_lexer": "ipython3",
   "version": "3.7.9"
  }
 },
 "nbformat": 4,
 "nbformat_minor": 5
}
