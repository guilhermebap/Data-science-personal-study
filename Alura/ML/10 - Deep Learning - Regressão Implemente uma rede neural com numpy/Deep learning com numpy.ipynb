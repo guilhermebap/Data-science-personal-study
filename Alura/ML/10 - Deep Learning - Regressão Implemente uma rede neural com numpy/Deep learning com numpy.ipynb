{
 "cells": [
  {
   "cell_type": "markdown",
   "id": "68f2bfea",
   "metadata": {},
   "source": [
    "# Regressão: Implemente uma rede neural com numpy\n",
    "## Objetivos\n",
    "* Aprenda conceitos de machine learning em detalhe.\n",
    "* Construa e treine um modelo com a biblioteca numpy.\n",
    "* Aprenda a usar uma rede neural para estimativa de valores.\n",
    "* Veja um exemplo de problema do dia a dia que pode ser resolvido com regressão.\n",
    "* Entenda por trás dos panos como é o aprendizado de máquina para regressão.\n",
    "\n",
    "link: https://cursos.alura.com.br/course/rede-neural-numpy"
   ]
  },
  {
   "cell_type": "markdown",
   "id": "e72ceff6",
   "metadata": {},
   "source": [
    "## Importando as bibliotecas necessárias"
   ]
  },
  {
   "cell_type": "code",
   "execution_count": 44,
   "id": "ac831652",
   "metadata": {},
   "outputs": [],
   "source": [
    "import numpy as np\n",
    "import pandas as pd\n",
    "import matplotlib.pyplot as plt\n",
    "import seaborn as sns\n",
    "from sklearn.model_selection import train_test_split"
   ]
  },
  {
   "cell_type": "markdown",
   "id": "21823a4c",
   "metadata": {},
   "source": [
    "## Carregando os dados e explorando eles"
   ]
  },
  {
   "cell_type": "code",
   "execution_count": 62,
   "id": "8f92f346",
   "metadata": {},
   "outputs": [
    {
     "data": {
      "text/html": [
       "<div>\n",
       "<style scoped>\n",
       "    .dataframe tbody tr th:only-of-type {\n",
       "        vertical-align: middle;\n",
       "    }\n",
       "\n",
       "    .dataframe tbody tr th {\n",
       "        vertical-align: top;\n",
       "    }\n",
       "\n",
       "    .dataframe thead th {\n",
       "        text-align: right;\n",
       "    }\n",
       "</style>\n",
       "<table border=\"1\" class=\"dataframe\">\n",
       "  <thead>\n",
       "    <tr style=\"text-align: right;\">\n",
       "      <th></th>\n",
       "      <th>clima</th>\n",
       "      <th>temperatura</th>\n",
       "      <th>bicicletas_alugadas</th>\n",
       "    </tr>\n",
       "  </thead>\n",
       "  <tbody>\n",
       "    <tr>\n",
       "      <th>0</th>\n",
       "      <td>2</td>\n",
       "      <td>0.363625</td>\n",
       "      <td>985</td>\n",
       "    </tr>\n",
       "    <tr>\n",
       "      <th>1</th>\n",
       "      <td>2</td>\n",
       "      <td>0.353739</td>\n",
       "      <td>801</td>\n",
       "    </tr>\n",
       "    <tr>\n",
       "      <th>2</th>\n",
       "      <td>1</td>\n",
       "      <td>0.189405</td>\n",
       "      <td>1349</td>\n",
       "    </tr>\n",
       "    <tr>\n",
       "      <th>3</th>\n",
       "      <td>1</td>\n",
       "      <td>0.212122</td>\n",
       "      <td>1562</td>\n",
       "    </tr>\n",
       "    <tr>\n",
       "      <th>4</th>\n",
       "      <td>1</td>\n",
       "      <td>0.229270</td>\n",
       "      <td>1600</td>\n",
       "    </tr>\n",
       "  </tbody>\n",
       "</table>\n",
       "</div>"
      ],
      "text/plain": [
       "   clima  temperatura  bicicletas_alugadas\n",
       "0      2     0.363625                  985\n",
       "1      2     0.353739                  801\n",
       "2      1     0.189405                 1349\n",
       "3      1     0.212122                 1562\n",
       "4      1     0.229270                 1600"
      ]
     },
     "execution_count": 62,
     "metadata": {},
     "output_type": "execute_result"
    }
   ],
   "source": [
    "df = pd.read_csv(\"https://raw.githubusercontent.com/alura-cursos/redes-neurais/master/Bicicletas.csv\")\n",
    "df.head()"
   ]
  },
  {
   "cell_type": "code",
   "execution_count": 63,
   "id": "b7ffd966",
   "metadata": {},
   "outputs": [
    {
     "name": "stdout",
     "output_type": "stream",
     "text": [
      "Esses dados são formados por 731 observações e 3 atributos\n"
     ]
    }
   ],
   "source": [
    "print(f'Esses dados são formados por {df.shape[0]} observações e {df.shape[1]} atributos')"
   ]
  },
  {
   "cell_type": "code",
   "execution_count": 64,
   "id": "1b434fd2",
   "metadata": {},
   "outputs": [
    {
     "data": {
      "text/html": [
       "<div>\n",
       "<style scoped>\n",
       "    .dataframe tbody tr th:only-of-type {\n",
       "        vertical-align: middle;\n",
       "    }\n",
       "\n",
       "    .dataframe tbody tr th {\n",
       "        vertical-align: top;\n",
       "    }\n",
       "\n",
       "    .dataframe thead th {\n",
       "        text-align: right;\n",
       "    }\n",
       "</style>\n",
       "<table border=\"1\" class=\"dataframe\">\n",
       "  <thead>\n",
       "    <tr style=\"text-align: right;\">\n",
       "      <th></th>\n",
       "      <th>clima</th>\n",
       "      <th>temperatura</th>\n",
       "      <th>bicicletas_alugadas</th>\n",
       "    </tr>\n",
       "  </thead>\n",
       "  <tbody>\n",
       "    <tr>\n",
       "      <th>count</th>\n",
       "      <td>731.000000</td>\n",
       "      <td>731.000000</td>\n",
       "      <td>731.000000</td>\n",
       "    </tr>\n",
       "    <tr>\n",
       "      <th>mean</th>\n",
       "      <td>1.395349</td>\n",
       "      <td>0.474354</td>\n",
       "      <td>4504.348837</td>\n",
       "    </tr>\n",
       "    <tr>\n",
       "      <th>std</th>\n",
       "      <td>0.544894</td>\n",
       "      <td>0.162961</td>\n",
       "      <td>1937.211452</td>\n",
       "    </tr>\n",
       "    <tr>\n",
       "      <th>min</th>\n",
       "      <td>1.000000</td>\n",
       "      <td>0.079070</td>\n",
       "      <td>22.000000</td>\n",
       "    </tr>\n",
       "    <tr>\n",
       "      <th>25%</th>\n",
       "      <td>1.000000</td>\n",
       "      <td>0.337842</td>\n",
       "      <td>3152.000000</td>\n",
       "    </tr>\n",
       "    <tr>\n",
       "      <th>50%</th>\n",
       "      <td>1.000000</td>\n",
       "      <td>0.486733</td>\n",
       "      <td>4548.000000</td>\n",
       "    </tr>\n",
       "    <tr>\n",
       "      <th>75%</th>\n",
       "      <td>2.000000</td>\n",
       "      <td>0.608602</td>\n",
       "      <td>5956.000000</td>\n",
       "    </tr>\n",
       "    <tr>\n",
       "      <th>max</th>\n",
       "      <td>3.000000</td>\n",
       "      <td>0.840896</td>\n",
       "      <td>8714.000000</td>\n",
       "    </tr>\n",
       "  </tbody>\n",
       "</table>\n",
       "</div>"
      ],
      "text/plain": [
       "            clima  temperatura  bicicletas_alugadas\n",
       "count  731.000000   731.000000           731.000000\n",
       "mean     1.395349     0.474354          4504.348837\n",
       "std      0.544894     0.162961          1937.211452\n",
       "min      1.000000     0.079070            22.000000\n",
       "25%      1.000000     0.337842          3152.000000\n",
       "50%      1.000000     0.486733          4548.000000\n",
       "75%      2.000000     0.608602          5956.000000\n",
       "max      3.000000     0.840896          8714.000000"
      ]
     },
     "execution_count": 64,
     "metadata": {},
     "output_type": "execute_result"
    }
   ],
   "source": [
    "df.describe()"
   ]
  },
  {
   "cell_type": "code",
   "execution_count": 65,
   "id": "d85da68e",
   "metadata": {},
   "outputs": [
    {
     "data": {
      "image/png": "[encoded data removed]",
      "text/plain": [
       "<Figure size 1008x576 with 1 Axes>"
      ]
     },
     "metadata": {
      "needs_background": "light"
     },
     "output_type": "display_data"
    }
   ],
   "source": [
    "fig, ax = plt.subplots(figsize=(14,8))\n",
    "ax.scatter(df['temperatura'], df['bicicletas_alugadas'])\n",
    "ax.set_xlabel('Temperatura', fontsize=14)\n",
    "ax.set_ylabel('Número de bicicletas alugadas', fontsize=14)\n",
    "plt.show()"
   ]
  },
  {
   "cell_type": "code",
   "execution_count": 66,
   "id": "662511ac",
   "metadata": {},
   "outputs": [
    {
     "data": {
      "image/png": "[encoded data removed]",
      "text/plain": [
       "<Figure size 864x432 with 1 Axes>"
      ]
     },
     "metadata": {
      "needs_background": "light"
     },
     "output_type": "display_data"
    }
   ],
   "source": [
    "fig, ax = plt.subplots(figsize=(12,6))\n",
    "sns.swarmplot(x='clima', y='bicicletas_alugadas', data=df, ax=ax)\n",
    "plt.show()"
   ]
  },
  {
   "cell_type": "code",
   "execution_count": 67,
   "id": "9dd00b1b",
   "metadata": {},
   "outputs": [],
   "source": [
    "y = df['bicicletas_alugadas'].values\n",
    "X = df.drop(labels=['bicicletas_alugadas'], axis=1).values"
   ]
  },
  {
   "cell_type": "code",
   "execution_count": 68,
   "id": "d4dc2010",
   "metadata": {},
   "outputs": [
    {
     "data": {
      "text/plain": [
       "8714"
      ]
     },
     "execution_count": 68,
     "metadata": {},
     "output_type": "execute_result"
    }
   ],
   "source": [
    "ymax = np.amax(y)\n",
    "ymax"
   ]
  },
  {
   "cell_type": "code",
   "execution_count": 69,
   "id": "10877072",
   "metadata": {},
   "outputs": [],
   "source": [
    "y = y/ymax"
   ]
  },
  {
   "cell_type": "markdown",
   "id": "44696a67",
   "metadata": {},
   "source": [
    "## Funções de ativação"
   ]
  },
  {
   "cell_type": "code",
   "execution_count": 130,
   "id": "fcb99026",
   "metadata": {},
   "outputs": [],
   "source": [
    "def sigmoid(soma):\n",
    "    return 1/(1+np.exp(-soma))\n",
    "\n",
    "def relu(soma):\n",
    "    return np.maximum(0, soma)"
   ]
  },
  {
   "cell_type": "markdown",
   "id": "82aa11d2",
   "metadata": {},
   "source": [
    "## Estrutura da rede"
   ]
  },
  {
   "cell_type": "code",
   "execution_count": 353,
   "id": "ceab499b",
   "metadata": {},
   "outputs": [],
   "source": [
    "arquitetura = [\n",
    "    {'dim_entrada': 2, 'dim_saida': 3, 'ativacao':relu},\n",
    "    {'dim_entrada': 3, 'dim_saida': 1, 'ativacao':sigmoid}\n",
    "]"
   ]
  },
  {
   "cell_type": "markdown",
   "id": "305c65ea",
   "metadata": {},
   "source": [
    "## Inicializando a rede com pesos e vies"
   ]
  },
  {
   "cell_type": "code",
   "execution_count": 372,
   "id": "a9e85f80",
   "metadata": {},
   "outputs": [],
   "source": [
    "def inicia_camadas(arquitetura, seed=99):\n",
    "    np.random.seed(seed)\n",
    "    \n",
    "    numero_de_camadas = len(arquitetura)\n",
    "    \n",
    "    valores_parametros = {}\n",
    "    \n",
    "    for indice, camada in enumerate(arquitetura):\n",
    "        indice_camada = indice + 1\n",
    "        \n",
    "        tamanho_camada_entrada = camada['dim_entrada']\n",
    "        tamanho_camada_saida = camada['dim_saida']\n",
    "        \n",
    "        valores_parametros['P' + str(indice_camada)] = np.random.randn(tamanho_camada_saida, tamanho_camada_entrada)\n",
    "        valores_parametros['b' + str(indice_camada)] = np.random.randn(tamanho_camada_saida, 1)\n",
    "        \n",
    "    return valores_parametros"
   ]
  },
  {
   "cell_type": "markdown",
   "id": "ebc92237",
   "metadata": {},
   "source": [
    "## Propagando os dados pela rede"
   ]
  },
  {
   "cell_type": "code",
   "execution_count": 373,
   "id": "d1f9bccc",
   "metadata": {},
   "outputs": [],
   "source": [
    "def propaga_uma_camada(ativado_anterior, peso_atual, b_atual, ativacao):\n",
    "    \n",
    "    saida_atual = np.dot(peso_atual, ativado_anterior) + b_atual\n",
    "    \n",
    "    return ativacao(saida_atual), saida_atual"
   ]
  },
  {
   "cell_type": "code",
   "execution_count": 374,
   "id": "4a03e33e",
   "metadata": {},
   "outputs": [],
   "source": [
    "def propaga_total(X, valores_parametros, arquitetura):\n",
    "    memoria = {}\n",
    "    ativado_atual = X\n",
    "    \n",
    "    for indice, camada in enumerate(arquitetura):\n",
    "        indice_camada = indice + 1\n",
    "        ativado_anterior = ativado_atual\n",
    "        func = camada['ativacao']\n",
    "        \n",
    "        peso_atual = valores_parametros['P' + str(indice_camada)]\n",
    "        b_atual = valores_parametros['b' + str(indice_camada)]\n",
    "        \n",
    "        ativado_atual, saida_atual = propaga_uma_camada(ativado_anterior, peso_atual, b_atual, func)\n",
    "        \n",
    "        memoria['A' + str(indice)] = ativado_anterior\n",
    "        memoria['Z' + str(indice_camada)] = saida_atual\n",
    "        \n",
    "    return ativado_atual, memoria"
   ]
  },
  {
   "cell_type": "markdown",
   "id": "ef05f159",
   "metadata": {},
   "source": [
    "## Testando a rede"
   ]
  },
  {
   "cell_type": "code",
   "execution_count": 284,
   "id": "1bd62f80",
   "metadata": {},
   "outputs": [],
   "source": [
    "valores_parametros = inicia_camadas(arquitetura)\n",
    "\n",
    "y_estimado, memoria = propaga_total(X.T, valores_parametros, arquitetura)"
   ]
  },
  {
   "cell_type": "code",
   "execution_count": 285,
   "id": "1f89c3bc",
   "metadata": {},
   "outputs": [
    {
     "data": {
      "text/plain": [
       "array([0.04011373, 0.04209807, 0.07060039, 0.06337533, 0.05838442,\n",
       "       0.05729119, 0.08419077, 0.10438255, 0.09934532, 0.08460796])"
      ]
     },
     "execution_count": 285,
     "metadata": {},
     "output_type": "execute_result"
    }
   ],
   "source": [
    "y_estimado[0,:10]"
   ]
  },
  {
   "cell_type": "markdown",
   "id": "898d962a",
   "metadata": {},
   "source": [
    "## Função custo"
   ]
  },
  {
   "cell_type": "code",
   "execution_count": 407,
   "id": "f13de2ac",
   "metadata": {},
   "outputs": [],
   "source": [
    "def valor_de_custo(y_pred, y):\n",
    "    m = y_pred.shape[1]\n",
    "    \n",
    "    custo = -1/m * (np.dot(y, np.log(y_pred).T)) + np.dot(1-y, np.log(1-y_pred).T)\n",
    "    return np.squeeze(custo)"
   ]
  },
  {
   "cell_type": "code",
   "execution_count": 287,
   "id": "b8341402",
   "metadata": {
    "scrolled": true
   },
   "outputs": [
    {
     "data": {
      "text/plain": [
       "array(-10.32474799)"
      ]
     },
     "execution_count": 287,
     "metadata": {},
     "output_type": "execute_result"
    }
   ],
   "source": [
    "valor_de_custo(y_estimado, y)"
   ]
  },
  {
   "cell_type": "markdown",
   "id": "f431c6ab",
   "metadata": {},
   "source": [
    "## Atualiza os pesos"
   ]
  },
  {
   "cell_type": "code",
   "execution_count": 375,
   "id": "5d2e041d",
   "metadata": {},
   "outputs": [],
   "source": [
    "def atualiza(valores_parametros, gradientes, arquitetura, taxa_aprendizagem):\n",
    "    \n",
    "    for indice_camada, camada in enumerate(arquitetura, 1):\n",
    "        valores_parametros['P' + str(indice_camada)] -= taxa_aprendizagem * gradientes['dP' + str(indice_camada)]\n",
    "        valores_parametros['b' + str(indice_camada)] -= taxa_aprendizagem * gradientes['db' + str(indice_camada)]\n",
    "        \n",
    "    return valores_parametros"
   ]
  },
  {
   "cell_type": "markdown",
   "id": "d60a3dd2",
   "metadata": {},
   "source": [
    "## Retropropagação"
   ]
  },
  {
   "cell_type": "code",
   "execution_count": 376,
   "id": "fcd45c5b",
   "metadata": {},
   "outputs": [],
   "source": [
    "def retropropagacao_total(y_pred, y, memoria, valores_parametros, arquitetura):\n",
    "    gradientes = {}\n",
    "    \n",
    "    # para garantir que os dois vetores tenham a mesma dimensão\n",
    "    y = y.reshape(y_pred.shape)\n",
    "    \n",
    "    # inicia o algoritmo de gradiente descendente\n",
    "    dAtivado_anterior = -(np.divide(y, y_pred) - np.divide(1-y, 1-y_pred))\n",
    "    \n",
    "    for indice_camada_anterior, camada in reversed(list(enumerate(arquitetura))):\n",
    "        indice_camada_atual = indice_camada_anterior + 1\n",
    "        funcao_ativacao_atual = camada['ativacao']\n",
    "        \n",
    "        dAtivado_atual = dAtivado_anterior\n",
    "        \n",
    "        # Função de ativação para a camada atual\n",
    "        ativado_anterior = memoria['A' + str(indice_camada_anterior)]\n",
    "        saida_atual = memoria['Z' + str(indice_camada_atual)]\n",
    "        \n",
    "        peso_atual = valores_parametros['P' + str(indice_camada_atual)]\n",
    "        b_atual = valores_parametros['b' + str(indice_camada_atual)]\n",
    "        \n",
    "        dAtivado_anterior, dPesos_atual, db_atual = retropropagacao_uma_camada(\n",
    "        dAtivado_atual, peso_atual, b_atual, saida_atual, ativado_anterior, funcao_ativacao_atual)\n",
    "        \n",
    "        gradientes['dP' + str(indice_camada_atual)] = dPesos_atual\n",
    "        gradientes['db' + str(indice_camada_atual)] = db_atual\n",
    "        \n",
    "    return gradientes"
   ]
  },
  {
   "cell_type": "code",
   "execution_count": 377,
   "id": "62a64245",
   "metadata": {},
   "outputs": [],
   "source": [
    "def sigmoid_retro(dAtivado, saida):\n",
    "    sig = sigmoid(saida)\n",
    "    return dAtivado * sig * (1 - sig)\n",
    "\n",
    "def relu_retro(dAtivado, saida):\n",
    "    dSaida = np.array(dAtivado, copy=True)\n",
    "    dSaida[saida <= 0] = 0\n",
    "    return dSaida"
   ]
  },
  {
   "cell_type": "code",
   "execution_count": 378,
   "id": "df0622b7",
   "metadata": {},
   "outputs": [],
   "source": [
    "def retropropagacao_uma_camada(dAtivado_atual, pesos_atual, b_atual, saida_atual,\n",
    "                              ativado_anterior, ativacao):\n",
    "    \n",
    "    m = ativado_anterior.shape[1]\n",
    "    \n",
    "    if ativacao == relu:\n",
    "        func_ativacao_retro = relu_retro\n",
    "    elif ativacao == sigmoid:\n",
    "        func_ativacao_retro = sigmoid_retro\n",
    "    else:\n",
    "        raise Exception('Ainda não implementamos essa')\n",
    "    \n",
    "    # derivada da função de ativação\n",
    "    dSaida_atual = func_ativacao_retro(dAtivado_atual, saida_atual)\n",
    "    # derivada da matriz de Pesos\n",
    "    dPesos_atual = np.dot(dSaida_atual, ativado_anterior.T) / m\n",
    "    # derivada do vetor b\n",
    "    db_atual = np.sum(dSaida_atual, axis=1, keepdims=True) / m\n",
    "    # derivada da matriz A_anterior\n",
    "    dAtivado_anterior = np.dot(pesos_atual.T, dSaida_atual)\n",
    "    \n",
    "    return dAtivado_anterior, dPesos_atual, db_atual"
   ]
  },
  {
   "cell_type": "code",
   "execution_count": 409,
   "id": "8a0badeb",
   "metadata": {},
   "outputs": [],
   "source": [
    "def treino(X, y, X_test, y_test, arquitetura, epochs, taxa_aprendizagem):\n",
    "    valores_parametros = inicia_camadas(arquitetura, 2)\n",
    "    \n",
    "    historia_custo = []\n",
    "    historia_custo_test = []\n",
    "    \n",
    "    for i in range(epochs):\n",
    "        y_pred, memoria = propaga_total(X, valores_parametros, arquitetura)\n",
    "        \n",
    "        y_pred_test, memoria2 = propaga_total(X_test, valores_parametros, arquitetura)\n",
    "        \n",
    "        # calcula as métricas e salva nas listas de história\n",
    "        custo = valor_de_custo(y_pred, y)\n",
    "        historia_custo.append(custo)\n",
    "        custo_teste = valor_de_custo(y_pred_test, y_test)\n",
    "        historia_custo_teste.append(custo_teste)\n",
    "        \n",
    "        gradientes = retropropagacao_total(y_pred, y, memoria, valores_parametros, arquitetura)\n",
    "        \n",
    "        # Atualiza os pesos\n",
    "        valores_parametros = atualiza(valores_parametros, gradientes, arquitetura, taxa_aprendizagem)\n",
    "        \n",
    "        if (i % 5000 == 0):\n",
    "             print(f'Iteração {i:05} - custo {custo:0.5f}')\n",
    "        \n",
    "    return valores_parametros, historia_custo, historia_custo_teste"
   ]
  },
  {
   "cell_type": "markdown",
   "id": "b23ae413",
   "metadata": {},
   "source": [
    "## Treinamento"
   ]
  },
  {
   "cell_type": "code",
   "execution_count": 408,
   "id": "4c44fad2",
   "metadata": {
    "scrolled": true
   },
   "outputs": [
    {
     "name": "stdout",
     "output_type": "stream",
     "text": [
      "Iteração 00000 - custo -141.76619\n",
      "Iteração 05000 - custo -143.68500\n"
     ]
    }
   ],
   "source": [
    "X_train, X_test, y_train, y_test = train_test_split(X, y, test_size=0.43, random_state=43)\n",
    "\n",
    "valores_parametros, historia_custo, historia_custo_tesate = treino(X_train.T, np.transpose(y_train.reshape((y_train.shape[0], 1))), \n",
    "                                                                  X_test.T, np.transpose(y_test.reshape((y_test.shape[0], 1))), \n",
    "                                                                  arquitetura, 10000, 0.01)"
   ]
  },
  {
   "cell_type": "markdown",
   "id": "01e8fe3d",
   "metadata": {},
   "source": [
    "## Mostrando visualmente a evolução do custo"
   ]
  },
  {
   "cell_type": "code",
   "execution_count": 405,
   "id": "0bd61c07",
   "metadata": {},
   "outputs": [
    {
     "data": {
      "image/png": "[encoded data removed]",
      "text/plain": [
       "<Figure size 1008x432 with 1 Axes>"
      ]
     },
     "metadata": {
      "needs_background": "light"
     },
     "output_type": "display_data"
    }
   ],
   "source": [
    "fig, ax = plt.subplots(figsize=(14,6))\n",
    "ax.plot(historia_custo)\n",
    "ax.plot(historia_custo_teste)\n",
    "ax.legend(['treinamento', 'teste'])\n",
    "ax.set_xlabel('Epocas')\n",
    "ax.set_ylabel('Custo')\n",
    "\n",
    "plt.show()"
   ]
  },
  {
   "cell_type": "code",
   "execution_count": 397,
   "id": "a03956c6",
   "metadata": {},
   "outputs": [
    {
     "data": {
      "text/plain": [
       "291300"
      ]
     },
     "execution_count": 397,
     "metadata": {},
     "output_type": "execute_result"
    }
   ],
   "source": [
    "len(historia_custo_teste)"
   ]
  },
  {
   "cell_type": "code",
   "execution_count": null,
   "id": "02a0da93",
   "metadata": {},
   "outputs": [],
   "source": []
  }
 ],
 "metadata": {
  "kernelspec": {
   "display_name": "Python 3",
   "language": "python",
   "name": "python3"
  },
  "language_info": {
   "codemirror_mode": {
    "name": "ipython",
    "version": 3
   },
   "file_extension": ".py",
   "mimetype": "text/x-python",
   "name": "python",
   "nbconvert_exporter": "python",
   "pygments_lexer": "ipython3",
   "version": "3.7.10"
  }
 },
 "nbformat": 4,
 "nbformat_minor": 5
}
