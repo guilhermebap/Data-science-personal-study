{
 "cells": [
  {
   "cell_type": "markdown",
   "id": "c325db7f",
   "metadata": {},
   "source": [
    "# Curso: Machine Learning: Classificação por trás dos panos\n",
    "\n",
    "## Objetivos:\n",
    "* Aplique machine learning na sua empresa\n",
    "* Classifique clientes em categorias que ajudam sua empresa a crescer e o cliente a ter o produto que deseja\n",
    "* Veja como algoritmos de classificação estão por todos os lados no nosso dia a dia\n",
    "* Analise resultados com a mente de um cientista de dados\n",
    "* Compare o resultado de diferentes algoritmos de uma maneira válida\n",
    "* Entenda por trás dos panos o que é o tal do aprendizado de máquina para classificação\n",
    "\n",
    "\n",
    "Link: https://cursos.alura.com.br/course/introducao-a-machine-learning-com-classificacao"
   ]
  },
  {
   "cell_type": "markdown",
   "id": "ab64b625",
   "metadata": {},
   "source": [
    "## Importando as bibliotécas necessárias"
   ]
  },
  {
   "cell_type": "code",
   "execution_count": 1,
   "id": "58975d1a",
   "metadata": {},
   "outputs": [],
   "source": [
    "from sklearn.naive_bayes import MultinomialNB"
   ]
  },
  {
   "cell_type": "markdown",
   "id": "410b6a49",
   "metadata": {},
   "source": []
  },
  {
   "cell_type": "code",
   "execution_count": null,
   "id": "6895fb3b",
   "metadata": {},
   "outputs": [],
   "source": []
  }
 ],
 "metadata": {
  "kernelspec": {
   "display_name": "Python 3",
   "language": "python",
   "name": "python3"
  },
  "language_info": {
   "codemirror_mode": {
    "name": "ipython",
    "version": 3
   },
   "file_extension": ".py",
   "mimetype": "text/x-python",
   "name": "python",
   "nbconvert_exporter": "python",
   "pygments_lexer": "ipython3",
   "version": "3.7.10"
  }
 },
 "nbformat": 4,
 "nbformat_minor": 5
}
