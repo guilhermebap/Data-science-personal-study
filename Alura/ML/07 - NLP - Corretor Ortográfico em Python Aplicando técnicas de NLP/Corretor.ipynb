{
 "cells": [
  {
   "cell_type": "markdown",
   "id": "219c71df",
   "metadata": {},
   "source": [
    "# Corretor Ortográfico em Python: Aplicando técnicas de NLP\n",
    "\n",
    "## Objetivos\n",
    "* Aprenda conceitos fundamentais do processamento de linguagem natural.\n",
    "* Saiba o que está por trás dos corretores ortográficos (spell checker).\n",
    "* Crie um corretor de palavras do zero, utilizando Python.\n",
    "* Utilize o NLTK uma das principais bibliotecas Python para NLP.\n",
    "* Aprenda o que são tokens e como utilizar NLTK para realizar a fragmentação de um texto.\n",
    "\n",
    "link: https://cursos.alura.com.br/course/nlp-corretor-ortografico"
   ]
  },
  {
   "cell_type": "markdown",
   "id": "a6e55c98",
   "metadata": {},
   "source": [
    "## Importando as bibliotecas necessárias"
   ]
  },
  {
   "cell_type": "code",
   "execution_count": 1,
   "id": "52a25a8c",
   "metadata": {},
   "outputs": [],
   "source": [
    "import numpy as np\n",
    "import pandas as pd\n",
    "from scipy import stats\n",
    "import matplotlib.pyplot as plt\n",
    "import seaborn as sns\n",
    "import nltk\n",
    "#from sklearn import"
   ]
  },
  {
   "cell_type": "markdown",
   "id": "2d7bd017",
   "metadata": {},
   "source": [
    "## Importando o dataset e explorando os dados"
   ]
  },
  {
   "cell_type": "code",
   "execution_count": 2,
   "id": "94b05fe1",
   "metadata": {},
   "outputs": [
    {
     "name": "stdout",
     "output_type": "stream",
     "text": [
      "\n",
      "\n",
      "\n",
      "imagem \n",
      "\n",
      "Temos a seguinte classe que representa um usuário no nosso sistema:\n",
      "\n",
      "java\n",
      "\n",
      "Para salvar um novo usuário, várias validações são feitas, como por exemplo: Ver se o nome só contém letras, [**o CPF só números**] e ver se o usuário possui no mínimo 18 anos. Veja o método que faz essa validação:\n",
      "\n",
      "java \n",
      "\n",
      "Suponha agora que eu tenha outra classe, a classe `Produto`, que contém um atributo nome e eu quero fazer a mesma validação que fiz para o nome do usuário: Ver se só contém letras. E aí? Vou\n"
     ]
    }
   ],
   "source": [
    "with open('artigos.txt', 'r', encoding='utf-8') as f:\n",
    "    artigos = f.read()\n",
    "    \n",
    "print(artigos[:500])"
   ]
  },
  {
   "cell_type": "code",
   "execution_count": 3,
   "id": "60dd08cc",
   "metadata": {},
   "outputs": [
    {
     "data": {
      "text/plain": [
       "['olá,', 'tudo', 'bem?']"
      ]
     },
     "execution_count": 3,
     "metadata": {},
     "output_type": "execute_result"
    }
   ],
   "source": [
    "frase = 'olá, tudo bem?'\n",
    "tokens = frase.split()\n",
    "tokens"
   ]
  },
  {
   "cell_type": "code",
   "execution_count": 4,
   "id": "5030b9c0",
   "metadata": {},
   "outputs": [
    {
     "data": {
      "text/plain": [
       "3"
      ]
     },
     "execution_count": 4,
     "metadata": {},
     "output_type": "execute_result"
    }
   ],
   "source": [
    "len(tokens)"
   ]
  },
  {
   "cell_type": "code",
   "execution_count": 5,
   "id": "135a1d13",
   "metadata": {},
   "outputs": [
    {
     "name": "stdout",
     "output_type": "stream",
     "text": [
      "['olá', ',', 'tudo', 'bem', '?']\n"
     ]
    }
   ],
   "source": [
    "palavras_separadas = nltk.tokenize.word_tokenize(frase)\n",
    "\n",
    "print(palavras_separadas)"
   ]
  },
  {
   "cell_type": "code",
   "execution_count": 6,
   "id": "428df8c7",
   "metadata": {},
   "outputs": [
    {
     "data": {
      "text/plain": [
       "5"
      ]
     },
     "execution_count": 6,
     "metadata": {},
     "output_type": "execute_result"
    }
   ],
   "source": [
    "len(palavras_separadas)"
   ]
  },
  {
   "cell_type": "code",
   "execution_count": 7,
   "id": "19cb5ffb",
   "metadata": {},
   "outputs": [
    {
     "data": {
      "text/plain": [
       "True"
      ]
     },
     "execution_count": 7,
     "metadata": {},
     "output_type": "execute_result"
    }
   ],
   "source": [
    "'palavra'.isalpha()"
   ]
  },
  {
   "cell_type": "code",
   "execution_count": 8,
   "id": "45840078",
   "metadata": {},
   "outputs": [
    {
     "data": {
      "text/plain": [
       "False"
      ]
     },
     "execution_count": 8,
     "metadata": {},
     "output_type": "execute_result"
    }
   ],
   "source": [
    "'palavra.'.isalpha()"
   ]
  },
  {
   "cell_type": "code",
   "execution_count": 9,
   "id": "c831832d",
   "metadata": {},
   "outputs": [],
   "source": [
    "def separa_palavras(lista_tokens):\n",
    "    lista_palavras = [i for i in lista_tokens if i.isalpha()]\n",
    "    return lista_palavras"
   ]
  },
  {
   "cell_type": "code",
   "execution_count": 10,
   "id": "d09f63a3",
   "metadata": {},
   "outputs": [
    {
     "data": {
      "text/plain": [
       "['olá', 'tudo', 'bem']"
      ]
     },
     "execution_count": 10,
     "metadata": {},
     "output_type": "execute_result"
    }
   ],
   "source": [
    "separa_palavras(palavras_separadas)"
   ]
  },
  {
   "cell_type": "code",
   "execution_count": 11,
   "id": "f6804cd2",
   "metadata": {},
   "outputs": [
    {
     "name": "stdout",
     "output_type": "stream",
     "text": [
      "O número de palavras é: 403104\n"
     ]
    },
    {
     "data": {
      "text/plain": [
       "['imagem', 'Temos', 'a', 'seguinte', 'classe']"
      ]
     },
     "execution_count": 11,
     "metadata": {},
     "output_type": "execute_result"
    }
   ],
   "source": [
    "lista_tokens = nltk.tokenize.word_tokenize(artigos)\n",
    "lista_palavras = separa_palavras(lista_tokens)\n",
    "print(f'O número de palavras é: {len(lista_palavras)}')\n",
    "lista_palavras[:5]"
   ]
  },
  {
   "cell_type": "code",
   "execution_count": 12,
   "id": "4de74d06",
   "metadata": {},
   "outputs": [],
   "source": [
    "def normalizacao(lista_palavras):\n",
    "    return [i.lower() for i in lista_palavras]"
   ]
  },
  {
   "cell_type": "code",
   "execution_count": 13,
   "id": "25f41be5",
   "metadata": {},
   "outputs": [
    {
     "data": {
      "text/plain": [
       "['imagem', 'temos', 'a', 'seguinte', 'classe']"
      ]
     },
     "execution_count": 13,
     "metadata": {},
     "output_type": "execute_result"
    }
   ],
   "source": [
    "lista_normalizada = normalizacao(lista_palavras)\n",
    "lista_normalizada[:5]"
   ]
  },
  {
   "cell_type": "code",
   "execution_count": 14,
   "id": "0073343f",
   "metadata": {},
   "outputs": [
    {
     "data": {
      "text/plain": [
       "18465"
      ]
     },
     "execution_count": 14,
     "metadata": {},
     "output_type": "execute_result"
    }
   ],
   "source": [
    "len(set((lista_normalizada)))"
   ]
  },
  {
   "cell_type": "code",
   "execution_count": 93,
   "id": "25d594d9",
   "metadata": {},
   "outputs": [],
   "source": [
    "palavra_exemplo = 'lgica'\n",
    "\n",
    "total_palavras = len(lista_normalizada)\n",
    "\n",
    "frequencia = nltk.FreqDist(lista_normalizada)\n",
    "\n",
    "letras = 'abcdefghijklmnopqrstuvwxyzàáâãèéêìíîòóôõùúûç'\n",
    "\n",
    "def insere_letras(fatias, letras=letras):\n",
    "    novas_palavras = []\n",
    "    for letra in letras:\n",
    "        for E, D in fatias:\n",
    "            novas_palavras.append(E + letra + D)\n",
    "    return novas_palavras\n",
    "\n",
    "def gerador_palavras(palavra):\n",
    "    fatias = []\n",
    "    for i in range(len(palavra)+1):\n",
    "        fatias.append((palavra[:i], palavra[i:]))\n",
    "    palavras_geradas = insere_letras(fatias)\n",
    "    palavras_geradas += deletando_caracteres(fatias)\n",
    "    palavras_geradas += troca_letra(fatias)\n",
    "    palavras_geradas += inverte_letra(fatias)\n",
    "    return palavras_geradas\n",
    "\n",
    "def corretor(palavra):\n",
    "    palavras_geradas = gerador_palavras(palavra)\n",
    "    palavra_correta = max(palavras_geradas, key=probabilidade)\n",
    "    return palavra_correta\n",
    "\n",
    "def probabilidade(palavra_gerada, frequencia=frequencia, total_palavras=total_palavras):\n",
    "    return frequencia[palavra_gerada]/total_palavras\n",
    "\n",
    "def deletando_caracteres(fatias):\n",
    "    novas_palavras = []\n",
    "    for E, D in fatias:\n",
    "        novas_palavras.append(E + D[1:])\n",
    "    return novas_palavras\n",
    "\n",
    "def troca_letra(fatias, letras=letras):\n",
    "    novas_palavras = []\n",
    "    for E, D in fatias:\n",
    "        for letra in letras:\n",
    "            novas_palavras.append(E + letra + D[1:])\n",
    "    return novas_palavras\n",
    "\n",
    "def inverte_letra(fatias):\n",
    "    novas_palavras = []\n",
    "    for E, D in fatias:\n",
    "        if len(D) > 1:\n",
    "            novas_palavras.append(E + D[1] + D[0] + D[2:])\n",
    "    return novas_palavras\n",
    "\n",
    "def avaliador(testes):\n",
    "    numero_palavras = len(testes)\n",
    "    acertou = 0\n",
    "    for correta, errada in testes:\n",
    "        palavra_corrigida = corretor(errada)\n",
    "        if palavra_corrigida == correta:\n",
    "            acertou +=1\n",
    "    taxa_acerto = acertou/numero_palavras\n",
    "    print(f'taxa de acerto: {taxa_acerto:0.2%} de {numero_palavras} palavras')\n"
   ]
  },
  {
   "cell_type": "code",
   "execution_count": 21,
   "id": "e6459bef",
   "metadata": {},
   "outputs": [
    {
     "data": {
      "text/plain": [
       "[('de', 15502),\n",
       " ('o', 14056),\n",
       " ('que', 12230),\n",
       " ('a', 11099),\n",
       " ('e', 10501),\n",
       " ('para', 7710),\n",
       " ('um', 6368),\n",
       " ('é', 5899),\n",
       " ('uma', 5220),\n",
       " ('do', 5124)]"
      ]
     },
     "execution_count": 21,
     "metadata": {},
     "output_type": "execute_result"
    }
   ],
   "source": [
    "frequencia.most_common()[:10]"
   ]
  },
  {
   "cell_type": "code",
   "execution_count": 22,
   "id": "a328ed67",
   "metadata": {},
   "outputs": [
    {
     "data": {
      "text/plain": [
       "0"
      ]
     },
     "execution_count": 22,
     "metadata": {},
     "output_type": "execute_result"
    }
   ],
   "source": [
    "frequencia['logica']"
   ]
  },
  {
   "cell_type": "code",
   "execution_count": 23,
   "id": "f0b0e45c",
   "metadata": {},
   "outputs": [
    {
     "data": {
      "text/plain": [
       "0.0019151385250456459"
      ]
     },
     "execution_count": 23,
     "metadata": {},
     "output_type": "execute_result"
    }
   ],
   "source": [
    "probabilidade('código')"
   ]
  },
  {
   "cell_type": "code",
   "execution_count": 24,
   "id": "2fdf8b25",
   "metadata": {},
   "outputs": [
    {
     "data": {
      "text/plain": [
       "'lógica'"
      ]
     },
     "execution_count": 24,
     "metadata": {},
     "output_type": "execute_result"
    }
   ],
   "source": [
    "corretor(palavra_exemplo)"
   ]
  },
  {
   "cell_type": "code",
   "execution_count": 25,
   "id": "7b677a15",
   "metadata": {},
   "outputs": [
    {
     "data": {
      "text/plain": [
       "'código'"
      ]
     },
     "execution_count": 25,
     "metadata": {},
     "output_type": "execute_result"
    }
   ],
   "source": [
    "corretor('cdigo')"
   ]
  },
  {
   "cell_type": "code",
   "execution_count": 39,
   "id": "bd3ecc6e",
   "metadata": {},
   "outputs": [
    {
     "data": {
      "text/plain": [
       "[('podemos', 'pyodemos'),\n",
       " ('esse', 'esje'),\n",
       " ('já', 'jrá'),\n",
       " ('nosso', 'nossov'),\n",
       " ('são', 'sãêo'),\n",
       " ('dos', 'dosa'),\n",
       " ('muito', 'muifo'),\n",
       " ('imagem', 'iômagem'),\n",
       " ('sua', 'ósua'),\n",
       " ('também', 'tambéùm')]"
      ]
     },
     "execution_count": 39,
     "metadata": {},
     "output_type": "execute_result"
    }
   ],
   "source": [
    "def cria_dados_teste(nome_arquivo):\n",
    "    lista_palavras_teste = []\n",
    "    f = open(nome_arquivo, 'r', encoding='utf-8')\n",
    "    for linha in f:\n",
    "        correta, errada = linha.split()\n",
    "        lista_palavras_teste.append((correta, errada))\n",
    "    f.close()\n",
    "    return lista_palavras_teste\n",
    "\n",
    "lista_teste = cria_dados_teste('palavras.txt')\n",
    "lista_teste[:10]"
   ]
  },
  {
   "cell_type": "code",
   "execution_count": 56,
   "id": "f3fc6152",
   "metadata": {},
   "outputs": [
    {
     "name": "stdout",
     "output_type": "stream",
     "text": [
      "O corretor com apenas a função insere letra, tem a taxa de acerto de:\n",
      "taxa de acerto: 1.08% de 186 palavras\n"
     ]
    }
   ],
   "source": [
    "print('O corretor com apenas a função insere letra, tem a taxa de acerto de:')\n",
    "avaliador(lista_teste)"
   ]
  },
  {
   "cell_type": "code",
   "execution_count": 36,
   "id": "d0336f47",
   "metadata": {},
   "outputs": [
    {
     "data": {
      "text/plain": [
       "['alóigica', 'laóigica', 'lóaigica', 'lóiagica', 'lóigaica']"
      ]
     },
     "execution_count": 36,
     "metadata": {},
     "output_type": "execute_result"
    }
   ],
   "source": [
    "palavra_exemplo = 'lóigica'\n",
    "gerador_palavras(palavra_exemplo)[]"
   ]
  },
  {
   "cell_type": "code",
   "execution_count": 58,
   "id": "306628c1",
   "metadata": {},
   "outputs": [
    {
     "name": "stdout",
     "output_type": "stream",
     "text": [
      "O corretor com a função insere letra e deletando letra, tem a taxa de acerto de:\n",
      "taxa de acerto: 41.40% de 186 palavras\n"
     ]
    }
   ],
   "source": [
    "print('O corretor com a função insere letra e deletando letra, tem a taxa de acerto de:')\n",
    "avaliador(lista_teste)"
   ]
  },
  {
   "cell_type": "code",
   "execution_count": 60,
   "id": "7d7a9e08",
   "metadata": {},
   "outputs": [
    {
     "name": "stdout",
     "output_type": "stream",
     "text": [
      "O corretor apenas com a função insere letra, deletando letra e troca letra, tem a taxa de acerto de:\n",
      "taxa de acerto: 76.34% de 186 palavras\n"
     ]
    }
   ],
   "source": [
    "print('O corretor apenas com a função insere letra, deletando letra e troca letra, tem a taxa de acerto de:')\n",
    "avaliador(lista_teste)"
   ]
  },
  {
   "cell_type": "code",
   "execution_count": 48,
   "id": "97127ce4",
   "metadata": {},
   "outputs": [
    {
     "name": "stdout",
     "output_type": "stream",
     "text": [
      "['lgóicaõ', 'lgóicaù', 'lgóicaú', 'lgóicaû', 'lgóicaç', 'glóica', 'lógica', 'lgióca', 'lgócia', 'lgóiac']\n"
     ]
    }
   ],
   "source": [
    "palavra_exemplo = 'lgóica'\n",
    "palavras_geradas = gerador_palavras(palavra_exemplo)\n",
    "print(palavras_geradas[-10:])"
   ]
  },
  {
   "cell_type": "code",
   "execution_count": 62,
   "id": "93cfeaa0",
   "metadata": {},
   "outputs": [
    {
     "name": "stdout",
     "output_type": "stream",
     "text": [
      "O corretor apenas com a função insere letra, deletando letra, troca letra e inverte letra, tem a taxa de acerto de:\n",
      "taxa de acerto: 76.34% de 186 palavras\n"
     ]
    }
   ],
   "source": [
    "print('O corretor apenas com a função insere letra, deletando letra, troca letra e inverte letra, tem a taxa de acerto de:')\n",
    "avaliador(lista_teste)"
   ]
  },
  {
   "cell_type": "code",
   "execution_count": 71,
   "id": "f97ffe6f",
   "metadata": {},
   "outputs": [],
   "source": [
    "vocabulario = set(lista_normalizada)\n",
    "def avaliador(testes, vocabulario=vocabulario):\n",
    "    numero_palavras = len(testes)\n",
    "    acertou = 0\n",
    "    desconhecida = 0\n",
    "    for correta, errada in testes:\n",
    "        palavra_corrigida = corretor(errada)\n",
    "        if palavra_corrigida == correta:\n",
    "            acertou +=1\n",
    "        else:\n",
    "            desconhecida += (correta not in vocabulario)\n",
    "    taxa_acerto = acertou/numero_palavras\n",
    "    taxa_desconhecida = desconhecida/numero_palavras\n",
    "    print(f'taxa de acerto: {taxa_acerto:0.2%} de {numero_palavras} palavras\\nA taxa de palavras desconhecidas é: {taxa_desconhecida:0.2%}')\n",
    "vocabulario = set(lista_normalizada)"
   ]
  },
  {
   "cell_type": "code",
   "execution_count": 72,
   "id": "d7b8e569",
   "metadata": {},
   "outputs": [
    {
     "name": "stdout",
     "output_type": "stream",
     "text": [
      "taxa de acerto: 76.34% de 186 palavras\n",
      "A taxa de palavras desconhecidas é: 6.99%\n"
     ]
    }
   ],
   "source": [
    "avaliador(lista_teste)"
   ]
  },
  {
   "cell_type": "code",
   "execution_count": 98,
   "id": "40ef6365",
   "metadata": {},
   "outputs": [
    {
     "data": {
      "text/plain": [
       "True"
      ]
     },
     "execution_count": 98,
     "metadata": {},
     "output_type": "execute_result"
    }
   ],
   "source": [
    "palavra = 'lóiigica'\n",
    "\n",
    "def gerador_turbinado(palavras_geradas):\n",
    "    novas_palavras = []\n",
    "    for palavra in palavras_geradas:\n",
    "        novas_palavras += gerador_palavras(palavra)\n",
    "    return novas_palavras\n",
    "\n",
    "palavras_g = gerador_turbinado(gerador_palavras(palavra))\n",
    "'lógica' in palavras_g"
   ]
  },
  {
   "cell_type": "code",
   "execution_count": 97,
   "id": "d5d59dc2",
   "metadata": {},
   "outputs": [
    {
     "data": {
      "text/plain": [
       "691744"
      ]
     },
     "execution_count": 97,
     "metadata": {},
     "output_type": "execute_result"
    }
   ],
   "source": [
    "len(palavras_g)"
   ]
  },
  {
   "cell_type": "code",
   "execution_count": 101,
   "id": "8bdbbeff",
   "metadata": {},
   "outputs": [
    {
     "data": {
      "text/plain": [
       "'lógica'"
      ]
     },
     "execution_count": 101,
     "metadata": {},
     "output_type": "execute_result"
    }
   ],
   "source": [
    "def novo_corretor(palavra):\n",
    "    palavras_geradas = gerador_palavras(palavra)\n",
    "    palavras_turbinado = gerador_turbinado(palavras_geradas)\n",
    "    todas_palavras = set(palavras_geradas + palavras_turbinado)\n",
    "    \n",
    "    candidatos = [palavra]\n",
    "    for palavra in todas_palavras:\n",
    "        if palavra in vocabulario:\n",
    "            candidatos.append(palavra)\n",
    "    palavra_correta = max(candidatos, key=probabilidade)\n",
    "    return palavra_correta\n",
    "\n",
    "novo_corretor(palavra)"
   ]
  },
  {
   "cell_type": "code",
   "execution_count": 106,
   "id": "0915efd2",
   "metadata": {},
   "outputs": [],
   "source": [
    "vocabulario = set(lista_normalizada)\n",
    "\n",
    "def avaliador(testes, vocabulario=vocabulario):\n",
    "    numero_palavras = len(testes)\n",
    "    acertou = 0\n",
    "    desconhecida = 0\n",
    "    for correta, errada in testes:\n",
    "        palavra_corrigida = novo_corretor(errada)\n",
    "        desconhecida += (correta not in vocabulario)\n",
    "        if palavra_corrigida == correta:\n",
    "            acertou +=1\n",
    "        else:\n",
    "            print(f'{errada} - {corretor(errada)} - {palavra_corrigida}')\n",
    "    taxa_acerto = acertou/numero_palavras\n",
    "    taxa_desconhecida = desconhecida/numero_palavras\n",
    "    print(f'taxa de acerto: {taxa_acerto:0.2%} de {numero_palavras} palavras\\nA taxa de palavras desconhecidas é: {taxa_desconhecida:0.2%}')\n",
    "vocabulario = set(lista_normalizada)"
   ]
  },
  {
   "cell_type": "code",
   "execution_count": 107,
   "id": "7512da95",
   "metadata": {},
   "outputs": [
    {
     "name": "stdout",
     "output_type": "stream",
     "text": [
      "esje - esse - se\n",
      "sãêo - são - não\n",
      "dosa - dos - do\n",
      "eme - em - de\n",
      "eàssa - essa - esse\n",
      "daõs - das - da\n",
      "céda - cada - da\n",
      "noâ - no - o\n",
      "enêão - então - não\n",
      "tĩem - tem - em\n",
      "nossah - nossa - nosso\n",
      "teb - tem - de\n",
      "atĩ - até - a\n",
      "âem - em - de\n",
      "foo - foi - o\n",
      "serr - ser - se\n",
      "entke - entre - então\n",
      "van - vai - a\n",
      "çeus - seus - seu\n",
      "eû - e - de\n",
      "temeo - tempo - temos\n",
      "semre - sempre - ser\n",
      "elaá - ela - ele\n",
      "síó - só - se\n",
      "siàe - site - se\n",
      "seém - sem - em\n",
      "peln - pelo - ele\n",
      "aléra - alura - agora\n",
      "tdia - dia - da\n",
      "tuúo - tudo - tipo\n",
      "jé - é - de\n",
      "sãô - são - não\n",
      "odos - dos - do\n",
      "siua - sua - seu\n",
      "elpe - ele - esse\n",
      "teos - temos - os\n",
      "eũsa - essa - esse\n",
      "vjmos - vamos - temos\n",
      "dms - dos - de\n",
      "cava - java - para\n",
      "ános - nos - no\n",
      "èaso - caso - as\n",
      "túem - tem - em\n",
      "daáos - dados - dos\n",
      "nossk - nosso - nosso\n",
      "tãer - ter - ser\n",
      "vté - até - é\n",
      "búm - bem - um\n",
      "sçerá - será - ser\n",
      "entró - entre - então\n",
      "uai - vai - a\n",
      "sâus - seus - seu\n",
      "ìeu - seu - de\n",
      "fual - qual - sua\n",
      "elal - ela - ele\n",
      "skó - só - se\n",
      "secm - sem - em\n",
      "aluéa - alura - além\n",
      "dil - dia - de\n",
      "sód - só - se\n",
      "eúaa - aeúaa - essa\n",
      "ró - só - de\n",
      "dĩaz - adĩaz - da\n",
      "correptor - corretor - correto\n",
      "trtica - tática - prática\n",
      "ewpoderamento - aewpoderamento - ewpoderamento\n",
      "îgato - gato - fato\n",
      "cakvalo - acakvalo - carvalho\n",
      "canelac - acanelac - janela\n",
      "tênisy - atênisy - tênisy\n",
      "anciosa - aanciosa - ansioso\n",
      "ancciosa - aancciosa - ancciosa\n",
      "ansioa - aansioa - ensina\n",
      "asterístico - aasterístico - asterístico\n",
      "entertido - aentertido - entendido\n",
      "ritimo - ritmo - ótimo\n",
      "indiota - aindiota - indica\n",
      "tomare - tomar - tomar\n",
      "seje - seja - se\n",
      "provalecer - aprovalecer - prevaleceu\n",
      "esteje - esteja - este\n",
      "mindigo - amindigo - indico\n",
      "pertubar - apertubar - derrubar\n",
      "taxa de acerto: 55.38% de 186 palavras\n",
      "A taxa de palavras desconhecidas é: 6.99%\n"
     ]
    }
   ],
   "source": [
    "avaliador(lista_teste)"
   ]
  },
  {
   "cell_type": "code",
   "execution_count": 109,
   "id": "71104488",
   "metadata": {},
   "outputs": [],
   "source": [
    "vocabulario = set(lista_normalizada)\n",
    "\n",
    "def avaliador(testes, vocabulario=vocabulario):\n",
    "    numero_palavras = len(testes)\n",
    "    acertou = 0\n",
    "    desconhecida = 0\n",
    "    for correta, errada in testes:\n",
    "        palavra_corrigida = corretor(errada)\n",
    "        desconhecida += (correta not in vocabulario)\n",
    "        if palavra_corrigida == correta:\n",
    "            acertou +=1\n",
    "    taxa_acerto = acertou/numero_palavras\n",
    "    taxa_desconhecida = desconhecida/numero_palavras\n",
    "    print(f'taxa de acerto: {taxa_acerto:0.2%} de {numero_palavras} palavras\\nA taxa de palavras desconhecidas é: {taxa_desconhecida:0.2%}')\n",
    "vocabulario = set(lista_normalizada)"
   ]
  },
  {
   "cell_type": "code",
   "execution_count": 110,
   "id": "2a2ffeb3",
   "metadata": {},
   "outputs": [
    {
     "name": "stdout",
     "output_type": "stream",
     "text": [
      "taxa de acerto: 76.34% de 186 palavras\n",
      "A taxa de palavras desconhecidas é: 6.99%\n"
     ]
    }
   ],
   "source": [
    "avaliador(lista_teste)"
   ]
  },
  {
   "cell_type": "code",
   "execution_count": 111,
   "id": "17dd8f3d",
   "metadata": {},
   "outputs": [
    {
     "name": "stdout",
     "output_type": "stream",
     "text": [
      "fica\n",
      "lógica\n"
     ]
    }
   ],
   "source": [
    "palavra = 'lgica'\n",
    "print(novo_corretor(palavra))\n",
    "print(corretor(palavra))"
   ]
  },
  {
   "cell_type": "code",
   "execution_count": 112,
   "id": "b81e651d",
   "metadata": {},
   "outputs": [
    {
     "name": "stdout",
     "output_type": "stream",
     "text": [
      "lógica\n",
      "lógica\n"
     ]
    }
   ],
   "source": [
    "palavra = 'lóigica'\n",
    "print(novo_corretor(palavra))\n",
    "print(corretor(palavra))"
   ]
  },
  {
   "cell_type": "code",
   "execution_count": 113,
   "id": "54b21c62",
   "metadata": {},
   "outputs": [
    {
     "name": "stdout",
     "output_type": "stream",
     "text": [
      "lógica\n",
      "alóiigica\n"
     ]
    }
   ],
   "source": [
    "palavra = 'lóiigica'\n",
    "print(novo_corretor(palavra))\n",
    "print(corretor(palavra))"
   ]
  },
  {
   "cell_type": "code",
   "execution_count": null,
   "id": "dbdccc6f",
   "metadata": {},
   "outputs": [],
   "source": []
  }
 ],
 "metadata": {
  "kernelspec": {
   "display_name": "Python 3",
   "language": "python",
   "name": "python3"
  },
  "language_info": {
   "codemirror_mode": {
    "name": "ipython",
    "version": 3
   },
   "file_extension": ".py",
   "mimetype": "text/x-python",
   "name": "python",
   "nbconvert_exporter": "python",
   "pygments_lexer": "ipython3",
   "version": "3.7.10"
  }
 },
 "nbformat": 4,
 "nbformat_minor": 5
}
