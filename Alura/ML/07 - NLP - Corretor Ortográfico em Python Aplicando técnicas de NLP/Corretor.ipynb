{
 "cells": [
  {
   "cell_type": "markdown",
   "id": "219c71df",
   "metadata": {},
   "source": [
    "# Corretor Ortográfico em Python: Aplicando técnicas de NLP\n",
    "\n",
    "## Objetivos\n",
    "* Aprenda conceitos fundamentais do processamento de linguagem natural.\n",
    "* Saiba o que está por trás dos corretores ortográficos (spell checker).\n",
    "* Crie um corretor de palavras do zero, utilizando Python.\n",
    "* Utilize o NLTK uma das principais bibliotecas Python para NLP.\n",
    "* Aprenda o que são tokens e como utilizar NLTK para realizar a fragmentação de um texto.\n",
    "\n",
    "link: https://cursos.alura.com.br/course/nlp-corretor-ortografico"
   ]
  },
  {
   "cell_type": "markdown",
   "id": "a6e55c98",
   "metadata": {},
   "source": [
    "## Importando as bibliotecas necessárias"
   ]
  },
  {
   "cell_type": "code",
   "execution_count": 122,
   "id": "52a25a8c",
   "metadata": {},
   "outputs": [],
   "source": [
    "import numpy as np\n",
    "import pandas as pd\n",
    "from scipy import stats\n",
    "import matplotlib.pyplot as plt\n",
    "import seaborn as sns\n",
    "import nltk\n",
    "#from sklearn import"
   ]
  },
  {
   "cell_type": "markdown",
   "id": "2d7bd017",
   "metadata": {},
   "source": [
    "## Importando o dataset e explorando os dados"
   ]
  },
  {
   "cell_type": "code",
   "execution_count": 2,
   "id": "94b05fe1",
   "metadata": {},
   "outputs": [
    {
     "name": "stdout",
     "output_type": "stream",
     "text": [
      "\n",
      "\n",
      "\n",
      "imagem \n",
      "\n",
      "Temos a seguinte classe que representa um usuário no nosso sistema:\n",
      "\n",
      "java\n",
      "\n",
      "Para salvar um novo usuário, várias validações são feitas, como por exemplo: Ver se o nome só contém letras, [**o CPF só números**] e ver se o usuário possui no mínimo 18 anos. Veja o método que faz essa validação:\n",
      "\n",
      "java \n",
      "\n",
      "Suponha agora que eu tenha outra classe, a classe `Produto`, que contém um atributo nome e eu quero fazer a mesma validação que fiz para o nome do usuário: Ver se só contém letras. E aí? Vou\n"
     ]
    }
   ],
   "source": [
    "with open('artigos.txt', 'r', encoding='utf-8') as f:\n",
    "    artigos = f.read()\n",
    "    \n",
    "print(artigos[:500])"
   ]
  },
  {
   "cell_type": "code",
   "execution_count": 4,
   "id": "60dd08cc",
   "metadata": {},
   "outputs": [
    {
     "data": {
      "text/plain": [
       "['olá,', 'tudo', 'bem?']"
      ]
     },
     "execution_count": 4,
     "metadata": {},
     "output_type": "execute_result"
    }
   ],
   "source": [
    "frase = 'olá, tudo bem?'\n",
    "tokens = frase.split()\n",
    "tokens"
   ]
  },
  {
   "cell_type": "code",
   "execution_count": 5,
   "id": "5030b9c0",
   "metadata": {},
   "outputs": [
    {
     "data": {
      "text/plain": [
       "3"
      ]
     },
     "execution_count": 5,
     "metadata": {},
     "output_type": "execute_result"
    }
   ],
   "source": [
    "len(tokens)"
   ]
  },
  {
   "cell_type": "code",
   "execution_count": 10,
   "id": "135a1d13",
   "metadata": {},
   "outputs": [
    {
     "name": "stdout",
     "output_type": "stream",
     "text": [
      "['olá', ',', 'tudo', 'bem', '?']\n"
     ]
    }
   ],
   "source": [
    "palavras_separadas = nltk.tokenize.word_tokenize(frase)\n",
    "\n",
    "print(palavras_separadas)"
   ]
  },
  {
   "cell_type": "code",
   "execution_count": 11,
   "id": "428df8c7",
   "metadata": {},
   "outputs": [
    {
     "data": {
      "text/plain": [
       "5"
      ]
     },
     "execution_count": 11,
     "metadata": {},
     "output_type": "execute_result"
    }
   ],
   "source": [
    "len(palavras_separadas)"
   ]
  },
  {
   "cell_type": "code",
   "execution_count": 12,
   "id": "19cb5ffb",
   "metadata": {},
   "outputs": [
    {
     "data": {
      "text/plain": [
       "True"
      ]
     },
     "execution_count": 12,
     "metadata": {},
     "output_type": "execute_result"
    }
   ],
   "source": [
    "'palavra'.isalpha()"
   ]
  },
  {
   "cell_type": "code",
   "execution_count": 13,
   "id": "45840078",
   "metadata": {},
   "outputs": [
    {
     "data": {
      "text/plain": [
       "False"
      ]
     },
     "execution_count": 13,
     "metadata": {},
     "output_type": "execute_result"
    }
   ],
   "source": [
    "'palavra.'.isalpha()"
   ]
  },
  {
   "cell_type": "code",
   "execution_count": 57,
   "id": "c831832d",
   "metadata": {},
   "outputs": [],
   "source": [
    "def separa_palavras(lista_tokens):\n",
    "    lista_palavras = [i for i in lista_tokens if i.isalpha()]\n",
    "    return lista_palavras"
   ]
  },
  {
   "cell_type": "code",
   "execution_count": 58,
   "id": "d09f63a3",
   "metadata": {},
   "outputs": [
    {
     "data": {
      "text/plain": [
       "['olá', 'tudo', 'bem']"
      ]
     },
     "execution_count": 58,
     "metadata": {},
     "output_type": "execute_result"
    }
   ],
   "source": [
    "separa_palavras(palavras_separadas)"
   ]
  },
  {
   "cell_type": "code",
   "execution_count": 59,
   "id": "f6804cd2",
   "metadata": {},
   "outputs": [
    {
     "name": "stdout",
     "output_type": "stream",
     "text": [
      "O número de palavras é: 403104\n"
     ]
    },
    {
     "data": {
      "text/plain": [
       "['imagem', 'Temos', 'a', 'seguinte', 'classe']"
      ]
     },
     "execution_count": 59,
     "metadata": {},
     "output_type": "execute_result"
    }
   ],
   "source": [
    "lista_tokens = nltk.tokenize.word_tokenize(artigos)\n",
    "lista_palavras = separa_palavras(lista_tokens)\n",
    "print(f'O número de palavras é: {len(lista_palavras)}')\n",
    "lista_palavras[:5]"
   ]
  },
  {
   "cell_type": "code",
   "execution_count": 60,
   "id": "4de74d06",
   "metadata": {},
   "outputs": [],
   "source": [
    "def normalizacao(lista_palavras):\n",
    "    return [i.lower() for i in lista_palavras]"
   ]
  },
  {
   "cell_type": "code",
   "execution_count": 61,
   "id": "25f41be5",
   "metadata": {},
   "outputs": [
    {
     "data": {
      "text/plain": [
       "['imagem', 'temos', 'a', 'seguinte', 'classe']"
      ]
     },
     "execution_count": 61,
     "metadata": {},
     "output_type": "execute_result"
    }
   ],
   "source": [
    "lista_normalizada = normalizacao(lista_palavras)\n",
    "lista_normalizada[:5]"
   ]
  },
  {
   "cell_type": "code",
   "execution_count": 62,
   "id": "0073343f",
   "metadata": {},
   "outputs": [
    {
     "data": {
      "text/plain": [
       "18465"
      ]
     },
     "execution_count": 62,
     "metadata": {},
     "output_type": "execute_result"
    }
   ],
   "source": [
    "len(set((lista_normalizada)))"
   ]
  },
  {
   "cell_type": "code",
   "execution_count": 63,
   "id": "d33bd3bf",
   "metadata": {},
   "outputs": [],
   "source": [
    "palavra_exemplo = 'lgica'\n",
    "\n",
    "\n",
    "def insere_letras(fatias):\n",
    "    novas_palavras = []\n",
    "    letras = 'abcdefghijklmnopqrstuvwxyzàáâãèéêìíîòóôõùúûç'\n",
    "    for letra in letras:\n",
    "        for E, D in fatias:\n",
    "            novas_palavras.append(E + letra + D)\n",
    "    return novas_palavras\n",
    "\n",
    "def gerador_palavras(palavra):\n",
    "    fatias = []\n",
    "    for i in range(len(palavra)+1):\n",
    "        fatias.append((palavra[:i], palavra[i:]))\n",
    "    palavras_geradas = insere_letras(fatias)\n",
    "    return palavras_geradas"
   ]
  },
  {
   "cell_type": "code",
   "execution_count": 64,
   "id": "bc8c8118",
   "metadata": {
    "scrolled": true
   },
   "outputs": [
    {
     "data": {
      "text/plain": [
       "['algica',\n",
       " 'lagica',\n",
       " 'lgaica',\n",
       " 'lgiaca',\n",
       " 'lgicaa',\n",
       " 'lgicaa',\n",
       " 'blgica',\n",
       " 'lbgica',\n",
       " 'lgbica',\n",
       " 'lgibca',\n",
       " 'lgicba',\n",
       " 'lgicab',\n",
       " 'clgica',\n",
       " 'lcgica',\n",
       " 'lgcica',\n",
       " 'lgicca',\n",
       " 'lgicca',\n",
       " 'lgicac',\n",
       " 'dlgica',\n",
       " 'ldgica',\n",
       " 'lgdica',\n",
       " 'lgidca',\n",
       " 'lgicda',\n",
       " 'lgicad',\n",
       " 'elgica',\n",
       " 'legica',\n",
       " 'lgeica',\n",
       " 'lgieca',\n",
       " 'lgicea',\n",
       " 'lgicae',\n",
       " 'flgica',\n",
       " 'lfgica',\n",
       " 'lgfica',\n",
       " 'lgifca',\n",
       " 'lgicfa',\n",
       " 'lgicaf',\n",
       " 'glgica',\n",
       " 'lggica',\n",
       " 'lggica',\n",
       " 'lgigca',\n",
       " 'lgicga',\n",
       " 'lgicag',\n",
       " 'hlgica',\n",
       " 'lhgica',\n",
       " 'lghica',\n",
       " 'lgihca',\n",
       " 'lgicha',\n",
       " 'lgicah',\n",
       " 'ilgica',\n",
       " 'ligica',\n",
       " 'lgiica',\n",
       " 'lgiica',\n",
       " 'lgicia',\n",
       " 'lgicai',\n",
       " 'jlgica',\n",
       " 'ljgica',\n",
       " 'lgjica',\n",
       " 'lgijca',\n",
       " 'lgicja',\n",
       " 'lgicaj',\n",
       " 'klgica',\n",
       " 'lkgica',\n",
       " 'lgkica',\n",
       " 'lgikca',\n",
       " 'lgicka',\n",
       " 'lgicak',\n",
       " 'llgica',\n",
       " 'llgica',\n",
       " 'lglica',\n",
       " 'lgilca',\n",
       " 'lgicla',\n",
       " 'lgical',\n",
       " 'mlgica',\n",
       " 'lmgica',\n",
       " 'lgmica',\n",
       " 'lgimca',\n",
       " 'lgicma',\n",
       " 'lgicam',\n",
       " 'nlgica',\n",
       " 'lngica',\n",
       " 'lgnica',\n",
       " 'lginca',\n",
       " 'lgicna',\n",
       " 'lgican',\n",
       " 'olgica',\n",
       " 'logica',\n",
       " 'lgoica',\n",
       " 'lgioca',\n",
       " 'lgicoa',\n",
       " 'lgicao',\n",
       " 'plgica',\n",
       " 'lpgica',\n",
       " 'lgpica',\n",
       " 'lgipca',\n",
       " 'lgicpa',\n",
       " 'lgicap',\n",
       " 'qlgica',\n",
       " 'lqgica',\n",
       " 'lgqica',\n",
       " 'lgiqca',\n",
       " 'lgicqa',\n",
       " 'lgicaq',\n",
       " 'rlgica',\n",
       " 'lrgica',\n",
       " 'lgrica',\n",
       " 'lgirca',\n",
       " 'lgicra',\n",
       " 'lgicar',\n",
       " 'slgica',\n",
       " 'lsgica',\n",
       " 'lgsica',\n",
       " 'lgisca',\n",
       " 'lgicsa',\n",
       " 'lgicas',\n",
       " 'tlgica',\n",
       " 'ltgica',\n",
       " 'lgtica',\n",
       " 'lgitca',\n",
       " 'lgicta',\n",
       " 'lgicat',\n",
       " 'ulgica',\n",
       " 'lugica',\n",
       " 'lguica',\n",
       " 'lgiuca',\n",
       " 'lgicua',\n",
       " 'lgicau',\n",
       " 'vlgica',\n",
       " 'lvgica',\n",
       " 'lgvica',\n",
       " 'lgivca',\n",
       " 'lgicva',\n",
       " 'lgicav',\n",
       " 'wlgica',\n",
       " 'lwgica',\n",
       " 'lgwica',\n",
       " 'lgiwca',\n",
       " 'lgicwa',\n",
       " 'lgicaw',\n",
       " 'xlgica',\n",
       " 'lxgica',\n",
       " 'lgxica',\n",
       " 'lgixca',\n",
       " 'lgicxa',\n",
       " 'lgicax',\n",
       " 'ylgica',\n",
       " 'lygica',\n",
       " 'lgyica',\n",
       " 'lgiyca',\n",
       " 'lgicya',\n",
       " 'lgicay',\n",
       " 'zlgica',\n",
       " 'lzgica',\n",
       " 'lgzica',\n",
       " 'lgizca',\n",
       " 'lgicza',\n",
       " 'lgicaz',\n",
       " 'àlgica',\n",
       " 'làgica',\n",
       " 'lgàica',\n",
       " 'lgiàca',\n",
       " 'lgicàa',\n",
       " 'lgicaà',\n",
       " 'álgica',\n",
       " 'lágica',\n",
       " 'lgáica',\n",
       " 'lgiáca',\n",
       " 'lgicáa',\n",
       " 'lgicaá',\n",
       " 'âlgica',\n",
       " 'lâgica',\n",
       " 'lgâica',\n",
       " 'lgiâca',\n",
       " 'lgicâa',\n",
       " 'lgicaâ',\n",
       " 'ãlgica',\n",
       " 'lãgica',\n",
       " 'lgãica',\n",
       " 'lgiãca',\n",
       " 'lgicãa',\n",
       " 'lgicaã',\n",
       " 'èlgica',\n",
       " 'lègica',\n",
       " 'lgèica',\n",
       " 'lgièca',\n",
       " 'lgicèa',\n",
       " 'lgicaè',\n",
       " 'élgica',\n",
       " 'légica',\n",
       " 'lgéica',\n",
       " 'lgiéca',\n",
       " 'lgicéa',\n",
       " 'lgicaé',\n",
       " 'êlgica',\n",
       " 'lêgica',\n",
       " 'lgêica',\n",
       " 'lgiêca',\n",
       " 'lgicêa',\n",
       " 'lgicaê',\n",
       " 'ìlgica',\n",
       " 'lìgica',\n",
       " 'lgìica',\n",
       " 'lgiìca',\n",
       " 'lgicìa',\n",
       " 'lgicaì',\n",
       " 'ílgica',\n",
       " 'lígica',\n",
       " 'lgíica',\n",
       " 'lgiíca',\n",
       " 'lgicía',\n",
       " 'lgicaí',\n",
       " 'îlgica',\n",
       " 'lîgica',\n",
       " 'lgîica',\n",
       " 'lgiîca',\n",
       " 'lgicîa',\n",
       " 'lgicaî',\n",
       " 'òlgica',\n",
       " 'lògica',\n",
       " 'lgòica',\n",
       " 'lgiòca',\n",
       " 'lgicòa',\n",
       " 'lgicaò',\n",
       " 'ólgica',\n",
       " 'lógica',\n",
       " 'lgóica',\n",
       " 'lgióca',\n",
       " 'lgicóa',\n",
       " 'lgicaó',\n",
       " 'ôlgica',\n",
       " 'lôgica',\n",
       " 'lgôica',\n",
       " 'lgiôca',\n",
       " 'lgicôa',\n",
       " 'lgicaô',\n",
       " 'õlgica',\n",
       " 'lõgica',\n",
       " 'lgõica',\n",
       " 'lgiõca',\n",
       " 'lgicõa',\n",
       " 'lgicaõ',\n",
       " 'ùlgica',\n",
       " 'lùgica',\n",
       " 'lgùica',\n",
       " 'lgiùca',\n",
       " 'lgicùa',\n",
       " 'lgicaù',\n",
       " 'úlgica',\n",
       " 'lúgica',\n",
       " 'lgúica',\n",
       " 'lgiúca',\n",
       " 'lgicúa',\n",
       " 'lgicaú',\n",
       " 'ûlgica',\n",
       " 'lûgica',\n",
       " 'lgûica',\n",
       " 'lgiûca',\n",
       " 'lgicûa',\n",
       " 'lgicaû',\n",
       " 'çlgica',\n",
       " 'lçgica',\n",
       " 'lgçica',\n",
       " 'lgiçca',\n",
       " 'lgicça',\n",
       " 'lgicaç']"
      ]
     },
     "execution_count": 64,
     "metadata": {},
     "output_type": "execute_result"
    }
   ],
   "source": [
    "gerador_palavras(palavra_exemplo)"
   ]
  },
  {
   "cell_type": "code",
   "execution_count": 114,
   "id": "25d594d9",
   "metadata": {},
   "outputs": [],
   "source": [
    "palavra_exemplo = 'lgica'\n",
    "\n",
    "total_palavras = len(lista_normalizada)\n",
    "total_palavras\n",
    "\n",
    "def insere_letras(fatias):\n",
    "    novas_palavras = []\n",
    "    letras = 'abcdefghijklmnopqrstuvwxyzàáâãèéêìíîòóôõùúûç'\n",
    "    for letra in letras:\n",
    "        for E, D in fatias:\n",
    "            novas_palavras.append(E + letra + D)\n",
    "    return novas_palavras\n",
    "\n",
    "def gerador_palavras(palavra):\n",
    "    fatias = []\n",
    "    for i in range(len(palavra)+1):\n",
    "        fatias.append((palavra[:i], palavra[i:]))\n",
    "    palavras_geradas = insere_letras(fatias)\n",
    "    palavras_geradas += deletando_caracteres(fatias)\n",
    "    return palavras_geradas\n",
    "\n",
    "def corretor(palavra):\n",
    "    palavras_geradas = gerador_palavras(palavra)\n",
    "    palavra_correta = max(palavras_geradas, key=probabilidade)\n",
    "    return palavra_correta\n",
    "\n",
    "def probabilidade(palavra_gerada, frequencia=frequencia, total_palavras=total_palavras):\n",
    "    return frequencia[palavra_gerada]/total_palavras\n",
    "\n",
    "def deletando_caracteres(fatias):\n",
    "    novas_palavras = []\n",
    "    for E, D in fatias:\n",
    "        novas_palavras.append(E + D[1:])\n",
    "    return novas_palavras"
   ]
  },
  {
   "cell_type": "code",
   "execution_count": 66,
   "id": "e6459bef",
   "metadata": {},
   "outputs": [
    {
     "data": {
      "text/plain": [
       "[('de', 15502),\n",
       " ('o', 14056),\n",
       " ('que', 12230),\n",
       " ('a', 11099),\n",
       " ('e', 10501),\n",
       " ('para', 7710),\n",
       " ('um', 6368),\n",
       " ('é', 5899),\n",
       " ('uma', 5220),\n",
       " ('do', 5124)]"
      ]
     },
     "execution_count": 66,
     "metadata": {},
     "output_type": "execute_result"
    }
   ],
   "source": [
    "frequencia = nltk.FreqDist(lista_normalizada)\n",
    "frequencia.most_common()[:10]"
   ]
  },
  {
   "cell_type": "code",
   "execution_count": 83,
   "id": "a328ed67",
   "metadata": {},
   "outputs": [
    {
     "data": {
      "text/plain": [
       "0"
      ]
     },
     "execution_count": 83,
     "metadata": {},
     "output_type": "execute_result"
    }
   ],
   "source": [
    "frequencia['logica']"
   ]
  },
  {
   "cell_type": "code",
   "execution_count": 120,
   "id": "f0b0e45c",
   "metadata": {},
   "outputs": [
    {
     "data": {
      "text/plain": [
       "0.0019151385250456459"
      ]
     },
     "execution_count": 120,
     "metadata": {},
     "output_type": "execute_result"
    }
   ],
   "source": [
    "probabilidade('código')"
   ]
  },
  {
   "cell_type": "code",
   "execution_count": 92,
   "id": "2fdf8b25",
   "metadata": {},
   "outputs": [
    {
     "data": {
      "text/plain": [
       "'lógica'"
      ]
     },
     "execution_count": 92,
     "metadata": {},
     "output_type": "execute_result"
    }
   ],
   "source": [
    "corretor(palavra_exemplo)"
   ]
  },
  {
   "cell_type": "code",
   "execution_count": 98,
   "id": "7b677a15",
   "metadata": {},
   "outputs": [
    {
     "data": {
      "text/plain": [
       "'código'"
      ]
     },
     "execution_count": 98,
     "metadata": {},
     "output_type": "execute_result"
    }
   ],
   "source": [
    "corretor('cdigo')"
   ]
  },
  {
   "cell_type": "code",
   "execution_count": 105,
   "id": "bd3ecc6e",
   "metadata": {},
   "outputs": [
    {
     "data": {
      "text/plain": [
       "[('podemos', 'pyodemos'),\n",
       " ('esse', 'esje'),\n",
       " ('já', 'jrá'),\n",
       " ('nosso', 'nossov'),\n",
       " ('são', 'sãêo'),\n",
       " ('dos', 'dosa'),\n",
       " ('muito', 'muifo'),\n",
       " ('imagem', 'iômagem'),\n",
       " ('sua', 'ósua'),\n",
       " ('também', 'tambéùm'),\n",
       " ('ele', 'eme'),\n",
       " ('fazer', 'èazer'),\n",
       " ('temos', 'temfs'),\n",
       " ('essa', 'eàssa'),\n",
       " ('quando', 'quaôdo'),\n",
       " ('vamos', 'vamvos'),\n",
       " ('sobre', 'hsobre'),\n",
       " ('java', 'sjava'),\n",
       " ('das', 'daõs'),\n",
       " ('agora', 'agorah'),\n",
       " ('está', 'eòtá'),\n",
       " ('cada', 'céda'),\n",
       " ('mesmo', 'zmesmo'),\n",
       " ('nos', 'noâ'),\n",
       " ('forma', 'fobma'),\n",
       " ('seja', 'sejéa'),\n",
       " ('então', 'enêão'),\n",
       " ('criar', 'èriar'),\n",
       " ('código', 'cóeigo'),\n",
       " ('caso', 'casío'),\n",
       " ('exemplo', 'áexemplo'),\n",
       " ('tem', 'tĩem'),\n",
       " ('usuário', 'usuárôio'),\n",
       " ('dados', 'dfados'),\n",
       " ('python', 'pgthon'),\n",
       " ('nossa', 'nossah'),\n",
       " ('além', 'alémè'),\n",
       " ('assim', 'asõim'),\n",
       " ('ter', 'teb'),\n",
       " ('até', 'atĩ'),\n",
       " ('bem', 'âem'),\n",
       " ('design', 'desigen'),\n",
       " ('trabalho', 'trabalàho'),\n",
       " ('foi', 'foo'),\n",
       " ('apenas', 'apenaũ'),\n",
       " ('empresa', 'empresà'),\n",
       " ('valor', 'valíor'),\n",
       " ('será', 'serr'),\n",
       " ('entre', 'entke'),\n",
       " ('método', 'méqodo'),\n",
       " ('precisamos', 'precisamops'),\n",
       " ('ainda', 'ainàa'),\n",
       " ('vai', 'van'),\n",
       " ('conteúdo', 'ûconteúdo'),\n",
       " ('seus', 'çeus'),\n",
       " ('eu', 'eû'),\n",
       " ('todos', 'todtos'),\n",
       " ('tempo', 'temeo'),\n",
       " ('sempre', 'semre'),\n",
       " ('qual', 'quakl'),\n",
       " ('ela', 'elaá'),\n",
       " ('só', 'síó'),\n",
       " ('utilizar', 'utiqizar'),\n",
       " ('projeto', 'prhojeto'),\n",
       " ('site', 'siàe'),\n",
       " ('sem', 'seém'),\n",
       " ('pelo', 'peln'),\n",
       " ('alura', 'aléra'),\n",
       " ('dia', 'tdia'),\n",
       " ('tudo', 'tuúo'),\n",
       " ('podemos', 'kpodemos'),\n",
       " ('esse', 'eẽsse'),\n",
       " ('já', 'jé'),\n",
       " ('nosso', 'nçosso'),\n",
       " ('são', 'sãô'),\n",
       " ('dos', 'odos'),\n",
       " ('muito', 'tuito'),\n",
       " ('imagem', 'imõgem'),\n",
       " ('sua', 'siua'),\n",
       " ('também', 'tamvbém'),\n",
       " ('ele', 'elpe'),\n",
       " ('fazer', 'façzer'),\n",
       " ('temos', 'teos'),\n",
       " ('essa', 'eũsa'),\n",
       " ('quando', 'quaìdo'),\n",
       " ('vamos', 'vjmos'),\n",
       " ('sobre', 'sxobre'),\n",
       " ('java', 'jkva'),\n",
       " ('das', 'dms'),\n",
       " ('agora', 'agtora'),\n",
       " ('está', 'esútá'),\n",
       " ('cada', 'cava'),\n",
       " ('mesmo', 'medmo'),\n",
       " ('nos', 'ános'),\n",
       " ('forma', 'forûa'),\n",
       " ('seja', 'smeja'),\n",
       " ('então', 'enjtão'),\n",
       " ('criar', 'criôar'),\n",
       " ('código', 'cóàigo'),\n",
       " ('caso', 'èaso'),\n",
       " ('exemplo', 'exbemplo'),\n",
       " ('tem', 'túem'),\n",
       " ('usuário', 'usuárin'),\n",
       " ('dados', 'daáos'),\n",
       " ('python', 'pythoçn'),\n",
       " ('nossa', 'nossk'),\n",
       " ('além', 'âlém'),\n",
       " ('assim', 'aóssim'),\n",
       " ('ter', 'tãer'),\n",
       " ('até', 'vté'),\n",
       " ('bem', 'búm'),\n",
       " ('design', 'íesign'),\n",
       " ('trabalho', 'trabèalho'),\n",
       " ('foi', 'kfoi'),\n",
       " ('apenas', 'aapenas'),\n",
       " ('empresa', 'pmpresa'),\n",
       " ('valor', 'valoqr'),\n",
       " ('será', 'sçerá'),\n",
       " ('entre', 'entró'),\n",
       " ('método', 'nétodo'),\n",
       " ('precisamos', 'prefcisamos'),\n",
       " ('ainda', 'sainda'),\n",
       " ('vai', 'uai'),\n",
       " ('conteúdo', 'cĩonteúdo'),\n",
       " ('seus', 'sâus'),\n",
       " ('eu', 'ìeu'),\n",
       " ('todos', 'todás'),\n",
       " ('tempo', 'utempo'),\n",
       " ('sempre', 'sempce'),\n",
       " ('qual', 'fual'),\n",
       " ('ela', 'elal'),\n",
       " ('só', 'skó'),\n",
       " ('utilizar', 'utilĩzar'),\n",
       " ('projeto', 'proójeto'),\n",
       " ('site', 'isite'),\n",
       " ('sem', 'secm'),\n",
       " ('pelo', 'pẽlo'),\n",
       " ('alura', 'aluéa'),\n",
       " ('dia', 'dil'),\n",
       " ('tudo', 'tudy'),\n",
       " ('ela', 'qelay'),\n",
       " ('só', 'sód'),\n",
       " ('utilizar', 'dtilizacr'),\n",
       " ('projeto', 'bprojõto'),\n",
       " ('site', 'ysiteo'),\n",
       " ('sem', 'sõêm'),\n",
       " ('pelo', 'peàli'),\n",
       " ('alura', 'asuraó'),\n",
       " ('dia', 'deiìa'),\n",
       " ('tudo', 'tuĩdoì'),\n",
       " ('ela', 'eúaa'),\n",
       " ('só', 'ró'),\n",
       " ('utilizar', 'utilizẽaçr'),\n",
       " ('projeto', 'prêjetó'),\n",
       " ('site', 'sqiqte'),\n",
       " ('sem', 'sũexm'),\n",
       " ('pelo', 'pçlxo'),\n",
       " ('alura', 'uluraa'),\n",
       " ('dia', 'dĩaz'),\n",
       " ('tudo', 'kzudo'),\n",
       " ('corretor', 'correptor'),\n",
       " ('tática', 'trtica'),\n",
       " ('empoderamento', 'ewpoderamento'),\n",
       " ('linux', 'lifux'),\n",
       " ('cachorro', 'cachoçro'),\n",
       " ('gato', 'îgato'),\n",
       " ('cavalo', 'cakvalo'),\n",
       " ('relógio', 'relógiuo'),\n",
       " ('canela', 'canelac'),\n",
       " ('tênis', 'tênisy'),\n",
       " ('ansiosa', 'anciosa'),\n",
       " ('ansiosa', 'ancciosa'),\n",
       " ('ansiosa', 'ansioa'),\n",
       " ('empoderamento', 'empoderamento'),\n",
       " ('asterisco', 'asterístico'),\n",
       " ('gratuito', 'gratuíto'),\n",
       " ('entretido', 'entertido'),\n",
       " ('ritmo', 'ritimo'),\n",
       " ('idiota', 'indiota'),\n",
       " ('tomara', 'tomare'),\n",
       " ('seja', 'seje'),\n",
       " ('prevalecer', 'provalecer'),\n",
       " ('esteja', 'esteje'),\n",
       " ('mendigo', 'mindigo'),\n",
       " ('cérebro', 'célebro'),\n",
       " ('perturbar', 'pertubar')]"
      ]
     },
     "execution_count": 105,
     "metadata": {},
     "output_type": "execute_result"
    }
   ],
   "source": [
    "def cria_dados_teste(nome_arquivo):\n",
    "    lista_palavras_teste = []\n",
    "    f = open(nome_arquivo, 'r', encoding='utf-8')\n",
    "    for linha in f:\n",
    "        correta, errada = linha.split()\n",
    "        lista_palavras_teste.append((correta, errada))\n",
    "    f.close()\n",
    "    return lista_palavras_teste\n",
    "\n",
    "lista_teste = cria_dados_teste('palavras.txt')\n",
    "lista_teste"
   ]
  },
  {
   "cell_type": "code",
   "execution_count": 112,
   "id": "f3fc6152",
   "metadata": {},
   "outputs": [
    {
     "name": "stdout",
     "output_type": "stream",
     "text": [
      "taxa de acerto: 1.08% de 186 palavras\n"
     ]
    }
   ],
   "source": [
    "def avaliador(testes):\n",
    "    numero_palavras = len(testes)\n",
    "    acertou = 0\n",
    "    for correta, errada in testes:\n",
    "        palavra_corrigida = corretor(errada)\n",
    "        if palavra_corrigida == correta:\n",
    "            acertou +=1\n",
    "    taxa_acerto = acertou/numero_palavras\n",
    "    print(f'taxa de acerto: {taxa_acerto:0.2%} de {numero_palavras} palavras')\n",
    "    \n",
    "avaliador(lista_teste)"
   ]
  },
  {
   "cell_type": "code",
   "execution_count": 118,
   "id": "d0336f47",
   "metadata": {},
   "outputs": [
    {
     "data": {
      "text/plain": [
       "['alóigica',\n",
       " 'laóigica',\n",
       " 'lóaigica',\n",
       " 'lóiagica',\n",
       " 'lóigaica',\n",
       " 'lóigiaca',\n",
       " 'lóigicaa',\n",
       " 'lóigicaa',\n",
       " 'blóigica',\n",
       " 'lbóigica',\n",
       " 'lóbigica',\n",
       " 'lóibgica',\n",
       " 'lóigbica',\n",
       " 'lóigibca',\n",
       " 'lóigicba',\n",
       " 'lóigicab',\n",
       " 'clóigica',\n",
       " 'lcóigica',\n",
       " 'lócigica',\n",
       " 'lóicgica',\n",
       " 'lóigcica',\n",
       " 'lóigicca',\n",
       " 'lóigicca',\n",
       " 'lóigicac',\n",
       " 'dlóigica',\n",
       " 'ldóigica',\n",
       " 'lódigica',\n",
       " 'lóidgica',\n",
       " 'lóigdica',\n",
       " 'lóigidca',\n",
       " 'lóigicda',\n",
       " 'lóigicad',\n",
       " 'elóigica',\n",
       " 'leóigica',\n",
       " 'lóeigica',\n",
       " 'lóiegica',\n",
       " 'lóigeica',\n",
       " 'lóigieca',\n",
       " 'lóigicea',\n",
       " 'lóigicae',\n",
       " 'flóigica',\n",
       " 'lfóigica',\n",
       " 'lófigica',\n",
       " 'lóifgica',\n",
       " 'lóigfica',\n",
       " 'lóigifca',\n",
       " 'lóigicfa',\n",
       " 'lóigicaf',\n",
       " 'glóigica',\n",
       " 'lgóigica',\n",
       " 'lógigica',\n",
       " 'lóiggica',\n",
       " 'lóiggica',\n",
       " 'lóigigca',\n",
       " 'lóigicga',\n",
       " 'lóigicag',\n",
       " 'hlóigica',\n",
       " 'lhóigica',\n",
       " 'lóhigica',\n",
       " 'lóihgica',\n",
       " 'lóighica',\n",
       " 'lóigihca',\n",
       " 'lóigicha',\n",
       " 'lóigicah',\n",
       " 'ilóigica',\n",
       " 'lióigica',\n",
       " 'lóiigica',\n",
       " 'lóiigica',\n",
       " 'lóigiica',\n",
       " 'lóigiica',\n",
       " 'lóigicia',\n",
       " 'lóigicai',\n",
       " 'jlóigica',\n",
       " 'ljóigica',\n",
       " 'lójigica',\n",
       " 'lóijgica',\n",
       " 'lóigjica',\n",
       " 'lóigijca',\n",
       " 'lóigicja',\n",
       " 'lóigicaj',\n",
       " 'klóigica',\n",
       " 'lkóigica',\n",
       " 'lókigica',\n",
       " 'lóikgica',\n",
       " 'lóigkica',\n",
       " 'lóigikca',\n",
       " 'lóigicka',\n",
       " 'lóigicak',\n",
       " 'llóigica',\n",
       " 'llóigica',\n",
       " 'lóligica',\n",
       " 'lóilgica',\n",
       " 'lóiglica',\n",
       " 'lóigilca',\n",
       " 'lóigicla',\n",
       " 'lóigical',\n",
       " 'mlóigica',\n",
       " 'lmóigica',\n",
       " 'lómigica',\n",
       " 'lóimgica',\n",
       " 'lóigmica',\n",
       " 'lóigimca',\n",
       " 'lóigicma',\n",
       " 'lóigicam',\n",
       " 'nlóigica',\n",
       " 'lnóigica',\n",
       " 'lónigica',\n",
       " 'lóingica',\n",
       " 'lóignica',\n",
       " 'lóiginca',\n",
       " 'lóigicna',\n",
       " 'lóigican',\n",
       " 'olóigica',\n",
       " 'loóigica',\n",
       " 'lóoigica',\n",
       " 'lóiogica',\n",
       " 'lóigoica',\n",
       " 'lóigioca',\n",
       " 'lóigicoa',\n",
       " 'lóigicao',\n",
       " 'plóigica',\n",
       " 'lpóigica',\n",
       " 'lópigica',\n",
       " 'lóipgica',\n",
       " 'lóigpica',\n",
       " 'lóigipca',\n",
       " 'lóigicpa',\n",
       " 'lóigicap',\n",
       " 'qlóigica',\n",
       " 'lqóigica',\n",
       " 'lóqigica',\n",
       " 'lóiqgica',\n",
       " 'lóigqica',\n",
       " 'lóigiqca',\n",
       " 'lóigicqa',\n",
       " 'lóigicaq',\n",
       " 'rlóigica',\n",
       " 'lróigica',\n",
       " 'lórigica',\n",
       " 'lóirgica',\n",
       " 'lóigrica',\n",
       " 'lóigirca',\n",
       " 'lóigicra',\n",
       " 'lóigicar',\n",
       " 'slóigica',\n",
       " 'lsóigica',\n",
       " 'lósigica',\n",
       " 'lóisgica',\n",
       " 'lóigsica',\n",
       " 'lóigisca',\n",
       " 'lóigicsa',\n",
       " 'lóigicas',\n",
       " 'tlóigica',\n",
       " 'ltóigica',\n",
       " 'lótigica',\n",
       " 'lóitgica',\n",
       " 'lóigtica',\n",
       " 'lóigitca',\n",
       " 'lóigicta',\n",
       " 'lóigicat',\n",
       " 'ulóigica',\n",
       " 'luóigica',\n",
       " 'lóuigica',\n",
       " 'lóiugica',\n",
       " 'lóiguica',\n",
       " 'lóigiuca',\n",
       " 'lóigicua',\n",
       " 'lóigicau',\n",
       " 'vlóigica',\n",
       " 'lvóigica',\n",
       " 'lóvigica',\n",
       " 'lóivgica',\n",
       " 'lóigvica',\n",
       " 'lóigivca',\n",
       " 'lóigicva',\n",
       " 'lóigicav',\n",
       " 'wlóigica',\n",
       " 'lwóigica',\n",
       " 'lówigica',\n",
       " 'lóiwgica',\n",
       " 'lóigwica',\n",
       " 'lóigiwca',\n",
       " 'lóigicwa',\n",
       " 'lóigicaw',\n",
       " 'xlóigica',\n",
       " 'lxóigica',\n",
       " 'lóxigica',\n",
       " 'lóixgica',\n",
       " 'lóigxica',\n",
       " 'lóigixca',\n",
       " 'lóigicxa',\n",
       " 'lóigicax',\n",
       " 'ylóigica',\n",
       " 'lyóigica',\n",
       " 'lóyigica',\n",
       " 'lóiygica',\n",
       " 'lóigyica',\n",
       " 'lóigiyca',\n",
       " 'lóigicya',\n",
       " 'lóigicay',\n",
       " 'zlóigica',\n",
       " 'lzóigica',\n",
       " 'lózigica',\n",
       " 'lóizgica',\n",
       " 'lóigzica',\n",
       " 'lóigizca',\n",
       " 'lóigicza',\n",
       " 'lóigicaz',\n",
       " 'àlóigica',\n",
       " 'làóigica',\n",
       " 'lóàigica',\n",
       " 'lóiàgica',\n",
       " 'lóigàica',\n",
       " 'lóigiàca',\n",
       " 'lóigicàa',\n",
       " 'lóigicaà',\n",
       " 'álóigica',\n",
       " 'láóigica',\n",
       " 'lóáigica',\n",
       " 'lóiágica',\n",
       " 'lóigáica',\n",
       " 'lóigiáca',\n",
       " 'lóigicáa',\n",
       " 'lóigicaá',\n",
       " 'âlóigica',\n",
       " 'lâóigica',\n",
       " 'lóâigica',\n",
       " 'lóiâgica',\n",
       " 'lóigâica',\n",
       " 'lóigiâca',\n",
       " 'lóigicâa',\n",
       " 'lóigicaâ',\n",
       " 'ãlóigica',\n",
       " 'lãóigica',\n",
       " 'lóãigica',\n",
       " 'lóiãgica',\n",
       " 'lóigãica',\n",
       " 'lóigiãca',\n",
       " 'lóigicãa',\n",
       " 'lóigicaã',\n",
       " 'èlóigica',\n",
       " 'lèóigica',\n",
       " 'lóèigica',\n",
       " 'lóiègica',\n",
       " 'lóigèica',\n",
       " 'lóigièca',\n",
       " 'lóigicèa',\n",
       " 'lóigicaè',\n",
       " 'élóigica',\n",
       " 'léóigica',\n",
       " 'lóéigica',\n",
       " 'lóiégica',\n",
       " 'lóigéica',\n",
       " 'lóigiéca',\n",
       " 'lóigicéa',\n",
       " 'lóigicaé',\n",
       " 'êlóigica',\n",
       " 'lêóigica',\n",
       " 'lóêigica',\n",
       " 'lóiêgica',\n",
       " 'lóigêica',\n",
       " 'lóigiêca',\n",
       " 'lóigicêa',\n",
       " 'lóigicaê',\n",
       " 'ìlóigica',\n",
       " 'lìóigica',\n",
       " 'lóìigica',\n",
       " 'lóiìgica',\n",
       " 'lóigìica',\n",
       " 'lóigiìca',\n",
       " 'lóigicìa',\n",
       " 'lóigicaì',\n",
       " 'ílóigica',\n",
       " 'líóigica',\n",
       " 'lóíigica',\n",
       " 'lóiígica',\n",
       " 'lóigíica',\n",
       " 'lóigiíca',\n",
       " 'lóigicía',\n",
       " 'lóigicaí',\n",
       " 'îlóigica',\n",
       " 'lîóigica',\n",
       " 'lóîigica',\n",
       " 'lóiîgica',\n",
       " 'lóigîica',\n",
       " 'lóigiîca',\n",
       " 'lóigicîa',\n",
       " 'lóigicaî',\n",
       " 'òlóigica',\n",
       " 'lòóigica',\n",
       " 'lóòigica',\n",
       " 'lóiògica',\n",
       " 'lóigòica',\n",
       " 'lóigiòca',\n",
       " 'lóigicòa',\n",
       " 'lóigicaò',\n",
       " 'ólóigica',\n",
       " 'lóóigica',\n",
       " 'lóóigica',\n",
       " 'lóiógica',\n",
       " 'lóigóica',\n",
       " 'lóigióca',\n",
       " 'lóigicóa',\n",
       " 'lóigicaó',\n",
       " 'ôlóigica',\n",
       " 'lôóigica',\n",
       " 'lóôigica',\n",
       " 'lóiôgica',\n",
       " 'lóigôica',\n",
       " 'lóigiôca',\n",
       " 'lóigicôa',\n",
       " 'lóigicaô',\n",
       " 'õlóigica',\n",
       " 'lõóigica',\n",
       " 'lóõigica',\n",
       " 'lóiõgica',\n",
       " 'lóigõica',\n",
       " 'lóigiõca',\n",
       " 'lóigicõa',\n",
       " 'lóigicaõ',\n",
       " 'ùlóigica',\n",
       " 'lùóigica',\n",
       " 'lóùigica',\n",
       " 'lóiùgica',\n",
       " 'lóigùica',\n",
       " 'lóigiùca',\n",
       " 'lóigicùa',\n",
       " 'lóigicaù',\n",
       " 'úlóigica',\n",
       " 'lúóigica',\n",
       " 'lóúigica',\n",
       " 'lóiúgica',\n",
       " 'lóigúica',\n",
       " 'lóigiúca',\n",
       " 'lóigicúa',\n",
       " 'lóigicaú',\n",
       " 'ûlóigica',\n",
       " 'lûóigica',\n",
       " 'lóûigica',\n",
       " 'lóiûgica',\n",
       " 'lóigûica',\n",
       " 'lóigiûca',\n",
       " 'lóigicûa',\n",
       " 'lóigicaû',\n",
       " 'çlóigica',\n",
       " 'lçóigica',\n",
       " 'lóçigica',\n",
       " 'lóiçgica',\n",
       " 'lóigçica',\n",
       " 'lóigiçca',\n",
       " 'lóigicça',\n",
       " 'lóigicaç',\n",
       " 'óigica',\n",
       " 'ligica',\n",
       " 'lógica',\n",
       " 'lóiica',\n",
       " 'lóigca',\n",
       " 'lóigia',\n",
       " 'lóigic',\n",
       " 'lóigica']"
      ]
     },
     "execution_count": 118,
     "metadata": {},
     "output_type": "execute_result"
    }
   ],
   "source": [
    "palavra_exemplo = 'lóigica'\n",
    "gerador_palavras(palavra_exemplo)"
   ]
  },
  {
   "cell_type": "code",
   "execution_count": 119,
   "id": "306628c1",
   "metadata": {},
   "outputs": [
    {
     "name": "stdout",
     "output_type": "stream",
     "text": [
      "taxa de acerto: 41.40% de 186 palavras\n"
     ]
    }
   ],
   "source": [
    "avaliador(lista_teste)"
   ]
  },
  {
   "cell_type": "code",
   "execution_count": null,
   "id": "7d7a9e08",
   "metadata": {},
   "outputs": [],
   "source": [
    "def troca_letra(fatias):\n",
    "    "
   ]
  }
 ],
 "metadata": {
  "kernelspec": {
   "display_name": "Python 3",
   "language": "python",
   "name": "python3"
  },
  "language_info": {
   "codemirror_mode": {
    "name": "ipython",
    "version": 3
   },
   "file_extension": ".py",
   "mimetype": "text/x-python",
   "name": "python",
   "nbconvert_exporter": "python",
   "pygments_lexer": "ipython3",
   "version": "3.7.10"
  }
 },
 "nbformat": 4,
 "nbformat_minor": 5
}
