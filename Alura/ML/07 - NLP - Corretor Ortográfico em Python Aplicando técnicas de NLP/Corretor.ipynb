{
 "cells": [
  {
   "cell_type": "markdown",
   "id": "219c71df",
   "metadata": {},
   "source": [
    "# Corretor Ortográfico em Python: Aplicando técnicas de NLP\n",
    "\n",
    "## Objetivos\n",
    "* Aprenda conceitos fundamentais do processamento de linguagem natural.\n",
    "* Saiba o que está por trás dos corretores ortográficos (spell checker).\n",
    "* Crie um corretor de palavras do zero, utilizando Python.\n",
    "* Utilize o NLTK uma das principais bibliotecas Python para NLP.\n",
    "* Aprenda o que são tokens e como utilizar NLTK para realizar a fragmentação de um texto.\n",
    "\n",
    "link: https://cursos.alura.com.br/course/nlp-corretor-ortografico"
   ]
  },
  {
   "cell_type": "markdown",
   "id": "a6e55c98",
   "metadata": {},
   "source": [
    "## Importando as bibliotecas necessárias"
   ]
  },
  {
   "cell_type": "code",
   "execution_count": null,
   "id": "52a25a8c",
   "metadata": {},
   "outputs": [],
   "source": [
    "import numpy as np\n",
    "import pandas as pd\n",
    "import matplotlib.pyplot as plt\n",
    "import seaborn as sns\n",
    "#from sklearn import"
   ]
  },
  {
   "cell_type": "markdown",
   "id": "2d7bd017",
   "metadata": {},
   "source": [
    "## Importando o dataset e explorando os dados"
   ]
  },
  {
   "cell_type": "code",
   "execution_count": 13,
   "id": "94b05fe1",
   "metadata": {},
   "outputs": [
    {
     "name": "stdout",
     "output_type": "stream",
     "text": [
      "\n",
      "\n",
      "\n",
      "imagem \n",
      "\n",
      "Temos a seguinte classe que representa um usuário no nosso sistema:\n",
      "\n",
      "java\n",
      "\n",
      "Para salvar um novo usuário, várias validações são feitas, como por exemplo: Ver se o nome só contém letras, [**o CPF só números**] e ver se o usuário possui no mínimo 18 anos. Veja o método que faz essa validação:\n",
      "\n",
      "java \n",
      "\n",
      "Suponha agora que eu tenha outra classe, a classe `Produto`, que contém um atributo nome e eu quero fazer a mesma validação que fiz para o nome do usuário: Ver se só contém letras. E aí? Vou\n"
     ]
    }
   ],
   "source": [
    "with open('artigos.txt', 'r', encoding='utf-8') as f:\n",
    "    artigos = f.read()\n",
    "    \n",
    "print(artigos[:500])"
   ]
  },
  {
   "cell_type": "code",
   "execution_count": null,
   "id": "60dd08cc",
   "metadata": {},
   "outputs": [],
   "source": []
  },
  {
   "cell_type": "code",
   "execution_count": null,
   "id": "5030b9c0",
   "metadata": {},
   "outputs": [],
   "source": []
  }
 ],
 "metadata": {
  "kernelspec": {
   "display_name": "Python 3",
   "language": "python",
   "name": "python3"
  },
  "language_info": {
   "codemirror_mode": {
    "name": "ipython",
    "version": 3
   },
   "file_extension": ".py",
   "mimetype": "text/x-python",
   "name": "python",
   "nbconvert_exporter": "python",
   "pygments_lexer": "ipython3",
   "version": "3.7.10"
  }
 },
 "nbformat": 4,
 "nbformat_minor": 5
}
