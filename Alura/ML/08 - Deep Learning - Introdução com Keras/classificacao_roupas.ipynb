{
  "nbformat": 4,
  "nbformat_minor": 0,
  "metadata": {
    "colab": {
      "name": "classificacao_roupas",
      "provenance": [],
      "collapsed_sections": []
    },
    "kernelspec": {
      "name": "python3",
      "display_name": "Python 3"
    },
    "language_info": {
      "name": "python"
    }
  },
  "cells": [
    {
      "cell_type": "markdown",
      "metadata": {
        "id": "sqcvbFabnbS-"
      },
      "source": [
        "# Deep Learning parte 1 Introdução com Keras\n",
        "\n",
        "## Objetivos\n",
        "* Aprenda conceitos essenciais de Deep Learning na prática.\n",
        "* Construa e treine um modelo com Keras e Tensorflow.\n",
        "* Saiba como selecionar as camadas de um modelo.\n",
        "* Avalie a performance do modelo e melhore seus resultados.\n",
        "* Aplique Deep Learning para classificar imagens.\n",
        "\n",
        "Link: https://cursos.alura.com.br/course/deep-learning-introducao-com-keras"
      ]
    },
    {
      "cell_type": "markdown",
      "metadata": {
        "id": "1lRbFSQxngd3"
      },
      "source": [
        "## Importando as bibliotecas necessárias"
      ]
    },
    {
      "cell_type": "code",
      "metadata": {
        "id": "RavhYNgbnhV6"
      },
      "source": [
        "import numpy as np\n",
        "import pandas as pd\n",
        "import tensorflow\n",
        "from tensorflow import keras\n",
        "import matplotlib.pyplot as plt\n",
        "from tensorflow.keras import layers\n",
        "from tensorflow.keras.models import load_model\n",
        "from keras.callbacks import EarlyStopping, ModelCheckpoint"
      ],
      "execution_count": 38,
      "outputs": []
    },
    {
      "cell_type": "markdown",
      "metadata": {
        "id": "S--wswjcngoP"
      },
      "source": [
        "## Carregando os dados"
      ]
    },
    {
      "cell_type": "code",
      "metadata": {
        "id": "f0ABSPIjnRef",
        "colab": {
          "base_uri": "https://localhost:8080/"
        },
        "outputId": "d746030e-cc92-4667-e5fa-d8c9e16df6cb"
      },
      "source": [
        "dataset = keras.datasets.fashion_mnist\n",
        "(X_train, y_train), (X_test, y_test) = dataset.load_data()"
      ],
      "execution_count": 2,
      "outputs": [
        {
          "output_type": "stream",
          "text": [
            "Downloading data from https://storage.googleapis.com/tensorflow/tf-keras-datasets/train-labels-idx1-ubyte.gz\n",
            "32768/29515 [=================================] - 0s 0us/step\n",
            "Downloading data from https://storage.googleapis.com/tensorflow/tf-keras-datasets/train-images-idx3-ubyte.gz\n",
            "26427392/26421880 [==============================] - 0s 0us/step\n",
            "Downloading data from https://storage.googleapis.com/tensorflow/tf-keras-datasets/t10k-labels-idx1-ubyte.gz\n",
            "8192/5148 [===============================================] - 0s 0us/step\n",
            "Downloading data from https://storage.googleapis.com/tensorflow/tf-keras-datasets/t10k-images-idx3-ubyte.gz\n",
            "4423680/4422102 [==============================] - 0s 0us/step\n"
          ],
          "name": "stdout"
        }
      ]
    },
    {
      "cell_type": "code",
      "metadata": {
        "colab": {
          "base_uri": "https://localhost:8080/",
          "height": 359
        },
        "id": "jZg3ZXXH0nci",
        "outputId": "9aa3ec66-4429-4d33-fd96-00e4ae4049c0"
      },
      "source": [
        "tabela_categorias = pd.read_html('https://github.com/zalandoresearch/fashion-mnist')[1]\n",
        "tabela_categorias"
      ],
      "execution_count": 3,
      "outputs": [
        {
          "output_type": "execute_result",
          "data": {
            "text/html": [
              "<div>\n",
              "<style scoped>\n",
              "    .dataframe tbody tr th:only-of-type {\n",
              "        vertical-align: middle;\n",
              "    }\n",
              "\n",
              "    .dataframe tbody tr th {\n",
              "        vertical-align: top;\n",
              "    }\n",
              "\n",
              "    .dataframe thead th {\n",
              "        text-align: right;\n",
              "    }\n",
              "</style>\n",
              "<table border=\"1\" class=\"dataframe\">\n",
              "  <thead>\n",
              "    <tr style=\"text-align: right;\">\n",
              "      <th></th>\n",
              "      <th>Label</th>\n",
              "      <th>Description</th>\n",
              "    </tr>\n",
              "  </thead>\n",
              "  <tbody>\n",
              "    <tr>\n",
              "      <th>0</th>\n",
              "      <td>0</td>\n",
              "      <td>T-shirt/top</td>\n",
              "    </tr>\n",
              "    <tr>\n",
              "      <th>1</th>\n",
              "      <td>1</td>\n",
              "      <td>Trouser</td>\n",
              "    </tr>\n",
              "    <tr>\n",
              "      <th>2</th>\n",
              "      <td>2</td>\n",
              "      <td>Pullover</td>\n",
              "    </tr>\n",
              "    <tr>\n",
              "      <th>3</th>\n",
              "      <td>3</td>\n",
              "      <td>Dress</td>\n",
              "    </tr>\n",
              "    <tr>\n",
              "      <th>4</th>\n",
              "      <td>4</td>\n",
              "      <td>Coat</td>\n",
              "    </tr>\n",
              "    <tr>\n",
              "      <th>5</th>\n",
              "      <td>5</td>\n",
              "      <td>Sandal</td>\n",
              "    </tr>\n",
              "    <tr>\n",
              "      <th>6</th>\n",
              "      <td>6</td>\n",
              "      <td>Shirt</td>\n",
              "    </tr>\n",
              "    <tr>\n",
              "      <th>7</th>\n",
              "      <td>7</td>\n",
              "      <td>Sneaker</td>\n",
              "    </tr>\n",
              "    <tr>\n",
              "      <th>8</th>\n",
              "      <td>8</td>\n",
              "      <td>Bag</td>\n",
              "    </tr>\n",
              "    <tr>\n",
              "      <th>9</th>\n",
              "      <td>9</td>\n",
              "      <td>Ankle boot</td>\n",
              "    </tr>\n",
              "  </tbody>\n",
              "</table>\n",
              "</div>"
            ],
            "text/plain": [
              "   Label  Description\n",
              "0      0  T-shirt/top\n",
              "1      1      Trouser\n",
              "2      2     Pullover\n",
              "3      3        Dress\n",
              "4      4         Coat\n",
              "5      5       Sandal\n",
              "6      6        Shirt\n",
              "7      7      Sneaker\n",
              "8      8          Bag\n",
              "9      9   Ankle boot"
            ]
          },
          "metadata": {
            "tags": []
          },
          "execution_count": 3
        }
      ]
    },
    {
      "cell_type": "markdown",
      "metadata": {
        "id": "hnJ8T4z10-PI"
      },
      "source": [
        "## Exploração dos dados"
      ]
    },
    {
      "cell_type": "code",
      "metadata": {
        "colab": {
          "base_uri": "https://localhost:8080/"
        },
        "id": "3DM3oP8Fn-2a",
        "outputId": "96ecaa3c-030a-43db-b2c6-b96f5c8eed68"
      },
      "source": [
        "X_train.shape"
      ],
      "execution_count": 4,
      "outputs": [
        {
          "output_type": "execute_result",
          "data": {
            "text/plain": [
              "(60000, 28, 28)"
            ]
          },
          "metadata": {
            "tags": []
          },
          "execution_count": 4
        }
      ]
    },
    {
      "cell_type": "code",
      "metadata": {
        "colab": {
          "base_uri": "https://localhost:8080/"
        },
        "id": "gCXRL8L5rro1",
        "outputId": "815f281f-c039-49bd-9036-25c249a7f27e"
      },
      "source": [
        "y_train.shape"
      ],
      "execution_count": 5,
      "outputs": [
        {
          "output_type": "execute_result",
          "data": {
            "text/plain": [
              "(60000,)"
            ]
          },
          "metadata": {
            "tags": []
          },
          "execution_count": 5
        }
      ]
    },
    {
      "cell_type": "code",
      "metadata": {
        "colab": {
          "base_uri": "https://localhost:8080/",
          "height": 281
        },
        "id": "g-36aeBJsELT",
        "outputId": "38ec8018-63c0-4bba-feb2-eeeac689a4fe"
      },
      "source": [
        "plt.imshow(X_train[0], cmap='gray')\n",
        "plt.title(y_train[0])\n",
        "\n",
        "plt.show()"
      ],
      "execution_count": 6,
      "outputs": [
        {
          "output_type": "display_data",
          "data": {
            "image/png": "[encoded data removed]",
            "text/plain": [
              "<Figure size 432x288 with 1 Axes>"
            ]
          },
          "metadata": {
            "tags": [],
            "needs_background": "light"
          }
        }
      ]
    },
    {
      "cell_type": "code",
      "metadata": {
        "colab": {
          "base_uri": "https://localhost:8080/",
          "height": 281
        },
        "id": "fY5Cd3fhmQkR",
        "outputId": "d830fd8f-97fb-4cbc-f35a-1616418be4bc"
      },
      "source": [
        "plt.imshow(X_train[0], cmap='gray')\n",
        "plt.colorbar()\n",
        "plt.title(y_train[0])\n",
        "\n",
        "plt.show()"
      ],
      "execution_count": null,
      "outputs": [
        {
          "output_type": "display_data",
          "data": {
            "image/png": "[encoded data removed]",
            "text/plain": [
              "<Figure size 432x288 with 2 Axes>"
            ]
          },
          "metadata": {
            "tags": [],
            "needs_background": "light"
          }
        }
      ]
    },
    {
      "cell_type": "code",
      "metadata": {
        "colab": {
          "base_uri": "https://localhost:8080/"
        },
        "id": "Nfl1T6casaxY",
        "outputId": "253848cd-d04a-4e3e-d43f-d4aee4ad2d1e"
      },
      "source": [
        "print(y_train.min())\n",
        "print(y_train.max())"
      ],
      "execution_count": null,
      "outputs": [
        {
          "output_type": "stream",
          "text": [
            "0\n",
            "9\n"
          ],
          "name": "stdout"
        }
      ]
    },
    {
      "cell_type": "code",
      "metadata": {
        "colab": {
          "base_uri": "https://localhost:8080/",
          "height": 240
        },
        "id": "gkFGohAhyYrP",
        "outputId": "1873294f-c3c2-410b-df4a-5018775e4223"
      },
      "source": [
        "for imagem in range(10):\n",
        "  plt.subplot(2,5, imagem+1)\n",
        "  plt.imshow(X_train[imagem], cmap='gray')\n",
        "  identificador = y_train[imagem]\n",
        "  plt.title(tabela_categorias.query('Label == @identificador')['Description'].values[0])"
      ],
      "execution_count": null,
      "outputs": [
        {
          "output_type": "display_data",
          "data": {
            "image/png": "[encoded data removed]",
            "text/plain": [
              "<Figure size 432x288 with 10 Axes>"
            ]
          },
          "metadata": {
            "tags": [],
            "needs_background": "light"
          }
        }
      ]
    },
    {
      "cell_type": "code",
      "metadata": {
        "id": "1VTUksDeziuu",
        "colab": {
          "base_uri": "https://localhost:8080/"
        },
        "outputId": "f3e27312-98a5-4b21-de6e-eceaca3895f5"
      },
      "source": [
        "modelo = keras.Sequential([\n",
        "                           layers.Flatten(input_shape=(28,28)),\n",
        "                           layers.Dense(256, activation=tensorflow.nn.relu),\n",
        "                           layers.Dense(10, activation=tensorflow.nn.softmax)\n",
        "                           ])\n",
        "modelo.compile(optimizer='adam', loss='sparse_categorical_crossentropy')\n",
        "modelo.fit(X_train, y_train)"
      ],
      "execution_count": null,
      "outputs": [
        {
          "output_type": "stream",
          "text": [
            "1875/1875 [==============================] - 5s 3ms/step - loss: 3.5163\n"
          ],
          "name": "stdout"
        },
        {
          "output_type": "execute_result",
          "data": {
            "text/plain": [
              "<tensorflow.python.keras.callbacks.History at 0x7f8777045d50>"
            ]
          },
          "metadata": {
            "tags": []
          },
          "execution_count": 10
        }
      ]
    },
    {
      "cell_type": "markdown",
      "metadata": {
        "id": "bcwE1K0EruKp"
      },
      "source": [
        "### Normalizando os dados de treino"
      ]
    },
    {
      "cell_type": "code",
      "metadata": {
        "id": "wnujLhPXasyL",
        "colab": {
          "base_uri": "https://localhost:8080/"
        },
        "outputId": "8265a342-8f84-45c7-c004-824d3979d5c6"
      },
      "source": [
        "X_train_normalizado = X_train/255.0\n",
        "\n",
        "modelo = keras.Sequential([\n",
        "                           layers.Flatten(input_shape=(28,28)),\n",
        "                           layers.Dense(256, activation=tensorflow.nn.relu),\n",
        "                           layers.Dense(10, activation=tensorflow.nn.softmax)\n",
        "                           ])\n",
        "modelo.compile(optimizer='adam', loss='sparse_categorical_crossentropy')\n",
        "modelo.fit(X_train_normalizado, y_train)"
      ],
      "execution_count": null,
      "outputs": [
        {
          "output_type": "stream",
          "text": [
            "1875/1875 [==============================] - 5s 3ms/step - loss: 0.4910\n"
          ],
          "name": "stdout"
        },
        {
          "output_type": "execute_result",
          "data": {
            "text/plain": [
              "<tensorflow.python.keras.callbacks.History at 0x7f87767e1550>"
            ]
          },
          "metadata": {
            "tags": []
          },
          "execution_count": 11
        }
      ]
    },
    {
      "cell_type": "markdown",
      "metadata": {
        "id": "I83FiFN4rzWk"
      },
      "source": [
        "### Adicionando mais camadas internas"
      ]
    },
    {
      "cell_type": "code",
      "metadata": {
        "colab": {
          "base_uri": "https://localhost:8080/"
        },
        "id": "DWfGxn3_nmv2",
        "outputId": "d9c8f94a-ea4b-4706-ff16-3bf840bd3acf"
      },
      "source": [
        "X_train_normalizado = X_train/255.0\n",
        "\n",
        "modelo = keras.Sequential([\n",
        "                           layers.Flatten(input_shape=(28,28)),\n",
        "                           layers.Dense(256, activation=tensorflow.nn.relu),\n",
        "                           layers.Dense(128, activation=tensorflow.nn.relu),\n",
        "                           layers.Dense(10, activation=tensorflow.nn.softmax)\n",
        "                           ])\n",
        "modelo.compile(optimizer='adam', loss='sparse_categorical_crossentropy')\n",
        "modelo.fit(X_train_normalizado, y_train)"
      ],
      "execution_count": null,
      "outputs": [
        {
          "output_type": "stream",
          "text": [
            "1875/1875 [==============================] - 6s 3ms/step - loss: 0.4791\n"
          ],
          "name": "stdout"
        },
        {
          "output_type": "execute_result",
          "data": {
            "text/plain": [
              "<tensorflow.python.keras.callbacks.History at 0x7f8774096050>"
            ]
          },
          "metadata": {
            "tags": []
          },
          "execution_count": 12
        }
      ]
    },
    {
      "cell_type": "code",
      "metadata": {
        "colab": {
          "base_uri": "https://localhost:8080/"
        },
        "id": "hnrfKV29oBwI",
        "outputId": "80686ddb-0c25-49d3-ce11-ce0826b16771"
      },
      "source": [
        "X_train_normalizado = X_train/255.0\n",
        "\n",
        "modelo = keras.Sequential([\n",
        "                           layers.Flatten(input_shape=(28,28)),\n",
        "                           layers.Dense(256, activation=tensorflow.nn.relu),\n",
        "                           layers.Dense(128, activation=tensorflow.nn.relu),\n",
        "                           layers.Dense(64, activation=tensorflow.nn.relu),\n",
        "                           layers.Dense(10, activation=tensorflow.nn.softmax)\n",
        "                           ])\n",
        "modelo.compile(optimizer='adam', loss='sparse_categorical_crossentropy')\n",
        "modelo.fit(X_train_normalizado, y_train)"
      ],
      "execution_count": null,
      "outputs": [
        {
          "output_type": "stream",
          "text": [
            "1875/1875 [==============================] - 6s 3ms/step - loss: 0.4796\n"
          ],
          "name": "stdout"
        },
        {
          "output_type": "execute_result",
          "data": {
            "text/plain": [
              "<tensorflow.python.keras.callbacks.History at 0x7f8773780c10>"
            ]
          },
          "metadata": {
            "tags": []
          },
          "execution_count": 13
        }
      ]
    },
    {
      "cell_type": "markdown",
      "metadata": {
        "id": "6SO-dGOisB4s"
      },
      "source": [
        "### Aumentando o número de Epoch, ou seja, aumentando o número de processos de treino"
      ]
    },
    {
      "cell_type": "code",
      "metadata": {
        "colab": {
          "base_uri": "https://localhost:8080/"
        },
        "id": "IEOVXEzcsZDo",
        "outputId": "43adea4c-4601-476c-e7cb-3d07454e3e51"
      },
      "source": [
        "X_train_normalizado = X_train/255.0\n",
        "\n",
        "modelo = keras.Sequential([\n",
        "                           layers.Flatten(input_shape=(28,28)),\n",
        "                           layers.Dense(256, activation=tensorflow.nn.relu),\n",
        "                           layers.Dense(10, activation=tensorflow.nn.softmax)\n",
        "                           ])\n",
        "modelo.compile(optimizer='adam', loss='sparse_categorical_crossentropy',\n",
        "               metrics=['accuracy'])\n",
        "modelo.fit(X_train_normalizado, y_train, epochs=5)"
      ],
      "execution_count": null,
      "outputs": [
        {
          "output_type": "stream",
          "text": [
            "Epoch 1/5\n",
            "1875/1875 [==============================] - 5s 3ms/step - loss: 0.4836 - accuracy: 0.8267\n",
            "Epoch 2/5\n",
            "1875/1875 [==============================] - 5s 2ms/step - loss: 0.3629 - accuracy: 0.8672\n",
            "Epoch 3/5\n",
            "1875/1875 [==============================] - 5s 2ms/step - loss: 0.3258 - accuracy: 0.8811\n",
            "Epoch 4/5\n",
            "1875/1875 [==============================] - 5s 2ms/step - loss: 0.3022 - accuracy: 0.8887\n",
            "Epoch 5/5\n",
            "1875/1875 [==============================] - 5s 3ms/step - loss: 0.2842 - accuracy: 0.8957\n"
          ],
          "name": "stdout"
        },
        {
          "output_type": "execute_result",
          "data": {
            "text/plain": [
              "<tensorflow.python.keras.callbacks.History at 0x7f877377b090>"
            ]
          },
          "metadata": {
            "tags": []
          },
          "execution_count": 14
        }
      ]
    },
    {
      "cell_type": "code",
      "metadata": {
        "colab": {
          "base_uri": "https://localhost:8080/"
        },
        "id": "TQCaFLj_rWR8",
        "outputId": "bec650e1-6472-4885-de33-aa3c3420cd95"
      },
      "source": [
        "X_train_normalizado = X_train/255.0\n",
        "\n",
        "modelo = keras.Sequential([\n",
        "                           layers.Flatten(input_shape=(28,28)),\n",
        "                           layers.Dense(256, activation=tensorflow.nn.relu),\n",
        "                           layers.Dense(128, activation=tensorflow.nn.relu),\n",
        "                           layers.Dense(10, activation=tensorflow.nn.softmax)\n",
        "                           ])\n",
        "modelo.compile(optimizer='adam', loss='sparse_categorical_crossentropy',\n",
        "               metrics=['accuracy'])\n",
        "modelo.fit(X_train_normalizado, y_train, epochs=5)"
      ],
      "execution_count": null,
      "outputs": [
        {
          "output_type": "stream",
          "text": [
            "Epoch 1/5\n",
            "1875/1875 [==============================] - 6s 3ms/step - loss: 0.4786 - accuracy: 0.8280\n",
            "Epoch 2/5\n",
            "1875/1875 [==============================] - 5s 3ms/step - loss: 0.3600 - accuracy: 0.8682\n",
            "Epoch 3/5\n",
            "1875/1875 [==============================] - 6s 3ms/step - loss: 0.3253 - accuracy: 0.8777\n",
            "Epoch 4/5\n",
            "1875/1875 [==============================] - 6s 3ms/step - loss: 0.2994 - accuracy: 0.8886\n",
            "Epoch 5/5\n",
            "1875/1875 [==============================] - 6s 3ms/step - loss: 0.2848 - accuracy: 0.8934\n"
          ],
          "name": "stdout"
        },
        {
          "output_type": "execute_result",
          "data": {
            "text/plain": [
              "<tensorflow.python.keras.callbacks.History at 0x7f8773ffe890>"
            ]
          },
          "metadata": {
            "tags": []
          },
          "execution_count": 15
        }
      ]
    },
    {
      "cell_type": "code",
      "metadata": {
        "colab": {
          "base_uri": "https://localhost:8080/"
        },
        "id": "iX0uoIDVpNE3",
        "outputId": "25868c47-6648-4445-f513-323ebebeaf28"
      },
      "source": [
        "X_train_normalizado = X_train/255.0\n",
        "\n",
        "modelo = keras.Sequential([\n",
        "                           layers.Flatten(input_shape=(28,28)),\n",
        "                           layers.Dense(256, activation=tensorflow.nn.relu),\n",
        "                           layers.Dense(128, activation=tensorflow.nn.relu),\n",
        "                           layers.Dense(64, activation=tensorflow.nn.relu),\n",
        "                           layers.Dense(10, activation=tensorflow.nn.softmax)\n",
        "                           ])\n",
        "modelo.compile(optimizer='adam', loss='sparse_categorical_crossentropy', \n",
        "               metrics=['accuracy'])\n",
        "modelo.fit(X_train_normalizado, y_train, epochs=5)"
      ],
      "execution_count": null,
      "outputs": [
        {
          "output_type": "stream",
          "text": [
            "Epoch 1/5\n",
            "1875/1875 [==============================] - 7s 4ms/step - loss: 0.4851 - accuracy: 0.8228\n",
            "Epoch 2/5\n",
            "1875/1875 [==============================] - 7s 4ms/step - loss: 0.3644 - accuracy: 0.8665\n",
            "Epoch 3/5\n",
            "1875/1875 [==============================] - 7s 4ms/step - loss: 0.3308 - accuracy: 0.8782\n",
            "Epoch 4/5\n",
            "1875/1875 [==============================] - 7s 4ms/step - loss: 0.3043 - accuracy: 0.8875\n",
            "Epoch 5/5\n",
            "1875/1875 [==============================] - 7s 4ms/step - loss: 0.2879 - accuracy: 0.8921\n"
          ],
          "name": "stdout"
        },
        {
          "output_type": "execute_result",
          "data": {
            "text/plain": [
              "<tensorflow.python.keras.callbacks.History at 0x7f877672f750>"
            ]
          },
          "metadata": {
            "tags": []
          },
          "execution_count": 16
        }
      ]
    },
    {
      "cell_type": "markdown",
      "metadata": {
        "id": "Chd_vLS4s4Jw"
      },
      "source": [
        "### Melhor modelo até agora"
      ]
    },
    {
      "cell_type": "code",
      "metadata": {
        "colab": {
          "base_uri": "https://localhost:8080/"
        },
        "id": "hBnRamX1s3Pi",
        "outputId": "b34e84b1-b830-4e6d-e426-c5e33f99d302"
      },
      "source": [
        "X_train_normalizado = X_train/255.0\n",
        "\n",
        "modelo = keras.Sequential([\n",
        "                           layers.Flatten(input_shape=(28,28)),\n",
        "                           layers.Dense(256, activation=tensorflow.nn.relu),\n",
        "                           layers.Dense(128, activation=tensorflow.nn.relu),\n",
        "                           layers.Dense(10, activation=tensorflow.nn.softmax)\n",
        "                           ])\n",
        "\n",
        "adam = keras.optimizers.Adam(lr=0.001)\n",
        "modelo.compile(optimizer=adam, \n",
        "               loss='sparse_categorical_crossentropy',\n",
        "               metrics=['accuracy'])\n",
        "\n",
        "historico = modelo.fit(X_train_normalizado, y_train, epochs=30, \n",
        "                       batch_size=480,\n",
        "                       validation_split=0.2)"
      ],
      "execution_count": 8,
      "outputs": [
        {
          "output_type": "stream",
          "text": [
            "/usr/local/lib/python3.7/dist-packages/tensorflow/python/keras/optimizer_v2/optimizer_v2.py:375: UserWarning: The `lr` argument is deprecated, use `learning_rate` instead.\n",
            "  \"The `lr` argument is deprecated, use `learning_rate` instead.\")\n"
          ],
          "name": "stderr"
        },
        {
          "output_type": "stream",
          "text": [
            "Epoch 1/30\n",
            "100/100 [==============================] - 2s 18ms/step - loss: 0.6527 - accuracy: 0.7740 - val_loss: 0.4587 - val_accuracy: 0.8391\n",
            "Epoch 2/30\n",
            "100/100 [==============================] - 2s 16ms/step - loss: 0.4253 - accuracy: 0.8526 - val_loss: 0.4070 - val_accuracy: 0.8570\n",
            "Epoch 3/30\n",
            "100/100 [==============================] - 2s 16ms/step - loss: 0.3752 - accuracy: 0.8678 - val_loss: 0.3736 - val_accuracy: 0.8688\n",
            "Epoch 4/30\n",
            "100/100 [==============================] - 2s 16ms/step - loss: 0.3472 - accuracy: 0.8767 - val_loss: 0.3543 - val_accuracy: 0.8735\n",
            "Epoch 5/30\n",
            "100/100 [==============================] - 2s 16ms/step - loss: 0.3241 - accuracy: 0.8837 - val_loss: 0.3598 - val_accuracy: 0.8695\n",
            "Epoch 6/30\n",
            "100/100 [==============================] - 2s 16ms/step - loss: 0.3082 - accuracy: 0.8885 - val_loss: 0.3368 - val_accuracy: 0.8786\n",
            "Epoch 7/30\n",
            "100/100 [==============================] - 2s 16ms/step - loss: 0.2877 - accuracy: 0.8960 - val_loss: 0.3451 - val_accuracy: 0.8712\n",
            "Epoch 8/30\n",
            "100/100 [==============================] - 2s 15ms/step - loss: 0.2747 - accuracy: 0.9002 - val_loss: 0.3229 - val_accuracy: 0.8798\n",
            "Epoch 9/30\n",
            "100/100 [==============================] - 2s 16ms/step - loss: 0.2634 - accuracy: 0.9036 - val_loss: 0.3155 - val_accuracy: 0.8858\n",
            "Epoch 10/30\n",
            "100/100 [==============================] - 2s 16ms/step - loss: 0.2550 - accuracy: 0.9061 - val_loss: 0.3174 - val_accuracy: 0.8882\n",
            "Epoch 11/30\n",
            "100/100 [==============================] - 2s 16ms/step - loss: 0.2481 - accuracy: 0.9090 - val_loss: 0.3099 - val_accuracy: 0.8891\n",
            "Epoch 12/30\n",
            "100/100 [==============================] - 2s 16ms/step - loss: 0.2377 - accuracy: 0.9131 - val_loss: 0.3194 - val_accuracy: 0.8853\n",
            "Epoch 13/30\n",
            "100/100 [==============================] - 2s 16ms/step - loss: 0.2255 - accuracy: 0.9179 - val_loss: 0.3110 - val_accuracy: 0.8903\n",
            "Epoch 14/30\n",
            "100/100 [==============================] - 2s 16ms/step - loss: 0.2224 - accuracy: 0.9188 - val_loss: 0.3094 - val_accuracy: 0.8917\n",
            "Epoch 15/30\n",
            "100/100 [==============================] - 2s 16ms/step - loss: 0.2150 - accuracy: 0.9217 - val_loss: 0.3166 - val_accuracy: 0.8908\n",
            "Epoch 16/30\n",
            "100/100 [==============================] - 2s 16ms/step - loss: 0.2104 - accuracy: 0.9230 - val_loss: 0.3244 - val_accuracy: 0.8878\n",
            "Epoch 17/30\n",
            "100/100 [==============================] - 2s 16ms/step - loss: 0.2131 - accuracy: 0.9209 - val_loss: 0.3136 - val_accuracy: 0.8904\n",
            "Epoch 18/30\n",
            "100/100 [==============================] - 2s 16ms/step - loss: 0.1978 - accuracy: 0.9286 - val_loss: 0.3206 - val_accuracy: 0.8890\n",
            "Epoch 19/30\n",
            "100/100 [==============================] - 2s 16ms/step - loss: 0.1909 - accuracy: 0.9294 - val_loss: 0.3056 - val_accuracy: 0.8929\n",
            "Epoch 20/30\n",
            "100/100 [==============================] - 2s 17ms/step - loss: 0.1845 - accuracy: 0.9327 - val_loss: 0.3124 - val_accuracy: 0.8917\n",
            "Epoch 21/30\n",
            "100/100 [==============================] - 2s 16ms/step - loss: 0.1794 - accuracy: 0.9349 - val_loss: 0.3161 - val_accuracy: 0.8951\n",
            "Epoch 22/30\n",
            "100/100 [==============================] - 2s 16ms/step - loss: 0.1741 - accuracy: 0.9361 - val_loss: 0.3379 - val_accuracy: 0.8893\n",
            "Epoch 23/30\n",
            "100/100 [==============================] - 2s 16ms/step - loss: 0.1717 - accuracy: 0.9375 - val_loss: 0.3143 - val_accuracy: 0.8927\n",
            "Epoch 24/30\n",
            "100/100 [==============================] - 2s 16ms/step - loss: 0.1634 - accuracy: 0.9400 - val_loss: 0.3230 - val_accuracy: 0.8936\n",
            "Epoch 25/30\n",
            "100/100 [==============================] - 2s 16ms/step - loss: 0.1598 - accuracy: 0.9415 - val_loss: 0.3120 - val_accuracy: 0.8967\n",
            "Epoch 26/30\n",
            "100/100 [==============================] - 2s 16ms/step - loss: 0.1578 - accuracy: 0.9427 - val_loss: 0.3335 - val_accuracy: 0.8909\n",
            "Epoch 27/30\n",
            "100/100 [==============================] - 2s 16ms/step - loss: 0.1513 - accuracy: 0.9454 - val_loss: 0.3200 - val_accuracy: 0.8982\n",
            "Epoch 28/30\n",
            "100/100 [==============================] - 2s 16ms/step - loss: 0.1472 - accuracy: 0.9472 - val_loss: 0.3385 - val_accuracy: 0.8927\n",
            "Epoch 29/30\n",
            "100/100 [==============================] - 2s 16ms/step - loss: 0.1383 - accuracy: 0.9501 - val_loss: 0.3232 - val_accuracy: 0.8951\n",
            "Epoch 30/30\n",
            "100/100 [==============================] - 2s 16ms/step - loss: 0.1349 - accuracy: 0.9513 - val_loss: 0.3454 - val_accuracy: 0.8953\n"
          ],
          "name": "stdout"
        }
      ]
    },
    {
      "cell_type": "code",
      "metadata": {
        "colab": {
          "base_uri": "https://localhost:8080/"
        },
        "id": "uHPlNRGkw3hH",
        "outputId": "5eb990f0-c3b0-4046-d2ef-9e52b12a1800"
      },
      "source": [
        "historico.history"
      ],
      "execution_count": null,
      "outputs": [
        {
          "output_type": "execute_result",
          "data": {
            "text/plain": [
              "{'accuracy': [0.8229583501815796,\n",
              "  0.8662083148956299,\n",
              "  0.877958357334137,\n",
              "  0.8864791393280029,\n",
              "  0.8930208086967468,\n",
              "  0.8975416421890259,\n",
              "  0.9026874899864197,\n",
              "  0.9073125123977661,\n",
              "  0.9112291932106018,\n",
              "  0.9149791598320007,\n",
              "  0.9171666502952576,\n",
              "  0.9189791679382324,\n",
              "  0.9227916598320007,\n",
              "  0.925083339214325,\n",
              "  0.926729142665863,\n",
              "  0.9290624856948853,\n",
              "  0.9321458339691162,\n",
              "  0.9360208511352539,\n",
              "  0.9356874823570251,\n",
              "  0.9382083415985107,\n",
              "  0.9400208592414856,\n",
              "  0.9411666393280029,\n",
              "  0.942145824432373,\n",
              "  0.9452083110809326,\n",
              "  0.945562481880188,\n",
              "  0.9485416412353516,\n",
              "  0.9510833621025085,\n",
              "  0.9488750100135803,\n",
              "  0.9502500295639038,\n",
              "  0.95291668176651],\n",
              " 'loss': [0.49487245082855225,\n",
              "  0.3658895790576935,\n",
              "  0.3311278522014618,\n",
              "  0.30569934844970703,\n",
              "  0.2855471074581146,\n",
              "  0.2730165719985962,\n",
              "  0.2593475878238678,\n",
              "  0.24565069377422333,\n",
              "  0.2365283966064453,\n",
              "  0.22695745527744293,\n",
              "  0.21780233085155487,\n",
              "  0.21157443523406982,\n",
              "  0.2038702815771103,\n",
              "  0.19533011317253113,\n",
              "  0.1907384991645813,\n",
              "  0.1839645355939865,\n",
              "  0.17766135931015015,\n",
              "  0.1695900857448578,\n",
              "  0.16744665801525116,\n",
              "  0.15702562034130096,\n",
              "  0.15824896097183228,\n",
              "  0.15134665369987488,\n",
              "  0.14813919365406036,\n",
              "  0.1431760936975479,\n",
              "  0.14096379280090332,\n",
              "  0.13566578924655914,\n",
              "  0.13063718378543854,\n",
              "  0.1309615671634674,\n",
              "  0.1295040249824524,\n",
              "  0.12127957493066788],\n",
              " 'val_accuracy': [0.8571666479110718,\n",
              "  0.8687499761581421,\n",
              "  0.8669166564941406,\n",
              "  0.8745833039283752,\n",
              "  0.8827499747276306,\n",
              "  0.8762500286102295,\n",
              "  0.8866666555404663,\n",
              "  0.8834166526794434,\n",
              "  0.8837500214576721,\n",
              "  0.878000020980835,\n",
              "  0.8880833387374878,\n",
              "  0.8828333616256714,\n",
              "  0.8849166631698608,\n",
              "  0.8920000195503235,\n",
              "  0.8889166712760925,\n",
              "  0.8900833129882812,\n",
              "  0.8948333263397217,\n",
              "  0.8965833187103271,\n",
              "  0.8979166746139526,\n",
              "  0.8932499885559082,\n",
              "  0.8923333287239075,\n",
              "  0.8939999938011169,\n",
              "  0.8893333077430725,\n",
              "  0.8919166922569275,\n",
              "  0.893666684627533,\n",
              "  0.8988333344459534,\n",
              "  0.8939999938011169,\n",
              "  0.8953333497047424,\n",
              "  0.8883333206176758,\n",
              "  0.8941666483879089],\n",
              " 'val_loss': [0.39242756366729736,\n",
              "  0.3596270680427551,\n",
              "  0.37478312849998474,\n",
              "  0.3518713414669037,\n",
              "  0.3279895484447479,\n",
              "  0.3407913148403168,\n",
              "  0.31851357221603394,\n",
              "  0.33775264024734497,\n",
              "  0.3380153775215149,\n",
              "  0.34653955698013306,\n",
              "  0.33813175559043884,\n",
              "  0.34956541657447815,\n",
              "  0.35978958010673523,\n",
              "  0.3297785818576813,\n",
              "  0.3566027879714966,\n",
              "  0.3558536767959595,\n",
              "  0.329375296831131,\n",
              "  0.34544238448143005,\n",
              "  0.34914183616638184,\n",
              "  0.3647269010543823,\n",
              "  0.39025765657424927,\n",
              "  0.36409419775009155,\n",
              "  0.38158369064331055,\n",
              "  0.4009384214878082,\n",
              "  0.4037187397480011,\n",
              "  0.3994280993938446,\n",
              "  0.40368330478668213,\n",
              "  0.4143722653388977,\n",
              "  0.45915088057518005,\n",
              "  0.4153819680213928]}"
            ]
          },
          "metadata": {
            "tags": []
          },
          "execution_count": 24
        }
      ]
    },
    {
      "cell_type": "code",
      "metadata": {
        "colab": {
          "base_uri": "https://localhost:8080/",
          "height": 521
        },
        "id": "V3KNt6aWyvAx",
        "outputId": "7f2538d4-55d8-4cd7-bcfb-98db62ea6952"
      },
      "source": [
        "fig, ax = plt.subplots(figsize=(12,8))\n",
        "ax.plot(historico.history['accuracy'])\n",
        "ax.plot(historico.history['val_accuracy'])\n",
        "ax.set_title('Acurácia por epochs', fontsize=18)\n",
        "ax.set_xlabel('Epoch', fontsize=14)\n",
        "ax.set_ylabel('Acurácia', fontsize=14)\n",
        "plt.legend(['Treino', 'Validação'], fontsize=14)\n",
        "plt.show()"
      ],
      "execution_count": null,
      "outputs": [
        {
          "output_type": "display_data",
          "data": {
            "image/png": "[encoded data removed]",
            "text/plain": [
              "<Figure size 864x576 with 1 Axes>"
            ]
          },
          "metadata": {
            "tags": [],
            "needs_background": "light"
          }
        }
      ]
    },
    {
      "cell_type": "code",
      "metadata": {
        "colab": {
          "base_uri": "https://localhost:8080/",
          "height": 521
        },
        "id": "ZE_802xCznXL",
        "outputId": "dd817c1b-b3cd-4fc2-ca54-8f69532e3d04"
      },
      "source": [
        "fig, ax = plt.subplots(figsize=(12,8))\n",
        "ax.plot(historico.history['loss'])\n",
        "ax.plot(historico.history['val_loss'])\n",
        "ax.set_title('Per da por epochs', fontsize=18)\n",
        "ax.set_xlabel('Epoch', fontsize=14)\n",
        "ax.set_ylabel('Perda', fontsize=14)\n",
        "plt.legend(['Treino', 'Validação'], fontsize=14)\n",
        "plt.show()"
      ],
      "execution_count": null,
      "outputs": [
        {
          "output_type": "display_data",
          "data": {
            "image/png": "[encoded data removed]",
            "text/plain": [
              "<Figure size 864x576 with 1 Axes>"
            ]
          },
          "metadata": {
            "tags": [],
            "needs_background": "light"
          }
        }
      ]
    },
    {
      "cell_type": "code",
      "metadata": {
        "colab": {
          "base_uri": "https://localhost:8080/"
        },
        "id": "R04-eiEYqM2l",
        "outputId": "d24d15b2-b345-4d77-dce8-e6540d97e349"
      },
      "source": [
        "testes = modelo.predict(X_test/255)\n",
        "print(f'O resultado do teste: {np.argmax(testes[0])}')\n",
        "print(f'O número da imagem de teste: {y_test[0]}')"
      ],
      "execution_count": null,
      "outputs": [
        {
          "output_type": "stream",
          "text": [
            "O resultado do teste: 9\n",
            "O número da imagem de teste: 9\n"
          ],
          "name": "stdout"
        }
      ]
    },
    {
      "cell_type": "code",
      "metadata": {
        "colab": {
          "base_uri": "https://localhost:8080/"
        },
        "id": "N3s8-LJftGrv",
        "outputId": "e849279c-3d29-44fc-d2ba-cf6240dc2d9a"
      },
      "source": [
        "print(f'O resultado do teste: {np.argmax(testes[1])}')\n",
        "print(f'O número da imagem de teste: {y_test[1]}')"
      ],
      "execution_count": null,
      "outputs": [
        {
          "output_type": "stream",
          "text": [
            "O resultado do teste: 2\n",
            "O número da imagem de teste: 2\n"
          ],
          "name": "stdout"
        }
      ]
    },
    {
      "cell_type": "code",
      "metadata": {
        "colab": {
          "base_uri": "https://localhost:8080/"
        },
        "id": "NNWXlJRyuJJS",
        "outputId": "daf7040d-19a7-42a2-d96b-4e442d931eb1"
      },
      "source": [
        "perda_teste, acuracia_teste = modelo.evaluate(X_test/255, y_test)\n",
        "\n",
        "print(f'Perda do teste: {perda_teste}')\n",
        "print(f'Acurácia do teste: {acuracia_teste}')"
      ],
      "execution_count": null,
      "outputs": [
        {
          "output_type": "stream",
          "text": [
            "313/313 [==============================] - 1s 2ms/step - loss: 0.4470 - accuracy: 0.8892\n",
            "Perda do teste: 0.44697773456573486\n",
            "Acurácia do teste: 0.88919997215271\n"
          ],
          "name": "stdout"
        }
      ]
    },
    {
      "cell_type": "markdown",
      "metadata": {
        "id": "rV9iWFhfKOPE"
      },
      "source": [
        "### Adicionando uma camada Dropout\n",
        "https://keras.io/api/layers/regularization_layers/dropout/\n",
        "\n",
        "Tecnica que ajuda quando o modelo está overfitting, o DropOut seleciona alguns neuronios que são ignorados durante o treinamento e com isso "
      ]
    },
    {
      "cell_type": "code",
      "metadata": {
        "colab": {
          "base_uri": "https://localhost:8080/"
        },
        "id": "z5q8GAQ4Iu-A",
        "outputId": "f1c1b204-a2eb-4165-944f-42136852a930"
      },
      "source": [
        "X_train_normalizado = X_train/255.0\n",
        "\n",
        "modelo = keras.Sequential([\n",
        "                           layers.Flatten(input_shape=(28,28)),\n",
        "                           layers.Dense(256, activation=tensorflow.nn.relu),\n",
        "                           layers.Dense(128, activation=tensorflow.nn.relu),\n",
        "                           layers.Dropout(0.2 ),\n",
        "                           layers.Dense(10, activation=tensorflow.nn.softmax)\n",
        "                           ])\n",
        "modelo.compile(optimizer='adam', loss='sparse_categorical_crossentropy',\n",
        "               metrics=['accuracy'])\n",
        "historico = modelo.fit(X_train_normalizado, y_train, epochs=15, validation_split=0.2)"
      ],
      "execution_count": null,
      "outputs": [
        {
          "output_type": "stream",
          "text": [
            "Epoch 1/15\n",
            "1500/1500 [==============================] - 5s 3ms/step - loss: 0.5234 - accuracy: 0.8119 - val_loss: 0.4528 - val_accuracy: 0.8277\n",
            "Epoch 2/15\n",
            "1500/1500 [==============================] - 5s 3ms/step - loss: 0.3855 - accuracy: 0.8597 - val_loss: 0.4177 - val_accuracy: 0.8493\n",
            "Epoch 3/15\n",
            "1500/1500 [==============================] - 5s 3ms/step - loss: 0.3462 - accuracy: 0.8720 - val_loss: 0.3741 - val_accuracy: 0.8702\n",
            "Epoch 4/15\n",
            "1500/1500 [==============================] - 5s 3ms/step - loss: 0.3202 - accuracy: 0.8809 - val_loss: 0.3608 - val_accuracy: 0.8695\n",
            "Epoch 5/15\n",
            "1500/1500 [==============================] - 5s 3ms/step - loss: 0.3026 - accuracy: 0.8877 - val_loss: 0.3299 - val_accuracy: 0.8802\n",
            "Epoch 6/15\n",
            "1500/1500 [==============================] - 5s 3ms/step - loss: 0.2840 - accuracy: 0.8941 - val_loss: 0.3329 - val_accuracy: 0.8825\n",
            "Epoch 7/15\n",
            "1500/1500 [==============================] - 5s 3ms/step - loss: 0.2731 - accuracy: 0.8992 - val_loss: 0.3170 - val_accuracy: 0.8893\n",
            "Epoch 8/15\n",
            "1500/1500 [==============================] - 5s 3ms/step - loss: 0.2637 - accuracy: 0.9022 - val_loss: 0.3070 - val_accuracy: 0.8900\n",
            "Epoch 9/15\n",
            "1500/1500 [==============================] - 5s 4ms/step - loss: 0.2556 - accuracy: 0.9036 - val_loss: 0.3383 - val_accuracy: 0.8838\n",
            "Epoch 10/15\n",
            "1500/1500 [==============================] - 5s 4ms/step - loss: 0.2455 - accuracy: 0.9074 - val_loss: 0.3187 - val_accuracy: 0.8884\n",
            "Epoch 11/15\n",
            "1500/1500 [==============================] - 5s 3ms/step - loss: 0.2368 - accuracy: 0.9111 - val_loss: 0.3346 - val_accuracy: 0.8860\n",
            "Epoch 12/15\n",
            "1500/1500 [==============================] - 5s 3ms/step - loss: 0.2289 - accuracy: 0.9129 - val_loss: 0.3122 - val_accuracy: 0.8951\n",
            "Epoch 13/15\n",
            "1500/1500 [==============================] - 5s 3ms/step - loss: 0.2196 - accuracy: 0.9163 - val_loss: 0.3454 - val_accuracy: 0.8833\n",
            "Epoch 14/15\n",
            "1500/1500 [==============================] - 5s 4ms/step - loss: 0.2156 - accuracy: 0.9187 - val_loss: 0.3252 - val_accuracy: 0.8907\n",
            "Epoch 15/15\n",
            "1500/1500 [==============================] - 5s 3ms/step - loss: 0.2067 - accuracy: 0.9225 - val_loss: 0.3456 - val_accuracy: 0.8898\n"
          ],
          "name": "stdout"
        }
      ]
    },
    {
      "cell_type": "code",
      "metadata": {
        "id": "HlgwB5inuQEn",
        "colab": {
          "base_uri": "https://localhost:8080/",
          "height": 521
        },
        "outputId": "377fb5ce-bacb-4722-d3e0-8464055ed38e"
      },
      "source": [
        "fig, ax = plt.subplots(figsize=(12,8))\n",
        "ax.plot(historico.history['accuracy'])\n",
        "ax.plot(historico.history['val_accuracy'])\n",
        "ax.set_title('Acurácia por epochs', fontsize=18)\n",
        "ax.set_xlabel('Epoch', fontsize=14)\n",
        "ax.set_ylabel('Acurácia', fontsize=14)\n",
        "plt.legend(['Treino', 'Validação'], fontsize=14)\n",
        "plt.show()"
      ],
      "execution_count": null,
      "outputs": [
        {
          "output_type": "display_data",
          "data": {
            "image/png": "[encoded data removed]",
            "text/plain": [
              "<Figure size 864x576 with 1 Axes>"
            ]
          },
          "metadata": {
            "tags": [],
            "needs_background": "light"
          }
        }
      ]
    },
    {
      "cell_type": "code",
      "metadata": {
        "id": "r4NMnnhiKvhn"
      },
      "source": [
        "fig, ax = plt.subplots(figsize=(12,8))\n",
        "ax.plot(historico.history['loss'])\n",
        "ax.plot(historico.history['val_loss'])\n",
        "ax.set_title('Per da por epochs', fontsize=18)\n",
        "ax.set_xlabel('Epoch', fontsize=14)\n",
        "ax.set_ylabel('Perda', fontsize=14)\n",
        "plt.legend(['Treino', 'Validação'], fontsize=14)\n",
        "plt.show()"
      ],
      "execution_count": null,
      "outputs": []
    },
    {
      "cell_type": "markdown",
      "metadata": {
        "id": "DjLy9Q9mSuyO"
      },
      "source": [
        "## Modelo final criado, compilado, treinado e normalizado"
      ]
    },
    {
      "cell_type": "code",
      "metadata": {
        "colab": {
          "base_uri": "https://localhost:8080/"
        },
        "id": "sL73yllpStjq",
        "outputId": "34510cfa-9304-4d1e-c9c5-7b1c3cb5d44a"
      },
      "source": [
        "X_train_normalizado = X_train/255.0\n",
        "\n",
        "modelo = keras.Sequential([\n",
        "                           layers.Flatten(input_shape=(28,28)),\n",
        "                           layers.Dense(256, activation=tensorflow.nn.relu),\n",
        "                           layers.Dense(128, activation=tensorflow.nn.relu),\n",
        "                           layers.Dropout(0.2 ),\n",
        "                           layers.Dense(10, activation=tensorflow.nn.softmax)\n",
        "                           ])\n",
        "\n",
        "adam = keras.optimizers.Adam(learning_rate=0.0001)\n",
        "\n",
        "modelo.compile(optimizer=adam, \n",
        "               loss='sparse_categorical_crossentropy',\n",
        "               metrics=['accuracy'])\n",
        "\n",
        "historico = modelo.fit(X_train_normalizado, y_train, \n",
        "                       batch_size=50,\n",
        "                       epochs=15, \n",
        "                       validation_split=0.2)"
      ],
      "execution_count": 20,
      "outputs": [
        {
          "output_type": "stream",
          "text": [
            "Epoch 1/15\n",
            "960/960 [==============================] - 5s 5ms/step - loss: 0.7672 - accuracy: 0.7476 - val_loss: 0.4987 - val_accuracy: 0.8264\n",
            "Epoch 2/15\n",
            "960/960 [==============================] - 5s 5ms/step - loss: 0.4906 - accuracy: 0.8319 - val_loss: 0.4412 - val_accuracy: 0.8454\n",
            "Epoch 3/15\n",
            "960/960 [==============================] - 4s 5ms/step - loss: 0.4354 - accuracy: 0.8491 - val_loss: 0.4097 - val_accuracy: 0.8502\n",
            "Epoch 4/15\n",
            "960/960 [==============================] - 4s 4ms/step - loss: 0.3991 - accuracy: 0.8600 - val_loss: 0.3823 - val_accuracy: 0.8665\n",
            "Epoch 5/15\n",
            "960/960 [==============================] - 4s 5ms/step - loss: 0.3779 - accuracy: 0.8659 - val_loss: 0.3734 - val_accuracy: 0.8675\n",
            "Epoch 6/15\n",
            "960/960 [==============================] - 4s 4ms/step - loss: 0.3596 - accuracy: 0.8737 - val_loss: 0.3613 - val_accuracy: 0.8733\n",
            "Epoch 7/15\n",
            "960/960 [==============================] - 4s 5ms/step - loss: 0.3435 - accuracy: 0.8781 - val_loss: 0.3507 - val_accuracy: 0.8759\n",
            "Epoch 8/15\n",
            "960/960 [==============================] - 4s 4ms/step - loss: 0.3317 - accuracy: 0.8807 - val_loss: 0.3396 - val_accuracy: 0.8780\n",
            "Epoch 9/15\n",
            "960/960 [==============================] - 4s 4ms/step - loss: 0.3186 - accuracy: 0.8871 - val_loss: 0.3360 - val_accuracy: 0.8760\n",
            "Epoch 10/15\n",
            "960/960 [==============================] - 4s 4ms/step - loss: 0.3105 - accuracy: 0.8884 - val_loss: 0.3346 - val_accuracy: 0.8795\n",
            "Epoch 11/15\n",
            "960/960 [==============================] - 4s 5ms/step - loss: 0.2997 - accuracy: 0.8908 - val_loss: 0.3243 - val_accuracy: 0.8833\n",
            "Epoch 12/15\n",
            "960/960 [==============================] - 4s 4ms/step - loss: 0.2937 - accuracy: 0.8937 - val_loss: 0.3206 - val_accuracy: 0.8863\n",
            "Epoch 13/15\n",
            "960/960 [==============================] - 4s 5ms/step - loss: 0.2850 - accuracy: 0.8976 - val_loss: 0.3188 - val_accuracy: 0.8877\n",
            "Epoch 14/15\n",
            "960/960 [==============================] - 4s 4ms/step - loss: 0.2784 - accuracy: 0.9001 - val_loss: 0.3172 - val_accuracy: 0.8847\n",
            "Epoch 15/15\n",
            "960/960 [==============================] - 4s 5ms/step - loss: 0.2710 - accuracy: 0.9025 - val_loss: 0.3263 - val_accuracy: 0.8827\n"
          ],
          "name": "stdout"
        }
      ]
    },
    {
      "cell_type": "markdown",
      "metadata": {
        "id": "bv0rnPX2p4wS"
      },
      "source": [
        "## Salvado o modelo final"
      ]
    },
    {
      "cell_type": "code",
      "metadata": {
        "id": "E_FL0Qlpp3Gx"
      },
      "source": [
        "modelo.save('modelo.h5')"
      ],
      "execution_count": null,
      "outputs": []
    },
    {
      "cell_type": "markdown",
      "metadata": {
        "id": "UJgh2Qv9S5EC"
      },
      "source": [
        "## Carregando o modelo final\n",
        "\n"
      ]
    },
    {
      "cell_type": "code",
      "metadata": {
        "id": "053LdsUwpEun"
      },
      "source": [
        "modelo_salvo = load_model('modelo.h5')"
      ],
      "execution_count": null,
      "outputs": []
    },
    {
      "cell_type": "code",
      "metadata": {
        "colab": {
          "base_uri": "https://localhost:8080/"
        },
        "id": "HjZE6vNSNZWP",
        "outputId": "cdddfbb7-b2b1-4c90-b3ae-429bd94a4682"
      },
      "source": [
        "testes = modelo_salvo.predict(X_test/255)\n",
        "print(f'O resultado do teste: {np.argmax(testes[0])}')\n",
        "print(f'O número da imagem de teste: {y_test[0]}')"
      ],
      "execution_count": null,
      "outputs": [
        {
          "output_type": "stream",
          "text": [
            "O resultado do teste: 9\n",
            "O número da imagem de teste: 9\n"
          ],
          "name": "stdout"
        }
      ]
    },
    {
      "cell_type": "code",
      "metadata": {
        "colab": {
          "base_uri": "https://localhost:8080/"
        },
        "id": "tFyiqehCqNqb",
        "outputId": "0bfe4d33-7413-4536-fb3f-a499e18940db"
      },
      "source": [
        "perda_teste, acuracia_teste = modelo_salvo.evaluate(X_test/255, y_test)\n",
        "\n",
        "print(f'Perda do teste: {perda_teste}')\n",
        "print(f'Acurácia do teste: {acuracia_teste}')"
      ],
      "execution_count": null,
      "outputs": [
        {
          "output_type": "stream",
          "text": [
            "313/313 [==============================] - 1s 2ms/step - loss: 0.3763 - accuracy: 0.8832\n",
            "Perda do teste: 0.3763449192047119\n",
            "Acurácia do teste: 0.8831999897956848\n"
          ],
          "name": "stdout"
        }
      ]
    },
    {
      "cell_type": "code",
      "metadata": {
        "id": "J1geWqyaqOf_"
      },
      "source": [
        "modelo = modelo_salvo"
      ],
      "execution_count": null,
      "outputs": []
    },
    {
      "cell_type": "markdown",
      "metadata": {
        "id": "EtLN0xqjmvHb"
      },
      "source": [
        "# Deep Learning parte 2: Como a rede aprende\n"
      ]
    },
    {
      "cell_type": "markdown",
      "metadata": {
        "id": "eCjCnztzGZ56"
      },
      "source": [
        "## Sumário do modelo"
      ]
    },
    {
      "cell_type": "code",
      "metadata": {
        "colab": {
          "base_uri": "https://localhost:8080/"
        },
        "id": "FTF5866DNdur",
        "outputId": "347724c5-6d71-4be1-da6b-01a751d25539"
      },
      "source": [
        "modelo.summary()"
      ],
      "execution_count": null,
      "outputs": [
        {
          "output_type": "stream",
          "text": [
            "Model: \"sequential_11\"\n",
            "_________________________________________________________________\n",
            "Layer (type)                 Output Shape              Param #   \n",
            "=================================================================\n",
            "flatten_12 (Flatten)         (None, 784)               0         \n",
            "_________________________________________________________________\n",
            "dense_34 (Dense)             (None, 256)               200960    \n",
            "_________________________________________________________________\n",
            "dense_35 (Dense)             (None, 128)               32896     \n",
            "_________________________________________________________________\n",
            "dropout_1 (Dropout)          (None, 128)               0         \n",
            "_________________________________________________________________\n",
            "dense_36 (Dense)             (None, 10)                1290      \n",
            "=================================================================\n",
            "Total params: 235,146\n",
            "Trainable params: 235,146\n",
            "Non-trainable params: 0\n",
            "_________________________________________________________________\n"
          ],
          "name": "stdout"
        }
      ]
    },
    {
      "cell_type": "markdown",
      "metadata": {
        "id": "_1pI6sKYsX_p"
      },
      "source": [
        "### Pesos da primeira camada Dense"
      ]
    },
    {
      "cell_type": "code",
      "metadata": {
        "colab": {
          "base_uri": "https://localhost:8080/"
        },
        "id": "SOTN5bPGlgfx",
        "outputId": "fdf0930d-e08d-46c6-ee7a-d76977c6093a"
      },
      "source": [
        "pesos_camada_dense = modelo.layers[1].get_weights()[0]\n",
        "len(pesos_camada_dense)"
      ],
      "execution_count": null,
      "outputs": [
        {
          "output_type": "execute_result",
          "data": {
            "text/plain": [
              "784"
            ]
          },
          "metadata": {
            "tags": []
          },
          "execution_count": 44
        }
      ]
    },
    {
      "cell_type": "markdown",
      "metadata": {
        "id": "Ii7irsh0vzOe"
      },
      "source": [
        "### Vieses da primeira camada Dense\n",
        "\n",
        "Vieses indica a distância de conseguir o resultado esperado"
      ]
    },
    {
      "cell_type": "code",
      "metadata": {
        "colab": {
          "base_uri": "https://localhost:8080/"
        },
        "id": "7H8CHK3Tq6oe",
        "outputId": "ecc046a3-c592-4510-faa6-25a1d9439a16"
      },
      "source": [
        "vieses_camada_dense = modelo.layers[1].get_weights()[1]\n",
        "len(vieses_camada_dense)"
      ],
      "execution_count": null,
      "outputs": [
        {
          "output_type": "execute_result",
          "data": {
            "text/plain": [
              "256"
            ]
          },
          "metadata": {
            "tags": []
          },
          "execution_count": 46
        }
      ]
    },
    {
      "cell_type": "markdown",
      "metadata": {
        "id": "9Qfpi26feBCO"
      },
      "source": [
        "## Zerando os pesos para observar o que ocorre"
      ]
    },
    {
      "cell_type": "code",
      "metadata": {
        "colab": {
          "base_uri": "https://localhost:8080/"
        },
        "id": "O6xjNYrHeBWM",
        "outputId": "920e49f0-6885-4561-8ff8-8a4e5216449c"
      },
      "source": [
        "modelo = load_model('modelo.h5')\n",
        "pesos_camada_dense_zerados = np.zeros(pesos_camada_dense.shape)\n",
        "modelo.layers[1].set_weights([pesos_camada_dense_zerados, vieses_camada_dense]) \n",
        "modelo.layers[1].get_weights()[0]"
      ],
      "execution_count": null,
      "outputs": [
        {
          "output_type": "execute_result",
          "data": {
            "text/plain": [
              "array([[0., 0., 0., ..., 0., 0., 0.],\n",
              "       [0., 0., 0., ..., 0., 0., 0.],\n",
              "       [0., 0., 0., ..., 0., 0., 0.],\n",
              "       ...,\n",
              "       [0., 0., 0., ..., 0., 0., 0.],\n",
              "       [0., 0., 0., ..., 0., 0., 0.],\n",
              "       [0., 0., 0., ..., 0., 0., 0.]], dtype=float32)"
            ]
          },
          "metadata": {
            "tags": []
          },
          "execution_count": 78
        }
      ]
    },
    {
      "cell_type": "code",
      "metadata": {
        "colab": {
          "base_uri": "https://localhost:8080/"
        },
        "id": "9Eqi1ahKeFTe",
        "outputId": "adade296-9361-4527-fec1-aeac47c263f0"
      },
      "source": [
        "X_train_normalizado = X_train/255.0\n",
        "\n",
        "modelo.compile(optimizer='adam', loss='sparse_categorical_crossentropy',\n",
        "               metrics=['accuracy'])\n",
        "historico = modelo.fit(X_train_normalizado, y_train, epochs=15, validation_split=0.2)"
      ],
      "execution_count": null,
      "outputs": [
        {
          "output_type": "stream",
          "text": [
            "Epoch 1/15\n",
            "1500/1500 [==============================] - 6s 4ms/step - loss: 0.5410 - accuracy: 0.8036 - val_loss: 0.4057 - val_accuracy: 0.8562\n",
            "Epoch 2/15\n",
            "1500/1500 [==============================] - 6s 4ms/step - loss: 0.3942 - accuracy: 0.8534 - val_loss: 0.4029 - val_accuracy: 0.8450\n",
            "Epoch 3/15\n",
            "1500/1500 [==============================] - 6s 4ms/step - loss: 0.3575 - accuracy: 0.8674 - val_loss: 0.3905 - val_accuracy: 0.8599\n",
            "Epoch 4/15\n",
            "1500/1500 [==============================] - 6s 4ms/step - loss: 0.3318 - accuracy: 0.8777 - val_loss: 0.3682 - val_accuracy: 0.8643\n",
            "Epoch 5/15\n",
            "1500/1500 [==============================] - 6s 4ms/step - loss: 0.3139 - accuracy: 0.8826 - val_loss: 0.3379 - val_accuracy: 0.8762\n",
            "Epoch 6/15\n",
            "1500/1500 [==============================] - 6s 4ms/step - loss: 0.2996 - accuracy: 0.8886 - val_loss: 0.3170 - val_accuracy: 0.8838\n",
            "Epoch 7/15\n",
            "1500/1500 [==============================] - 6s 4ms/step - loss: 0.2853 - accuracy: 0.8919 - val_loss: 0.3171 - val_accuracy: 0.8863\n",
            "Epoch 8/15\n",
            "1500/1500 [==============================] - 6s 4ms/step - loss: 0.2783 - accuracy: 0.8952 - val_loss: 0.3286 - val_accuracy: 0.8814\n",
            "Epoch 9/15\n",
            "1500/1500 [==============================] - 6s 4ms/step - loss: 0.2681 - accuracy: 0.9002 - val_loss: 0.3279 - val_accuracy: 0.8842\n",
            "Epoch 10/15\n",
            "1500/1500 [==============================] - 6s 4ms/step - loss: 0.2592 - accuracy: 0.9026 - val_loss: 0.3302 - val_accuracy: 0.8827\n",
            "Epoch 11/15\n",
            "1500/1500 [==============================] - 6s 4ms/step - loss: 0.2507 - accuracy: 0.9056 - val_loss: 0.3244 - val_accuracy: 0.8894\n",
            "Epoch 12/15\n",
            "1500/1500 [==============================] - 6s 4ms/step - loss: 0.2424 - accuracy: 0.9088 - val_loss: 0.3314 - val_accuracy: 0.8857\n",
            "Epoch 13/15\n",
            "1500/1500 [==============================] - 6s 4ms/step - loss: 0.2394 - accuracy: 0.9096 - val_loss: 0.3253 - val_accuracy: 0.8850\n",
            "Epoch 14/15\n",
            "1500/1500 [==============================] - 6s 4ms/step - loss: 0.2309 - accuracy: 0.9127 - val_loss: 0.3116 - val_accuracy: 0.8924\n",
            "Epoch 15/15\n",
            "1500/1500 [==============================] - 6s 4ms/step - loss: 0.2264 - accuracy: 0.9140 - val_loss: 0.3489 - val_accuracy: 0.8835\n"
          ],
          "name": "stdout"
        }
      ]
    },
    {
      "cell_type": "code",
      "metadata": {
        "colab": {
          "base_uri": "https://localhost:8080/"
        },
        "id": "W3r5OfHheesl",
        "outputId": "6db56f9b-19e0-40b7-b3b2-bb64e0e9727b"
      },
      "source": [
        "modelo.layers[1].get_weights()[0]"
      ],
      "execution_count": null,
      "outputs": [
        {
          "output_type": "execute_result",
          "data": {
            "text/plain": [
              "array([[ 0.        ,  0.        , -0.00471547, ...,  0.        ,\n",
              "         0.10582837, -0.3871572 ],\n",
              "       [ 0.        ,  0.        , -0.01888072, ...,  0.        ,\n",
              "         0.11139676, -0.39744636],\n",
              "       [ 0.        ,  0.        , -0.03342143, ...,  0.        ,\n",
              "        -0.22625934, -0.5166152 ],\n",
              "       ...,\n",
              "       [ 0.        ,  0.        ,  0.02093125, ...,  0.        ,\n",
              "         0.15845574,  0.0393565 ],\n",
              "       [ 0.        ,  0.        ,  0.03932683, ...,  0.        ,\n",
              "         0.05400494, -0.2182498 ],\n",
              "       [ 0.        ,  0.        ,  0.03332011, ...,  0.        ,\n",
              "         0.14160286, -0.36955026]], dtype=float32)"
            ]
          },
          "metadata": {
            "tags": []
          },
          "execution_count": 80
        }
      ]
    },
    {
      "cell_type": "code",
      "metadata": {
        "colab": {
          "base_uri": "https://localhost:8080/",
          "height": 521
        },
        "id": "wuiX2AXMeF4O",
        "outputId": "59460c04-59a6-4257-810f-058ca1275a69"
      },
      "source": [
        "fig, ax = plt.subplots(figsize=(12,8))\n",
        "ax.plot(historico.history['accuracy'])\n",
        "ax.plot(historico.history['val_accuracy'])\n",
        "ax.set_title('Acurácia por epochs', fontsize=18)\n",
        "ax.set_xlabel('Epoch', fontsize=14)\n",
        "ax.set_ylabel('Acurácia', fontsize=14)\n",
        "plt.legend(['Treino', 'Validação'], fontsize=14)\n",
        "plt.show()"
      ],
      "execution_count": null,
      "outputs": [
        {
          "output_type": "display_data",
          "data": {
            "image/png": "[encoded data removed]",
            "text/plain": [
              "<Figure size 864x576 with 1 Axes>"
            ]
          },
          "metadata": {
            "tags": [],
            "needs_background": "light"
          }
        }
      ]
    },
    {
      "cell_type": "code",
      "metadata": {
        "colab": {
          "base_uri": "https://localhost:8080/",
          "height": 521
        },
        "id": "wMBD4shEeGAj",
        "outputId": "993eefe7-d8b7-4704-8c20-dce4ef1a5a26"
      },
      "source": [
        "fig, ax = plt.subplots(figsize=(12,8))\n",
        "ax.plot(historico.history['loss'])\n",
        "ax.plot(historico.history['val_loss'])\n",
        "ax.set_title('Per da por epochs', fontsize=18)\n",
        "ax.set_xlabel('Epoch', fontsize=14)\n",
        "ax.set_ylabel('Perda', fontsize=14)\n",
        "plt.legend(['Treino', 'Validação'], fontsize=14)\n",
        "plt.show()"
      ],
      "execution_count": null,
      "outputs": [
        {
          "output_type": "display_data",
          "data": {
            "image/png": "[encoded data removed]",
            "text/plain": [
              "<Figure size 864x576 with 1 Axes>"
            ]
          },
          "metadata": {
            "tags": [],
            "needs_background": "light"
          }
        }
      ]
    },
    {
      "cell_type": "markdown",
      "metadata": {
        "id": "vTzdDLROeGW2"
      },
      "source": [
        "## Ajustando os pesos com números aleatórios para observar o efeito"
      ]
    },
    {
      "cell_type": "code",
      "metadata": {
        "id": "ocF4t_7ieGos"
      },
      "source": [
        "modelo = load_model('modelo.h5')\n",
        "x, y = pesos_camada_dense.shape\n",
        "pesos_camada_dense_aleatorios = np.random.rand(x,y)\n",
        "modelo.layers[1].set_weights([pesos_camada_dense_aleatorios, vieses_camada_dense])"
      ],
      "execution_count": null,
      "outputs": []
    },
    {
      "cell_type": "code",
      "metadata": {
        "colab": {
          "base_uri": "https://localhost:8080/"
        },
        "id": "2XA1d68EeGwm",
        "outputId": "ae75970a-4603-4a7a-d4cf-3752d7100555"
      },
      "source": [
        "X_train_normalizado = X_train/255.0\n",
        "\n",
        "modelo.compile(optimizer='adam', loss='sparse_categorical_crossentropy',\n",
        "               metrics=['accuracy'])\n",
        "historico = modelo.fit(X_train_normalizado, y_train, epochs=15, validation_split=0.2)"
      ],
      "execution_count": null,
      "outputs": [
        {
          "output_type": "stream",
          "text": [
            "Epoch 1/15\n",
            "1500/1500 [==============================] - 7s 4ms/step - loss: 111.5313 - accuracy: 0.3613 - val_loss: 1.3394 - val_accuracy: 0.4861\n",
            "Epoch 2/15\n",
            "1500/1500 [==============================] - 6s 4ms/step - loss: 1.4705 - accuracy: 0.4231 - val_loss: 1.2799 - val_accuracy: 0.4914\n",
            "Epoch 3/15\n",
            "1500/1500 [==============================] - 6s 4ms/step - loss: 1.5471 - accuracy: 0.3837 - val_loss: 1.2935 - val_accuracy: 0.5240\n",
            "Epoch 4/15\n",
            "1500/1500 [==============================] - 6s 4ms/step - loss: 1.6008 - accuracy: 0.3849 - val_loss: 1.3587 - val_accuracy: 0.4802\n",
            "Epoch 5/15\n",
            "1500/1500 [==============================] - 6s 4ms/step - loss: 1.5911 - accuracy: 0.3954 - val_loss: 1.5383 - val_accuracy: 0.3857\n",
            "Epoch 6/15\n",
            "1500/1500 [==============================] - 6s 4ms/step - loss: 1.5951 - accuracy: 0.3936 - val_loss: 1.3616 - val_accuracy: 0.4967\n",
            "Epoch 7/15\n",
            "1500/1500 [==============================] - 6s 4ms/step - loss: 1.5880 - accuracy: 0.4003 - val_loss: 1.8969 - val_accuracy: 0.3306\n",
            "Epoch 8/15\n",
            "1500/1500 [==============================] - 6s 4ms/step - loss: 1.9723 - accuracy: 0.2495 - val_loss: 1.6841 - val_accuracy: 0.3351\n",
            "Epoch 9/15\n",
            "1500/1500 [==============================] - 6s 4ms/step - loss: 1.8708 - accuracy: 0.2550 - val_loss: 1.9431 - val_accuracy: 0.2138\n",
            "Epoch 10/15\n",
            "1500/1500 [==============================] - 6s 4ms/step - loss: 1.8571 - accuracy: 0.2579 - val_loss: 1.6365 - val_accuracy: 0.3228\n",
            "Epoch 11/15\n",
            "1500/1500 [==============================] - 6s 4ms/step - loss: 1.8360 - accuracy: 0.2639 - val_loss: 1.6083 - val_accuracy: 0.3365\n",
            "Epoch 12/15\n",
            "1500/1500 [==============================] - 6s 4ms/step - loss: 1.8292 - accuracy: 0.2697 - val_loss: 1.6425 - val_accuracy: 0.2345\n",
            "Epoch 13/15\n",
            "1500/1500 [==============================] - 6s 4ms/step - loss: 1.8342 - accuracy: 0.2638 - val_loss: 1.5829 - val_accuracy: 0.3454\n",
            "Epoch 14/15\n",
            "1500/1500 [==============================] - 6s 4ms/step - loss: 1.8386 - accuracy: 0.2664 - val_loss: 1.5773 - val_accuracy: 0.3252\n",
            "Epoch 15/15\n",
            "1500/1500 [==============================] - 6s 4ms/step - loss: 1.8306 - accuracy: 0.2654 - val_loss: 1.5881 - val_accuracy: 0.3287\n"
          ],
          "name": "stdout"
        }
      ]
    },
    {
      "cell_type": "code",
      "metadata": {
        "colab": {
          "base_uri": "https://localhost:8080/"
        },
        "id": "QE3SoV08eG78",
        "outputId": "b8abc01c-dfc2-4b01-b8ad-4048063df5ab"
      },
      "source": [
        "modelo.layers[1].get_weights()[0]"
      ],
      "execution_count": null,
      "outputs": [
        {
          "output_type": "execute_result",
          "data": {
            "text/plain": [
              "array([[ 0.6641103 ,  0.95357585,  0.64888614, ...,  0.28706852,\n",
              "         0.2317307 ,  0.02652483],\n",
              "       [ 0.59971684,  0.3220345 ,  1.0519868 , ...,  0.8752168 ,\n",
              "         0.02469814,  0.42857152],\n",
              "       [ 0.5261829 ,  0.79345906,  0.25376788, ...,  0.09859915,\n",
              "         0.84973216, -0.07996259],\n",
              "       ...,\n",
              "       [ 0.8417524 ,  0.01774569,  0.513133  , ...,  0.41001692,\n",
              "         0.51378375,  0.880413  ],\n",
              "       [ 0.49890673,  0.29584783,  0.94940954, ..., -0.08339058,\n",
              "         0.58938605,  0.55424005],\n",
              "       [ 0.71933   ,  0.19998157,  0.7573691 , ...,  0.03205001,\n",
              "         0.80206126, -0.10970936]], dtype=float32)"
            ]
          },
          "metadata": {
            "tags": []
          },
          "execution_count": 85
        }
      ]
    },
    {
      "cell_type": "code",
      "metadata": {
        "colab": {
          "base_uri": "https://localhost:8080/",
          "height": 521
        },
        "id": "c8K-pQGPe6yO",
        "outputId": "5f24adca-c99c-464a-9abb-c05766249dff"
      },
      "source": [
        "fig, ax = plt.subplots(figsize=(12,8))\n",
        "ax.plot(historico.history['accuracy'])\n",
        "ax.plot(historico.history['val_accuracy'])\n",
        "ax.set_title('Acurácia por epochs', fontsize=18)\n",
        "ax.set_xlabel('Epoch', fontsize=14)\n",
        "ax.set_ylabel('Acurácia', fontsize=14)\n",
        "plt.legend(['Treino', 'Validação'], fontsize=14)\n",
        "plt.show()"
      ],
      "execution_count": null,
      "outputs": [
        {
          "output_type": "display_data",
          "data": {
            "image/png": "[encoded data removed]",
            "text/plain": [
              "<Figure size 864x576 with 1 Axes>"
            ]
          },
          "metadata": {
            "tags": [],
            "needs_background": "light"
          }
        }
      ]
    },
    {
      "cell_type": "code",
      "metadata": {
        "colab": {
          "base_uri": "https://localhost:8080/",
          "height": 521
        },
        "id": "0powQy4neHDH",
        "outputId": "e4de3660-6da9-4712-d83a-f608694093dc"
      },
      "source": [
        "fig, ax = plt.subplots(figsize=(12,8))\n",
        "ax.plot(historico.history['loss'])\n",
        "ax.plot(historico.history['val_loss'])\n",
        "ax.set_title('Per da por epochs', fontsize=18)\n",
        "ax.set_xlabel('Epoch', fontsize=14)\n",
        "ax.set_ylabel('Perda', fontsize=14)\n",
        "plt.legend(['Treino', 'Validação'], fontsize=14)\n",
        "plt.show()"
      ],
      "execution_count": null,
      "outputs": [
        {
          "output_type": "display_data",
          "data": {
            "image/png": "[encoded data removed]",
            "text/plain": [
              "<Figure size 864x576 with 1 Axes>"
            ]
          },
          "metadata": {
            "tags": [],
            "needs_background": "light"
          }
        }
      ]
    },
    {
      "cell_type": "markdown",
      "metadata": {
        "id": "tL-_-YWjfBr2"
      },
      "source": [
        "## Metodo get_config()"
      ]
    },
    {
      "cell_type": "code",
      "metadata": {
        "colab": {
          "base_uri": "https://localhost:8080/"
        },
        "id": "RYdet1GH5nFh",
        "outputId": "6fc24381-9afa-4833-b99f-b8caa0c49b48"
      },
      "source": [
        " modelo.get_config()\n",
        "\n",
        "\n",
        "# O algoritmo GlorotUniform, ou algoritmo de Xavier, é um algoritmo matematico que o keras roda para avaliar os pesos\n",
        "# dos neuronios, com isso auxilia em escolher pesos na medida certa, sem pesos muito grandes ou muito pequenos."
      ],
      "execution_count": null,
      "outputs": [
        {
          "output_type": "execute_result",
          "data": {
            "text/plain": [
              "{'layers': [{'class_name': 'InputLayer',\n",
              "   'config': {'batch_input_shape': (None, 28, 28),\n",
              "    'dtype': 'float32',\n",
              "    'name': 'flatten_12_input',\n",
              "    'ragged': False,\n",
              "    'sparse': False}},\n",
              "  {'class_name': 'Flatten',\n",
              "   'config': {'batch_input_shape': (None, 28, 28),\n",
              "    'data_format': 'channels_last',\n",
              "    'dtype': 'float32',\n",
              "    'name': 'flatten_12',\n",
              "    'trainable': True}},\n",
              "  {'class_name': 'Dense',\n",
              "   'config': {'activation': 'relu',\n",
              "    'activity_regularizer': None,\n",
              "    'bias_constraint': None,\n",
              "    'bias_initializer': {'class_name': 'Zeros', 'config': {}},\n",
              "    'bias_regularizer': None,\n",
              "    'dtype': 'float32',\n",
              "    'kernel_constraint': None,\n",
              "    'kernel_initializer': {'class_name': 'GlorotUniform',\n",
              "     'config': {'seed': None}},\n",
              "    'kernel_regularizer': None,\n",
              "    'name': 'dense_34',\n",
              "    'trainable': True,\n",
              "    'units': 256,\n",
              "    'use_bias': True}},\n",
              "  {'class_name': 'Dense',\n",
              "   'config': {'activation': 'relu',\n",
              "    'activity_regularizer': None,\n",
              "    'bias_constraint': None,\n",
              "    'bias_initializer': {'class_name': 'Zeros', 'config': {}},\n",
              "    'bias_regularizer': None,\n",
              "    'dtype': 'float32',\n",
              "    'kernel_constraint': None,\n",
              "    'kernel_initializer': {'class_name': 'GlorotUniform',\n",
              "     'config': {'seed': None}},\n",
              "    'kernel_regularizer': None,\n",
              "    'name': 'dense_35',\n",
              "    'trainable': True,\n",
              "    'units': 128,\n",
              "    'use_bias': True}},\n",
              "  {'class_name': 'Dropout',\n",
              "   'config': {'dtype': 'float32',\n",
              "    'name': 'dropout_1',\n",
              "    'noise_shape': None,\n",
              "    'rate': 0.2,\n",
              "    'seed': None,\n",
              "    'trainable': True}},\n",
              "  {'class_name': 'Dense',\n",
              "   'config': {'activation': 'softmax',\n",
              "    'activity_regularizer': None,\n",
              "    'bias_constraint': None,\n",
              "    'bias_initializer': {'class_name': 'Zeros', 'config': {}},\n",
              "    'bias_regularizer': None,\n",
              "    'dtype': 'float32',\n",
              "    'kernel_constraint': None,\n",
              "    'kernel_initializer': {'class_name': 'GlorotUniform',\n",
              "     'config': {'seed': None}},\n",
              "    'kernel_regularizer': None,\n",
              "    'name': 'dense_36',\n",
              "    'trainable': True,\n",
              "    'units': 10,\n",
              "    'use_bias': True}}],\n",
              " 'name': 'sequential_11'}"
            ]
          },
          "metadata": {
            "tags": []
          },
          "execution_count": 104
        }
      ]
    },
    {
      "cell_type": "markdown",
      "metadata": {
        "id": "SKdKgm_QkVli"
      },
      "source": [
        "## Zerando os vieses para observar o efeito"
      ]
    },
    {
      "cell_type": "code",
      "metadata": {
        "colab": {
          "base_uri": "https://localhost:8080/"
        },
        "id": "Vd8LwTgFkWhj",
        "outputId": "264d5faa-b758-4683-fc1b-5156cb0c5430"
      },
      "source": [
        "modelo = load_model('modelo.h5')\n",
        "vieses_camada_dense_zerados = np.zeros(vieses_camada_dense.shape)\n",
        "modelo.layers[1].set_weights([pesos_camada_dense, vieses_camada_dense_zerados]) \n",
        "modelo.layers[1].get_weights()[1]"
      ],
      "execution_count": null,
      "outputs": [
        {
          "output_type": "execute_result",
          "data": {
            "text/plain": [
              "array([0., 0., 0., 0., 0., 0., 0., 0., 0., 0., 0., 0., 0., 0., 0., 0., 0.,\n",
              "       0., 0., 0., 0., 0., 0., 0., 0., 0., 0., 0., 0., 0., 0., 0., 0., 0.,\n",
              "       0., 0., 0., 0., 0., 0., 0., 0., 0., 0., 0., 0., 0., 0., 0., 0., 0.,\n",
              "       0., 0., 0., 0., 0., 0., 0., 0., 0., 0., 0., 0., 0., 0., 0., 0., 0.,\n",
              "       0., 0., 0., 0., 0., 0., 0., 0., 0., 0., 0., 0., 0., 0., 0., 0., 0.,\n",
              "       0., 0., 0., 0., 0., 0., 0., 0., 0., 0., 0., 0., 0., 0., 0., 0., 0.,\n",
              "       0., 0., 0., 0., 0., 0., 0., 0., 0., 0., 0., 0., 0., 0., 0., 0., 0.,\n",
              "       0., 0., 0., 0., 0., 0., 0., 0., 0., 0., 0., 0., 0., 0., 0., 0., 0.,\n",
              "       0., 0., 0., 0., 0., 0., 0., 0., 0., 0., 0., 0., 0., 0., 0., 0., 0.,\n",
              "       0., 0., 0., 0., 0., 0., 0., 0., 0., 0., 0., 0., 0., 0., 0., 0., 0.,\n",
              "       0., 0., 0., 0., 0., 0., 0., 0., 0., 0., 0., 0., 0., 0., 0., 0., 0.,\n",
              "       0., 0., 0., 0., 0., 0., 0., 0., 0., 0., 0., 0., 0., 0., 0., 0., 0.,\n",
              "       0., 0., 0., 0., 0., 0., 0., 0., 0., 0., 0., 0., 0., 0., 0., 0., 0.,\n",
              "       0., 0., 0., 0., 0., 0., 0., 0., 0., 0., 0., 0., 0., 0., 0., 0., 0.,\n",
              "       0., 0., 0., 0., 0., 0., 0., 0., 0., 0., 0., 0., 0., 0., 0., 0., 0.,\n",
              "       0.], dtype=float32)"
            ]
          },
          "metadata": {
            "tags": []
          },
          "execution_count": 90
        }
      ]
    },
    {
      "cell_type": "code",
      "metadata": {
        "colab": {
          "base_uri": "https://localhost:8080/"
        },
        "id": "3pKC0KRYkXHB",
        "outputId": "0585edf3-082e-415b-a53c-7e2b179f6084"
      },
      "source": [
        "X_train_normalizado = X_train/255.0\n",
        "\n",
        "modelo.compile(optimizer='adam', loss='sparse_categorical_crossentropy',\n",
        "               metrics=['accuracy'])\n",
        "historico = modelo.fit(X_train_normalizado, y_train, epochs=15, validation_split=0.2)"
      ],
      "execution_count": null,
      "outputs": [
        {
          "output_type": "stream",
          "text": [
            "Epoch 1/15\n",
            "1500/1500 [==============================] - 7s 4ms/step - loss: 0.2062 - accuracy: 0.9222 - val_loss: 0.3311 - val_accuracy: 0.8923\n",
            "Epoch 2/15\n",
            "1500/1500 [==============================] - 6s 4ms/step - loss: 0.1991 - accuracy: 0.9259 - val_loss: 0.3653 - val_accuracy: 0.8867\n",
            "Epoch 3/15\n",
            "1500/1500 [==============================] - 6s 4ms/step - loss: 0.1929 - accuracy: 0.9263 - val_loss: 0.3512 - val_accuracy: 0.8932\n",
            "Epoch 4/15\n",
            "1500/1500 [==============================] - 6s 4ms/step - loss: 0.1895 - accuracy: 0.9275 - val_loss: 0.3671 - val_accuracy: 0.8918\n",
            "Epoch 5/15\n",
            "1500/1500 [==============================] - 6s 4ms/step - loss: 0.1862 - accuracy: 0.9288 - val_loss: 0.3818 - val_accuracy: 0.8879\n",
            "Epoch 6/15\n",
            "1500/1500 [==============================] - 6s 4ms/step - loss: 0.1783 - accuracy: 0.9315 - val_loss: 0.3677 - val_accuracy: 0.8920\n",
            "Epoch 7/15\n",
            "1500/1500 [==============================] - 6s 4ms/step - loss: 0.1774 - accuracy: 0.9324 - val_loss: 0.3500 - val_accuracy: 0.8970\n",
            "Epoch 8/15\n",
            "1500/1500 [==============================] - 6s 4ms/step - loss: 0.1723 - accuracy: 0.9341 - val_loss: 0.3815 - val_accuracy: 0.8957\n",
            "Epoch 9/15\n",
            "1500/1500 [==============================] - 6s 4ms/step - loss: 0.1715 - accuracy: 0.9355 - val_loss: 0.3599 - val_accuracy: 0.8955\n",
            "Epoch 10/15\n",
            "1500/1500 [==============================] - 6s 4ms/step - loss: 0.1656 - accuracy: 0.9364 - val_loss: 0.3803 - val_accuracy: 0.8946\n",
            "Epoch 11/15\n",
            "1500/1500 [==============================] - 6s 4ms/step - loss: 0.1633 - accuracy: 0.9372 - val_loss: 0.3728 - val_accuracy: 0.8954\n",
            "Epoch 12/15\n",
            "1500/1500 [==============================] - 6s 4ms/step - loss: 0.1562 - accuracy: 0.9388 - val_loss: 0.4118 - val_accuracy: 0.8915\n",
            "Epoch 13/15\n",
            "1500/1500 [==============================] - 6s 4ms/step - loss: 0.1568 - accuracy: 0.9403 - val_loss: 0.4229 - val_accuracy: 0.8918\n",
            "Epoch 14/15\n",
            "1500/1500 [==============================] - 6s 4ms/step - loss: 0.1515 - accuracy: 0.9415 - val_loss: 0.4239 - val_accuracy: 0.8932\n",
            "Epoch 15/15\n",
            "1500/1500 [==============================] - 6s 4ms/step - loss: 0.1476 - accuracy: 0.9420 - val_loss: 0.4131 - val_accuracy: 0.8930\n"
          ],
          "name": "stdout"
        }
      ]
    },
    {
      "cell_type": "code",
      "metadata": {
        "colab": {
          "base_uri": "https://localhost:8080/"
        },
        "id": "ij2RF4lykYLR",
        "outputId": "57ce6334-7736-4b22-da12-c55abea796a6"
      },
      "source": [
        "modelo.layers[1].get_weights()[1]"
      ],
      "execution_count": null,
      "outputs": [
        {
          "output_type": "execute_result",
          "data": {
            "text/plain": [
              "array([-9.27568600e-02,  0.00000000e+00,  6.45759031e-02,  1.85385659e-01,\n",
              "       -3.96255940e-01, -2.65768287e-03,  7.24503919e-02, -5.56561258e-03,\n",
              "       -1.72320716e-02, -7.60357752e-02, -2.12205827e-01, -6.89918268e-03,\n",
              "        0.00000000e+00,  2.45732442e-02,  2.24771188e-08,  3.56594664e-13,\n",
              "       -1.24487691e-02, -9.54542831e-02,  9.51876566e-02,  1.58102036e-01,\n",
              "        2.06169672e-02,  4.60261181e-02,  5.76704815e-02,  4.96437214e-02,\n",
              "        1.90446347e-01, -4.61663783e-01,  9.64949876e-02,  7.59963617e-02,\n",
              "       -1.23902513e-02,  0.00000000e+00,  0.00000000e+00,  4.82333377e-02,\n",
              "        1.20875165e-02,  0.00000000e+00,  1.86998705e-07,  0.00000000e+00,\n",
              "        2.04123184e-03,  3.21331822e-06, -1.76254153e-01, -4.43049520e-02,\n",
              "        4.96688299e-02, -3.66360635e-01, -3.53841456e-10, -1.46609679e-01,\n",
              "        1.40035078e-01,  8.81947875e-02, -2.61693611e-03,  2.68261097e-02,\n",
              "        9.17974040e-02, -4.29054707e-01,  2.42872685e-01,  1.49821118e-01,\n",
              "       -1.49995923e-01,  7.24242926e-02,  2.55776122e-02, -8.20773840e-03,\n",
              "       -1.49794789e-02,  1.62494436e-01, -2.89868992e-02,  8.01199749e-02,\n",
              "        6.33408204e-02,  3.88411768e-02,  2.12116480e-01, -8.37483630e-02,\n",
              "        1.97801925e-03, -4.04609978e-01,  1.62961688e-02,  3.06011319e-01,\n",
              "       -9.56130791e-16, -2.83730179e-02,  8.55077356e-02,  6.98609054e-02,\n",
              "        2.93612201e-02, -1.65436938e-02,  0.00000000e+00, -4.91848178e-02,\n",
              "        3.09998065e-01,  0.00000000e+00, -3.91388029e-01, -2.98281580e-01,\n",
              "        8.98913592e-02,  2.81284988e-01,  2.79497430e-02,  6.07747547e-02,\n",
              "        1.27910590e-02,  2.27570459e-01, -5.52742220e-02, -1.34893888e-16,\n",
              "        3.13012600e-01, -1.75286038e-03, -1.49757057e-01,  6.51106089e-02,\n",
              "       -7.83279985e-02, -1.54579002e-02,  5.24238169e-01,  2.82125268e-03,\n",
              "       -3.01871300e-01, -1.27858147e-02,  6.46211132e-02,  1.08233109e-01,\n",
              "        9.90746617e-02, -4.53002565e-02, -1.30736575e-01,  2.01095585e-02,\n",
              "        7.19816120e-14,  1.85070276e-01,  1.18284784e-01,  5.69343865e-02,\n",
              "       -3.83424480e-03,  8.51883516e-02,  2.42172685e-02, -3.46192680e-02,\n",
              "       -1.13504648e-01,  1.29630566e-01,  4.49048392e-02,  1.11446500e-01,\n",
              "       -1.13203624e-08,  1.97349899e-02, -1.53045550e-01,  0.00000000e+00,\n",
              "        1.17772743e-06,  1.41457751e-01,  8.97520930e-02, -3.88765454e-01,\n",
              "        4.26868871e-02,  7.73856267e-02,  5.39256856e-02, -9.59787816e-02,\n",
              "        4.74836901e-02,  7.98142403e-02,  7.70536363e-02,  6.85964823e-02,\n",
              "        4.70908508e-02,  5.21889850e-02,  2.46068031e-01,  1.60226114e-02,\n",
              "        2.85029225e-03,  2.43622793e-07,  1.02896787e-01, -1.88074991e-01,\n",
              "       -8.14348236e-02,  3.29227120e-01,  2.00882673e-01,  2.79727876e-01,\n",
              "        9.44927707e-03,  1.38735622e-01,  0.00000000e+00,  1.33145511e-01,\n",
              "       -3.80680263e-02,  1.26564326e-02, -4.24276628e-02,  7.57396519e-02,\n",
              "       -5.18136740e-01, -1.30559802e-01,  2.90795844e-02, -2.36759797e-01,\n",
              "        1.18716151e-01, -1.91118523e-01, -1.13914546e-04,  0.00000000e+00,\n",
              "        1.83130503e-01, -1.24131283e-02, -2.75026765e-02,  5.92491440e-02,\n",
              "        1.07507616e-01,  3.88351418e-02,  3.79950367e-03,  1.28725842e-02,\n",
              "        1.16294779e-01,  7.30595216e-02, -4.27715294e-02, -4.76731285e-02,\n",
              "       -4.18298841e-02,  9.72388238e-02, -8.35826504e-05,  5.80786094e-02,\n",
              "        1.86711952e-01,  2.41676588e-02,  8.30387846e-02, -1.00395121e-01,\n",
              "        1.33912742e-01,  2.33712956e-01,  0.00000000e+00,  4.82060239e-02,\n",
              "        0.00000000e+00, -1.69993145e-03,  7.92969242e-02, -2.86985170e-02,\n",
              "        2.01729164e-01,  9.80777480e-03,  2.72014197e-02,  5.69750480e-02,\n",
              "        1.16113588e-01,  0.00000000e+00,  7.65610300e-03, -5.61504722e-01,\n",
              "       -1.52572775e-02,  1.35467291e-01,  3.27277809e-01,  1.64832652e-01,\n",
              "        0.00000000e+00, -4.17670161e-02, -6.17869273e-02,  0.00000000e+00,\n",
              "        1.23915672e-01,  3.61711144e-01,  2.47834936e-01,  4.44634551e-10,\n",
              "        2.30424292e-03,  1.23661914e-04,  3.54577824e-02, -1.84251722e-02,\n",
              "        7.14571103e-02,  6.50873482e-02, -2.26809651e-01,  9.78294760e-02,\n",
              "        1.00943267e-01,  0.00000000e+00,  0.00000000e+00, -1.17006391e-01,\n",
              "        2.48586219e-02,  4.63031195e-02,  1.47927240e-01, -7.72283971e-02,\n",
              "        1.97270866e-02,  1.19560152e-01, -2.13432509e-06,  3.36494930e-02,\n",
              "       -2.41593824e-07, -4.71253470e-02,  0.00000000e+00,  1.46991625e-01,\n",
              "       -1.79238003e-02,  0.00000000e+00, -6.57006074e-03,  1.21807434e-01,\n",
              "        1.15505017e-01,  1.13763675e-01, -2.00944785e-02, -1.05087452e-01,\n",
              "        1.77091613e-01,  1.29933894e-01, -3.44906628e-01,  2.48973519e-02,\n",
              "       -4.66017053e-03,  5.08567393e-02, -1.97697617e-02,  9.85544100e-02,\n",
              "        1.65352404e-01, -4.85620573e-02, -5.74536435e-02,  8.45443979e-02,\n",
              "        2.11756065e-01, -1.02939181e-01,  1.47022203e-01,  5.05590588e-02],\n",
              "      dtype=float32)"
            ]
          },
          "metadata": {
            "tags": []
          },
          "execution_count": 92
        }
      ]
    },
    {
      "cell_type": "code",
      "metadata": {
        "colab": {
          "base_uri": "https://localhost:8080/",
          "height": 521
        },
        "id": "NKEpVjehkXt3",
        "outputId": "3e987ff0-10b5-4141-dfe6-14050abd6b1d"
      },
      "source": [
        "fig, ax = plt.subplots(figsize=(12,8))\n",
        "ax.plot(historico.history['accuracy'])\n",
        "ax.plot(historico.history['val_accuracy'])\n",
        "ax.set_title('Acurácia por epochs', fontsize=18)\n",
        "ax.set_xlabel('Epoch', fontsize=14)\n",
        "ax.set_ylabel('Acurácia', fontsize=14)\n",
        "plt.legend(['Treino', 'Validação'], fontsize=14)\n",
        "plt.show()"
      ],
      "execution_count": null,
      "outputs": [
        {
          "output_type": "display_data",
          "data": {
            "image/png": "[encoded data removed]",
            "text/plain": [
              "<Figure size 864x576 with 1 Axes>"
            ]
          },
          "metadata": {
            "tags": [],
            "needs_background": "light"
          }
        }
      ]
    },
    {
      "cell_type": "code",
      "metadata": {
        "colab": {
          "base_uri": "https://localhost:8080/",
          "height": 521
        },
        "id": "UjgAyWxwU6ke",
        "outputId": "208c365c-45f7-4772-f46d-3ada978c52a8"
      },
      "source": [
        "fig, ax = plt.subplots(figsize=(12,8))\n",
        "ax.plot(historico.history['loss'])\n",
        "ax.plot(historico.history['val_loss'])\n",
        "ax.set_title('Per da por epochs', fontsize=18)\n",
        "ax.set_xlabel('Epoch', fontsize=14)\n",
        "ax.set_ylabel('Perda', fontsize=14)\n",
        "plt.legend(['Treino', 'Validação'], fontsize=14)\n",
        "plt.show()"
      ],
      "execution_count": null,
      "outputs": [
        {
          "output_type": "display_data",
          "data": {
            "image/png": "[encoded data removed]",
            "text/plain": [
              "<Figure size 864x576 with 1 Axes>"
            ]
          },
          "metadata": {
            "tags": [],
            "needs_background": "light"
          }
        }
      ]
    },
    {
      "cell_type": "markdown",
      "metadata": {
        "id": "rCm51tFFkYxv"
      },
      "source": [
        "## Ajustando os vieses para valores aleatórios e observados os efeitos"
      ]
    },
    {
      "cell_type": "code",
      "metadata": {
        "id": "TyIhJtgxkadk"
      },
      "source": [
        "modelo = load_model('modelo.h5')\n",
        "x, = vieses_camada_dense.shape\n",
        "vieses_camada_dense_aleatorios = np.random.rand(x)\n",
        "modelo.layers[1].set_weights([pesos_camada_dense, vieses_camada_dense_aleatorios])"
      ],
      "execution_count": null,
      "outputs": []
    },
    {
      "cell_type": "code",
      "metadata": {
        "colab": {
          "base_uri": "https://localhost:8080/"
        },
        "id": "glQZ4T6RkdKp",
        "outputId": "4c9ca904-fb0b-4eb4-beb5-469ace64956d"
      },
      "source": [
        "X_train_normalizado = X_train/255.0\n",
        "\n",
        "modelo.compile(optimizer='adam', loss='sparse_categorical_crossentropy',\n",
        "               metrics=['accuracy'])\n",
        "historico = modelo.fit(X_train_normalizado, y_train, epochs=15, validation_split=0.2)"
      ],
      "execution_count": null,
      "outputs": [
        {
          "output_type": "stream",
          "text": [
            "Epoch 1/15\n",
            "1500/1500 [==============================] - 6s 4ms/step - loss: 0.2097 - accuracy: 0.9206 - val_loss: 0.3389 - val_accuracy: 0.8932\n",
            "Epoch 2/15\n",
            "1500/1500 [==============================] - 6s 4ms/step - loss: 0.1997 - accuracy: 0.9241 - val_loss: 0.3382 - val_accuracy: 0.8901\n",
            "Epoch 3/15\n",
            "1500/1500 [==============================] - 6s 4ms/step - loss: 0.1954 - accuracy: 0.9256 - val_loss: 0.3880 - val_accuracy: 0.8888\n",
            "Epoch 4/15\n",
            "1500/1500 [==============================] - 6s 4ms/step - loss: 0.1900 - accuracy: 0.9272 - val_loss: 0.3826 - val_accuracy: 0.8881\n",
            "Epoch 5/15\n",
            "1500/1500 [==============================] - 6s 4ms/step - loss: 0.1838 - accuracy: 0.9292 - val_loss: 0.3624 - val_accuracy: 0.8928\n",
            "Epoch 6/15\n",
            "1500/1500 [==============================] - 6s 4ms/step - loss: 0.1811 - accuracy: 0.9312 - val_loss: 0.3498 - val_accuracy: 0.8943\n",
            "Epoch 7/15\n",
            "1500/1500 [==============================] - 6s 4ms/step - loss: 0.1773 - accuracy: 0.9324 - val_loss: 0.3641 - val_accuracy: 0.8977\n",
            "Epoch 8/15\n",
            "1500/1500 [==============================] - 6s 4ms/step - loss: 0.1726 - accuracy: 0.9341 - val_loss: 0.3787 - val_accuracy: 0.8947\n",
            "Epoch 9/15\n",
            "1500/1500 [==============================] - 6s 4ms/step - loss: 0.1658 - accuracy: 0.9350 - val_loss: 0.3613 - val_accuracy: 0.8971\n",
            "Epoch 10/15\n",
            "1500/1500 [==============================] - 6s 4ms/step - loss: 0.1628 - accuracy: 0.9371 - val_loss: 0.3712 - val_accuracy: 0.8919\n",
            "Epoch 11/15\n",
            "1500/1500 [==============================] - 6s 4ms/step - loss: 0.1623 - accuracy: 0.9375 - val_loss: 0.4033 - val_accuracy: 0.8914\n",
            "Epoch 12/15\n",
            "1500/1500 [==============================] - 6s 4ms/step - loss: 0.1545 - accuracy: 0.9408 - val_loss: 0.4014 - val_accuracy: 0.8932\n",
            "Epoch 13/15\n",
            "1500/1500 [==============================] - 6s 4ms/step - loss: 0.1548 - accuracy: 0.9415 - val_loss: 0.4074 - val_accuracy: 0.8970\n",
            "Epoch 14/15\n",
            "1500/1500 [==============================] - 6s 4ms/step - loss: 0.1492 - accuracy: 0.9429 - val_loss: 0.4317 - val_accuracy: 0.8914\n",
            "Epoch 15/15\n",
            "1500/1500 [==============================] - 6s 4ms/step - loss: 0.1502 - accuracy: 0.9430 - val_loss: 0.4039 - val_accuracy: 0.8985\n"
          ],
          "name": "stdout"
        }
      ]
    },
    {
      "cell_type": "code",
      "metadata": {
        "colab": {
          "base_uri": "https://localhost:8080/"
        },
        "id": "VV1377SzkeFZ",
        "outputId": "dac31b73-dad8-43d3-ff73-1fabf2d69418"
      },
      "source": [
        "modelo.layers[1].get_weights()[1]"
      ],
      "execution_count": null,
      "outputs": [
        {
          "output_type": "execute_result",
          "data": {
            "text/plain": [
              "array([ 0.23997633,  0.6427613 ,  0.5513096 ,  0.6069636 ,  0.15701383,\n",
              "        0.3022087 ,  0.31749484,  0.6795518 ,  0.9070892 ,  0.5097514 ,\n",
              "        0.15265965,  0.00876955,  0.57855105,  0.44029358,  0.29172415,\n",
              "        0.44513294,  0.17620824,  0.11983013,  0.167283  ,  0.6634128 ,\n",
              "        0.23079744,  0.17062135,  0.8560088 ,  0.5586803 ,  0.7207139 ,\n",
              "       -0.31675187,  0.7414023 ,  0.6390005 ,  0.32519683,  0.9258246 ,\n",
              "        0.9434343 ,  0.74212223,  0.5482687 ,  0.6163686 ,  0.10019009,\n",
              "        0.4442828 ,  0.3235537 ,  0.30770615,  0.28970498,  1.0508962 ,\n",
              "        0.7576586 ,  0.16001485,  0.5293902 ,  0.19130272,  0.27560392,\n",
              "        0.68570954,  0.8626277 ,  0.28372294,  0.24521647,  0.5076041 ,\n",
              "        0.54539806,  0.5233036 ,  0.6178517 ,  0.71418554,  0.71121794,\n",
              "        0.7234897 ,  0.1812827 ,  0.8195118 ,  0.40499717,  0.38287443,\n",
              "        0.9317283 ,  0.91799724,  0.59345096, -0.03534435,  0.70046705,\n",
              "        0.12490416,  0.58288735,  0.7097056 ,  0.05523428,  0.889866  ,\n",
              "        1.0430212 ,  0.42955995,  0.56833225,  0.51743245,  0.60311913,\n",
              "        0.12749103,  0.71250236,  0.08085372, -0.11815615, -0.05316427,\n",
              "        0.61158276,  1.0024022 ,  0.8417091 ,  1.1066859 ,  0.1793902 ,\n",
              "        1.1274052 ,  0.1501797 ,  0.7710923 ,  0.777445  ,  0.4869912 ,\n",
              "        0.2759697 ,  0.63938344,  0.00500697,  0.13011022,  1.4430577 ,\n",
              "        0.6108009 ,  0.30792797, -0.00353565,  0.21990862,  0.33792052,\n",
              "        0.86248124,  0.57181084,  0.2078555 ,  0.7189283 ,  0.05064004,\n",
              "        0.91318613,  0.20266646,  0.6227121 ,  0.18215251,  0.10115104,\n",
              "        0.5868597 ,  0.44163424,  0.28858146,  0.5343181 ,  0.6673753 ,\n",
              "        0.49378103,  0.76528096,  0.1071441 ,  0.11628327,  0.44991496,\n",
              "        0.6377076 ,  0.18348563,  0.9390207 ,  0.32699946,  0.7024066 ,\n",
              "        0.09351216,  0.59034485,  0.70196146,  0.4817417 ,  0.5628169 ,\n",
              "        0.1915032 ,  0.64160794,  0.3743673 ,  0.47191086,  0.41205955,\n",
              "        0.4767634 ,  0.18663372,  0.4232842 ,  0.7394953 , -0.21727094,\n",
              "        0.34106946,  0.68463594,  0.83190906,  0.37051475,  1.0238297 ,\n",
              "        0.742616  ,  0.12867767,  0.51245344,  0.78472143,  0.75862455,\n",
              "        0.67971385,  0.58026963, -0.13614364,  0.30074185,  0.26731837,\n",
              "       -0.00266829,  0.14532436,  0.5612172 ,  0.87150097,  0.92261434,\n",
              "        0.6373901 ,  0.8032275 ,  0.45362678,  0.2565497 ,  0.6943    ,\n",
              "        0.80791944,  0.467012  ,  0.2438609 ,  0.8645048 ,  0.62718153,\n",
              "        0.71439373,  0.33379465,  0.7639816 ,  0.5589493 ,  0.91518205,\n",
              "        0.44611228,  0.3055924 ,  0.8712793 ,  0.7559203 ,  0.43206903,\n",
              "        0.5077366 ,  0.27044988,  0.46130195,  0.06194204,  0.35875085,\n",
              "        0.55356795, -0.01889123,  0.12967461,  0.5984297 ,  0.9196061 ,\n",
              "        0.39896122,  0.20937508,  0.74354583,  0.9837327 ,  0.30098954,\n",
              "        0.39411908,  0.7604667 ,  0.3217557 ,  0.3487847 ,  0.6145404 ,\n",
              "        0.51912326,  0.13719223,  0.7839281 ,  0.71523553,  0.48157457,\n",
              "        0.5137537 ,  0.6980772 ,  0.7826396 ,  0.09593434,  0.9191203 ,\n",
              "        0.21632904,  0.76218736,  0.31223685,  0.41902527, -0.17168474,\n",
              "        0.8282916 ,  0.31967533,  0.8237422 ,  0.6552233 ,  0.0093481 ,\n",
              "        0.7260024 ,  0.9344333 ,  0.64415157,  0.5553553 ,  0.4178558 ,\n",
              "        0.16084437,  0.2309935 ,  0.43567798,  0.45701033,  0.54373676,\n",
              "        0.8909358 ,  0.28956887,  0.21795101,  0.38669586,  0.82120985,\n",
              "        0.5601184 ,  0.197934  ,  0.23245676,  0.7700476 ,  0.33775854,\n",
              "        0.74696505,  0.1189277 , -0.08594665,  0.5828318 ,  0.8651694 ,\n",
              "        0.93103564,  0.22948326,  0.82338786,  0.40678078,  0.9848196 ,\n",
              "        0.4666306 ,  0.67371386,  0.5297754 ,  0.5446401 ,  0.16198286,\n",
              "        0.6683905 ], dtype=float32)"
            ]
          },
          "metadata": {
            "tags": []
          },
          "execution_count": 101
        }
      ]
    },
    {
      "cell_type": "code",
      "metadata": {
        "colab": {
          "base_uri": "https://localhost:8080/",
          "height": 521
        },
        "id": "YQiRJfbNkff2",
        "outputId": "9bacdc81-9651-45fd-a566-fb2d75ba61a9"
      },
      "source": [
        "fig, ax = plt.subplots(figsize=(12,8))\n",
        "ax.plot(historico.history['accuracy'])\n",
        "ax.plot(historico.history['val_accuracy'])\n",
        "ax.set_title('Acurácia por epochs', fontsize=18)\n",
        "ax.set_xlabel('Epoch', fontsize=14)\n",
        "ax.set_ylabel('Acurácia', fontsize=14)\n",
        "plt.legend(['Treino', 'Validação'], fontsize=14)\n",
        "plt.show()"
      ],
      "execution_count": null,
      "outputs": [
        {
          "output_type": "display_data",
          "data": {
            "image/png": "[encoded data removed]",
            "text/plain": [
              "<Figure size 864x576 with 1 Axes>"
            ]
          },
          "metadata": {
            "tags": [],
            "needs_background": "light"
          }
        }
      ]
    },
    {
      "cell_type": "code",
      "metadata": {
        "colab": {
          "base_uri": "https://localhost:8080/",
          "height": 521
        },
        "id": "ykDQSOrWkfB2",
        "outputId": "8d6823d0-9fc8-4bb8-fb80-dcb88ccde642"
      },
      "source": [
        "fig, ax = plt.subplots(figsize=(12,8))\n",
        "ax.plot(historico.history['loss'])\n",
        "ax.plot(historico.history['val_loss'])\n",
        "ax.set_title('Per da por epochs', fontsize=18)\n",
        "ax.set_xlabel('Epoch', fontsize=14)\n",
        "ax.set_ylabel('Perda', fontsize=14)\n",
        "plt.legend(['Treino', 'Validação'], fontsize=14)\n",
        "plt.show()"
      ],
      "execution_count": null,
      "outputs": [
        {
          "output_type": "display_data",
          "data": {
            "image/png": "[encoded data removed]",
            "text/plain": [
              "<Figure size 864x576 with 1 Axes>"
            ]
          },
          "metadata": {
            "tags": [],
            "needs_background": "light"
          }
        }
      ]
    },
    {
      "cell_type": "markdown",
      "metadata": {
        "id": "SS-umwxMFNDT"
      },
      "source": [
        "## Instanciando o otimizar e modificando seus parametros \n",
        "\n",
        "**Learning_rate** é o parametro que fornece o passo do treino ao longo de cada update do gradiente"
      ]
    },
    {
      "cell_type": "code",
      "metadata": {
        "id": "2eErYEnZFLR4"
      },
      "source": [
        "X_train_normalizado = X_train/255.0\n",
        "\n",
        "modelo = keras.Sequential([\n",
        "                           layers.Flatten(input_shape=(28,28)),\n",
        "                           layers.Dense(256, activation=tensorflow.nn.relu),\n",
        "                           layers.Dense(128, activation=tensorflow.nn.relu),\n",
        "                           layers.Dropout(0.2 ),\n",
        "                           layers.Dense(10, activation=tensorflow.nn.softmax)\n",
        "                           ])\n",
        "\n",
        "adam = keras.optimizers.Adam(learning_rate=0.0001)\n",
        "\n",
        "modelo.compile(optimizer=adam, \n",
        "               loss='sparse_categorical_crossentropy',\n",
        "               metrics=['accuracy'])\n",
        "\n",
        "historico = modelo.fit(X_train_normalizado, y_train,\n",
        "                       epochs=15, \n",
        "                       validation_split=0.2)"
      ],
      "execution_count": null,
      "outputs": []
    },
    {
      "cell_type": "markdown",
      "metadata": {
        "id": "1QdR7eJRGIRo"
      },
      "source": [
        "##Modificando o batch_size\n",
        "\n",
        "Batch_size é o número de amostras que será fornecido para treinamento para cada update de gradiente. "
      ]
    },
    {
      "cell_type": "code",
      "metadata": {
        "id": "l-1SXFNZGCRR"
      },
      "source": [
        "X_train_normalizado = X_train/255.0\n",
        "\n",
        "modelo = keras.Sequential([\n",
        "                           layers.Flatten(input_shape=(28,28)),\n",
        "                           layers.Dense(256, activation=tensorflow.nn.relu),\n",
        "                           layers.Dense(128, activation=tensorflow.nn.relu),\n",
        "                           layers.Dropout(0.2 ),\n",
        "                           layers.Dense(10, activation=tensorflow.nn.softmax)\n",
        "                           ])\n",
        "\n",
        "adam = keras.optimizers.Adam(learning_rate=0.0001)\n",
        "\n",
        "modelo.compile(optimizer=adam, \n",
        "               loss='sparse_categorical_crossentropy',\n",
        "               metrics=['accuracy'])\n",
        "\n",
        "historico = modelo.fit(X_train_normalizado, y_train, \n",
        "                       batch_size=50,\n",
        "                       epochs=15, \n",
        "                       validation_split=0.2)"
      ],
      "execution_count": null,
      "outputs": []
    },
    {
      "cell_type": "markdown",
      "metadata": {
        "id": "Z3jqxCWx3uYI"
      },
      "source": [
        "## Utilizando callbacks - EarlyStopping\n",
        "\n",
        "Quando a acurácia e a perda não diminui depois de x epochs, vale a pena parar o treino e alterar os parametros. Para parar utilizamos o **callback**"
      ]
    },
    {
      "cell_type": "code",
      "metadata": {
        "colab": {
          "base_uri": "https://localhost:8080/"
        },
        "id": "hf_NsjQ_3uFr",
        "outputId": "06343f07-a7db-4bd2-9623-e1e9682bf1f7"
      },
      "source": [
        "X_train_normalizado = X_train/255.0\n",
        "\n",
        "modelo = keras.Sequential([\n",
        "                           layers.Flatten(input_shape=(28,28)),\n",
        "                           layers.Dense(256, activation=tensorflow.nn.relu),\n",
        "                           layers.Dense(128, activation=tensorflow.nn.relu),\n",
        "                           layers.Dropout(0.2 ),\n",
        "                           layers.Dense(10, activation=tensorflow.nn.softmax)\n",
        "                           ])\n",
        "\n",
        "callbacks = [EarlyStopping(monitor='val_loss', patience=3)]\n",
        "\n",
        "adam = keras.optimizers.Adam(learning_rate=0.001)\n",
        "\n",
        "modelo.compile(optimizer=adam, \n",
        "               loss='sparse_categorical_crossentropy',\n",
        "               metrics=['accuracy'])\n",
        "\n",
        "historico = modelo.fit(X_train_normalizado, y_train, \n",
        "                       batch_size=50,\n",
        "                       epochs=15, \n",
        "                       validation_split=0.2,\n",
        "                       callbacks=callbacks)"
      ],
      "execution_count": 34,
      "outputs": [
        {
          "output_type": "stream",
          "text": [
            "Epoch 1/15\n",
            "960/960 [==============================] - 5s 5ms/step - loss: 0.5295 - accuracy: 0.8092 - val_loss: 0.3920 - val_accuracy: 0.8577\n",
            "Epoch 2/15\n",
            "960/960 [==============================] - 4s 5ms/step - loss: 0.3847 - accuracy: 0.8595 - val_loss: 0.3671 - val_accuracy: 0.8659\n",
            "Epoch 3/15\n",
            "960/960 [==============================] - 5s 5ms/step - loss: 0.3457 - accuracy: 0.8723 - val_loss: 0.3640 - val_accuracy: 0.8664\n",
            "Epoch 4/15\n",
            "960/960 [==============================] - 5s 5ms/step - loss: 0.3191 - accuracy: 0.8821 - val_loss: 0.3541 - val_accuracy: 0.8742\n",
            "Epoch 5/15\n",
            "960/960 [==============================] - 5s 5ms/step - loss: 0.3017 - accuracy: 0.8874 - val_loss: 0.3189 - val_accuracy: 0.8835\n",
            "Epoch 6/15\n",
            "960/960 [==============================] - 5s 5ms/step - loss: 0.2816 - accuracy: 0.8944 - val_loss: 0.3415 - val_accuracy: 0.8824\n",
            "Epoch 7/15\n",
            "960/960 [==============================] - 5s 5ms/step - loss: 0.2747 - accuracy: 0.8979 - val_loss: 0.3215 - val_accuracy: 0.8838\n",
            "Epoch 8/15\n",
            "960/960 [==============================] - 5s 5ms/step - loss: 0.2586 - accuracy: 0.9024 - val_loss: 0.3265 - val_accuracy: 0.8813\n"
          ],
          "name": "stdout"
        }
      ]
    },
    {
      "cell_type": "code",
      "metadata": {
        "colab": {
          "base_uri": "https://localhost:8080/"
        },
        "id": "c7xeJz-dHENa",
        "outputId": "f76bd3cf-f3a9-4c28-877f-395a5e3e5de6"
      },
      "source": [
        "X_train_normalizado = X_train/255.0\n",
        "\n",
        "modelo = keras.Sequential([\n",
        "                           layers.Flatten(input_shape=(28,28)),\n",
        "                           layers.Dense(256, activation=tensorflow.nn.relu),\n",
        "                           layers.Dense(128, activation=tensorflow.nn.relu),\n",
        "                           layers.Dropout(0.2 ),\n",
        "                           layers.Dense(10, activation=tensorflow.nn.softmax)\n",
        "                           ])\n",
        "\n",
        "callbacks = [EarlyStopping(monitor='val_loss', patience=3),\n",
        "             ModelCheckpoint(filepath='melhor_modelo.hdf5', \n",
        "                             monitor='val_loss', save_best_only=True)]\n",
        "\n",
        "adam = keras.optimizers.Adam(learning_rate=0.001)\n",
        "\n",
        "modelo.compile(optimizer=adam, \n",
        "               loss='sparse_categorical_crossentropy',\n",
        "               metrics=['accuracy'])\n",
        "\n",
        "historico = modelo.fit(X_train_normalizado, y_train, \n",
        "                       batch_size=50,\n",
        "                       epochs=15, \n",
        "                       validation_split=0.2,\n",
        "                       callbacks=callbacks)"
      ],
      "execution_count": 39,
      "outputs": [
        {
          "output_type": "stream",
          "text": [
            "Epoch 1/15\n",
            "960/960 [==============================] - 7s 6ms/step - loss: 0.5285 - accuracy: 0.8099 - val_loss: 0.4069 - val_accuracy: 0.8558\n",
            "Epoch 2/15\n",
            "960/960 [==============================] - 5s 5ms/step - loss: 0.3855 - accuracy: 0.8604 - val_loss: 0.3595 - val_accuracy: 0.8671\n",
            "Epoch 3/15\n",
            "960/960 [==============================] - 5s 5ms/step - loss: 0.3430 - accuracy: 0.8752 - val_loss: 0.3711 - val_accuracy: 0.8653\n",
            "Epoch 4/15\n",
            "960/960 [==============================] - 5s 6ms/step - loss: 0.3176 - accuracy: 0.8828 - val_loss: 0.3340 - val_accuracy: 0.8787\n",
            "Epoch 5/15\n",
            "960/960 [==============================] - 5s 6ms/step - loss: 0.3035 - accuracy: 0.8882 - val_loss: 0.3406 - val_accuracy: 0.8734\n",
            "Epoch 6/15\n",
            "960/960 [==============================] - 5s 6ms/step - loss: 0.2898 - accuracy: 0.8919 - val_loss: 0.3214 - val_accuracy: 0.8817\n",
            "Epoch 7/15\n",
            "960/960 [==============================] - 6s 6ms/step - loss: 0.2755 - accuracy: 0.8974 - val_loss: 0.3231 - val_accuracy: 0.8865\n",
            "Epoch 8/15\n",
            "960/960 [==============================] - 5s 6ms/step - loss: 0.2634 - accuracy: 0.8997 - val_loss: 0.3252 - val_accuracy: 0.8839\n",
            "Epoch 9/15\n",
            "960/960 [==============================] - 5s 5ms/step - loss: 0.2549 - accuracy: 0.9035 - val_loss: 0.3266 - val_accuracy: 0.8867\n"
          ],
          "name": "stdout"
        }
      ]
    },
    {
      "cell_type": "code",
      "metadata": {
        "id": "G-4_JAXBO9rY"
      },
      "source": [
        ""
      ],
      "execution_count": null,
      "outputs": []
    }
  ]
}