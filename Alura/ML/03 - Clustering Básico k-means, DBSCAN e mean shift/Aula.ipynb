{
 "cells": [
  {
   "cell_type": "markdown",
   "id": "bf4bc545",
   "metadata": {},
   "source": [
    "# Curso: Clustering Básico: k-means, DBSCAN e mean shift\n",
    "\n",
    "## Objetivos:\n",
    "* Conheça o básico sobre análise exploratória\n",
    "* Crie visualização de dados utilizando a biblioteca plotly\n",
    "* Utilize o método K-means, DBSCAN e Mean shift para agrupar dados sem classificação\n",
    "* Aprenda a agrupar vinhos\n",
    "* Avalie a qualidade de uma clusterização através da utilização do coeficiente de silhueta\n",
    "* Parametrize métodos de clusterização através do máximo coeficiente de silhueta\n",
    "\n",
    "link: https://cursos.alura.com.br/course/clustering-dados-sem-classificacao"
   ]
  },
  {
   "cell_type": "markdown",
   "id": "7797a66c",
   "metadata": {},
   "source": [
    "## Importando as bibliotécas necessárias"
   ]
  },
  {
   "cell_type": "code",
   "execution_count": 5,
   "id": "60294268",
   "metadata": {},
   "outputs": [],
   "source": [
    "import pandas as pd\n",
    "import numpy as np\n",
    "import matplotlib.pyplot as plt\n",
    "import plotly.graph_objects as go"
   ]
  },
  {
   "cell_type": "markdown",
   "id": "1153a630",
   "metadata": {},
   "source": []
  },
  {
   "cell_type": "code",
   "execution_count": null,
   "id": "c2e2ab16",
   "metadata": {},
   "outputs": [],
   "source": []
  },
  {
   "cell_type": "code",
   "execution_count": null,
   "id": "510d6c49",
   "metadata": {},
   "outputs": [],
   "source": []
  }
 ],
 "metadata": {
  "kernelspec": {
   "display_name": "Python 3",
   "language": "python",
   "name": "python3"
  },
  "language_info": {
   "codemirror_mode": {
    "name": "ipython",
    "version": 3
   },
   "file_extension": ".py",
   "mimetype": "text/x-python",
   "name": "python",
   "nbconvert_exporter": "python",
   "pygments_lexer": "ipython3",
   "version": "3.7.10"
  }
 },
 "nbformat": 4,
 "nbformat_minor": 5
}
