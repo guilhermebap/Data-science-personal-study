{
 "cells": [
  {
   "cell_type": "markdown",
   "id": "72d96050",
   "metadata": {},
   "source": [
    "# Análise e Classificação de Faces: Visão Computacional com OpenCV\n",
    "## Objetivos\n",
    "* Seja capaz de extrair regiões de interesse de uma imagem.\n",
    "* Normalize e pré-processe conjunto de dados de imagens.\n",
    "* Construa classificadores para reconhecimento de faces.\n",
    "* Valide a precisão do modelo construído para posterior aplicação em aplicações do mundo real.\n",
    "* Extraia regiões do rosto humano baseado em marcos faciais.\n",
    "* Crie aplicações que analise diferentes condições de cada componente do rosto humano.\n",
    "\n",
    "Link: https://cursos.alura.com.br/course/analise-classificacao-faces-visao-computacional-opencv"
   ]
  },
  {
   "cell_type": "markdown",
   "id": "b05da1ef",
   "metadata": {},
   "source": [
    "## Importando as bibliotecas"
   ]
  },
  {
   "cell_type": "code",
   "execution_count": 1,
   "id": "d093abe7",
   "metadata": {},
   "outputs": [],
   "source": [
    "import numpy as np\n",
    "import pandas as pd\n",
    "import matplotlib.pyplot as plt\n",
    "import seaborn as sns\n",
    "import shutil\n",
    "import cv2\n",
    "import dlib\n",
    "import os\n",
    "from os import listdir\n",
    "from os.path import isfile, join\n",
    "from sklearn.metrics import accuracy_score\n",
    "from scipy.spatial import distance as dist"
   ]
  },
  {
   "cell_type": "markdown",
   "id": "2bd95ff4",
   "metadata": {},
   "source": [
    "## Importando os dados"
   ]
  },
  {
   "cell_type": "code",
   "execution_count": null,
   "id": "0669c079",
   "metadata": {},
   "outputs": [],
   "source": []
  },
  {
   "cell_type": "code",
   "execution_count": null,
   "id": "1eb20bfd",
   "metadata": {},
   "outputs": [],
   "source": []
  }
 ],
 "metadata": {
  "kernelspec": {
   "display_name": "Python 3",
   "language": "python",
   "name": "python3"
  },
  "language_info": {
   "codemirror_mode": {
    "name": "ipython",
    "version": 3
   },
   "file_extension": ".py",
   "mimetype": "text/x-python",
   "name": "python",
   "nbconvert_exporter": "python",
   "pygments_lexer": "ipython3",
   "version": "3.8.11"
  }
 },
 "nbformat": 4,
 "nbformat_minor": 5
}
