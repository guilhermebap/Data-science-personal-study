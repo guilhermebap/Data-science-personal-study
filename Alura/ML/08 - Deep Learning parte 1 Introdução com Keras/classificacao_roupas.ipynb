{
  "nbformat": 4,
  "nbformat_minor": 0,
  "metadata": {
    "colab": {
      "name": "classificacao_roupas",
      "provenance": [],
      "collapsed_sections": []
    },
    "kernelspec": {
      "name": "python3",
      "display_name": "Python 3"
    },
    "language_info": {
      "name": "python"
    }
  },
  "cells": [
    {
      "cell_type": "markdown",
      "metadata": {
        "id": "sqcvbFabnbS-"
      },
      "source": [
        "# Deep Learning parte 1 Introdução com Keras\n",
        "\n",
        "## Objetivos\n",
        "* Aprenda conceitos essenciais de Deep Learning na prática.\n",
        "* Construa e treine um modelo com Keras e Tensorflow.\n",
        "* Saiba como selecionar as camadas de um modelo.\n",
        "* Avalie a performance do modelo e melhore seus resultados.\n",
        "* Aplique Deep Learning para classificar imagens.\n",
        "\n",
        "Link: https://cursos.alura.com.br/course/deep-learning-introducao-com-keras"
      ]
    },
    {
      "cell_type": "markdown",
      "metadata": {
        "id": "1lRbFSQxngd3"
      },
      "source": [
        "## Importando as bibliotecas necessárias"
      ]
    },
    {
      "cell_type": "code",
      "metadata": {
        "id": "RavhYNgbnhV6"
      },
      "source": [
        "import numpy as np\n",
        "import pandas as pd\n",
        "import tensorflow\n",
        "from tensorflow import keras\n",
        "import matplotlib.pyplot as plt\n",
        "from tensorflow.keras import layers\n",
        "from tensorflow.keras.models import load_model"
      ],
      "execution_count": 42,
      "outputs": []
    },
    {
      "cell_type": "markdown",
      "metadata": {
        "id": "S--wswjcngoP"
      },
      "source": [
        "## Carregando os dados"
      ]
    },
    {
      "cell_type": "code",
      "metadata": {
        "id": "f0ABSPIjnRef",
        "colab": {
          "base_uri": "https://localhost:8080/"
        },
        "outputId": "5dc242f6-29ad-409b-b8c4-17e846dc4365"
      },
      "source": [
        "dataset = keras.datasets.fashion_mnist\n",
        "(X_train, y_train), (X_test, y_test) = dataset.load_data()"
      ],
      "execution_count": 2,
      "outputs": [
        {
          "output_type": "stream",
          "text": [
            "Downloading data from https://storage.googleapis.com/tensorflow/tf-keras-datasets/train-labels-idx1-ubyte.gz\n",
            "32768/29515 [=================================] - 0s 0us/step\n",
            "Downloading data from https://storage.googleapis.com/tensorflow/tf-keras-datasets/train-images-idx3-ubyte.gz\n",
            "26427392/26421880 [==============================] - 0s 0us/step\n",
            "Downloading data from https://storage.googleapis.com/tensorflow/tf-keras-datasets/t10k-labels-idx1-ubyte.gz\n",
            "8192/5148 [===============================================] - 0s 0us/step\n",
            "Downloading data from https://storage.googleapis.com/tensorflow/tf-keras-datasets/t10k-images-idx3-ubyte.gz\n",
            "4423680/4422102 [==============================] - 0s 0us/step\n"
          ],
          "name": "stdout"
        }
      ]
    },
    {
      "cell_type": "code",
      "metadata": {
        "colab": {
          "base_uri": "https://localhost:8080/",
          "height": 359
        },
        "id": "jZg3ZXXH0nci",
        "outputId": "bb3c7282-86c1-4704-ee46-f819ffbe19e9"
      },
      "source": [
        "tabela_categorias = pd.read_html('https://github.com/zalandoresearch/fashion-mnist')[1]\n",
        "tabela_categorias"
      ],
      "execution_count": 3,
      "outputs": [
        {
          "output_type": "execute_result",
          "data": {
            "text/html": [
              "<div>\n",
              "<style scoped>\n",
              "    .dataframe tbody tr th:only-of-type {\n",
              "        vertical-align: middle;\n",
              "    }\n",
              "\n",
              "    .dataframe tbody tr th {\n",
              "        vertical-align: top;\n",
              "    }\n",
              "\n",
              "    .dataframe thead th {\n",
              "        text-align: right;\n",
              "    }\n",
              "</style>\n",
              "<table border=\"1\" class=\"dataframe\">\n",
              "  <thead>\n",
              "    <tr style=\"text-align: right;\">\n",
              "      <th></th>\n",
              "      <th>Label</th>\n",
              "      <th>Description</th>\n",
              "    </tr>\n",
              "  </thead>\n",
              "  <tbody>\n",
              "    <tr>\n",
              "      <th>0</th>\n",
              "      <td>0</td>\n",
              "      <td>T-shirt/top</td>\n",
              "    </tr>\n",
              "    <tr>\n",
              "      <th>1</th>\n",
              "      <td>1</td>\n",
              "      <td>Trouser</td>\n",
              "    </tr>\n",
              "    <tr>\n",
              "      <th>2</th>\n",
              "      <td>2</td>\n",
              "      <td>Pullover</td>\n",
              "    </tr>\n",
              "    <tr>\n",
              "      <th>3</th>\n",
              "      <td>3</td>\n",
              "      <td>Dress</td>\n",
              "    </tr>\n",
              "    <tr>\n",
              "      <th>4</th>\n",
              "      <td>4</td>\n",
              "      <td>Coat</td>\n",
              "    </tr>\n",
              "    <tr>\n",
              "      <th>5</th>\n",
              "      <td>5</td>\n",
              "      <td>Sandal</td>\n",
              "    </tr>\n",
              "    <tr>\n",
              "      <th>6</th>\n",
              "      <td>6</td>\n",
              "      <td>Shirt</td>\n",
              "    </tr>\n",
              "    <tr>\n",
              "      <th>7</th>\n",
              "      <td>7</td>\n",
              "      <td>Sneaker</td>\n",
              "    </tr>\n",
              "    <tr>\n",
              "      <th>8</th>\n",
              "      <td>8</td>\n",
              "      <td>Bag</td>\n",
              "    </tr>\n",
              "    <tr>\n",
              "      <th>9</th>\n",
              "      <td>9</td>\n",
              "      <td>Ankle boot</td>\n",
              "    </tr>\n",
              "  </tbody>\n",
              "</table>\n",
              "</div>"
            ],
            "text/plain": [
              "   Label  Description\n",
              "0      0  T-shirt/top\n",
              "1      1      Trouser\n",
              "2      2     Pullover\n",
              "3      3        Dress\n",
              "4      4         Coat\n",
              "5      5       Sandal\n",
              "6      6        Shirt\n",
              "7      7      Sneaker\n",
              "8      8          Bag\n",
              "9      9   Ankle boot"
            ]
          },
          "metadata": {
            "tags": []
          },
          "execution_count": 3
        }
      ]
    },
    {
      "cell_type": "markdown",
      "metadata": {
        "id": "hnJ8T4z10-PI"
      },
      "source": [
        "## Exploração dos dados"
      ]
    },
    {
      "cell_type": "code",
      "metadata": {
        "colab": {
          "base_uri": "https://localhost:8080/"
        },
        "id": "3DM3oP8Fn-2a",
        "outputId": "6e217d41-acfd-4650-e528-7d68d66b47ec"
      },
      "source": [
        "X_train.shape"
      ],
      "execution_count": 4,
      "outputs": [
        {
          "output_type": "execute_result",
          "data": {
            "text/plain": [
              "(60000, 28, 28)"
            ]
          },
          "metadata": {
            "tags": []
          },
          "execution_count": 4
        }
      ]
    },
    {
      "cell_type": "code",
      "metadata": {
        "colab": {
          "base_uri": "https://localhost:8080/"
        },
        "id": "gCXRL8L5rro1",
        "outputId": "9ef5a9de-95d3-4c46-eb85-be23c12f746b"
      },
      "source": [
        "y_train.shape"
      ],
      "execution_count": 5,
      "outputs": [
        {
          "output_type": "execute_result",
          "data": {
            "text/plain": [
              "(60000,)"
            ]
          },
          "metadata": {
            "tags": []
          },
          "execution_count": 5
        }
      ]
    },
    {
      "cell_type": "code",
      "metadata": {
        "colab": {
          "base_uri": "https://localhost:8080/",
          "height": 281
        },
        "id": "g-36aeBJsELT",
        "outputId": "639bcb2f-2045-4e0f-c67a-4cbd173a81c4"
      },
      "source": [
        "plt.imshow(X_train[0], cmap='gray')\n",
        "plt.title(y_train[0])\n",
        "\n",
        "plt.show()"
      ],
      "execution_count": 6,
      "outputs": [
        {
          "output_type": "display_data",
          "data": {
            "image/png": "[encoded data removed]",
            "text/plain": [
              "<Figure size 432x288 with 1 Axes>"
            ]
          },
          "metadata": {
            "tags": [],
            "needs_background": "light"
          }
        }
      ]
    },
    {
      "cell_type": "code",
      "metadata": {
        "colab": {
          "base_uri": "https://localhost:8080/",
          "height": 281
        },
        "id": "fY5Cd3fhmQkR",
        "outputId": "070a1873-1cf1-49b1-a7ae-23b09051cf18"
      },
      "source": [
        "plt.imshow(X_train[0], cmap='gray')\n",
        "plt.colorbar()\n",
        "plt.title(y_train[0])\n",
        "\n",
        "plt.show()"
      ],
      "execution_count": 7,
      "outputs": [
        {
          "output_type": "display_data",
          "data": {
            "image/png": "[encoded data removed]",
            "text/plain": [
              "<Figure size 432x288 with 2 Axes>"
            ]
          },
          "metadata": {
            "tags": [],
            "needs_background": "light"
          }
        }
      ]
    },
    {
      "cell_type": "code",
      "metadata": {
        "colab": {
          "base_uri": "https://localhost:8080/"
        },
        "id": "Nfl1T6casaxY",
        "outputId": "253848cd-d04a-4e3e-d43f-d4aee4ad2d1e"
      },
      "source": [
        "print(y_train.min())\n",
        "print(y_train.max())"
      ],
      "execution_count": 8,
      "outputs": [
        {
          "output_type": "stream",
          "text": [
            "0\n",
            "9\n"
          ],
          "name": "stdout"
        }
      ]
    },
    {
      "cell_type": "code",
      "metadata": {
        "colab": {
          "base_uri": "https://localhost:8080/",
          "height": 240
        },
        "id": "gkFGohAhyYrP",
        "outputId": "1873294f-c3c2-410b-df4a-5018775e4223"
      },
      "source": [
        "for imagem in range(10):\n",
        "  plt.subplot(2,5, imagem+1)\n",
        "  plt.imshow(X_train[imagem], cmap='gray')\n",
        "  identificador = y_train[imagem]\n",
        "  plt.title(tabela_categorias.query('Label == @identificador')['Description'].values[0])"
      ],
      "execution_count": 9,
      "outputs": [
        {
          "output_type": "display_data",
          "data": {
            "image/png": "[encoded data removed]",
            "text/plain": [
              "<Figure size 432x288 with 10 Axes>"
            ]
          },
          "metadata": {
            "tags": [],
            "needs_background": "light"
          }
        }
      ]
    },
    {
      "cell_type": "code",
      "metadata": {
        "id": "1VTUksDeziuu",
        "colab": {
          "base_uri": "https://localhost:8080/"
        },
        "outputId": "f3e27312-98a5-4b21-de6e-eceaca3895f5"
      },
      "source": [
        "modelo = keras.Sequential([\n",
        "                           layers.Flatten(input_shape=(28,28)),\n",
        "                           layers.Dense(256, activation=tensorflow.nn.relu),\n",
        "                           layers.Dense(10, activation=tensorflow.nn.softmax)\n",
        "                           ])\n",
        "modelo.compile(optimizer='adam', loss='sparse_categorical_crossentropy')\n",
        "modelo.fit(X_train, y_train)"
      ],
      "execution_count": 10,
      "outputs": [
        {
          "output_type": "stream",
          "text": [
            "1875/1875 [==============================] - 5s 3ms/step - loss: 3.5163\n"
          ],
          "name": "stdout"
        },
        {
          "output_type": "execute_result",
          "data": {
            "text/plain": [
              "<tensorflow.python.keras.callbacks.History at 0x7f8777045d50>"
            ]
          },
          "metadata": {
            "tags": []
          },
          "execution_count": 10
        }
      ]
    },
    {
      "cell_type": "markdown",
      "metadata": {
        "id": "bcwE1K0EruKp"
      },
      "source": [
        "### Normalizando os dados de treino"
      ]
    },
    {
      "cell_type": "code",
      "metadata": {
        "id": "wnujLhPXasyL",
        "colab": {
          "base_uri": "https://localhost:8080/"
        },
        "outputId": "8265a342-8f84-45c7-c004-824d3979d5c6"
      },
      "source": [
        "X_train_normalizado = X_train/255.0\n",
        "\n",
        "modelo = keras.Sequential([\n",
        "                           layers.Flatten(input_shape=(28,28)),\n",
        "                           layers.Dense(256, activation=tensorflow.nn.relu),\n",
        "                           layers.Dense(10, activation=tensorflow.nn.softmax)\n",
        "                           ])\n",
        "modelo.compile(optimizer='adam', loss='sparse_categorical_crossentropy')\n",
        "modelo.fit(X_train_normalizado, y_train)"
      ],
      "execution_count": 11,
      "outputs": [
        {
          "output_type": "stream",
          "text": [
            "1875/1875 [==============================] - 5s 3ms/step - loss: 0.4910\n"
          ],
          "name": "stdout"
        },
        {
          "output_type": "execute_result",
          "data": {
            "text/plain": [
              "<tensorflow.python.keras.callbacks.History at 0x7f87767e1550>"
            ]
          },
          "metadata": {
            "tags": []
          },
          "execution_count": 11
        }
      ]
    },
    {
      "cell_type": "markdown",
      "metadata": {
        "id": "I83FiFN4rzWk"
      },
      "source": [
        "### Adicionando mais camadas internas"
      ]
    },
    {
      "cell_type": "code",
      "metadata": {
        "colab": {
          "base_uri": "https://localhost:8080/"
        },
        "id": "DWfGxn3_nmv2",
        "outputId": "d9c8f94a-ea4b-4706-ff16-3bf840bd3acf"
      },
      "source": [
        "X_train_normalizado = X_train/255.0\n",
        "\n",
        "modelo = keras.Sequential([\n",
        "                           layers.Flatten(input_shape=(28,28)),\n",
        "                           layers.Dense(256, activation=tensorflow.nn.relu),\n",
        "                           layers.Dense(128, activation=tensorflow.nn.relu),\n",
        "                           layers.Dense(10, activation=tensorflow.nn.softmax)\n",
        "                           ])\n",
        "modelo.compile(optimizer='adam', loss='sparse_categorical_crossentropy')\n",
        "modelo.fit(X_train_normalizado, y_train)"
      ],
      "execution_count": 12,
      "outputs": [
        {
          "output_type": "stream",
          "text": [
            "1875/1875 [==============================] - 6s 3ms/step - loss: 0.4791\n"
          ],
          "name": "stdout"
        },
        {
          "output_type": "execute_result",
          "data": {
            "text/plain": [
              "<tensorflow.python.keras.callbacks.History at 0x7f8774096050>"
            ]
          },
          "metadata": {
            "tags": []
          },
          "execution_count": 12
        }
      ]
    },
    {
      "cell_type": "code",
      "metadata": {
        "colab": {
          "base_uri": "https://localhost:8080/"
        },
        "id": "hnrfKV29oBwI",
        "outputId": "80686ddb-0c25-49d3-ce11-ce0826b16771"
      },
      "source": [
        "X_train_normalizado = X_train/255.0\n",
        "\n",
        "modelo = keras.Sequential([\n",
        "                           layers.Flatten(input_shape=(28,28)),\n",
        "                           layers.Dense(256, activation=tensorflow.nn.relu),\n",
        "                           layers.Dense(128, activation=tensorflow.nn.relu),\n",
        "                           layers.Dense(64, activation=tensorflow.nn.relu),\n",
        "                           layers.Dense(10, activation=tensorflow.nn.softmax)\n",
        "                           ])\n",
        "modelo.compile(optimizer='adam', loss='sparse_categorical_crossentropy')\n",
        "modelo.fit(X_train_normalizado, y_train)"
      ],
      "execution_count": 13,
      "outputs": [
        {
          "output_type": "stream",
          "text": [
            "1875/1875 [==============================] - 6s 3ms/step - loss: 0.4796\n"
          ],
          "name": "stdout"
        },
        {
          "output_type": "execute_result",
          "data": {
            "text/plain": [
              "<tensorflow.python.keras.callbacks.History at 0x7f8773780c10>"
            ]
          },
          "metadata": {
            "tags": []
          },
          "execution_count": 13
        }
      ]
    },
    {
      "cell_type": "markdown",
      "metadata": {
        "id": "6SO-dGOisB4s"
      },
      "source": [
        "### Aumentando o número de Epoch, ou seja, aumentando o número de processos de treino"
      ]
    },
    {
      "cell_type": "code",
      "metadata": {
        "colab": {
          "base_uri": "https://localhost:8080/"
        },
        "id": "IEOVXEzcsZDo",
        "outputId": "43adea4c-4601-476c-e7cb-3d07454e3e51"
      },
      "source": [
        "X_train_normalizado = X_train/255.0\n",
        "\n",
        "modelo = keras.Sequential([\n",
        "                           layers.Flatten(input_shape=(28,28)),\n",
        "                           layers.Dense(256, activation=tensorflow.nn.relu),\n",
        "                           layers.Dense(10, activation=tensorflow.nn.softmax)\n",
        "                           ])\n",
        "modelo.compile(optimizer='adam', loss='sparse_categorical_crossentropy',\n",
        "               metrics=['accuracy'])\n",
        "modelo.fit(X_train_normalizado, y_train, epochs=5)"
      ],
      "execution_count": 14,
      "outputs": [
        {
          "output_type": "stream",
          "text": [
            "Epoch 1/5\n",
            "1875/1875 [==============================] - 5s 3ms/step - loss: 0.4836 - accuracy: 0.8267\n",
            "Epoch 2/5\n",
            "1875/1875 [==============================] - 5s 2ms/step - loss: 0.3629 - accuracy: 0.8672\n",
            "Epoch 3/5\n",
            "1875/1875 [==============================] - 5s 2ms/step - loss: 0.3258 - accuracy: 0.8811\n",
            "Epoch 4/5\n",
            "1875/1875 [==============================] - 5s 2ms/step - loss: 0.3022 - accuracy: 0.8887\n",
            "Epoch 5/5\n",
            "1875/1875 [==============================] - 5s 3ms/step - loss: 0.2842 - accuracy: 0.8957\n"
          ],
          "name": "stdout"
        },
        {
          "output_type": "execute_result",
          "data": {
            "text/plain": [
              "<tensorflow.python.keras.callbacks.History at 0x7f877377b090>"
            ]
          },
          "metadata": {
            "tags": []
          },
          "execution_count": 14
        }
      ]
    },
    {
      "cell_type": "code",
      "metadata": {
        "colab": {
          "base_uri": "https://localhost:8080/"
        },
        "id": "TQCaFLj_rWR8",
        "outputId": "bec650e1-6472-4885-de33-aa3c3420cd95"
      },
      "source": [
        "X_train_normalizado = X_train/255.0\n",
        "\n",
        "modelo = keras.Sequential([\n",
        "                           layers.Flatten(input_shape=(28,28)),\n",
        "                           layers.Dense(256, activation=tensorflow.nn.relu),\n",
        "                           layers.Dense(128, activation=tensorflow.nn.relu),\n",
        "                           layers.Dense(10, activation=tensorflow.nn.softmax)\n",
        "                           ])\n",
        "modelo.compile(optimizer='adam', loss='sparse_categorical_crossentropy',\n",
        "               metrics=['accuracy'])\n",
        "modelo.fit(X_train_normalizado, y_train, epochs=5)"
      ],
      "execution_count": 15,
      "outputs": [
        {
          "output_type": "stream",
          "text": [
            "Epoch 1/5\n",
            "1875/1875 [==============================] - 6s 3ms/step - loss: 0.4786 - accuracy: 0.8280\n",
            "Epoch 2/5\n",
            "1875/1875 [==============================] - 5s 3ms/step - loss: 0.3600 - accuracy: 0.8682\n",
            "Epoch 3/5\n",
            "1875/1875 [==============================] - 6s 3ms/step - loss: 0.3253 - accuracy: 0.8777\n",
            "Epoch 4/5\n",
            "1875/1875 [==============================] - 6s 3ms/step - loss: 0.2994 - accuracy: 0.8886\n",
            "Epoch 5/5\n",
            "1875/1875 [==============================] - 6s 3ms/step - loss: 0.2848 - accuracy: 0.8934\n"
          ],
          "name": "stdout"
        },
        {
          "output_type": "execute_result",
          "data": {
            "text/plain": [
              "<tensorflow.python.keras.callbacks.History at 0x7f8773ffe890>"
            ]
          },
          "metadata": {
            "tags": []
          },
          "execution_count": 15
        }
      ]
    },
    {
      "cell_type": "code",
      "metadata": {
        "colab": {
          "base_uri": "https://localhost:8080/"
        },
        "id": "iX0uoIDVpNE3",
        "outputId": "25868c47-6648-4445-f513-323ebebeaf28"
      },
      "source": [
        "X_train_normalizado = X_train/255.0\n",
        "\n",
        "modelo = keras.Sequential([\n",
        "                           layers.Flatten(input_shape=(28,28)),\n",
        "                           layers.Dense(256, activation=tensorflow.nn.relu),\n",
        "                           layers.Dense(128, activation=tensorflow.nn.relu),\n",
        "                           layers.Dense(64, activation=tensorflow.nn.relu),\n",
        "                           layers.Dense(10, activation=tensorflow.nn.softmax)\n",
        "                           ])\n",
        "modelo.compile(optimizer='adam', loss='sparse_categorical_crossentropy', \n",
        "               metrics=['accuracy'])\n",
        "modelo.fit(X_train_normalizado, y_train, epochs=5)"
      ],
      "execution_count": 16,
      "outputs": [
        {
          "output_type": "stream",
          "text": [
            "Epoch 1/5\n",
            "1875/1875 [==============================] - 7s 4ms/step - loss: 0.4851 - accuracy: 0.8228\n",
            "Epoch 2/5\n",
            "1875/1875 [==============================] - 7s 4ms/step - loss: 0.3644 - accuracy: 0.8665\n",
            "Epoch 3/5\n",
            "1875/1875 [==============================] - 7s 4ms/step - loss: 0.3308 - accuracy: 0.8782\n",
            "Epoch 4/5\n",
            "1875/1875 [==============================] - 7s 4ms/step - loss: 0.3043 - accuracy: 0.8875\n",
            "Epoch 5/5\n",
            "1875/1875 [==============================] - 7s 4ms/step - loss: 0.2879 - accuracy: 0.8921\n"
          ],
          "name": "stdout"
        },
        {
          "output_type": "execute_result",
          "data": {
            "text/plain": [
              "<tensorflow.python.keras.callbacks.History at 0x7f877672f750>"
            ]
          },
          "metadata": {
            "tags": []
          },
          "execution_count": 16
        }
      ]
    },
    {
      "cell_type": "markdown",
      "metadata": {
        "id": "Chd_vLS4s4Jw"
      },
      "source": [
        "### Melhor modelo até agora"
      ]
    },
    {
      "cell_type": "code",
      "metadata": {
        "colab": {
          "base_uri": "https://localhost:8080/"
        },
        "id": "hBnRamX1s3Pi",
        "outputId": "96a7fece-7fa5-45a3-d892-9232a6854461"
      },
      "source": [
        "X_train_normalizado = X_train/255.0\n",
        "\n",
        "modelo = keras.Sequential([\n",
        "                           layers.Flatten(input_shape=(28,28)),\n",
        "                           layers.Dense(256, activation=tensorflow.nn.relu),\n",
        "                           layers.Dense(128, activation=tensorflow.nn.relu),\n",
        "                           layers.Dense(10, activation=tensorflow.nn.softmax)\n",
        "                           ])\n",
        "modelo.compile(optimizer='adam', loss='sparse_categorical_crossentropy',\n",
        "               metrics=['accuracy'])\n",
        "historico = modelo.fit(X_train_normalizado, y_train, epochs=30, validation_split=0.2)"
      ],
      "execution_count": 23,
      "outputs": [
        {
          "output_type": "stream",
          "text": [
            "Epoch 1/30\n",
            "1500/1500 [==============================] - 6s 3ms/step - loss: 0.4949 - accuracy: 0.8230 - val_loss: 0.3924 - val_accuracy: 0.8572\n",
            "Epoch 2/30\n",
            "1500/1500 [==============================] - 5s 3ms/step - loss: 0.3659 - accuracy: 0.8662 - val_loss: 0.3596 - val_accuracy: 0.8687\n",
            "Epoch 3/30\n",
            "1500/1500 [==============================] - 5s 3ms/step - loss: 0.3311 - accuracy: 0.8780 - val_loss: 0.3748 - val_accuracy: 0.8669\n",
            "Epoch 4/30\n",
            "1500/1500 [==============================] - 5s 3ms/step - loss: 0.3057 - accuracy: 0.8865 - val_loss: 0.3519 - val_accuracy: 0.8746\n",
            "Epoch 5/30\n",
            "1500/1500 [==============================] - 5s 3ms/step - loss: 0.2855 - accuracy: 0.8930 - val_loss: 0.3280 - val_accuracy: 0.8827\n",
            "Epoch 6/30\n",
            "1500/1500 [==============================] - 5s 3ms/step - loss: 0.2730 - accuracy: 0.8975 - val_loss: 0.3408 - val_accuracy: 0.8763\n",
            "Epoch 7/30\n",
            "1500/1500 [==============================] - 5s 3ms/step - loss: 0.2593 - accuracy: 0.9027 - val_loss: 0.3185 - val_accuracy: 0.8867\n",
            "Epoch 8/30\n",
            "1500/1500 [==============================] - 5s 3ms/step - loss: 0.2457 - accuracy: 0.9073 - val_loss: 0.3378 - val_accuracy: 0.8834\n",
            "Epoch 9/30\n",
            "1500/1500 [==============================] - 5s 3ms/step - loss: 0.2365 - accuracy: 0.9112 - val_loss: 0.3380 - val_accuracy: 0.8838\n",
            "Epoch 10/30\n",
            "1500/1500 [==============================] - 5s 3ms/step - loss: 0.2270 - accuracy: 0.9150 - val_loss: 0.3465 - val_accuracy: 0.8780\n",
            "Epoch 11/30\n",
            "1500/1500 [==============================] - 5s 3ms/step - loss: 0.2178 - accuracy: 0.9172 - val_loss: 0.3381 - val_accuracy: 0.8881\n",
            "Epoch 12/30\n",
            "1500/1500 [==============================] - 5s 3ms/step - loss: 0.2116 - accuracy: 0.9190 - val_loss: 0.3496 - val_accuracy: 0.8828\n",
            "Epoch 13/30\n",
            "1500/1500 [==============================] - 5s 3ms/step - loss: 0.2039 - accuracy: 0.9228 - val_loss: 0.3598 - val_accuracy: 0.8849\n",
            "Epoch 14/30\n",
            "1500/1500 [==============================] - 5s 3ms/step - loss: 0.1953 - accuracy: 0.9251 - val_loss: 0.3298 - val_accuracy: 0.8920\n",
            "Epoch 15/30\n",
            "1500/1500 [==============================] - 5s 3ms/step - loss: 0.1907 - accuracy: 0.9267 - val_loss: 0.3566 - val_accuracy: 0.8889\n",
            "Epoch 16/30\n",
            "1500/1500 [==============================] - 5s 3ms/step - loss: 0.1840 - accuracy: 0.9291 - val_loss: 0.3559 - val_accuracy: 0.8901\n",
            "Epoch 17/30\n",
            "1500/1500 [==============================] - 5s 3ms/step - loss: 0.1777 - accuracy: 0.9321 - val_loss: 0.3294 - val_accuracy: 0.8948\n",
            "Epoch 18/30\n",
            "1500/1500 [==============================] - 5s 3ms/step - loss: 0.1696 - accuracy: 0.9360 - val_loss: 0.3454 - val_accuracy: 0.8966\n",
            "Epoch 19/30\n",
            "1500/1500 [==============================] - 5s 3ms/step - loss: 0.1674 - accuracy: 0.9357 - val_loss: 0.3491 - val_accuracy: 0.8979\n",
            "Epoch 20/30\n",
            "1500/1500 [==============================] - 5s 3ms/step - loss: 0.1570 - accuracy: 0.9382 - val_loss: 0.3647 - val_accuracy: 0.8932\n",
            "Epoch 21/30\n",
            "1500/1500 [==============================] - 5s 3ms/step - loss: 0.1582 - accuracy: 0.9400 - val_loss: 0.3903 - val_accuracy: 0.8923\n",
            "Epoch 22/30\n",
            "1500/1500 [==============================] - 5s 3ms/step - loss: 0.1513 - accuracy: 0.9412 - val_loss: 0.3641 - val_accuracy: 0.8940\n",
            "Epoch 23/30\n",
            "1500/1500 [==============================] - 5s 3ms/step - loss: 0.1481 - accuracy: 0.9421 - val_loss: 0.3816 - val_accuracy: 0.8893\n",
            "Epoch 24/30\n",
            "1500/1500 [==============================] - 5s 3ms/step - loss: 0.1432 - accuracy: 0.9452 - val_loss: 0.4009 - val_accuracy: 0.8919\n",
            "Epoch 25/30\n",
            "1500/1500 [==============================] - 5s 3ms/step - loss: 0.1410 - accuracy: 0.9456 - val_loss: 0.4037 - val_accuracy: 0.8937\n",
            "Epoch 26/30\n",
            "1500/1500 [==============================] - 5s 3ms/step - loss: 0.1357 - accuracy: 0.9485 - val_loss: 0.3994 - val_accuracy: 0.8988\n",
            "Epoch 27/30\n",
            "1500/1500 [==============================] - 5s 3ms/step - loss: 0.1306 - accuracy: 0.9511 - val_loss: 0.4037 - val_accuracy: 0.8940\n",
            "Epoch 28/30\n",
            "1500/1500 [==============================] - 5s 3ms/step - loss: 0.1310 - accuracy: 0.9489 - val_loss: 0.4144 - val_accuracy: 0.8953\n",
            "Epoch 29/30\n",
            "1500/1500 [==============================] - 5s 3ms/step - loss: 0.1295 - accuracy: 0.9503 - val_loss: 0.4592 - val_accuracy: 0.8883\n",
            "Epoch 30/30\n",
            "1500/1500 [==============================] - 5s 3ms/step - loss: 0.1213 - accuracy: 0.9529 - val_loss: 0.4154 - val_accuracy: 0.8942\n"
          ],
          "name": "stdout"
        }
      ]
    },
    {
      "cell_type": "code",
      "metadata": {
        "colab": {
          "base_uri": "https://localhost:8080/"
        },
        "id": "uHPlNRGkw3hH",
        "outputId": "5eb990f0-c3b0-4046-d2ef-9e52b12a1800"
      },
      "source": [
        "historico.history"
      ],
      "execution_count": 24,
      "outputs": [
        {
          "output_type": "execute_result",
          "data": {
            "text/plain": [
              "{'accuracy': [0.8229583501815796,\n",
              "  0.8662083148956299,\n",
              "  0.877958357334137,\n",
              "  0.8864791393280029,\n",
              "  0.8930208086967468,\n",
              "  0.8975416421890259,\n",
              "  0.9026874899864197,\n",
              "  0.9073125123977661,\n",
              "  0.9112291932106018,\n",
              "  0.9149791598320007,\n",
              "  0.9171666502952576,\n",
              "  0.9189791679382324,\n",
              "  0.9227916598320007,\n",
              "  0.925083339214325,\n",
              "  0.926729142665863,\n",
              "  0.9290624856948853,\n",
              "  0.9321458339691162,\n",
              "  0.9360208511352539,\n",
              "  0.9356874823570251,\n",
              "  0.9382083415985107,\n",
              "  0.9400208592414856,\n",
              "  0.9411666393280029,\n",
              "  0.942145824432373,\n",
              "  0.9452083110809326,\n",
              "  0.945562481880188,\n",
              "  0.9485416412353516,\n",
              "  0.9510833621025085,\n",
              "  0.9488750100135803,\n",
              "  0.9502500295639038,\n",
              "  0.95291668176651],\n",
              " 'loss': [0.49487245082855225,\n",
              "  0.3658895790576935,\n",
              "  0.3311278522014618,\n",
              "  0.30569934844970703,\n",
              "  0.2855471074581146,\n",
              "  0.2730165719985962,\n",
              "  0.2593475878238678,\n",
              "  0.24565069377422333,\n",
              "  0.2365283966064453,\n",
              "  0.22695745527744293,\n",
              "  0.21780233085155487,\n",
              "  0.21157443523406982,\n",
              "  0.2038702815771103,\n",
              "  0.19533011317253113,\n",
              "  0.1907384991645813,\n",
              "  0.1839645355939865,\n",
              "  0.17766135931015015,\n",
              "  0.1695900857448578,\n",
              "  0.16744665801525116,\n",
              "  0.15702562034130096,\n",
              "  0.15824896097183228,\n",
              "  0.15134665369987488,\n",
              "  0.14813919365406036,\n",
              "  0.1431760936975479,\n",
              "  0.14096379280090332,\n",
              "  0.13566578924655914,\n",
              "  0.13063718378543854,\n",
              "  0.1309615671634674,\n",
              "  0.1295040249824524,\n",
              "  0.12127957493066788],\n",
              " 'val_accuracy': [0.8571666479110718,\n",
              "  0.8687499761581421,\n",
              "  0.8669166564941406,\n",
              "  0.8745833039283752,\n",
              "  0.8827499747276306,\n",
              "  0.8762500286102295,\n",
              "  0.8866666555404663,\n",
              "  0.8834166526794434,\n",
              "  0.8837500214576721,\n",
              "  0.878000020980835,\n",
              "  0.8880833387374878,\n",
              "  0.8828333616256714,\n",
              "  0.8849166631698608,\n",
              "  0.8920000195503235,\n",
              "  0.8889166712760925,\n",
              "  0.8900833129882812,\n",
              "  0.8948333263397217,\n",
              "  0.8965833187103271,\n",
              "  0.8979166746139526,\n",
              "  0.8932499885559082,\n",
              "  0.8923333287239075,\n",
              "  0.8939999938011169,\n",
              "  0.8893333077430725,\n",
              "  0.8919166922569275,\n",
              "  0.893666684627533,\n",
              "  0.8988333344459534,\n",
              "  0.8939999938011169,\n",
              "  0.8953333497047424,\n",
              "  0.8883333206176758,\n",
              "  0.8941666483879089],\n",
              " 'val_loss': [0.39242756366729736,\n",
              "  0.3596270680427551,\n",
              "  0.37478312849998474,\n",
              "  0.3518713414669037,\n",
              "  0.3279895484447479,\n",
              "  0.3407913148403168,\n",
              "  0.31851357221603394,\n",
              "  0.33775264024734497,\n",
              "  0.3380153775215149,\n",
              "  0.34653955698013306,\n",
              "  0.33813175559043884,\n",
              "  0.34956541657447815,\n",
              "  0.35978958010673523,\n",
              "  0.3297785818576813,\n",
              "  0.3566027879714966,\n",
              "  0.3558536767959595,\n",
              "  0.329375296831131,\n",
              "  0.34544238448143005,\n",
              "  0.34914183616638184,\n",
              "  0.3647269010543823,\n",
              "  0.39025765657424927,\n",
              "  0.36409419775009155,\n",
              "  0.38158369064331055,\n",
              "  0.4009384214878082,\n",
              "  0.4037187397480011,\n",
              "  0.3994280993938446,\n",
              "  0.40368330478668213,\n",
              "  0.4143722653388977,\n",
              "  0.45915088057518005,\n",
              "  0.4153819680213928]}"
            ]
          },
          "metadata": {
            "tags": []
          },
          "execution_count": 24
        }
      ]
    },
    {
      "cell_type": "code",
      "metadata": {
        "colab": {
          "base_uri": "https://localhost:8080/",
          "height": 521
        },
        "id": "V3KNt6aWyvAx",
        "outputId": "7f2538d4-55d8-4cd7-bcfb-98db62ea6952"
      },
      "source": [
        "fig, ax = plt.subplots(figsize=(12,8))\n",
        "ax.plot(historico.history['accuracy'])\n",
        "ax.plot(historico.history['val_accuracy'])\n",
        "ax.set_title('Acurácia por epochs', fontsize=18)\n",
        "ax.set_xlabel('Epoch', fontsize=14)\n",
        "ax.set_ylabel('Acurácia', fontsize=14)\n",
        "plt.legend(['Treino', 'Validação'], fontsize=14)\n",
        "plt.show()"
      ],
      "execution_count": 25,
      "outputs": [
        {
          "output_type": "display_data",
          "data": {
            "image/png": "[encoded data removed]",
            "text/plain": [
              "<Figure size 864x576 with 1 Axes>"
            ]
          },
          "metadata": {
            "tags": [],
            "needs_background": "light"
          }
        }
      ]
    },
    {
      "cell_type": "code",
      "metadata": {
        "colab": {
          "base_uri": "https://localhost:8080/",
          "height": 521
        },
        "id": "ZE_802xCznXL",
        "outputId": "dd817c1b-b3cd-4fc2-ca54-8f69532e3d04"
      },
      "source": [
        "fig, ax = plt.subplots(figsize=(12,8))\n",
        "ax.plot(historico.history['loss'])\n",
        "ax.plot(historico.history['val_loss'])\n",
        "ax.set_title('Per da por epochs', fontsize=18)\n",
        "ax.set_xlabel('Epoch', fontsize=14)\n",
        "ax.set_ylabel('Perda', fontsize=14)\n",
        "plt.legend(['Treino', 'Validação'], fontsize=14)\n",
        "plt.show()"
      ],
      "execution_count": 26,
      "outputs": [
        {
          "output_type": "display_data",
          "data": {
            "image/png": "[encoded data removed]",
            "text/plain": [
              "<Figure size 864x576 with 1 Axes>"
            ]
          },
          "metadata": {
            "tags": [],
            "needs_background": "light"
          }
        }
      ]
    },
    {
      "cell_type": "code",
      "metadata": {
        "colab": {
          "base_uri": "https://localhost:8080/"
        },
        "id": "R04-eiEYqM2l",
        "outputId": "d24d15b2-b345-4d77-dce8-e6540d97e349"
      },
      "source": [
        "testes = modelo.predict(X_test/255)\n",
        "print(f'O resultado do teste: {np.argmax(testes[0])}')\n",
        "print(f'O número da imagem de teste: {y_test[0]}')"
      ],
      "execution_count": 27,
      "outputs": [
        {
          "output_type": "stream",
          "text": [
            "O resultado do teste: 9\n",
            "O número da imagem de teste: 9\n"
          ],
          "name": "stdout"
        }
      ]
    },
    {
      "cell_type": "code",
      "metadata": {
        "colab": {
          "base_uri": "https://localhost:8080/"
        },
        "id": "N3s8-LJftGrv",
        "outputId": "e849279c-3d29-44fc-d2ba-cf6240dc2d9a"
      },
      "source": [
        "print(f'O resultado do teste: {np.argmax(testes[1])}')\n",
        "print(f'O número da imagem de teste: {y_test[1]}')"
      ],
      "execution_count": 28,
      "outputs": [
        {
          "output_type": "stream",
          "text": [
            "O resultado do teste: 2\n",
            "O número da imagem de teste: 2\n"
          ],
          "name": "stdout"
        }
      ]
    },
    {
      "cell_type": "code",
      "metadata": {
        "colab": {
          "base_uri": "https://localhost:8080/"
        },
        "id": "NNWXlJRyuJJS",
        "outputId": "daf7040d-19a7-42a2-d96b-4e442d931eb1"
      },
      "source": [
        "perda_teste, acuracia_teste = modelo.evaluate(X_test/255, y_test)\n",
        "\n",
        "print(f'Perda do teste: {perda_teste}')\n",
        "print(f'Acurácia do teste: {acuracia_teste}')"
      ],
      "execution_count": 29,
      "outputs": [
        {
          "output_type": "stream",
          "text": [
            "313/313 [==============================] - 1s 2ms/step - loss: 0.4470 - accuracy: 0.8892\n",
            "Perda do teste: 0.44697773456573486\n",
            "Acurácia do teste: 0.88919997215271\n"
          ],
          "name": "stdout"
        }
      ]
    },
    {
      "cell_type": "markdown",
      "metadata": {
        "id": "rV9iWFhfKOPE"
      },
      "source": [
        "### Adicionando uma camada Dropout\n",
        "https://keras.io/api/layers/regularization_layers/dropout/\n",
        "\n",
        "Tecnica que ajuda quando o modelo está overfitting, o DropOut seleciona alguns neuronios que são ignorados durante o treinamento e com isso "
      ]
    },
    {
      "cell_type": "code",
      "metadata": {
        "colab": {
          "base_uri": "https://localhost:8080/"
        },
        "id": "z5q8GAQ4Iu-A",
        "outputId": "f1c1b204-a2eb-4165-944f-42136852a930"
      },
      "source": [
        "X_train_normalizado = X_train/255.0\n",
        "\n",
        "modelo = keras.Sequential([\n",
        "                           layers.Flatten(input_shape=(28,28)),\n",
        "                           layers.Dense(256, activation=tensorflow.nn.relu),\n",
        "                           layers.Dense(128, activation=tensorflow.nn.relu),\n",
        "                           layers.Dropout(0.2 ),\n",
        "                           layers.Dense(10, activation=tensorflow.nn.softmax)\n",
        "                           ])\n",
        "modelo.compile(optimizer='adam', loss='sparse_categorical_crossentropy',\n",
        "               metrics=['accuracy'])\n",
        "historico = modelo.fit(X_train_normalizado, y_train, epochs=15, validation_split=0.2)"
      ],
      "execution_count": 37,
      "outputs": [
        {
          "output_type": "stream",
          "text": [
            "Epoch 1/15\n",
            "1500/1500 [==============================] - 5s 3ms/step - loss: 0.5234 - accuracy: 0.8119 - val_loss: 0.4528 - val_accuracy: 0.8277\n",
            "Epoch 2/15\n",
            "1500/1500 [==============================] - 5s 3ms/step - loss: 0.3855 - accuracy: 0.8597 - val_loss: 0.4177 - val_accuracy: 0.8493\n",
            "Epoch 3/15\n",
            "1500/1500 [==============================] - 5s 3ms/step - loss: 0.3462 - accuracy: 0.8720 - val_loss: 0.3741 - val_accuracy: 0.8702\n",
            "Epoch 4/15\n",
            "1500/1500 [==============================] - 5s 3ms/step - loss: 0.3202 - accuracy: 0.8809 - val_loss: 0.3608 - val_accuracy: 0.8695\n",
            "Epoch 5/15\n",
            "1500/1500 [==============================] - 5s 3ms/step - loss: 0.3026 - accuracy: 0.8877 - val_loss: 0.3299 - val_accuracy: 0.8802\n",
            "Epoch 6/15\n",
            "1500/1500 [==============================] - 5s 3ms/step - loss: 0.2840 - accuracy: 0.8941 - val_loss: 0.3329 - val_accuracy: 0.8825\n",
            "Epoch 7/15\n",
            "1500/1500 [==============================] - 5s 3ms/step - loss: 0.2731 - accuracy: 0.8992 - val_loss: 0.3170 - val_accuracy: 0.8893\n",
            "Epoch 8/15\n",
            "1500/1500 [==============================] - 5s 3ms/step - loss: 0.2637 - accuracy: 0.9022 - val_loss: 0.3070 - val_accuracy: 0.8900\n",
            "Epoch 9/15\n",
            "1500/1500 [==============================] - 5s 4ms/step - loss: 0.2556 - accuracy: 0.9036 - val_loss: 0.3383 - val_accuracy: 0.8838\n",
            "Epoch 10/15\n",
            "1500/1500 [==============================] - 5s 4ms/step - loss: 0.2455 - accuracy: 0.9074 - val_loss: 0.3187 - val_accuracy: 0.8884\n",
            "Epoch 11/15\n",
            "1500/1500 [==============================] - 5s 3ms/step - loss: 0.2368 - accuracy: 0.9111 - val_loss: 0.3346 - val_accuracy: 0.8860\n",
            "Epoch 12/15\n",
            "1500/1500 [==============================] - 5s 3ms/step - loss: 0.2289 - accuracy: 0.9129 - val_loss: 0.3122 - val_accuracy: 0.8951\n",
            "Epoch 13/15\n",
            "1500/1500 [==============================] - 5s 3ms/step - loss: 0.2196 - accuracy: 0.9163 - val_loss: 0.3454 - val_accuracy: 0.8833\n",
            "Epoch 14/15\n",
            "1500/1500 [==============================] - 5s 4ms/step - loss: 0.2156 - accuracy: 0.9187 - val_loss: 0.3252 - val_accuracy: 0.8907\n",
            "Epoch 15/15\n",
            "1500/1500 [==============================] - 5s 3ms/step - loss: 0.2067 - accuracy: 0.9225 - val_loss: 0.3456 - val_accuracy: 0.8898\n"
          ],
          "name": "stdout"
        }
      ]
    },
    {
      "cell_type": "code",
      "metadata": {
        "id": "HlgwB5inuQEn",
        "colab": {
          "base_uri": "https://localhost:8080/",
          "height": 521
        },
        "outputId": "377fb5ce-bacb-4722-d3e0-8464055ed38e"
      },
      "source": [
        "fig, ax = plt.subplots(figsize=(12,8))\n",
        "ax.plot(historico.history['accuracy'])\n",
        "ax.plot(historico.history['val_accuracy'])\n",
        "ax.set_title('Acurácia por epochs', fontsize=18)\n",
        "ax.set_xlabel('Epoch', fontsize=14)\n",
        "ax.set_ylabel('Acurácia', fontsize=14)\n",
        "plt.legend(['Treino', 'Validação'], fontsize=14)\n",
        "plt.show()"
      ],
      "execution_count": 38,
      "outputs": [
        {
          "output_type": "display_data",
          "data": {
            "image/png": "[encoded data removed]",
            "text/plain": [
              "<Figure size 864x576 with 1 Axes>"
            ]
          },
          "metadata": {
            "tags": [],
            "needs_background": "light"
          }
        }
      ]
    },
    {
      "cell_type": "code",
      "metadata": {
        "colab": {
          "base_uri": "https://localhost:8080/",
          "height": 521
        },
        "id": "r4NMnnhiKvhn",
        "outputId": "7e49ea5b-a1fc-4c20-8fee-b4d0ac534efe"
      },
      "source": [
        "fig, ax = plt.subplots(figsize=(12,8))\n",
        "ax.plot(historico.history['loss'])\n",
        "ax.plot(historico.history['val_loss'])\n",
        "ax.set_title('Per da por epochs', fontsize=18)\n",
        "ax.set_xlabel('Epoch', fontsize=14)\n",
        "ax.set_ylabel('Perda', fontsize=14)\n",
        "plt.legend(['Treino', 'Validação'], fontsize=14)\n",
        "plt.show()"
      ],
      "execution_count": 39,
      "outputs": [
        {
          "output_type": "display_data",
          "data": {
            "image/png": "[encoded data removed]",
            "text/plain": [
              "<Figure size 864x576 with 1 Axes>"
            ]
          },
          "metadata": {
            "tags": [],
            "needs_background": "light"
          }
        }
      ]
    },
    {
      "cell_type": "code",
      "metadata": {
        "id": "waNkwdgGL0zS"
      },
      "source": [
        "modelo.save('modelo.h5')\n",
        "modelo_salvo = load_model('modelo.h5')"
      ],
      "execution_count": 43,
      "outputs": []
    },
    {
      "cell_type": "code",
      "metadata": {
        "colab": {
          "base_uri": "https://localhost:8080/"
        },
        "id": "bcE3xbk7NEC3",
        "outputId": "ebfd721a-d8d6-4b9f-fc6c-d850b41df917"
      },
      "source": [
        "testes = modelo_salvo.predict(X_test/255)\n",
        "print(f'O resultado do teste: {np.argmax(testes[0])}')\n",
        "print(f'O número da imagem de teste: {y_test[0]}')"
      ],
      "execution_count": 44,
      "outputs": [
        {
          "output_type": "stream",
          "text": [
            "O resultado do teste: 9\n",
            "O número da imagem de teste: 9\n"
          ],
          "name": "stdout"
        }
      ]
    },
    {
      "cell_type": "markdown",
      "metadata": {
        "id": "DjLy9Q9mSuyO"
      },
      "source": [
        "## Modelo final criado, compilado, treinado e normalizado"
      ]
    },
    {
      "cell_type": "code",
      "metadata": {
        "id": "sL73yllpStjq"
      },
      "source": [
        "X_train_normalizado = X_train/255.0\n",
        "\n",
        "modelo = keras.Sequential([\n",
        "                           layers.Flatten(input_shape=(28,28)),\n",
        "                           layers.Dense(256, activation=tensorflow.nn.relu),\n",
        "                           layers.Dense(128, activation=tensorflow.nn.relu),\n",
        "                           layers.Dropout(0.2 ),\n",
        "                           layers.Dense(10, activation=tensorflow.nn.softmax)\n",
        "                           ])\n",
        "modelo.compile(optimizer='adam', loss='sparse_categorical_crossentropy',\n",
        "               metrics=['accuracy'])\n",
        "historico = modelo.fit(X_train_normalizado, y_train, epochs=15, validation_split=0.2)"
      ],
      "execution_count": null,
      "outputs": []
    },
    {
      "cell_type": "markdown",
      "metadata": {
        "id": "UJgh2Qv9S5EC"
      },
      "source": [
        "## Salvado o modelo final"
      ]
    },
    {
      "cell_type": "code",
      "metadata": {
        "colab": {
          "base_uri": "https://localhost:8080/"
        },
        "id": "HjZE6vNSNZWP",
        "outputId": "e6d08a73-334a-482b-b142-1589a0e4cfd6"
      },
      "source": [
        "perda_teste, acuracia_teste = modelo_salvo.evaluate(X_test/255, y_test)\n",
        "\n",
        "print(f'Perda do teste: {perda_teste}')\n",
        "print(f'Acurácia do teste: {acuracia_teste}')"
      ],
      "execution_count": 46,
      "outputs": [
        {
          "output_type": "stream",
          "text": [
            "313/313 [==============================] - 0s 1ms/step - loss: 0.3763 - accuracy: 0.8832\n",
            "Perda do teste: 0.3763449192047119\n",
            "Acurácia do teste: 0.8831999897956848\n"
          ],
          "name": "stdout"
        }
      ]
    },
    {
      "cell_type": "code",
      "metadata": {
        "id": "FTF5866DNdur"
      },
      "source": [
        ""
      ],
      "execution_count": null,
      "outputs": []
    }
  ]
}