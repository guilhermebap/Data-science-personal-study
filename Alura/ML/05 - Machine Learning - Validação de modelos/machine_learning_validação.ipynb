{
 "cells": [
  {
   "cell_type": "markdown",
   "id": "d66a1fcd",
   "metadata": {},
   "source": [
    "# Machine Learning Validação de modelos\n",
    "\n",
    "## Objetivos\n",
    "* Entenda os perigos do hold out\n",
    "* Aplique técnicas de validação cruzada (cross validation)\n",
    "* Utilize a aleatoriedade a seu favor\n",
    "* Entenda quando usar diversas estratégias diferentes de validação cruzada\n",
    "* KFold, StratifiedKFold, GroupKFold\n",
    "* Trabalhe na previsão de novos grupos quando nem todos os dados são leituras independentes entre si\n",
    "* Utilize um pipeline para treino e validação\n"
   ]
  },
  {
   "cell_type": "markdown",
   "id": "de1f0f5b",
   "metadata": {},
   "source": [
    "## Importando as bibliotecas necessárias"
   ]
  },
  {
   "cell_type": "code",
   "execution_count": 107,
   "id": "1ec981c9",
   "metadata": {},
   "outputs": [],
   "source": [
    "import numpy as np\n",
    "import pandas as pd\n",
    "import matplotlib.pyplot as plt\n",
    "import seaborn as sns\n",
    "from sklearn.model_selection import train_test_split, cross_validate, KFold, StratifiedKFold, GroupKFold\n",
    "from sklearn.svm import SVC\n",
    "from sklearn.metrics import accuracy_score\n",
    "from sklearn.tree import DecisionTreeClassifier\n",
    "from sklearn.dummy import DummyClassifier\n",
    "from sklearn.preprocessing import StandardScaler\n",
    "from sklearn.pipeline import Pipeline"
   ]
  },
  {
   "cell_type": "markdown",
   "id": "4e5940b6",
   "metadata": {},
   "source": [
    "## Importando o dataset e explorando os dados"
   ]
  },
  {
   "cell_type": "code",
   "execution_count": 7,
   "id": "1143b7c8",
   "metadata": {},
   "outputs": [
    {
     "data": {
      "text/html": [
       "<div>\n",
       "<style scoped>\n",
       "    .dataframe tbody tr th:only-of-type {\n",
       "        vertical-align: middle;\n",
       "    }\n",
       "\n",
       "    .dataframe tbody tr th {\n",
       "        vertical-align: top;\n",
       "    }\n",
       "\n",
       "    .dataframe thead th {\n",
       "        text-align: right;\n",
       "    }\n",
       "</style>\n",
       "<table border=\"1\" class=\"dataframe\">\n",
       "  <thead>\n",
       "    <tr style=\"text-align: right;\">\n",
       "      <th></th>\n",
       "      <th>preco</th>\n",
       "      <th>vendido</th>\n",
       "      <th>idade_do_modelo</th>\n",
       "      <th>km_por_ano</th>\n",
       "    </tr>\n",
       "  </thead>\n",
       "  <tbody>\n",
       "    <tr>\n",
       "      <th>0</th>\n",
       "      <td>30941.02</td>\n",
       "      <td>1</td>\n",
       "      <td>18</td>\n",
       "      <td>35085.22134</td>\n",
       "    </tr>\n",
       "    <tr>\n",
       "      <th>1</th>\n",
       "      <td>40557.96</td>\n",
       "      <td>1</td>\n",
       "      <td>20</td>\n",
       "      <td>12622.05362</td>\n",
       "    </tr>\n",
       "    <tr>\n",
       "      <th>2</th>\n",
       "      <td>89627.50</td>\n",
       "      <td>0</td>\n",
       "      <td>12</td>\n",
       "      <td>11440.79806</td>\n",
       "    </tr>\n",
       "    <tr>\n",
       "      <th>3</th>\n",
       "      <td>95276.14</td>\n",
       "      <td>0</td>\n",
       "      <td>3</td>\n",
       "      <td>43167.32682</td>\n",
       "    </tr>\n",
       "    <tr>\n",
       "      <th>4</th>\n",
       "      <td>117384.68</td>\n",
       "      <td>1</td>\n",
       "      <td>4</td>\n",
       "      <td>12770.11290</td>\n",
       "    </tr>\n",
       "  </tbody>\n",
       "</table>\n",
       "</div>"
      ],
      "text/plain": [
       "       preco  vendido  idade_do_modelo   km_por_ano\n",
       "0   30941.02        1               18  35085.22134\n",
       "1   40557.96        1               20  12622.05362\n",
       "2   89627.50        0               12  11440.79806\n",
       "3   95276.14        0                3  43167.32682\n",
       "4  117384.68        1                4  12770.11290"
      ]
     },
     "execution_count": 7,
     "metadata": {},
     "output_type": "execute_result"
    }
   ],
   "source": [
    "uri = \"https://gist.githubusercontent.com/guilhermesilveira/e99a526b2e7ccc6c3b70f53db43a87d2/raw/1605fc74aa778066bf2e6695e24d53cf65f2f447/machine-learning-carros-simulacao.csv\"\n",
    "\n",
    "df = pd.read_csv(uri, index_col=0)\n",
    "df.head()"
   ]
  },
  {
   "cell_type": "code",
   "execution_count": 80,
   "id": "537fb7ec",
   "metadata": {},
   "outputs": [
    {
     "name": "stdout",
     "output_type": "stream",
     "text": [
      "Esses dados possuem 10000 amostras e 4 atributos\n"
     ]
    }
   ],
   "source": [
    "print(f'Esses dados possuem {df.shape[0]} amostras e {df.shape[1]} atributos')"
   ]
  },
  {
   "cell_type": "code",
   "execution_count": 10,
   "id": "44566258",
   "metadata": {},
   "outputs": [],
   "source": [
    "X = df.drop('vendido', axis=1)\n",
    "y = df['vendido']\n",
    "\n",
    "seed = 158020\n",
    "np.random.seed(seed)\n",
    "\n",
    "X_train, X_test, y_train, y_test = train_test_split(X, y, test_size=0.25, stratify=y)"
   ]
  },
  {
   "cell_type": "markdown",
   "id": "68ae19c0",
   "metadata": {},
   "source": [
    "### Baseline"
   ]
  },
  {
   "cell_type": "code",
   "execution_count": 14,
   "id": "96a4b2c1",
   "metadata": {
    "scrolled": true
   },
   "outputs": [
    {
     "name": "stdout",
     "output_type": "stream",
     "text": [
      "A Acurácia do modelo dummy stratified é: 58.00%\n"
     ]
    }
   ],
   "source": [
    "seed = 158020\n",
    "np.random.seed(seed)\n",
    "\n",
    "dummy = DummyClassifier()\n",
    "dummy.fit(X_train, y_train)\n",
    "accuracy = dummy.score(X_test, y_test)\n",
    "\n",
    "print(f'A Acurácia do modelo dummy stratified é: {accuracy:0.2%}')"
   ]
  },
  {
   "cell_type": "markdown",
   "id": "a444c27f",
   "metadata": {},
   "source": [
    "### Decision Tree"
   ]
  },
  {
   "cell_type": "code",
   "execution_count": 16,
   "id": "a7409a47",
   "metadata": {},
   "outputs": [
    {
     "name": "stdout",
     "output_type": "stream",
     "text": [
      "A Acurácia do modelo dummy stratified é: 71.92%\n"
     ]
    }
   ],
   "source": [
    "seed = 158020\n",
    "np.random.seed(seed)\n",
    "\n",
    "modelo = DecisionTreeClassifier(max_depth=2)\n",
    "modelo.fit(X_train, y_train)\n",
    "accuracy = modelo.score(X_test, y_test)\n",
    "\n",
    "print(f'A Acurácia do modelo dummy stratified é: {accuracy:0.2%}')"
   ]
  },
  {
   "cell_type": "markdown",
   "id": "d2003595",
   "metadata": {},
   "source": [
    "### Cross Validation"
   ]
  },
  {
   "cell_type": "code",
   "execution_count": 22,
   "id": "79d8414d",
   "metadata": {},
   "outputs": [
    {
     "data": {
      "text/plain": [
       "array([0.75704859, 0.7629763 , 0.75337534])"
      ]
     },
     "execution_count": 22,
     "metadata": {},
     "output_type": "execute_result"
    }
   ],
   "source": [
    "modelo = DecisionTreeClassifier(max_depth=2)\n",
    "results = cross_validate(modelo, X, y, cv=3)\n",
    "results['test_score']"
   ]
  },
  {
   "cell_type": "code",
   "execution_count": 23,
   "id": "e52227bc",
   "metadata": {},
   "outputs": [
    {
     "data": {
      "text/plain": [
       "0.7578000751484867"
      ]
     },
     "execution_count": 23,
     "metadata": {},
     "output_type": "execute_result"
    }
   ],
   "source": [
    "modelo = DecisionTreeClassifier(max_depth=2)\n",
    "results = cross_validate(modelo, X, y, cv=3)\n",
    "results['test_score'].mean()"
   ]
  },
  {
   "cell_type": "code",
   "execution_count": 59,
   "id": "41390544",
   "metadata": {},
   "outputs": [],
   "source": [
    "def imprime_resultados(results, cv):\n",
    "    results_media = results['test_score'].mean()\n",
    "    results_std = results['test_score'].std()\n",
    "    print(f'A média é das acurácias é: {results_media:0.2%}')\n",
    "    print(f'A Acurácia do modelo para cv = {cv} é: [{results_media - 2 * results_std:0.2%} {results_media + 2 * results_std:0.2%}]')"
   ]
  },
  {
   "cell_type": "code",
   "execution_count": 60,
   "id": "9f6decc8",
   "metadata": {},
   "outputs": [
    {
     "name": "stdout",
     "output_type": "stream",
     "text": [
      "A média é das acurácias é: 75.78%\n",
      "A Acurácia do modelo para cv = 3 é: [74.99% 76.57%]\n"
     ]
    }
   ],
   "source": [
    "SEED = 301\n",
    "np.random.seed(SEED)\n",
    "\n",
    "k = 3\n",
    "modelo = DecisionTreeClassifier(max_depth=2)\n",
    "results = cross_validate(modelo, X, y, cv=k)\n",
    "imprime_resultados(results, k)"
   ]
  },
  {
   "cell_type": "code",
   "execution_count": 61,
   "id": "0c7dfd80",
   "metadata": {},
   "outputs": [
    {
     "name": "stdout",
     "output_type": "stream",
     "text": [
      "A média é das acurácias é: 75.78%\n",
      "A Acurácia do modelo para cv = 5 é: [75.21% 76.35%]\n"
     ]
    }
   ],
   "source": [
    "SEED = 301\n",
    "np.random.seed(SEED)\n",
    "\n",
    "k = 5\n",
    "modelo = DecisionTreeClassifier(max_depth=2)\n",
    "results = cross_validate(modelo, X, y, cv=k)\n",
    "imprime_resultados(results, k)"
   ]
  },
  {
   "cell_type": "code",
   "execution_count": 62,
   "id": "283408b8",
   "metadata": {},
   "outputs": [
    {
     "name": "stdout",
     "output_type": "stream",
     "text": [
      "A média é das acurácias é: 75.78%\n",
      "A Acurácia do modelo para cv = 10 é: [74.24% 77.32%]\n"
     ]
    }
   ],
   "source": [
    "SEED = 301\n",
    "np.random.seed(SEED)\n",
    "\n",
    "k = 10\n",
    "modelo = DecisionTreeClassifier(max_depth=2)\n",
    "results = cross_validate(modelo, X, y, cv=k)\n",
    "imprime_resultados(results, k)"
   ]
  },
  {
   "cell_type": "markdown",
   "id": "ee630540",
   "metadata": {},
   "source": [
    "### Aleatoriedade no cross validate"
   ]
  },
  {
   "cell_type": "code",
   "execution_count": 63,
   "id": "88e86d85",
   "metadata": {},
   "outputs": [
    {
     "name": "stdout",
     "output_type": "stream",
     "text": [
      "A média é das acurácias é: 75.78%\n",
      "A Acurácia do modelo para cv = 10 é: [74.37% 77.19%]\n"
     ]
    }
   ],
   "source": [
    "SEED = 301\n",
    "np.random.seed(SEED)\n",
    "\n",
    "k=10\n",
    "cv = KFold(n_splits=k)\n",
    "modelo = DecisionTreeClassifier(max_depth=2)\n",
    "results = cross_validate(modelo, X, y, cv=cv)\n",
    "imprime_resultados(results, k)"
   ]
  },
  {
   "cell_type": "code",
   "execution_count": 65,
   "id": "72cdeb06",
   "metadata": {},
   "outputs": [
    {
     "name": "stdout",
     "output_type": "stream",
     "text": [
      "A média é das acurácias é: 75.76%\n",
      "A Acurácia do modelo para cv = 10 é: [73.26% 78.26%]\n"
     ]
    }
   ],
   "source": [
    "SEED = 301\n",
    "np.random.seed(SEED)\n",
    "\n",
    "k=10\n",
    "cv = KFold(n_splits=k, shuffle=True)\n",
    "modelo = DecisionTreeClassifier(max_depth=2)\n",
    "results = cross_validate(modelo, X, y, cv=cv)\n",
    "imprime_resultados(results, k)"
   ]
  },
  {
   "cell_type": "code",
   "execution_count": 66,
   "id": "c6ed2eb7",
   "metadata": {},
   "outputs": [
    {
     "data": {
      "text/plain": [
       "{'fit_time': array([0.00899792, 0.00899982, 0.0090003 , 0.00800157, 0.00900006,\n",
       "        0.00900054, 0.00799966, 0.00899959, 0.00800109, 0.00799823]),\n",
       " 'score_time': array([0.00200391, 0.00299931, 0.00299978, 0.00199938, 0.00200033,\n",
       "        0.00200176, 0.00200129, 0.00200057, 0.00300169, 0.00300145]),\n",
       " 'test_score': array([0.746, 0.773, 0.751, 0.762, 0.756, 0.759, 0.756, 0.753, 0.759,\n",
       "        0.763])}"
      ]
     },
     "execution_count": 66,
     "metadata": {},
     "output_type": "execute_result"
    }
   ],
   "source": [
    "SEED = 301\n",
    "np.random.seed(SEED)\n",
    "\n",
    "k=10\n",
    "cv = KFold(n_splits=k, shuffle=True)\n",
    "modelo = DecisionTreeClassifier(max_depth=2)\n",
    "results = cross_validate(modelo, X, y, cv=cv)\n",
    "imprime_resultados(results, k)"
   ]
  },
  {
   "cell_type": "markdown",
   "id": "1ce7ce9e",
   "metadata": {},
   "source": [
    "### Simulando um caso com muito azar onde os dados estão ordenados"
   ]
  },
  {
   "cell_type": "code",
   "execution_count": 72,
   "id": "dc1a5d14",
   "metadata": {},
   "outputs": [
    {
     "data": {
      "text/html": [
       "<div>\n",
       "<style scoped>\n",
       "    .dataframe tbody tr th:only-of-type {\n",
       "        vertical-align: middle;\n",
       "    }\n",
       "\n",
       "    .dataframe tbody tr th {\n",
       "        vertical-align: top;\n",
       "    }\n",
       "\n",
       "    .dataframe thead th {\n",
       "        text-align: right;\n",
       "    }\n",
       "</style>\n",
       "<table border=\"1\" class=\"dataframe\">\n",
       "  <thead>\n",
       "    <tr style=\"text-align: right;\">\n",
       "      <th></th>\n",
       "      <th>preco</th>\n",
       "      <th>vendido</th>\n",
       "      <th>idade_do_modelo</th>\n",
       "      <th>km_por_ano</th>\n",
       "    </tr>\n",
       "  </thead>\n",
       "  <tbody>\n",
       "    <tr>\n",
       "      <th>4999</th>\n",
       "      <td>74023.29</td>\n",
       "      <td>0</td>\n",
       "      <td>12</td>\n",
       "      <td>24812.80412</td>\n",
       "    </tr>\n",
       "    <tr>\n",
       "      <th>5322</th>\n",
       "      <td>84843.49</td>\n",
       "      <td>0</td>\n",
       "      <td>13</td>\n",
       "      <td>23095.63834</td>\n",
       "    </tr>\n",
       "    <tr>\n",
       "      <th>5319</th>\n",
       "      <td>83100.27</td>\n",
       "      <td>0</td>\n",
       "      <td>19</td>\n",
       "      <td>36240.72746</td>\n",
       "    </tr>\n",
       "    <tr>\n",
       "      <th>5316</th>\n",
       "      <td>87932.13</td>\n",
       "      <td>0</td>\n",
       "      <td>16</td>\n",
       "      <td>32249.56426</td>\n",
       "    </tr>\n",
       "    <tr>\n",
       "      <th>5315</th>\n",
       "      <td>77937.01</td>\n",
       "      <td>0</td>\n",
       "      <td>15</td>\n",
       "      <td>28414.50704</td>\n",
       "    </tr>\n",
       "    <tr>\n",
       "      <th>...</th>\n",
       "      <td>...</td>\n",
       "      <td>...</td>\n",
       "      <td>...</td>\n",
       "      <td>...</td>\n",
       "    </tr>\n",
       "    <tr>\n",
       "      <th>5491</th>\n",
       "      <td>71910.43</td>\n",
       "      <td>1</td>\n",
       "      <td>9</td>\n",
       "      <td>25778.40812</td>\n",
       "    </tr>\n",
       "    <tr>\n",
       "      <th>1873</th>\n",
       "      <td>30456.53</td>\n",
       "      <td>1</td>\n",
       "      <td>6</td>\n",
       "      <td>15468.97608</td>\n",
       "    </tr>\n",
       "    <tr>\n",
       "      <th>1874</th>\n",
       "      <td>69342.41</td>\n",
       "      <td>1</td>\n",
       "      <td>11</td>\n",
       "      <td>16909.33538</td>\n",
       "    </tr>\n",
       "    <tr>\n",
       "      <th>5499</th>\n",
       "      <td>70520.39</td>\n",
       "      <td>1</td>\n",
       "      <td>16</td>\n",
       "      <td>19622.68262</td>\n",
       "    </tr>\n",
       "    <tr>\n",
       "      <th>0</th>\n",
       "      <td>30941.02</td>\n",
       "      <td>1</td>\n",
       "      <td>18</td>\n",
       "      <td>35085.22134</td>\n",
       "    </tr>\n",
       "  </tbody>\n",
       "</table>\n",
       "<p>10000 rows × 4 columns</p>\n",
       "</div>"
      ],
      "text/plain": [
       "         preco  vendido  idade_do_modelo   km_por_ano\n",
       "4999  74023.29        0               12  24812.80412\n",
       "5322  84843.49        0               13  23095.63834\n",
       "5319  83100.27        0               19  36240.72746\n",
       "5316  87932.13        0               16  32249.56426\n",
       "5315  77937.01        0               15  28414.50704\n",
       "...        ...      ...              ...          ...\n",
       "5491  71910.43        1                9  25778.40812\n",
       "1873  30456.53        1                6  15468.97608\n",
       "1874  69342.41        1               11  16909.33538\n",
       "5499  70520.39        1               16  19622.68262\n",
       "0     30941.02        1               18  35085.22134\n",
       "\n",
       "[10000 rows x 4 columns]"
      ]
     },
     "execution_count": 72,
     "metadata": {},
     "output_type": "execute_result"
    }
   ],
   "source": [
    "df_azar = df.sort_values('vendido')\n",
    "X_azar = df_azar.drop('vendido', axis=1)\n",
    "y_azar = df_azar['vendido']\n",
    "\n",
    "df_azar"
   ]
  },
  {
   "cell_type": "code",
   "execution_count": 73,
   "id": "9468b7f5",
   "metadata": {},
   "outputs": [
    {
     "name": "stdout",
     "output_type": "stream",
     "text": [
      "A média é das acurácias é: 57.84%\n",
      "A Acurácia do modelo para cv = 10 é: [34.29% 81.39%]\n"
     ]
    }
   ],
   "source": [
    "SEED = 301\n",
    "np.random.seed(SEED)\n",
    "\n",
    "k=10\n",
    "cv = KFold(n_splits=k)\n",
    "modelo = DecisionTreeClassifier(max_depth=2)\n",
    "results = cross_validate(modelo, X_azar, y_azar, cv=cv)\n",
    "imprime_resultados(results, k)"
   ]
  },
  {
   "cell_type": "markdown",
   "id": "b44157ff",
   "metadata": {},
   "source": [
    "### Resolvendo esse problema utilizando o metodo shuffle do KFold"
   ]
  },
  {
   "cell_type": "code",
   "execution_count": 74,
   "id": "d8677c06",
   "metadata": {},
   "outputs": [
    {
     "name": "stdout",
     "output_type": "stream",
     "text": [
      "A média é das acurácias é: 75.78%\n",
      "A Acurácia do modelo para cv = 10 é: [72.30% 79.26%]\n"
     ]
    }
   ],
   "source": [
    "SEED = 301\n",
    "np.random.seed(SEED)\n",
    "\n",
    "k=10\n",
    "cv = KFold(n_splits=k, shuffle=True)\n",
    "modelo = DecisionTreeClassifier(max_depth=2)\n",
    "results = cross_validate(modelo, X_azar, y_azar, cv=cv)\n",
    "imprime_resultados(results, k)"
   ]
  },
  {
   "cell_type": "markdown",
   "id": "79d47f7d",
   "metadata": {},
   "source": [
    "### Resolvendo esse problema utilizando o StratifiedKFold"
   ]
  },
  {
   "cell_type": "code",
   "execution_count": 78,
   "id": "8a19b648",
   "metadata": {},
   "outputs": [
    {
     "name": "stdout",
     "output_type": "stream",
     "text": [
      "A média é das acurácias é: 75.78%\n",
      "A Acurácia do modelo para cv = 10 é: [73.83% 77.73%]\n"
     ]
    }
   ],
   "source": [
    "SEED = 301\n",
    "np.random.seed(SEED)\n",
    "\n",
    "k=10\n",
    "cv = StratifiedKFold(n_splits=k)\n",
    "modelo = DecisionTreeClassifier(max_depth=2)\n",
    "results = cross_validate(modelo, X_azar, y_azar, cv=cv)\n",
    "imprime_resultados(results, k)"
   ]
  },
  {
   "cell_type": "code",
   "execution_count": 77,
   "id": "1d987f3f",
   "metadata": {},
   "outputs": [
    {
     "name": "stdout",
     "output_type": "stream",
     "text": [
      "A média é das acurácias é: 75.78%\n",
      "A Acurácia do modelo para cv = 10 é: [73.55% 78.01%]\n"
     ]
    }
   ],
   "source": [
    "SEED = 301\n",
    "np.random.seed(SEED)\n",
    "\n",
    "k=10\n",
    "cv = StratifiedKFold(n_splits=k, shuffle=True)\n",
    "modelo = DecisionTreeClassifier(max_depth=2)\n",
    "results = cross_validate(modelo, X_azar, y_azar, cv=cv)\n",
    "imprime_resultados(results, k)"
   ]
  },
  {
   "cell_type": "markdown",
   "id": "6898a6f7",
   "metadata": {},
   "source": [
    "### Utilizando o GroupKFold para fazer a validação por grupo\n",
    "\n",
    "O objetivo é treinar o modelo e testar para modelos que não \"estão\" no dataset, por exemplo o modelo apenas existir no futuro e não agora enquanto treinamos o modelo"
   ]
  },
  {
   "cell_type": "code",
   "execution_count": 94,
   "id": "2291919c",
   "metadata": {},
   "outputs": [
    {
     "data": {
      "text/html": [
       "<div>\n",
       "<style scoped>\n",
       "    .dataframe tbody tr th:only-of-type {\n",
       "        vertical-align: middle;\n",
       "    }\n",
       "\n",
       "    .dataframe tbody tr th {\n",
       "        vertical-align: top;\n",
       "    }\n",
       "\n",
       "    .dataframe thead th {\n",
       "        text-align: right;\n",
       "    }\n",
       "</style>\n",
       "<table border=\"1\" class=\"dataframe\">\n",
       "  <thead>\n",
       "    <tr style=\"text-align: right;\">\n",
       "      <th></th>\n",
       "      <th>preco</th>\n",
       "      <th>vendido</th>\n",
       "      <th>idade_do_modelo</th>\n",
       "      <th>km_por_ano</th>\n",
       "      <th>modelo</th>\n",
       "    </tr>\n",
       "  </thead>\n",
       "  <tbody>\n",
       "    <tr>\n",
       "      <th>0</th>\n",
       "      <td>30941.02</td>\n",
       "      <td>1</td>\n",
       "      <td>18</td>\n",
       "      <td>35085.22134</td>\n",
       "      <td>22</td>\n",
       "    </tr>\n",
       "    <tr>\n",
       "      <th>1</th>\n",
       "      <td>40557.96</td>\n",
       "      <td>1</td>\n",
       "      <td>20</td>\n",
       "      <td>12622.05362</td>\n",
       "      <td>20</td>\n",
       "    </tr>\n",
       "    <tr>\n",
       "      <th>2</th>\n",
       "      <td>89627.50</td>\n",
       "      <td>0</td>\n",
       "      <td>12</td>\n",
       "      <td>11440.79806</td>\n",
       "      <td>16</td>\n",
       "    </tr>\n",
       "    <tr>\n",
       "      <th>3</th>\n",
       "      <td>95276.14</td>\n",
       "      <td>0</td>\n",
       "      <td>3</td>\n",
       "      <td>43167.32682</td>\n",
       "      <td>6</td>\n",
       "    </tr>\n",
       "    <tr>\n",
       "      <th>4</th>\n",
       "      <td>117384.68</td>\n",
       "      <td>1</td>\n",
       "      <td>4</td>\n",
       "      <td>12770.11290</td>\n",
       "      <td>8</td>\n",
       "    </tr>\n",
       "  </tbody>\n",
       "</table>\n",
       "</div>"
      ],
      "text/plain": [
       "       preco  vendido  idade_do_modelo   km_por_ano  modelo\n",
       "0   30941.02        1               18  35085.22134      22\n",
       "1   40557.96        1               20  12622.05362      20\n",
       "2   89627.50        0               12  11440.79806      16\n",
       "3   95276.14        0                3  43167.32682       6\n",
       "4  117384.68        1                4  12770.11290       8"
      ]
     },
     "execution_count": 94,
     "metadata": {},
     "output_type": "execute_result"
    }
   ],
   "source": [
    "num_aleatorios = np.random.randint(-2,3, size=10000)\n",
    "df['modelo'] = df['idade_do_modelo'] + num_aleatorios\n",
    "df['modelo'] = df['modelo'] + abs(df['modelo'].min()) + 1\n",
    "df.head()"
   ]
  },
  {
   "cell_type": "code",
   "execution_count": 101,
   "id": "eca7f7ed",
   "metadata": {},
   "outputs": [
    {
     "name": "stdout",
     "output_type": "stream",
     "text": [
      "A média é das acurácias é: 75.76%\n",
      "A Acurácia do modelo para cv = 10 é: [72.37% 79.15%]\n"
     ]
    }
   ],
   "source": [
    "SEED = 301\n",
    "np.random.seed(SEED)\n",
    "\n",
    "k=10\n",
    "cv = GroupKFold(n_splits=k)\n",
    "modelo = DecisionTreeClassifier(max_depth=2)\n",
    "results = cross_validate(modelo, X_azar, y_azar, cv=cv, groups=df['modelo'])\n",
    "imprime_resultados(results, k)"
   ]
  },
  {
   "cell_type": "markdown",
   "id": "e6526399",
   "metadata": {},
   "source": [
    "### Cross validation com StandardScaler"
   ]
  },
  {
   "cell_type": "code",
   "execution_count": 117,
   "id": "b0f0cc04",
   "metadata": {},
   "outputs": [
    {
     "name": "stdout",
     "output_type": "stream",
     "text": [
      "A Acurácia do modelo é: 74.40%\n"
     ]
    }
   ],
   "source": [
    "SEED = 301\n",
    "np.random.seed(SEED)\n",
    "\n",
    "scaler = StandardScaler()\n",
    "scaler.fit(X_train)\n",
    "X_train_scaled = scaler.transform(X_train)\n",
    "X_test_scaled = scaler.transform(X_test)\n",
    "\n",
    "modelo = SVC()\n",
    "modelo.fit(X_train_scaled, y_train)\n",
    "accuracy = modelo.score(X_test_scaled, y_test)\n",
    "\n",
    "print(f'A Acurácia do modelo é: {accuracy:0.2%}')"
   ]
  },
  {
   "cell_type": "code",
   "execution_count": 112,
   "id": "f2c717f4",
   "metadata": {},
   "outputs": [
    {
     "name": "stdout",
     "output_type": "stream",
     "text": [
      "A média é das acurácias é: 76.79%\n",
      "A Acurácia do modelo para cv = 10 é: [74.19% 79.39%]\n"
     ]
    }
   ],
   "source": [
    "SEED = 301\n",
    "np.random.seed(SEED)\n",
    "\n",
    "scaler = StandardScaler()\n",
    "scaler.fit(X_azar)\n",
    "X_azar_scaled = scaler.transform(X_azar)\n",
    "\n",
    "k=10\n",
    "cv = GroupKFold(n_splits=k)\n",
    "modelo = SVC()\n",
    "results = cross_validate(modelo, X_azar_scaled, y_azar, cv=cv, groups=df['modelo'])\n",
    "imprime_resultados(results, k)"
   ]
  },
  {
   "cell_type": "markdown",
   "id": "7a78f84c",
   "metadata": {},
   "source": [
    "## Utilizando um Pipeline"
   ]
  },
  {
   "cell_type": "code",
   "execution_count": 115,
   "id": "f7d1e8c5",
   "metadata": {},
   "outputs": [
    {
     "name": "stdout",
     "output_type": "stream",
     "text": [
      "A média é das acurácias é: 76.81%\n",
      "A Acurácia do modelo para cv = 10 é: [74.18% 79.44%]\n"
     ]
    }
   ],
   "source": [
    "SEED = 301\n",
    "np.random.seed(SEED)\n",
    "\n",
    "scaler = StandardScaler()\n",
    "modelo = SVC()\n",
    "\n",
    "pipeline = Pipeline([('transformacao', scaler), ('estimador', modelo)])\n",
    "pipeline\n",
    "\n",
    "k=10\n",
    "cv = GroupKFold(n_splits=k)\n",
    "results = cross_validate(pipeline, X_azar, y_azar, cv=cv, groups=df['modelo'])\n",
    "imprime_resultados(results, k)"
   ]
  }
 ],
 "metadata": {
  "kernelspec": {
   "display_name": "Python 3",
   "language": "python",
   "name": "python3"
  },
  "language_info": {
   "codemirror_mode": {
    "name": "ipython",
    "version": 3
   },
   "file_extension": ".py",
   "mimetype": "text/x-python",
   "name": "python",
   "nbconvert_exporter": "python",
   "pygments_lexer": "ipython3",
   "version": "3.7.10"
  }
 },
 "nbformat": 4,
 "nbformat_minor": 5
}
