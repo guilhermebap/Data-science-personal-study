{
 "cells": [
  {
   "cell_type": "markdown",
   "id": "33c92423",
   "metadata": {},
   "source": [
    "# Curso: Data Analytics: Machine Learning no Marketing Digital\n",
    "\n",
    "## Objetivos:\n",
    "* Aprenda a aplicar Machine Learning no Marketing Digital\n",
    "* Entenda os conceitos de dados de comportamento online\n",
    "* Transforme dados em formato JSON\n",
    "* Aprenda a criar variáveis de usuários em sites\n",
    "* Aplique Gradient Boosting para prever quanto um usuário irá gastar\n",
    "\n",
    "link: https://cursos.alura.com.br/course/machine-learning-marketing-digital"
   ]
  },
  {
   "cell_type": "markdown",
   "id": "6e05b79c",
   "metadata": {},
   "source": [
    "## Importando as bibliotecas"
   ]
  },
  {
   "cell_type": "code",
   "execution_count": 79,
   "id": "b478c74c",
   "metadata": {},
   "outputs": [],
   "source": [
    "import numpy as np\n",
    "import pandas as pd\n",
    "import json\n",
    "import matplotlib.pyplot as plt\n",
    "import seaborn as sns\n",
    "\n",
    "from sklearn.model_selection import train_test_split\n",
    "from sklearn.linear_model import LinearRegression\n",
    "from sklearn.metrics import mean_squared_error\n",
    "from sklearn.preprocessing import LabelEncoder\n",
    "from sklearn.ensemble import GradientBoostingRegressor"
   ]
  },
  {
   "cell_type": "markdown",
   "id": "ffe2ef3b",
   "metadata": {},
   "source": [
    "## Carregando os dados e explorando os dados"
   ]
  },
  {
   "cell_type": "code",
   "execution_count": 2,
   "id": "e820abda",
   "metadata": {},
   "outputs": [
    {
     "data": {
      "text/html": [
       "<div>\n",
       "<style scoped>\n",
       "    .dataframe tbody tr th:only-of-type {\n",
       "        vertical-align: middle;\n",
       "    }\n",
       "\n",
       "    .dataframe tbody tr th {\n",
       "        vertical-align: top;\n",
       "    }\n",
       "\n",
       "    .dataframe thead th {\n",
       "        text-align: right;\n",
       "    }\n",
       "</style>\n",
       "<table border=\"1\" class=\"dataframe\">\n",
       "  <thead>\n",
       "    <tr style=\"text-align: right;\">\n",
       "      <th></th>\n",
       "      <th>channelGrouping</th>\n",
       "      <th>date</th>\n",
       "      <th>device</th>\n",
       "      <th>fullVisitorId</th>\n",
       "      <th>geoNetwork</th>\n",
       "      <th>sessionId</th>\n",
       "      <th>socialEngagementType</th>\n",
       "      <th>totals</th>\n",
       "      <th>trafficSource</th>\n",
       "      <th>visitId</th>\n",
       "      <th>visitNumber</th>\n",
       "      <th>visitStartTime</th>\n",
       "    </tr>\n",
       "  </thead>\n",
       "  <tbody>\n",
       "    <tr>\n",
       "      <th>0</th>\n",
       "      <td>Organic Search</td>\n",
       "      <td>20160902</td>\n",
       "      <td>{\"browser\": \"Chrome\", \"browserVersion\": \"not a...</td>\n",
       "      <td>9674781571160116268</td>\n",
       "      <td>{\"continent\": \"Asia\", \"subContinent\": \"Southea...</td>\n",
       "      <td>9674781571160116268_1472804607</td>\n",
       "      <td>Not Socially Engaged</td>\n",
       "      <td>{\"visits\": \"1\", \"hits\": \"1\", \"pageviews\": \"1\",...</td>\n",
       "      <td>{\"campaign\": \"(not set)\", \"source\": \"google\", ...</td>\n",
       "      <td>1472804607</td>\n",
       "      <td>1</td>\n",
       "      <td>1472804607</td>\n",
       "    </tr>\n",
       "    <tr>\n",
       "      <th>1</th>\n",
       "      <td>Organic Search</td>\n",
       "      <td>20160902</td>\n",
       "      <td>{\"browser\": \"Chrome\", \"browserVersion\": \"not a...</td>\n",
       "      <td>8590648239310839049</td>\n",
       "      <td>{\"continent\": \"Europe\", \"subContinent\": \"Easte...</td>\n",
       "      <td>8590648239310839049_1472835928</td>\n",
       "      <td>Not Socially Engaged</td>\n",
       "      <td>{\"visits\": \"1\", \"hits\": \"1\", \"pageviews\": \"1\",...</td>\n",
       "      <td>{\"campaign\": \"(not set)\", \"source\": \"google\", ...</td>\n",
       "      <td>1472835928</td>\n",
       "      <td>1</td>\n",
       "      <td>1472835928</td>\n",
       "    </tr>\n",
       "    <tr>\n",
       "      <th>2</th>\n",
       "      <td>Affiliates</td>\n",
       "      <td>20160902</td>\n",
       "      <td>{\"browser\": \"Chrome\", \"browserVersion\": \"not a...</td>\n",
       "      <td>9772828344252850532</td>\n",
       "      <td>{\"continent\": \"Americas\", \"subContinent\": \"Sou...</td>\n",
       "      <td>9772828344252850532_1472856802</td>\n",
       "      <td>Not Socially Engaged</td>\n",
       "      <td>{\"visits\": \"1\", \"hits\": \"1\", \"pageviews\": \"1\",...</td>\n",
       "      <td>{\"campaign\": \"Data Share Promo\", \"source\": \"Pa...</td>\n",
       "      <td>1472856802</td>\n",
       "      <td>1</td>\n",
       "      <td>1472856802</td>\n",
       "    </tr>\n",
       "    <tr>\n",
       "      <th>3</th>\n",
       "      <td>Organic Search</td>\n",
       "      <td>20160902</td>\n",
       "      <td>{\"browser\": \"Safari\", \"browserVersion\": \"not a...</td>\n",
       "      <td>1350700416054916432</td>\n",
       "      <td>{\"continent\": \"Americas\", \"subContinent\": \"Nor...</td>\n",
       "      <td>1350700416054916432_1472879649</td>\n",
       "      <td>Not Socially Engaged</td>\n",
       "      <td>{\"visits\": \"1\", \"hits\": \"1\", \"pageviews\": \"1\",...</td>\n",
       "      <td>{\"campaign\": \"(not set)\", \"source\": \"google\", ...</td>\n",
       "      <td>1472879649</td>\n",
       "      <td>2</td>\n",
       "      <td>1472879649</td>\n",
       "    </tr>\n",
       "    <tr>\n",
       "      <th>4</th>\n",
       "      <td>Organic Search</td>\n",
       "      <td>20160902</td>\n",
       "      <td>{\"browser\": \"Safari\", \"browserVersion\": \"not a...</td>\n",
       "      <td>1350700416054916432</td>\n",
       "      <td>{\"continent\": \"Americas\", \"subContinent\": \"Nor...</td>\n",
       "      <td>1350700416054916432_1472829671</td>\n",
       "      <td>Not Socially Engaged</td>\n",
       "      <td>{\"visits\": \"1\", \"hits\": \"5\", \"pageviews\": \"4\",...</td>\n",
       "      <td>{\"campaign\": \"(not set)\", \"source\": \"google\", ...</td>\n",
       "      <td>1472829671</td>\n",
       "      <td>1</td>\n",
       "      <td>1472829671</td>\n",
       "    </tr>\n",
       "  </tbody>\n",
       "</table>\n",
       "</div>"
      ],
      "text/plain": [
       "  channelGrouping      date  \\\n",
       "0  Organic Search  20160902   \n",
       "1  Organic Search  20160902   \n",
       "2      Affiliates  20160902   \n",
       "3  Organic Search  20160902   \n",
       "4  Organic Search  20160902   \n",
       "\n",
       "                                              device        fullVisitorId  \\\n",
       "0  {\"browser\": \"Chrome\", \"browserVersion\": \"not a...  9674781571160116268   \n",
       "1  {\"browser\": \"Chrome\", \"browserVersion\": \"not a...  8590648239310839049   \n",
       "2  {\"browser\": \"Chrome\", \"browserVersion\": \"not a...  9772828344252850532   \n",
       "3  {\"browser\": \"Safari\", \"browserVersion\": \"not a...  1350700416054916432   \n",
       "4  {\"browser\": \"Safari\", \"browserVersion\": \"not a...  1350700416054916432   \n",
       "\n",
       "                                          geoNetwork  \\\n",
       "0  {\"continent\": \"Asia\", \"subContinent\": \"Southea...   \n",
       "1  {\"continent\": \"Europe\", \"subContinent\": \"Easte...   \n",
       "2  {\"continent\": \"Americas\", \"subContinent\": \"Sou...   \n",
       "3  {\"continent\": \"Americas\", \"subContinent\": \"Nor...   \n",
       "4  {\"continent\": \"Americas\", \"subContinent\": \"Nor...   \n",
       "\n",
       "                        sessionId  socialEngagementType  \\\n",
       "0  9674781571160116268_1472804607  Not Socially Engaged   \n",
       "1  8590648239310839049_1472835928  Not Socially Engaged   \n",
       "2  9772828344252850532_1472856802  Not Socially Engaged   \n",
       "3  1350700416054916432_1472879649  Not Socially Engaged   \n",
       "4  1350700416054916432_1472829671  Not Socially Engaged   \n",
       "\n",
       "                                              totals  \\\n",
       "0  {\"visits\": \"1\", \"hits\": \"1\", \"pageviews\": \"1\",...   \n",
       "1  {\"visits\": \"1\", \"hits\": \"1\", \"pageviews\": \"1\",...   \n",
       "2  {\"visits\": \"1\", \"hits\": \"1\", \"pageviews\": \"1\",...   \n",
       "3  {\"visits\": \"1\", \"hits\": \"1\", \"pageviews\": \"1\",...   \n",
       "4  {\"visits\": \"1\", \"hits\": \"5\", \"pageviews\": \"4\",...   \n",
       "\n",
       "                                       trafficSource     visitId  visitNumber  \\\n",
       "0  {\"campaign\": \"(not set)\", \"source\": \"google\", ...  1472804607            1   \n",
       "1  {\"campaign\": \"(not set)\", \"source\": \"google\", ...  1472835928            1   \n",
       "2  {\"campaign\": \"Data Share Promo\", \"source\": \"Pa...  1472856802            1   \n",
       "3  {\"campaign\": \"(not set)\", \"source\": \"google\", ...  1472879649            2   \n",
       "4  {\"campaign\": \"(not set)\", \"source\": \"google\", ...  1472829671            1   \n",
       "\n",
       "   visitStartTime  \n",
       "0      1472804607  \n",
       "1      1472835928  \n",
       "2      1472856802  \n",
       "3      1472879649  \n",
       "4      1472829671  "
      ]
     },
     "execution_count": 2,
     "metadata": {},
     "output_type": "execute_result"
    }
   ],
   "source": [
    "df = pd.read_csv('datasets/train.csv')\n",
    "df.head()"
   ]
  },
  {
   "cell_type": "code",
   "execution_count": 3,
   "id": "667baec8",
   "metadata": {},
   "outputs": [
    {
     "name": "stdout",
     "output_type": "stream",
     "text": [
      "A base de dados é formado por 12283 observações e 12 atributos\n"
     ]
    }
   ],
   "source": [
    "print(f'A base de dados é formado por {df.shape[0]} observações e {df.shape[1]} atributos')"
   ]
  },
  {
   "cell_type": "code",
   "execution_count": 4,
   "id": "1085bd3f",
   "metadata": {},
   "outputs": [
    {
     "data": {
      "text/plain": [
       "9996"
      ]
     },
     "execution_count": 4,
     "metadata": {},
     "output_type": "execute_result"
    }
   ],
   "source": [
    "df.fullVisitorId.nunique()"
   ]
  },
  {
   "cell_type": "code",
   "execution_count": 5,
   "id": "76e63324",
   "metadata": {},
   "outputs": [
    {
     "data": {
      "text/plain": [
       "channelGrouping         object\n",
       "date                     int64\n",
       "device                  object\n",
       "fullVisitorId           uint64\n",
       "geoNetwork              object\n",
       "sessionId               object\n",
       "socialEngagementType    object\n",
       "totals                  object\n",
       "trafficSource           object\n",
       "visitId                  int64\n",
       "visitNumber              int64\n",
       "visitStartTime           int64\n",
       "dtype: object"
      ]
     },
     "execution_count": 5,
     "metadata": {},
     "output_type": "execute_result"
    }
   ],
   "source": [
    "df.dtypes"
   ]
  },
  {
   "cell_type": "code",
   "execution_count": 6,
   "id": "508034c6",
   "metadata": {},
   "outputs": [
    {
     "data": {
      "text/html": [
       "<div>\n",
       "<style scoped>\n",
       "    .dataframe tbody tr th:only-of-type {\n",
       "        vertical-align: middle;\n",
       "    }\n",
       "\n",
       "    .dataframe tbody tr th {\n",
       "        vertical-align: top;\n",
       "    }\n",
       "\n",
       "    .dataframe thead th {\n",
       "        text-align: right;\n",
       "    }\n",
       "</style>\n",
       "<table border=\"1\" class=\"dataframe\">\n",
       "  <thead>\n",
       "    <tr style=\"text-align: right;\">\n",
       "      <th></th>\n",
       "      <th>channelGrouping</th>\n",
       "      <th>date</th>\n",
       "      <th>device</th>\n",
       "      <th>fullVisitorId</th>\n",
       "      <th>geoNetwork</th>\n",
       "      <th>sessionId</th>\n",
       "      <th>socialEngagementType</th>\n",
       "      <th>totals</th>\n",
       "      <th>trafficSource</th>\n",
       "      <th>visitId</th>\n",
       "      <th>visitNumber</th>\n",
       "      <th>visitStartTime</th>\n",
       "    </tr>\n",
       "  </thead>\n",
       "  <tbody>\n",
       "    <tr>\n",
       "      <th>0</th>\n",
       "      <td>Organic Search</td>\n",
       "      <td>20160902</td>\n",
       "      <td>{\"browser\": \"Chrome\", \"browserVersion\": \"not a...</td>\n",
       "      <td>9674781571160116268</td>\n",
       "      <td>{\"continent\": \"Asia\", \"subContinent\": \"Southea...</td>\n",
       "      <td>9674781571160116268_1472804607</td>\n",
       "      <td>Not Socially Engaged</td>\n",
       "      <td>{\"visits\": \"1\", \"hits\": \"1\", \"pageviews\": \"1\",...</td>\n",
       "      <td>{\"campaign\": \"(not set)\", \"source\": \"google\", ...</td>\n",
       "      <td>1472804607</td>\n",
       "      <td>1</td>\n",
       "      <td>1472804607</td>\n",
       "    </tr>\n",
       "    <tr>\n",
       "      <th>1</th>\n",
       "      <td>Organic Search</td>\n",
       "      <td>20160902</td>\n",
       "      <td>{\"browser\": \"Chrome\", \"browserVersion\": \"not a...</td>\n",
       "      <td>8590648239310839049</td>\n",
       "      <td>{\"continent\": \"Europe\", \"subContinent\": \"Easte...</td>\n",
       "      <td>8590648239310839049_1472835928</td>\n",
       "      <td>Not Socially Engaged</td>\n",
       "      <td>{\"visits\": \"1\", \"hits\": \"1\", \"pageviews\": \"1\",...</td>\n",
       "      <td>{\"campaign\": \"(not set)\", \"source\": \"google\", ...</td>\n",
       "      <td>1472835928</td>\n",
       "      <td>1</td>\n",
       "      <td>1472835928</td>\n",
       "    </tr>\n",
       "    <tr>\n",
       "      <th>2</th>\n",
       "      <td>Affiliates</td>\n",
       "      <td>20160902</td>\n",
       "      <td>{\"browser\": \"Chrome\", \"browserVersion\": \"not a...</td>\n",
       "      <td>9772828344252850532</td>\n",
       "      <td>{\"continent\": \"Americas\", \"subContinent\": \"Sou...</td>\n",
       "      <td>9772828344252850532_1472856802</td>\n",
       "      <td>Not Socially Engaged</td>\n",
       "      <td>{\"visits\": \"1\", \"hits\": \"1\", \"pageviews\": \"1\",...</td>\n",
       "      <td>{\"campaign\": \"Data Share Promo\", \"source\": \"Pa...</td>\n",
       "      <td>1472856802</td>\n",
       "      <td>1</td>\n",
       "      <td>1472856802</td>\n",
       "    </tr>\n",
       "    <tr>\n",
       "      <th>3</th>\n",
       "      <td>Organic Search</td>\n",
       "      <td>20160902</td>\n",
       "      <td>{\"browser\": \"Safari\", \"browserVersion\": \"not a...</td>\n",
       "      <td>1350700416054916432</td>\n",
       "      <td>{\"continent\": \"Americas\", \"subContinent\": \"Nor...</td>\n",
       "      <td>1350700416054916432_1472879649</td>\n",
       "      <td>Not Socially Engaged</td>\n",
       "      <td>{\"visits\": \"1\", \"hits\": \"1\", \"pageviews\": \"1\",...</td>\n",
       "      <td>{\"campaign\": \"(not set)\", \"source\": \"google\", ...</td>\n",
       "      <td>1472879649</td>\n",
       "      <td>2</td>\n",
       "      <td>1472879649</td>\n",
       "    </tr>\n",
       "    <tr>\n",
       "      <th>4</th>\n",
       "      <td>Organic Search</td>\n",
       "      <td>20160902</td>\n",
       "      <td>{\"browser\": \"Safari\", \"browserVersion\": \"not a...</td>\n",
       "      <td>1350700416054916432</td>\n",
       "      <td>{\"continent\": \"Americas\", \"subContinent\": \"Nor...</td>\n",
       "      <td>1350700416054916432_1472829671</td>\n",
       "      <td>Not Socially Engaged</td>\n",
       "      <td>{\"visits\": \"1\", \"hits\": \"5\", \"pageviews\": \"4\",...</td>\n",
       "      <td>{\"campaign\": \"(not set)\", \"source\": \"google\", ...</td>\n",
       "      <td>1472829671</td>\n",
       "      <td>1</td>\n",
       "      <td>1472829671</td>\n",
       "    </tr>\n",
       "  </tbody>\n",
       "</table>\n",
       "</div>"
      ],
      "text/plain": [
       "  channelGrouping      date  \\\n",
       "0  Organic Search  20160902   \n",
       "1  Organic Search  20160902   \n",
       "2      Affiliates  20160902   \n",
       "3  Organic Search  20160902   \n",
       "4  Organic Search  20160902   \n",
       "\n",
       "                                              device        fullVisitorId  \\\n",
       "0  {\"browser\": \"Chrome\", \"browserVersion\": \"not a...  9674781571160116268   \n",
       "1  {\"browser\": \"Chrome\", \"browserVersion\": \"not a...  8590648239310839049   \n",
       "2  {\"browser\": \"Chrome\", \"browserVersion\": \"not a...  9772828344252850532   \n",
       "3  {\"browser\": \"Safari\", \"browserVersion\": \"not a...  1350700416054916432   \n",
       "4  {\"browser\": \"Safari\", \"browserVersion\": \"not a...  1350700416054916432   \n",
       "\n",
       "                                          geoNetwork  \\\n",
       "0  {\"continent\": \"Asia\", \"subContinent\": \"Southea...   \n",
       "1  {\"continent\": \"Europe\", \"subContinent\": \"Easte...   \n",
       "2  {\"continent\": \"Americas\", \"subContinent\": \"Sou...   \n",
       "3  {\"continent\": \"Americas\", \"subContinent\": \"Nor...   \n",
       "4  {\"continent\": \"Americas\", \"subContinent\": \"Nor...   \n",
       "\n",
       "                        sessionId  socialEngagementType  \\\n",
       "0  9674781571160116268_1472804607  Not Socially Engaged   \n",
       "1  8590648239310839049_1472835928  Not Socially Engaged   \n",
       "2  9772828344252850532_1472856802  Not Socially Engaged   \n",
       "3  1350700416054916432_1472879649  Not Socially Engaged   \n",
       "4  1350700416054916432_1472829671  Not Socially Engaged   \n",
       "\n",
       "                                              totals  \\\n",
       "0  {\"visits\": \"1\", \"hits\": \"1\", \"pageviews\": \"1\",...   \n",
       "1  {\"visits\": \"1\", \"hits\": \"1\", \"pageviews\": \"1\",...   \n",
       "2  {\"visits\": \"1\", \"hits\": \"1\", \"pageviews\": \"1\",...   \n",
       "3  {\"visits\": \"1\", \"hits\": \"1\", \"pageviews\": \"1\",...   \n",
       "4  {\"visits\": \"1\", \"hits\": \"5\", \"pageviews\": \"4\",...   \n",
       "\n",
       "                                       trafficSource     visitId  visitNumber  \\\n",
       "0  {\"campaign\": \"(not set)\", \"source\": \"google\", ...  1472804607            1   \n",
       "1  {\"campaign\": \"(not set)\", \"source\": \"google\", ...  1472835928            1   \n",
       "2  {\"campaign\": \"Data Share Promo\", \"source\": \"Pa...  1472856802            1   \n",
       "3  {\"campaign\": \"(not set)\", \"source\": \"google\", ...  1472879649            2   \n",
       "4  {\"campaign\": \"(not set)\", \"source\": \"google\", ...  1472829671            1   \n",
       "\n",
       "   visitStartTime  \n",
       "0      1472804607  \n",
       "1      1472835928  \n",
       "2      1472856802  \n",
       "3      1472879649  \n",
       "4      1472829671  "
      ]
     },
     "execution_count": 6,
     "metadata": {},
     "output_type": "execute_result"
    }
   ],
   "source": [
    "# Carregando os dados agora com o tipo de dado adequado para cada coluna\n",
    "df = pd.read_csv('datasets/train.csv', dtype={'date': object, 'fullVisitorId': object, 'visitId': object})\n",
    "df.head()"
   ]
  },
  {
   "cell_type": "code",
   "execution_count": 7,
   "id": "3958f37e",
   "metadata": {},
   "outputs": [
    {
     "data": {
      "text/plain": [
       "channelGrouping         object\n",
       "date                    object\n",
       "device                  object\n",
       "fullVisitorId           object\n",
       "geoNetwork              object\n",
       "sessionId               object\n",
       "socialEngagementType    object\n",
       "totals                  object\n",
       "trafficSource           object\n",
       "visitId                 object\n",
       "visitNumber              int64\n",
       "visitStartTime           int64\n",
       "dtype: object"
      ]
     },
     "execution_count": 7,
     "metadata": {},
     "output_type": "execute_result"
    }
   ],
   "source": [
    "df.dtypes"
   ]
  },
  {
   "cell_type": "code",
   "execution_count": 8,
   "id": "965ae23d",
   "metadata": {},
   "outputs": [],
   "source": [
    "columns = ['device', 'geoNetwork', 'totals', 'trafficSource']\n",
    "for column in columns:\n",
    "    df = df.join(pd.DataFrame([json.loads(linha) for linha in df[column]]))\n",
    "\n",
    "df.drop(columns + ['adwordsClickInfo'], axis=1, inplace=True)"
   ]
  },
  {
   "cell_type": "code",
   "execution_count": 9,
   "id": "38873e00",
   "metadata": {},
   "outputs": [],
   "source": [
    "column_na = []\n",
    "for column in df.columns:\n",
    "    if df[column].nunique(dropna=False) == 1:\n",
    "        column_na.append(column)\n",
    "        \n",
    "df.drop(column_na, axis=1, inplace=True)"
   ]
  },
  {
   "cell_type": "code",
   "execution_count": 10,
   "id": "83325ae7",
   "metadata": {},
   "outputs": [
    {
     "data": {
      "text/plain": [
       "['socialEngagementType',\n",
       " 'browserVersion',\n",
       " 'browserSize',\n",
       " 'operatingSystemVersion',\n",
       " 'mobileDeviceBranding',\n",
       " 'mobileDeviceModel',\n",
       " 'mobileInputSelector',\n",
       " 'mobileDeviceInfo',\n",
       " 'mobileDeviceMarketingName',\n",
       " 'flashVersion',\n",
       " 'language',\n",
       " 'screenColors',\n",
       " 'screenResolution',\n",
       " 'cityId',\n",
       " 'latitude',\n",
       " 'longitude',\n",
       " 'networkLocation',\n",
       " 'visits']"
      ]
     },
     "execution_count": 10,
     "metadata": {},
     "output_type": "execute_result"
    }
   ],
   "source": [
    "column_na"
   ]
  },
  {
   "cell_type": "code",
   "execution_count": 11,
   "id": "042ab133",
   "metadata": {},
   "outputs": [
    {
     "data": {
      "text/plain": [
       "(12283, 31)"
      ]
     },
     "execution_count": 11,
     "metadata": {},
     "output_type": "execute_result"
    }
   ],
   "source": [
    "df.shape"
   ]
  },
  {
   "cell_type": "markdown",
   "id": "1cda2c07",
   "metadata": {},
   "source": [
    "## Filtrando os dados com que iremos trabalhar"
   ]
  },
  {
   "cell_type": "code",
   "execution_count": 12,
   "id": "ddfa5422",
   "metadata": {},
   "outputs": [
    {
     "data": {
      "text/plain": [
       "Index(['channelGrouping', 'date', 'fullVisitorId', 'sessionId', 'visitId',\n",
       "       'visitNumber', 'visitStartTime', 'browser', 'operatingSystem',\n",
       "       'isMobile', 'deviceCategory', 'continent', 'subContinent', 'country',\n",
       "       'region', 'metro', 'city', 'networkDomain', 'hits', 'pageviews',\n",
       "       'bounces', 'newVisits', 'transactionRevenue', 'campaign', 'source',\n",
       "       'medium', 'keyword', 'isTrueDirect', 'referralPath', 'adContent',\n",
       "       'campaignCode'],\n",
       "      dtype='object')"
      ]
     },
     "execution_count": 12,
     "metadata": {},
     "output_type": "execute_result"
    }
   ],
   "source": [
    "df.columns"
   ]
  },
  {
   "cell_type": "code",
   "execution_count": 13,
   "id": "ab67105a",
   "metadata": {},
   "outputs": [],
   "source": [
    "quant = ['hits', 'pageviews', 'bounces', 'newVisits', 'transactionRevenue']\n",
    "for column in quant:\n",
    "    df[column] = pd.to_numeric(df[column])\n",
    "df_quant = df.groupby('fullVisitorId', as_index=False)[quant].sum()\n",
    "df_quant['transactionRevenue'] = df_quant['transactionRevenue'] / 10**6"
   ]
  },
  {
   "cell_type": "code",
   "execution_count": 14,
   "id": "96b2a06f",
   "metadata": {},
   "outputs": [
    {
     "data": {
      "text/html": [
       "<div>\n",
       "<style scoped>\n",
       "    .dataframe tbody tr th:only-of-type {\n",
       "        vertical-align: middle;\n",
       "    }\n",
       "\n",
       "    .dataframe tbody tr th {\n",
       "        vertical-align: top;\n",
       "    }\n",
       "\n",
       "    .dataframe thead th {\n",
       "        text-align: right;\n",
       "    }\n",
       "</style>\n",
       "<table border=\"1\" class=\"dataframe\">\n",
       "  <thead>\n",
       "    <tr style=\"text-align: right;\">\n",
       "      <th></th>\n",
       "      <th>fullVisitorId</th>\n",
       "      <th>hits</th>\n",
       "      <th>pageviews</th>\n",
       "      <th>bounces</th>\n",
       "      <th>newVisits</th>\n",
       "      <th>transactionRevenue</th>\n",
       "    </tr>\n",
       "  </thead>\n",
       "  <tbody>\n",
       "    <tr>\n",
       "      <th>0</th>\n",
       "      <td>0002365800130207040</td>\n",
       "      <td>1</td>\n",
       "      <td>1</td>\n",
       "      <td>1.0</td>\n",
       "      <td>1.0</td>\n",
       "      <td>0.0</td>\n",
       "    </tr>\n",
       "    <tr>\n",
       "      <th>1</th>\n",
       "      <td>0010286039787739137</td>\n",
       "      <td>4</td>\n",
       "      <td>3</td>\n",
       "      <td>0.0</td>\n",
       "      <td>1.0</td>\n",
       "      <td>0.0</td>\n",
       "    </tr>\n",
       "    <tr>\n",
       "      <th>2</th>\n",
       "      <td>0011056874471185769</td>\n",
       "      <td>2</td>\n",
       "      <td>2</td>\n",
       "      <td>0.0</td>\n",
       "      <td>1.0</td>\n",
       "      <td>0.0</td>\n",
       "    </tr>\n",
       "    <tr>\n",
       "      <th>3</th>\n",
       "      <td>0014443856125569702</td>\n",
       "      <td>1</td>\n",
       "      <td>1</td>\n",
       "      <td>1.0</td>\n",
       "      <td>1.0</td>\n",
       "      <td>0.0</td>\n",
       "    </tr>\n",
       "    <tr>\n",
       "      <th>4</th>\n",
       "      <td>0017260116665815114</td>\n",
       "      <td>2</td>\n",
       "      <td>2</td>\n",
       "      <td>0.0</td>\n",
       "      <td>0.0</td>\n",
       "      <td>0.0</td>\n",
       "    </tr>\n",
       "  </tbody>\n",
       "</table>\n",
       "</div>"
      ],
      "text/plain": [
       "         fullVisitorId  hits  pageviews  bounces  newVisits  \\\n",
       "0  0002365800130207040     1          1      1.0        1.0   \n",
       "1  0010286039787739137     4          3      0.0        1.0   \n",
       "2  0011056874471185769     2          2      0.0        1.0   \n",
       "3  0014443856125569702     1          1      1.0        1.0   \n",
       "4  0017260116665815114     2          2      0.0        0.0   \n",
       "\n",
       "   transactionRevenue  \n",
       "0                 0.0  \n",
       "1                 0.0  \n",
       "2                 0.0  \n",
       "3                 0.0  \n",
       "4                 0.0  "
      ]
     },
     "execution_count": 14,
     "metadata": {},
     "output_type": "execute_result"
    }
   ],
   "source": [
    "df_quant.head()"
   ]
  },
  {
   "cell_type": "markdown",
   "id": "2860b76b",
   "metadata": {},
   "source": [
    "## Criando o 1º modelo com o dataframe filtrado"
   ]
  },
  {
   "cell_type": "code",
   "execution_count": 15,
   "id": "89d336c0",
   "metadata": {},
   "outputs": [],
   "source": [
    "y = df_quant.transactionRevenue.copy()\n",
    "X = df_quant.drop('transactionRevenue', axis=1)\n",
    "\n",
    "X_train, X_test, y_train, y_test = train_test_split(X, y, test_size=0.3, random_state=42)"
   ]
  },
  {
   "cell_type": "code",
   "execution_count": 16,
   "id": "680b86c0",
   "metadata": {},
   "outputs": [],
   "source": [
    "reg = LinearRegression()\n",
    "reg.fit(X_train, y_train)\n",
    "y_pred = reg.predict(X_test)"
   ]
  },
  {
   "cell_type": "code",
   "execution_count": 17,
   "id": "80334612",
   "metadata": {},
   "outputs": [
    {
     "data": {
      "text/html": [
       "<div>\n",
       "<style scoped>\n",
       "    .dataframe tbody tr th:only-of-type {\n",
       "        vertical-align: middle;\n",
       "    }\n",
       "\n",
       "    .dataframe tbody tr th {\n",
       "        vertical-align: top;\n",
       "    }\n",
       "\n",
       "    .dataframe thead th {\n",
       "        text-align: right;\n",
       "    }\n",
       "</style>\n",
       "<table border=\"1\" class=\"dataframe\">\n",
       "  <thead>\n",
       "    <tr style=\"text-align: right;\">\n",
       "      <th></th>\n",
       "      <th>y_real</th>\n",
       "      <th>y_pred</th>\n",
       "      <th>erro</th>\n",
       "    </tr>\n",
       "  </thead>\n",
       "  <tbody>\n",
       "    <tr>\n",
       "      <th>4122</th>\n",
       "      <td>0.0</td>\n",
       "      <td>1.551660</td>\n",
       "      <td>-1.551660</td>\n",
       "    </tr>\n",
       "    <tr>\n",
       "      <th>4065</th>\n",
       "      <td>0.0</td>\n",
       "      <td>1.555209</td>\n",
       "      <td>-1.555209</td>\n",
       "    </tr>\n",
       "    <tr>\n",
       "      <th>1731</th>\n",
       "      <td>0.0</td>\n",
       "      <td>1.687726</td>\n",
       "      <td>-1.687726</td>\n",
       "    </tr>\n",
       "    <tr>\n",
       "      <th>4740</th>\n",
       "      <td>0.0</td>\n",
       "      <td>1.515492</td>\n",
       "      <td>-1.515492</td>\n",
       "    </tr>\n",
       "    <tr>\n",
       "      <th>6391</th>\n",
       "      <td>0.0</td>\n",
       "      <td>1.422655</td>\n",
       "      <td>-1.422655</td>\n",
       "    </tr>\n",
       "  </tbody>\n",
       "</table>\n",
       "</div>"
      ],
      "text/plain": [
       "      y_real    y_pred      erro\n",
       "4122     0.0  1.551660 -1.551660\n",
       "4065     0.0  1.555209 -1.555209\n",
       "1731     0.0  1.687726 -1.687726\n",
       "4740     0.0  1.515492 -1.515492\n",
       "6391     0.0  1.422655 -1.422655"
      ]
     },
     "execution_count": 17,
     "metadata": {},
     "output_type": "execute_result"
    }
   ],
   "source": [
    "df_pred = pd.DataFrame()\n",
    "df_pred['y_real'] = y_test\n",
    "df_pred['y_pred'] = y_pred\n",
    "df_pred['erro'] = df_pred['y_real'] - df_pred['y_pred']\n",
    "df_pred.head()"
   ]
  },
  {
   "cell_type": "markdown",
   "id": "f4077c6a",
   "metadata": {},
   "source": [
    "### RMSE"
   ]
  },
  {
   "cell_type": "code",
   "execution_count": 18,
   "id": "d1045bd3",
   "metadata": {},
   "outputs": [
    {
     "data": {
      "text/plain": [
       "28.412073660366502"
      ]
     },
     "execution_count": 18,
     "metadata": {},
     "output_type": "execute_result"
    }
   ],
   "source": [
    "mse = (df_pred['y_real'] - df_pred['y_pred']) ** 2\n",
    "rmse = np.sqrt(np.mean(mse))\n",
    "rmse"
   ]
  },
  {
   "cell_type": "code",
   "execution_count": 19,
   "id": "26129775",
   "metadata": {},
   "outputs": [
    {
     "data": {
      "text/plain": [
       "28.412073660366516"
      ]
     },
     "execution_count": 19,
     "metadata": {},
     "output_type": "execute_result"
    }
   ],
   "source": [
    "np.sqrt(mean_squared_error(y_test, y_pred))"
   ]
  },
  {
   "cell_type": "code",
   "execution_count": 20,
   "id": "5179c1b2",
   "metadata": {},
   "outputs": [
    {
     "data": {
      "text/plain": [
       "1.778953686105831"
      ]
     },
     "execution_count": 20,
     "metadata": {},
     "output_type": "execute_result"
    }
   ],
   "source": [
    "np.mean(df_quant.transactionRevenue)"
   ]
  },
  {
   "cell_type": "code",
   "execution_count": 21,
   "id": "274125c2",
   "metadata": {},
   "outputs": [
    {
     "data": {
      "text/plain": [
       "25.129905708017944"
      ]
     },
     "execution_count": 21,
     "metadata": {},
     "output_type": "execute_result"
    }
   ],
   "source": [
    "np.std(df_quant.transactionRevenue)"
   ]
  },
  {
   "cell_type": "code",
   "execution_count": 22,
   "id": "62c899d2",
   "metadata": {},
   "outputs": [
    {
     "data": {
      "image/png": "[encoded data removed]",
      "text/plain": [
       "<Figure size 432x288 with 1 Axes>"
      ]
     },
     "metadata": {
      "needs_background": "light"
     },
     "output_type": "display_data"
    }
   ],
   "source": [
    "sns.boxplot(x ='y_pred', data=df_pred)\n",
    "plt.show()"
   ]
  },
  {
   "cell_type": "code",
   "execution_count": 23,
   "id": "a36d4c6b",
   "metadata": {},
   "outputs": [
    {
     "data": {
      "image/png": "[encoded data removed]",
      "text/plain": [
       "<Figure size 432x288 with 1 Axes>"
      ]
     },
     "metadata": {
      "needs_background": "light"
     },
     "output_type": "display_data"
    }
   ],
   "source": [
    "sns.boxplot(x ='transactionRevenue', data=df_quant)\n",
    "plt.show()"
   ]
  },
  {
   "cell_type": "code",
   "execution_count": 24,
   "id": "3766c4f3",
   "metadata": {},
   "outputs": [
    {
     "name": "stderr",
     "output_type": "stream",
     "text": [
      "E:\\Anaconda3\\lib\\site-packages\\seaborn\\distributions.py:2619: FutureWarning: `distplot` is a deprecated function and will be removed in a future version. Please adapt your code to use either `displot` (a figure-level function with similar flexibility) or `histplot` (an axes-level function for histograms).\n",
      "  warnings.warn(msg, FutureWarning)\n"
     ]
    },
    {
     "data": {
      "image/png": "[encoded data removed]",
      "text/plain": [
       "<Figure size 432x288 with 1 Axes>"
      ]
     },
     "metadata": {
      "needs_background": "light"
     },
     "output_type": "display_data"
    }
   ],
   "source": [
    "sns.distplot(y_pred - y_test)\n",
    "plt.show()"
   ]
  },
  {
   "cell_type": "code",
   "execution_count": 25,
   "id": "4d1f0012",
   "metadata": {},
   "outputs": [
    {
     "data": {
      "text/plain": [
       "(12283, 31)"
      ]
     },
     "execution_count": 25,
     "metadata": {},
     "output_type": "execute_result"
    }
   ],
   "source": [
    "df.shape"
   ]
  },
  {
   "cell_type": "markdown",
   "id": "03d9cf5e",
   "metadata": {},
   "source": [
    "## Explorando outro modelo"
   ]
  },
  {
   "cell_type": "code",
   "execution_count": 26,
   "id": "6f65b20f",
   "metadata": {},
   "outputs": [
    {
     "name": "stdout",
     "output_type": "stream",
     "text": [
      "(12283, 31)\n",
      "(12270, 31)\n"
     ]
    }
   ],
   "source": [
    "# Removendo duplicados baseados no subset para garantir que não há nenhum campo igual\n",
    "print(df.shape)\n",
    "visitas_unicas = df.drop_duplicates(subset=['fullVisitorId', 'visitNumber'])\n",
    "print(visitas_unicas.shape)"
   ]
  },
  {
   "cell_type": "code",
   "execution_count": 27,
   "id": "a0a523b2",
   "metadata": {},
   "outputs": [
    {
     "data": {
      "text/plain": [
       "channelGrouping        object\n",
       "date                   object\n",
       "fullVisitorId          object\n",
       "sessionId              object\n",
       "visitId                object\n",
       "visitNumber             int64\n",
       "visitStartTime          int64\n",
       "browser                object\n",
       "operatingSystem        object\n",
       "isMobile                 bool\n",
       "deviceCategory         object\n",
       "continent              object\n",
       "subContinent           object\n",
       "country                object\n",
       "region                 object\n",
       "metro                  object\n",
       "city                   object\n",
       "networkDomain          object\n",
       "hits                    int64\n",
       "pageviews               int64\n",
       "bounces               float64\n",
       "newVisits             float64\n",
       "transactionRevenue    float64\n",
       "campaign               object\n",
       "source                 object\n",
       "medium                 object\n",
       "keyword                object\n",
       "isTrueDirect           object\n",
       "referralPath           object\n",
       "adContent              object\n",
       "campaignCode           object\n",
       "dtype: object"
      ]
     },
     "execution_count": 27,
     "metadata": {},
     "output_type": "execute_result"
    }
   ],
   "source": [
    "visitas_unicas.dtypes"
   ]
  },
  {
   "cell_type": "code",
   "execution_count": 28,
   "id": "f13bc8d7",
   "metadata": {},
   "outputs": [
    {
     "data": {
      "text/plain": [
       "Index(['channelGrouping', 'date', 'fullVisitorId', 'sessionId', 'visitId',\n",
       "       'visitNumber', 'visitStartTime', 'browser', 'operatingSystem',\n",
       "       'isMobile', 'deviceCategory', 'continent', 'subContinent', 'country',\n",
       "       'region', 'metro', 'city', 'networkDomain', 'hits', 'pageviews',\n",
       "       'bounces', 'newVisits', 'transactionRevenue', 'campaign', 'source',\n",
       "       'medium', 'keyword', 'isTrueDirect', 'referralPath', 'adContent',\n",
       "       'campaignCode'],\n",
       "      dtype='object')"
      ]
     },
     "execution_count": 28,
     "metadata": {},
     "output_type": "execute_result"
    }
   ],
   "source": [
    "visitas_unicas.columns"
   ]
  },
  {
   "cell_type": "code",
   "execution_count": 29,
   "id": "8b776b35",
   "metadata": {},
   "outputs": [
    {
     "name": "stdout",
     "output_type": "stream",
     "text": [
      "(12270, 31)\n",
      "(12270, 26)\n"
     ]
    },
    {
     "name": "stderr",
     "output_type": "stream",
     "text": [
      "E:\\Anaconda3\\lib\\site-packages\\pandas\\core\\frame.py:4906: SettingWithCopyWarning: \n",
      "A value is trying to be set on a copy of a slice from a DataFrame\n",
      "\n",
      "See the caveats in the documentation: https://pandas.pydata.org/pandas-docs/stable/user_guide/indexing.html#returning-a-view-versus-a-copy\n",
      "  return super().drop(\n"
     ]
    }
   ],
   "source": [
    "print(visitas_unicas.shape)\n",
    "quant = ['hits', 'pageviews', 'bounces', 'newVisits', 'transactionRevenue']\n",
    "visitas_unicas.drop(quant, axis=1, inplace=True, errors='ignore')\n",
    "print(visitas_unicas.shape)"
   ]
  },
  {
   "cell_type": "code",
   "execution_count": 30,
   "id": "cd2a1c32",
   "metadata": {},
   "outputs": [],
   "source": [
    "ultimas_visitas = df.groupby('fullVisitorId', as_index=False)['visitNumber'].max()\n",
    "primeiras_visitas = df.groupby('fullVisitorId', as_index=False)['visitNumber'].min()"
   ]
  },
  {
   "cell_type": "code",
   "execution_count": 31,
   "id": "c5dbba60",
   "metadata": {},
   "outputs": [
    {
     "name": "stdout",
     "output_type": "stream",
     "text": [
      "(9997, 56)\n"
     ]
    }
   ],
   "source": [
    "visitas = pd.merge(ultimas_visitas, visitas_unicas, how='left', on=['fullVisitorId', 'visitNumber'])\n",
    "primeiras_visitas_df = pd.merge(primeiras_visitas, visitas_unicas, how='left', on=['fullVisitorId', 'visitNumber'])\n",
    "visitas = pd.merge(visitas, primeiras_visitas_df, how='right', on='fullVisitorId', suffixes=['_ultima', '_primeira'])\n",
    "visitas = pd.merge(visitas, df_quant, how='left', on='fullVisitorId')\n",
    "print(visitas.shape)"
   ]
  },
  {
   "cell_type": "code",
   "execution_count": 32,
   "id": "34404677",
   "metadata": {},
   "outputs": [],
   "source": [
    "ids = ['sessionId_ultima','visitId_ultima','sessionId_primeira', 'visitId_primeira']\n",
    "geo = ['continent_primeira', 'subContinent_primeira', 'country_primeira', 'region_primeira', \n",
    "       'metro_primeira', 'city_primeira', 'networkDomain_primeira']\n",
    "visitas.drop(ids,axis=1,inplace=True)\n",
    "visitas.drop(geo,axis=1,inplace=True)"
   ]
  },
  {
   "cell_type": "code",
   "execution_count": 33,
   "id": "3e037360",
   "metadata": {},
   "outputs": [
    {
     "data": {
      "text/plain": [
       "Index(['fullVisitorId', 'visitNumber_ultima', 'channelGrouping_ultima',\n",
       "       'date_ultima', 'visitStartTime_ultima', 'browser_ultima',\n",
       "       'operatingSystem_ultima', 'isMobile_ultima', 'deviceCategory_ultima',\n",
       "       'continent_ultima', 'subContinent_ultima', 'country_ultima',\n",
       "       'region_ultima', 'metro_ultima', 'city_ultima', 'networkDomain_ultima',\n",
       "       'campaign_ultima', 'source_ultima', 'medium_ultima', 'keyword_ultima',\n",
       "       'isTrueDirect_ultima', 'referralPath_ultima', 'adContent_ultima',\n",
       "       'campaignCode_ultima', 'visitNumber_primeira',\n",
       "       'channelGrouping_primeira', 'date_primeira', 'visitStartTime_primeira',\n",
       "       'browser_primeira', 'operatingSystem_primeira', 'isMobile_primeira',\n",
       "       'deviceCategory_primeira', 'campaign_primeira', 'source_primeira',\n",
       "       'medium_primeira', 'keyword_primeira', 'isTrueDirect_primeira',\n",
       "       'referralPath_primeira', 'adContent_primeira', 'campaignCode_primeira',\n",
       "       'hits', 'pageviews', 'bounces', 'newVisits', 'transactionRevenue'],\n",
       "      dtype='object')"
      ]
     },
     "execution_count": 33,
     "metadata": {},
     "output_type": "execute_result"
    }
   ],
   "source": [
    "visitas.columns"
   ]
  },
  {
   "cell_type": "code",
   "execution_count": 34,
   "id": "f9fa8d84",
   "metadata": {},
   "outputs": [],
   "source": [
    "numero_de_visitas = df.groupby('fullVisitorId', as_index=False).count()[['fullVisitorId', 'sessionId']]\n",
    "numero_de_visitas = numero_de_visitas.rename({'sessionId': 'visits'}, axis=1)\n",
    "visitas = pd.merge(visitas, numero_de_visitas, how='left', on='fullVisitorId')\n",
    "\n",
    "visitas['tempo_dif'] = visitas.visitStartTime_ultima - visitas.visitStartTime_primeira"
   ]
  },
  {
   "cell_type": "code",
   "execution_count": 35,
   "id": "ff18a585",
   "metadata": {},
   "outputs": [],
   "source": [
    "visitas['ano_ultima'] = pd.to_numeric([data[0:4] for data in visitas.date_ultima])\n",
    "visitas['mes_ultima'] = pd.to_numeric([data[4:6] for data in visitas.date_ultima])\n",
    "visitas['dia_ultima'] = pd.to_numeric([data[6:8] for data in visitas.date_ultima])\n",
    "visitas['ano_primeira'] = pd.to_numeric([data[0:4] for data in visitas.date_primeira])\n",
    "visitas['mes_primeira'] = pd.to_numeric([data[4:6] for data in visitas.date_primeira])\n",
    "visitas['dia_primeira'] = pd.to_numeric([data[6:8] for data in visitas.date_primeira])"
   ]
  },
  {
   "cell_type": "code",
   "execution_count": 36,
   "id": "4ea2fd20",
   "metadata": {},
   "outputs": [
    {
     "data": {
      "text/plain": [
       "fullVisitorId                object\n",
       "visitNumber_ultima            int64\n",
       "channelGrouping_ultima       object\n",
       "date_ultima                  object\n",
       "visitStartTime_ultima         int64\n",
       "browser_ultima               object\n",
       "operatingSystem_ultima       object\n",
       "isMobile_ultima                bool\n",
       "deviceCategory_ultima        object\n",
       "continent_ultima             object\n",
       "subContinent_ultima          object\n",
       "country_ultima               object\n",
       "region_ultima                object\n",
       "metro_ultima                 object\n",
       "city_ultima                  object\n",
       "networkDomain_ultima         object\n",
       "campaign_ultima              object\n",
       "source_ultima                object\n",
       "medium_ultima                object\n",
       "keyword_ultima               object\n",
       "isTrueDirect_ultima          object\n",
       "referralPath_ultima          object\n",
       "adContent_ultima             object\n",
       "campaignCode_ultima          object\n",
       "visitNumber_primeira          int64\n",
       "channelGrouping_primeira     object\n",
       "date_primeira                object\n",
       "visitStartTime_primeira       int64\n",
       "browser_primeira             object\n",
       "operatingSystem_primeira     object\n",
       "isMobile_primeira              bool\n",
       "deviceCategory_primeira      object\n",
       "campaign_primeira            object\n",
       "source_primeira              object\n",
       "medium_primeira              object\n",
       "keyword_primeira             object\n",
       "isTrueDirect_primeira        object\n",
       "referralPath_primeira        object\n",
       "adContent_primeira           object\n",
       "campaignCode_primeira        object\n",
       "hits                          int64\n",
       "pageviews                     int64\n",
       "bounces                     float64\n",
       "newVisits                   float64\n",
       "transactionRevenue          float64\n",
       "visits                        int64\n",
       "tempo_dif                     int64\n",
       "ano_ultima                    int64\n",
       "mes_ultima                    int64\n",
       "dia_ultima                    int64\n",
       "ano_primeira                  int64\n",
       "mes_primeira                  int64\n",
       "dia_primeira                  int64\n",
       "dtype: object"
      ]
     },
     "execution_count": 36,
     "metadata": {},
     "output_type": "execute_result"
    }
   ],
   "source": [
    "visitas.dtypes"
   ]
  },
  {
   "cell_type": "code",
   "execution_count": 37,
   "id": "de1c624b",
   "metadata": {},
   "outputs": [
    {
     "data": {
      "text/plain": [
       "(9997, 53)"
      ]
     },
     "execution_count": 37,
     "metadata": {},
     "output_type": "execute_result"
    }
   ],
   "source": [
    "visitas.shape"
   ]
  },
  {
   "cell_type": "code",
   "execution_count": 38,
   "id": "30c58f22",
   "metadata": {},
   "outputs": [],
   "source": [
    "visitas.drop(['fullVisitorId'], axis=1, inplace=True)"
   ]
  },
  {
   "cell_type": "code",
   "execution_count": 45,
   "id": "7302a93e",
   "metadata": {},
   "outputs": [],
   "source": [
    "y = visitas['transactionRevenue'].copy()\n",
    "X = visitas.drop('transactionRevenue', axis=1)"
   ]
  },
  {
   "cell_type": "code",
   "execution_count": 55,
   "id": "ffdc9508",
   "metadata": {},
   "outputs": [],
   "source": [
    "colunas_categoricas = X.select_dtypes(object).columns.values\n",
    "\n",
    "for coluna in colunas_categoricas:\n",
    "    encoder = LabelEncoder()\n",
    "    string = list(X[coluna].astype('str'))\n",
    "    X[coluna] = encoder.fit_transform(string)"
   ]
  },
  {
   "cell_type": "code",
   "execution_count": 73,
   "id": "11fb1b0e",
   "metadata": {},
   "outputs": [
    {
     "data": {
      "text/html": [
       "<div>\n",
       "<style scoped>\n",
       "    .dataframe tbody tr th:only-of-type {\n",
       "        vertical-align: middle;\n",
       "    }\n",
       "\n",
       "    .dataframe tbody tr th {\n",
       "        vertical-align: top;\n",
       "    }\n",
       "\n",
       "    .dataframe thead th {\n",
       "        text-align: right;\n",
       "    }\n",
       "</style>\n",
       "<table border=\"1\" class=\"dataframe\">\n",
       "  <thead>\n",
       "    <tr style=\"text-align: right;\">\n",
       "      <th></th>\n",
       "      <th>visitNumber_ultima</th>\n",
       "      <th>channelGrouping_ultima</th>\n",
       "      <th>date_ultima</th>\n",
       "      <th>visitStartTime_ultima</th>\n",
       "      <th>browser_ultima</th>\n",
       "      <th>operatingSystem_ultima</th>\n",
       "      <th>isMobile_ultima</th>\n",
       "      <th>deviceCategory_ultima</th>\n",
       "      <th>continent_ultima</th>\n",
       "      <th>subContinent_ultima</th>\n",
       "      <th>...</th>\n",
       "      <th>bounces</th>\n",
       "      <th>newVisits</th>\n",
       "      <th>visits</th>\n",
       "      <th>tempo_dif</th>\n",
       "      <th>ano_ultima</th>\n",
       "      <th>mes_ultima</th>\n",
       "      <th>dia_ultima</th>\n",
       "      <th>ano_primeira</th>\n",
       "      <th>mes_primeira</th>\n",
       "      <th>dia_primeira</th>\n",
       "    </tr>\n",
       "  </thead>\n",
       "  <tbody>\n",
       "    <tr>\n",
       "      <th>0</th>\n",
       "      <td>1</td>\n",
       "      <td>7</td>\n",
       "      <td>34</td>\n",
       "      <td>1472974804</td>\n",
       "      <td>7</td>\n",
       "      <td>9</td>\n",
       "      <td>False</td>\n",
       "      <td>0</td>\n",
       "      <td>4</td>\n",
       "      <td>7</td>\n",
       "      <td>...</td>\n",
       "      <td>1.0</td>\n",
       "      <td>1.0</td>\n",
       "      <td>1</td>\n",
       "      <td>0</td>\n",
       "      <td>2016</td>\n",
       "      <td>9</td>\n",
       "      <td>4</td>\n",
       "      <td>2016</td>\n",
       "      <td>9</td>\n",
       "      <td>4</td>\n",
       "    </tr>\n",
       "    <tr>\n",
       "      <th>1</th>\n",
       "      <td>1</td>\n",
       "      <td>4</td>\n",
       "      <td>58</td>\n",
       "      <td>1475084026</td>\n",
       "      <td>5</td>\n",
       "      <td>3</td>\n",
       "      <td>False</td>\n",
       "      <td>0</td>\n",
       "      <td>2</td>\n",
       "      <td>11</td>\n",
       "      <td>...</td>\n",
       "      <td>0.0</td>\n",
       "      <td>1.0</td>\n",
       "      <td>1</td>\n",
       "      <td>0</td>\n",
       "      <td>2016</td>\n",
       "      <td>9</td>\n",
       "      <td>28</td>\n",
       "      <td>2016</td>\n",
       "      <td>9</td>\n",
       "      <td>28</td>\n",
       "    </tr>\n",
       "    <tr>\n",
       "      <th>2</th>\n",
       "      <td>1</td>\n",
       "      <td>7</td>\n",
       "      <td>126</td>\n",
       "      <td>1480996024</td>\n",
       "      <td>5</td>\n",
       "      <td>9</td>\n",
       "      <td>False</td>\n",
       "      <td>0</td>\n",
       "      <td>3</td>\n",
       "      <td>15</td>\n",
       "      <td>...</td>\n",
       "      <td>0.0</td>\n",
       "      <td>1.0</td>\n",
       "      <td>1</td>\n",
       "      <td>0</td>\n",
       "      <td>2016</td>\n",
       "      <td>12</td>\n",
       "      <td>5</td>\n",
       "      <td>2016</td>\n",
       "      <td>12</td>\n",
       "      <td>5</td>\n",
       "    </tr>\n",
       "    <tr>\n",
       "      <th>3</th>\n",
       "      <td>1</td>\n",
       "      <td>7</td>\n",
       "      <td>62</td>\n",
       "      <td>1475423502</td>\n",
       "      <td>15</td>\n",
       "      <td>9</td>\n",
       "      <td>False</td>\n",
       "      <td>0</td>\n",
       "      <td>4</td>\n",
       "      <td>7</td>\n",
       "      <td>...</td>\n",
       "      <td>1.0</td>\n",
       "      <td>1.0</td>\n",
       "      <td>1</td>\n",
       "      <td>0</td>\n",
       "      <td>2016</td>\n",
       "      <td>10</td>\n",
       "      <td>2</td>\n",
       "      <td>2016</td>\n",
       "      <td>10</td>\n",
       "      <td>2</td>\n",
       "    </tr>\n",
       "    <tr>\n",
       "      <th>4</th>\n",
       "      <td>6</td>\n",
       "      <td>2</td>\n",
       "      <td>262</td>\n",
       "      <td>1492707286</td>\n",
       "      <td>18</td>\n",
       "      <td>6</td>\n",
       "      <td>False</td>\n",
       "      <td>0</td>\n",
       "      <td>2</td>\n",
       "      <td>11</td>\n",
       "      <td>...</td>\n",
       "      <td>0.0</td>\n",
       "      <td>0.0</td>\n",
       "      <td>1</td>\n",
       "      <td>0</td>\n",
       "      <td>2017</td>\n",
       "      <td>4</td>\n",
       "      <td>20</td>\n",
       "      <td>2017</td>\n",
       "      <td>4</td>\n",
       "      <td>20</td>\n",
       "    </tr>\n",
       "  </tbody>\n",
       "</table>\n",
       "<p>5 rows × 51 columns</p>\n",
       "</div>"
      ],
      "text/plain": [
       "   visitNumber_ultima  channelGrouping_ultima  date_ultima  \\\n",
       "0                   1                       7           34   \n",
       "1                   1                       4           58   \n",
       "2                   1                       7          126   \n",
       "3                   1                       7           62   \n",
       "4                   6                       2          262   \n",
       "\n",
       "   visitStartTime_ultima  browser_ultima  operatingSystem_ultima  \\\n",
       "0             1472974804               7                       9   \n",
       "1             1475084026               5                       3   \n",
       "2             1480996024               5                       9   \n",
       "3             1475423502              15                       9   \n",
       "4             1492707286              18                       6   \n",
       "\n",
       "   isMobile_ultima  deviceCategory_ultima  continent_ultima  \\\n",
       "0            False                      0                 4   \n",
       "1            False                      0                 2   \n",
       "2            False                      0                 3   \n",
       "3            False                      0                 4   \n",
       "4            False                      0                 2   \n",
       "\n",
       "   subContinent_ultima  ...  bounces  newVisits  visits  tempo_dif  \\\n",
       "0                    7  ...      1.0        1.0       1          0   \n",
       "1                   11  ...      0.0        1.0       1          0   \n",
       "2                   15  ...      0.0        1.0       1          0   \n",
       "3                    7  ...      1.0        1.0       1          0   \n",
       "4                   11  ...      0.0        0.0       1          0   \n",
       "\n",
       "   ano_ultima  mes_ultima  dia_ultima  ano_primeira  mes_primeira  \\\n",
       "0        2016           9           4          2016             9   \n",
       "1        2016           9          28          2016             9   \n",
       "2        2016          12           5          2016            12   \n",
       "3        2016          10           2          2016            10   \n",
       "4        2017           4          20          2017             4   \n",
       "\n",
       "   dia_primeira  \n",
       "0             4  \n",
       "1            28  \n",
       "2             5  \n",
       "3             2  \n",
       "4            20  \n",
       "\n",
       "[5 rows x 51 columns]"
      ]
     },
     "execution_count": 73,
     "metadata": {},
     "output_type": "execute_result"
    }
   ],
   "source": [
    "X.head()"
   ]
  },
  {
   "cell_type": "code",
   "execution_count": 60,
   "id": "ab827361",
   "metadata": {},
   "outputs": [],
   "source": [
    "X_train, X_test, y_train, y_test = train_test_split(X, y, test_size=0.3, random_state=42)"
   ]
  },
  {
   "cell_type": "code",
   "execution_count": 74,
   "id": "b9610642",
   "metadata": {},
   "outputs": [],
   "source": [
    "reg = LinearRegression()\n",
    "reg.fit(X_train, y_train)\n",
    "y_pred = reg.predict(X_test)\n",
    "y_pred[y_pred < 0] = 0"
   ]
  },
  {
   "cell_type": "code",
   "execution_count": 75,
   "id": "cb2b47e7",
   "metadata": {},
   "outputs": [
    {
     "data": {
      "text/html": [
       "<div>\n",
       "<style scoped>\n",
       "    .dataframe tbody tr th:only-of-type {\n",
       "        vertical-align: middle;\n",
       "    }\n",
       "\n",
       "    .dataframe tbody tr th {\n",
       "        vertical-align: top;\n",
       "    }\n",
       "\n",
       "    .dataframe thead th {\n",
       "        text-align: right;\n",
       "    }\n",
       "</style>\n",
       "<table border=\"1\" class=\"dataframe\">\n",
       "  <thead>\n",
       "    <tr style=\"text-align: right;\">\n",
       "      <th></th>\n",
       "      <th>y_real</th>\n",
       "      <th>y_pred</th>\n",
       "      <th>erro</th>\n",
       "    </tr>\n",
       "  </thead>\n",
       "  <tbody>\n",
       "    <tr>\n",
       "      <th>4122</th>\n",
       "      <td>0.0</td>\n",
       "      <td>0.000000</td>\n",
       "      <td>0.000000</td>\n",
       "    </tr>\n",
       "    <tr>\n",
       "      <th>4065</th>\n",
       "      <td>0.0</td>\n",
       "      <td>0.000000</td>\n",
       "      <td>0.000000</td>\n",
       "    </tr>\n",
       "    <tr>\n",
       "      <th>1731</th>\n",
       "      <td>0.0</td>\n",
       "      <td>0.000000</td>\n",
       "      <td>0.000000</td>\n",
       "    </tr>\n",
       "    <tr>\n",
       "      <th>4740</th>\n",
       "      <td>0.0</td>\n",
       "      <td>0.658041</td>\n",
       "      <td>-0.658041</td>\n",
       "    </tr>\n",
       "    <tr>\n",
       "      <th>6391</th>\n",
       "      <td>0.0</td>\n",
       "      <td>0.000000</td>\n",
       "      <td>0.000000</td>\n",
       "    </tr>\n",
       "  </tbody>\n",
       "</table>\n",
       "</div>"
      ],
      "text/plain": [
       "      y_real    y_pred      erro\n",
       "4122     0.0  0.000000  0.000000\n",
       "4065     0.0  0.000000  0.000000\n",
       "1731     0.0  0.000000  0.000000\n",
       "4740     0.0  0.658041 -0.658041\n",
       "6391     0.0  0.000000  0.000000"
      ]
     },
     "execution_count": 75,
     "metadata": {},
     "output_type": "execute_result"
    }
   ],
   "source": [
    "df_pred = pd.DataFrame()\n",
    "df_pred['y_real'] = y_test\n",
    "df_pred['y_pred'] = y_pred\n",
    "df_pred['erro'] = df_pred['y_real'] - df_pred['y_pred']\n",
    "df_pred.head()"
   ]
  },
  {
   "cell_type": "code",
   "execution_count": 76,
   "id": "ab672363",
   "metadata": {},
   "outputs": [
    {
     "data": {
      "text/plain": [
       "31.53688113094585"
      ]
     },
     "execution_count": 76,
     "metadata": {},
     "output_type": "execute_result"
    }
   ],
   "source": [
    "np.sqrt(mean_squared_error(y_test, y_pred))"
   ]
  },
  {
   "cell_type": "code",
   "execution_count": 77,
   "id": "1aef0625",
   "metadata": {},
   "outputs": [
    {
     "name": "stderr",
     "output_type": "stream",
     "text": [
      "E:\\Anaconda3\\lib\\site-packages\\seaborn\\_decorators.py:36: FutureWarning: Pass the following variable as a keyword arg: x. From version 0.12, the only valid positional argument will be `data`, and passing other arguments without an explicit keyword will result in an error or misinterpretation.\n",
      "  warnings.warn(\n"
     ]
    },
    {
     "data": {
      "text/plain": [
       "<AxesSubplot:>"
      ]
     },
     "execution_count": 77,
     "metadata": {},
     "output_type": "execute_result"
    },
    {
     "data": {
      "image/png": "[encoded data removed]",
      "text/plain": [
       "<Figure size 432x288 with 1 Axes>"
      ]
     },
     "metadata": {
      "needs_background": "light"
     },
     "output_type": "display_data"
    }
   ],
   "source": [
    "sns.boxplot(y_pred)"
   ]
  },
  {
   "cell_type": "markdown",
   "id": "f919ea70",
   "metadata": {},
   "source": [
    "## Modelo gradientBoost"
   ]
  },
  {
   "cell_type": "code",
   "execution_count": 80,
   "id": "cf15b1b0",
   "metadata": {},
   "outputs": [],
   "source": [
    "reg = GradientBoostingRegressor()\n",
    "reg.fit(X_train, y_train)\n",
    "y_pred = reg.predict(X_test)\n",
    "y_pred[y_pred < 0] = 0"
   ]
  },
  {
   "cell_type": "code",
   "execution_count": 81,
   "id": "ce370cc2",
   "metadata": {},
   "outputs": [
    {
     "data": {
      "text/html": [
       "<div>\n",
       "<style scoped>\n",
       "    .dataframe tbody tr th:only-of-type {\n",
       "        vertical-align: middle;\n",
       "    }\n",
       "\n",
       "    .dataframe tbody tr th {\n",
       "        vertical-align: top;\n",
       "    }\n",
       "\n",
       "    .dataframe thead th {\n",
       "        text-align: right;\n",
       "    }\n",
       "</style>\n",
       "<table border=\"1\" class=\"dataframe\">\n",
       "  <thead>\n",
       "    <tr style=\"text-align: right;\">\n",
       "      <th></th>\n",
       "      <th>y_real</th>\n",
       "      <th>y_pred</th>\n",
       "      <th>erro</th>\n",
       "    </tr>\n",
       "  </thead>\n",
       "  <tbody>\n",
       "    <tr>\n",
       "      <th>4122</th>\n",
       "      <td>0.0</td>\n",
       "      <td>0.032582</td>\n",
       "      <td>-0.032582</td>\n",
       "    </tr>\n",
       "    <tr>\n",
       "      <th>4065</th>\n",
       "      <td>0.0</td>\n",
       "      <td>0.000000</td>\n",
       "      <td>0.000000</td>\n",
       "    </tr>\n",
       "    <tr>\n",
       "      <th>1731</th>\n",
       "      <td>0.0</td>\n",
       "      <td>0.000000</td>\n",
       "      <td>0.000000</td>\n",
       "    </tr>\n",
       "    <tr>\n",
       "      <th>4740</th>\n",
       "      <td>0.0</td>\n",
       "      <td>0.000000</td>\n",
       "      <td>0.000000</td>\n",
       "    </tr>\n",
       "    <tr>\n",
       "      <th>6391</th>\n",
       "      <td>0.0</td>\n",
       "      <td>0.000000</td>\n",
       "      <td>0.000000</td>\n",
       "    </tr>\n",
       "  </tbody>\n",
       "</table>\n",
       "</div>"
      ],
      "text/plain": [
       "      y_real    y_pred      erro\n",
       "4122     0.0  0.032582 -0.032582\n",
       "4065     0.0  0.000000  0.000000\n",
       "1731     0.0  0.000000  0.000000\n",
       "4740     0.0  0.000000  0.000000\n",
       "6391     0.0  0.000000  0.000000"
      ]
     },
     "execution_count": 81,
     "metadata": {},
     "output_type": "execute_result"
    }
   ],
   "source": [
    "df_pred = pd.DataFrame()\n",
    "df_pred['y_real'] = y_test\n",
    "df_pred['y_pred'] = y_pred\n",
    "df_pred['erro'] = df_pred['y_real'] - df_pred['y_pred']\n",
    "df_pred.head()"
   ]
  },
  {
   "cell_type": "code",
   "execution_count": 82,
   "id": "2b907131",
   "metadata": {},
   "outputs": [
    {
     "data": {
      "text/plain": [
       "23.865916822777184"
      ]
     },
     "execution_count": 82,
     "metadata": {},
     "output_type": "execute_result"
    }
   ],
   "source": [
    "np.sqrt(mean_squared_error(y_test, y_pred))"
   ]
  },
  {
   "cell_type": "code",
   "execution_count": 83,
   "id": "4e2b837f",
   "metadata": {},
   "outputs": [
    {
     "name": "stderr",
     "output_type": "stream",
     "text": [
      "E:\\Anaconda3\\lib\\site-packages\\seaborn\\_decorators.py:36: FutureWarning: Pass the following variable as a keyword arg: x. From version 0.12, the only valid positional argument will be `data`, and passing other arguments without an explicit keyword will result in an error or misinterpretation.\n",
      "  warnings.warn(\n"
     ]
    },
    {
     "data": {
      "text/plain": [
       "<AxesSubplot:>"
      ]
     },
     "execution_count": 83,
     "metadata": {},
     "output_type": "execute_result"
    },
    {
     "data": {
      "image/png": "[encoded data removed]",
      "text/plain": [
       "<Figure size 432x288 with 1 Axes>"
      ]
     },
     "metadata": {
      "needs_background": "light"
     },
     "output_type": "display_data"
    }
   ],
   "source": [
    "sns.boxplot(y_pred)"
   ]
  },
  {
   "cell_type": "markdown",
   "id": "a0c90a43",
   "metadata": {},
   "source": [
    "## Tentando um novo modelo "
   ]
  },
  {
   "cell_type": "code",
   "execution_count": 84,
   "id": "a54aaf03",
   "metadata": {},
   "outputs": [],
   "source": [
    "y = visitas['transactionRevenue'].copy()\n",
    "X = visitas.drop('transactionRevenue', axis=1)"
   ]
  },
  {
   "cell_type": "code",
   "execution_count": 85,
   "id": "bc276234",
   "metadata": {},
   "outputs": [],
   "source": [
    "colunas_categoricas = X.select_dtypes(object).columns.values\n",
    "\n",
    "for coluna in colunas_categoricas:\n",
    "    encoder = LabelEncoder()\n",
    "    string = list(X[coluna].astype('str'))\n",
    "    X[coluna] = encoder.fit_transform(string)"
   ]
  },
  {
   "cell_type": "code",
   "execution_count": 89,
   "id": "b8701426",
   "metadata": {
    "scrolled": false
   },
   "outputs": [
    {
     "data": {
      "text/plain": [
       "visitNumber_ultima            int64\n",
       "channelGrouping_ultima       object\n",
       "date_ultima                  object\n",
       "visitStartTime_ultima         int64\n",
       "browser_ultima               object\n",
       "operatingSystem_ultima       object\n",
       "isMobile_ultima                bool\n",
       "deviceCategory_ultima        object\n",
       "continent_ultima             object\n",
       "subContinent_ultima          object\n",
       "country_ultima               object\n",
       "region_ultima                object\n",
       "metro_ultima                 object\n",
       "city_ultima                  object\n",
       "networkDomain_ultima         object\n",
       "campaign_ultima              object\n",
       "source_ultima                object\n",
       "medium_ultima                object\n",
       "keyword_ultima               object\n",
       "isTrueDirect_ultima          object\n",
       "referralPath_ultima          object\n",
       "adContent_ultima             object\n",
       "campaignCode_ultima          object\n",
       "visitNumber_primeira          int64\n",
       "channelGrouping_primeira     object\n",
       "date_primeira                object\n",
       "visitStartTime_primeira       int64\n",
       "browser_primeira             object\n",
       "operatingSystem_primeira     object\n",
       "isMobile_primeira              bool\n",
       "deviceCategory_primeira      object\n",
       "campaign_primeira            object\n",
       "source_primeira              object\n",
       "medium_primeira              object\n",
       "keyword_primeira             object\n",
       "isTrueDirect_primeira        object\n",
       "referralPath_primeira        object\n",
       "adContent_primeira           object\n",
       "campaignCode_primeira        object\n",
       "hits                          int64\n",
       "pageviews                     int64\n",
       "bounces                     float64\n",
       "newVisits                   float64\n",
       "transactionRevenue          float64\n",
       "visits                        int64\n",
       "tempo_dif                     int64\n",
       "ano_ultima                    int64\n",
       "mes_ultima                    int64\n",
       "dia_ultima                    int64\n",
       "ano_primeira                  int64\n",
       "mes_primeira                  int64\n",
       "dia_primeira                  int64\n",
       "dtype: object"
      ]
     },
     "execution_count": 89,
     "metadata": {},
     "output_type": "execute_result"
    }
   ],
   "source": [
    "visitas.dtypes"
   ]
  },
  {
   "cell_type": "code",
   "execution_count": 90,
   "id": "39c1e681",
   "metadata": {},
   "outputs": [],
   "source": [
    "X.drop(['visitStartTime_ultima', 'visitStartTime_primeira'], axis=1, inplace=True)"
   ]
  },
  {
   "cell_type": "code",
   "execution_count": 95,
   "id": "b4803954",
   "metadata": {},
   "outputs": [
    {
     "data": {
      "text/plain": [
       "visitNumber_ultima         0.150061\n",
       "visitStartTime_ultima     -0.000570\n",
       "isMobile_ultima           -0.037897\n",
       "visitNumber_primeira       0.087550\n",
       "visitStartTime_primeira   -0.009829\n",
       "isMobile_primeira         -0.037885\n",
       "hits                       0.429253\n",
       "pageviews                  0.428625\n",
       "bounces                   -0.015126\n",
       "newVisits                 -0.085076\n",
       "transactionRevenue         1.000000\n",
       "visits                     0.180726\n",
       "tempo_dif                  0.070569\n",
       "ano_ultima                 0.013293\n",
       "mes_ultima                -0.023177\n",
       "dia_ultima                -0.002409\n",
       "ano_primeira              -0.004265\n",
       "mes_primeira              -0.000986\n",
       "dia_primeira              -0.014846\n",
       "Name: transactionRevenue, dtype: float64"
      ]
     },
     "execution_count": 95,
     "metadata": {},
     "output_type": "execute_result"
    }
   ],
   "source": [
    "visitas.corr()['transactionRevenue']"
   ]
  },
  {
   "cell_type": "code",
   "execution_count": 96,
   "id": "43079792",
   "metadata": {},
   "outputs": [],
   "source": [
    "X_train, X_test, y_train, y_test = train_test_split(X, y, test_size=0.3, random_state=42)"
   ]
  },
  {
   "cell_type": "code",
   "execution_count": 97,
   "id": "d60fed06",
   "metadata": {},
   "outputs": [
    {
     "data": {
      "text/html": [
       "<div>\n",
       "<style scoped>\n",
       "    .dataframe tbody tr th:only-of-type {\n",
       "        vertical-align: middle;\n",
       "    }\n",
       "\n",
       "    .dataframe tbody tr th {\n",
       "        vertical-align: top;\n",
       "    }\n",
       "\n",
       "    .dataframe thead th {\n",
       "        text-align: right;\n",
       "    }\n",
       "</style>\n",
       "<table border=\"1\" class=\"dataframe\">\n",
       "  <thead>\n",
       "    <tr style=\"text-align: right;\">\n",
       "      <th></th>\n",
       "      <th>y_real</th>\n",
       "      <th>y_pred</th>\n",
       "      <th>erro</th>\n",
       "    </tr>\n",
       "  </thead>\n",
       "  <tbody>\n",
       "    <tr>\n",
       "      <th>4122</th>\n",
       "      <td>0.0</td>\n",
       "      <td>0.027726</td>\n",
       "      <td>-0.027726</td>\n",
       "    </tr>\n",
       "    <tr>\n",
       "      <th>4065</th>\n",
       "      <td>0.0</td>\n",
       "      <td>0.000000</td>\n",
       "      <td>0.000000</td>\n",
       "    </tr>\n",
       "    <tr>\n",
       "      <th>1731</th>\n",
       "      <td>0.0</td>\n",
       "      <td>0.000000</td>\n",
       "      <td>0.000000</td>\n",
       "    </tr>\n",
       "    <tr>\n",
       "      <th>4740</th>\n",
       "      <td>0.0</td>\n",
       "      <td>0.000000</td>\n",
       "      <td>0.000000</td>\n",
       "    </tr>\n",
       "    <tr>\n",
       "      <th>6391</th>\n",
       "      <td>0.0</td>\n",
       "      <td>0.158724</td>\n",
       "      <td>-0.158724</td>\n",
       "    </tr>\n",
       "  </tbody>\n",
       "</table>\n",
       "</div>"
      ],
      "text/plain": [
       "      y_real    y_pred      erro\n",
       "4122     0.0  0.027726 -0.027726\n",
       "4065     0.0  0.000000  0.000000\n",
       "1731     0.0  0.000000  0.000000\n",
       "4740     0.0  0.000000  0.000000\n",
       "6391     0.0  0.158724 -0.158724"
      ]
     },
     "execution_count": 97,
     "metadata": {},
     "output_type": "execute_result"
    }
   ],
   "source": [
    "reg = GradientBoostingRegressor()\n",
    "reg.fit(X_train, y_train)\n",
    "y_pred = reg.predict(X_test)\n",
    "y_pred[y_pred < 0] = 0\n",
    "\n",
    "df_pred = pd.DataFrame()\n",
    "df_pred['y_real'] = y_test\n",
    "df_pred['y_pred'] = y_pred\n",
    "df_pred['erro'] = df_pred['y_real'] - df_pred['y_pred']\n",
    "df_pred.head()"
   ]
  },
  {
   "cell_type": "code",
   "execution_count": 98,
   "id": "7d40fe5f",
   "metadata": {},
   "outputs": [
    {
     "data": {
      "text/plain": [
       "23.888092239436375"
      ]
     },
     "execution_count": 98,
     "metadata": {},
     "output_type": "execute_result"
    }
   ],
   "source": [
    "np.sqrt(mean_squared_error(y_test, y_pred))"
   ]
  },
  {
   "cell_type": "code",
   "execution_count": 99,
   "id": "b9085ffc",
   "metadata": {},
   "outputs": [
    {
     "data": {
      "text/plain": [
       "(3000,)"
      ]
     },
     "execution_count": 99,
     "metadata": {},
     "output_type": "execute_result"
    }
   ],
   "source": [
    "y_pred.shape"
   ]
  },
  {
   "cell_type": "code",
   "execution_count": null,
   "id": "d7d6def8",
   "metadata": {},
   "outputs": [],
   "source": []
  }
 ],
 "metadata": {
  "kernelspec": {
   "display_name": "Python 3 (ipykernel)",
   "language": "python",
   "name": "python3"
  },
  "language_info": {
   "codemirror_mode": {
    "name": "ipython",
    "version": 3
   },
   "file_extension": ".py",
   "mimetype": "text/x-python",
   "name": "python",
   "nbconvert_exporter": "python",
   "pygments_lexer": "ipython3",
   "version": "3.8.11"
  }
 },
 "nbformat": 4,
 "nbformat_minor": 5
}
