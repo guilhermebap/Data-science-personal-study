{
 "cells": [
  {
   "cell_type": "markdown",
   "id": "0e2c4810",
   "metadata": {},
   "source": [
    "# Curso: Data Analytics Machine Learning com Google Cloud Platform\n",
    "\n",
    "## Objetivos:\n",
    "* Aprenda conceitos avançados de Machine Learning no Marketing Digital\n",
    "* Entenda como usar os hits do Google Analytics no seu modelo\n",
    "* Aprenda a usar o Google Cloud Platform\n",
    "* Use o Google Big Query como fonte de dados\n",
    "* Aprenda a usar o notebook do Google Datalab\n",
    "* Aprenda a fazer downsampling em bases desbalanceadas\n",
    "* Treine modelos com XGBoost\n",
    "\n",
    "Link: https://cursos.alura.com.br/course/data-analytics-google-cloud"
   ]
  },
  {
   "cell_type": "markdown",
   "id": "be5c69c9",
   "metadata": {},
   "source": [
    "## Importando as bibliotecas necessárias"
   ]
  },
  {
   "cell_type": "code",
   "execution_count": null,
   "id": "0061fc29",
   "metadata": {},
   "outputs": [],
   "source": []
  },
  {
   "cell_type": "markdown",
   "id": "5a29a808",
   "metadata": {},
   "source": [
    "## Carregando os dados"
   ]
  },
  {
   "cell_type": "code",
   "execution_count": null,
   "id": "57cb9112",
   "metadata": {},
   "outputs": [],
   "source": []
  },
  {
   "cell_type": "code",
   "execution_count": null,
   "id": "2c93917f",
   "metadata": {},
   "outputs": [],
   "source": []
  },
  {
   "cell_type": "code",
   "execution_count": null,
   "id": "973f6a06",
   "metadata": {},
   "outputs": [],
   "source": []
  }
 ],
 "metadata": {
  "kernelspec": {
   "display_name": "Python 3 (ipykernel)",
   "language": "python",
   "name": "python3"
  },
  "language_info": {
   "codemirror_mode": {
    "name": "ipython",
    "version": 3
   },
   "file_extension": ".py",
   "mimetype": "text/x-python",
   "name": "python",
   "nbconvert_exporter": "python",
   "pygments_lexer": "ipython3",
   "version": "3.8.11"
  }
 },
 "nbformat": 4,
 "nbformat_minor": 5
}
