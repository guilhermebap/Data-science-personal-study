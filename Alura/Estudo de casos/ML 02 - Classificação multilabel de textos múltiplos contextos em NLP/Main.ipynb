{
 "cells": [
  {
   "cell_type": "markdown",
   "id": "4a928c79",
   "metadata": {},
   "source": [
    "# Classificação multilabel de textos: múltiplos contextos em NLP\n",
    "\n",
    "## Objetivos:\n",
    "* Aprenda o que é a classificação multilabel.\n",
    "* Conheça a diferença entre a classificação multilabel e classificação multiclass.\n",
    "* Aplique classificação multilabel para classificar tags das questões do Stackoverflow.\n",
    "* Aprenda as métricas de avaliações para modelos de classificação multilabel.\n",
    "* Conheça o Scikit-Multilearn, biblioteca específica para trabalhar com classificação multilabel.\n",
    "\n",
    "link: https://cursos.alura.com.br/course/classificacao-multilabel-nlp"
   ]
  },
  {
   "cell_type": "markdown",
   "id": "bb7bd42c",
   "metadata": {},
   "source": [
    "## Importando as bibliotecas necessárias"
   ]
  },
  {
   "cell_type": "code",
   "execution_count": 36,
   "id": "7791659e",
   "metadata": {},
   "outputs": [],
   "source": [
    "import numpy as np\n",
    "import pandas as pd\n",
    "import matplotlib.pyplot as plt\n",
    "\n",
    "from sklearn.model_selection import train_test_split\n",
    "from sklearn.feature_extraction.text import TfidfVectorizer\n",
    "from sklearn.multiclass import OneVsRestClassifier\n",
    "from sklearn.linear_model import LogisticRegression\n",
    "from sklearn.preprocessing import MultiLabelBinarizer\n",
    "from sklearn.metrics import hamming_loss\n",
    "\n",
    "from skmultilearn.problem_transform import ClassifierChain, BinaryRelevance\n",
    "from skmultilearn.adapt import MLkNN"
   ]
  },
  {
   "cell_type": "markdown",
   "id": "578cf2bf",
   "metadata": {},
   "source": [
    "## Carregando os dados"
   ]
  },
  {
   "cell_type": "code",
   "execution_count": 2,
   "id": "29ea9ae2",
   "metadata": {},
   "outputs": [
    {
     "data": {
      "text/html": [
       "<div>\n",
       "<style scoped>\n",
       "    .dataframe tbody tr th:only-of-type {\n",
       "        vertical-align: middle;\n",
       "    }\n",
       "\n",
       "    .dataframe tbody tr th {\n",
       "        vertical-align: top;\n",
       "    }\n",
       "\n",
       "    .dataframe thead th {\n",
       "        text-align: right;\n",
       "    }\n",
       "</style>\n",
       "<table border=\"1\" class=\"dataframe\">\n",
       "  <thead>\n",
       "    <tr style=\"text-align: right;\">\n",
       "      <th></th>\n",
       "      <th>Perguntas</th>\n",
       "      <th>Tags</th>\n",
       "    </tr>\n",
       "  </thead>\n",
       "  <tbody>\n",
       "    <tr>\n",
       "      <th>0</th>\n",
       "      <td>Possuo um projeto Node.js porém preciso criar ...</td>\n",
       "      <td>node.js</td>\n",
       "    </tr>\n",
       "    <tr>\n",
       "      <th>1</th>\n",
       "      <td>Gostaria de fazer testes unitários no Node.js,...</td>\n",
       "      <td>node.js</td>\n",
       "    </tr>\n",
       "    <tr>\n",
       "      <th>2</th>\n",
       "      <td>Como inverter a ordem com que o jQuery itera u...</td>\n",
       "      <td>jquery</td>\n",
       "    </tr>\n",
       "    <tr>\n",
       "      <th>3</th>\n",
       "      <td>Eu tenho uma página onde pretendo utilizar um ...</td>\n",
       "      <td>html</td>\n",
       "    </tr>\n",
       "    <tr>\n",
       "      <th>4</th>\n",
       "      <td>Como exibir os dados retornados do FireStore e...</td>\n",
       "      <td>html angular</td>\n",
       "    </tr>\n",
       "  </tbody>\n",
       "</table>\n",
       "</div>"
      ],
      "text/plain": [
       "                                           Perguntas           Tags\n",
       "0  Possuo um projeto Node.js porém preciso criar ...        node.js\n",
       "1  Gostaria de fazer testes unitários no Node.js,...        node.js\n",
       "2  Como inverter a ordem com que o jQuery itera u...         jquery\n",
       "3  Eu tenho uma página onde pretendo utilizar um ...           html\n",
       "4  Como exibir os dados retornados do FireStore e...  html angular "
      ]
     },
     "execution_count": 2,
     "metadata": {},
     "output_type": "execute_result"
    }
   ],
   "source": [
    "df = pd.read_csv('dataset/stackoverflow_perguntas.csv')\n",
    "df.head()"
   ]
  },
  {
   "cell_type": "code",
   "execution_count": 3,
   "id": "a1a6facc",
   "metadata": {},
   "outputs": [
    {
     "name": "stdout",
     "output_type": "stream",
     "text": [
      "O conjunto de dados é possui 5408 elementos e 2 atributos\n"
     ]
    }
   ],
   "source": [
    "print(f'O conjunto de dados é possui {df.shape[0]} elementos e {df.shape[1]} atributos')"
   ]
  },
  {
   "cell_type": "code",
   "execution_count": 4,
   "id": "ab0af039",
   "metadata": {},
   "outputs": [
    {
     "data": {
      "text/plain": [
       "37"
      ]
     },
     "execution_count": 4,
     "metadata": {},
     "output_type": "execute_result"
    }
   ],
   "source": [
    "df.Tags.nunique()"
   ]
  },
  {
   "cell_type": "code",
   "execution_count": 5,
   "id": "505359f3",
   "metadata": {},
   "outputs": [
    {
     "data": {
      "text/plain": [
       "array(['node.js', 'jquery', 'html', 'html angular', 'angular',\n",
       "       'jquery html', 'angular node.js', 'jquery html angular',\n",
       "       'html jquery', 'jquery angular', 'html node.js', 'jquery node.js',\n",
       "       'node.js html', 'angular html', 'html angular  node.js',\n",
       "       'jquery html node.js', 'html angular node.js'], dtype=object)"
      ]
     },
     "execution_count": 5,
     "metadata": {},
     "output_type": "execute_result"
    }
   ],
   "source": [
    "df.Tags.str.strip().unique()"
   ]
  },
  {
   "cell_type": "code",
   "execution_count": 6,
   "id": "a7ebd40a",
   "metadata": {},
   "outputs": [],
   "source": [
    "lista_de_tags = set(np.concatenate([i.split() for i in df.Tags.str.strip().unique()]).flat)"
   ]
  },
  {
   "cell_type": "markdown",
   "id": "c77b87ff",
   "metadata": {},
   "source": [
    "## Criando uma coluna para cada tag do dataframe"
   ]
  },
  {
   "cell_type": "code",
   "execution_count": 7,
   "id": "b3018503",
   "metadata": {
    "scrolled": false
   },
   "outputs": [
    {
     "data": {
      "text/html": [
       "<div>\n",
       "<style scoped>\n",
       "    .dataframe tbody tr th:only-of-type {\n",
       "        vertical-align: middle;\n",
       "    }\n",
       "\n",
       "    .dataframe tbody tr th {\n",
       "        vertical-align: top;\n",
       "    }\n",
       "\n",
       "    .dataframe thead th {\n",
       "        text-align: right;\n",
       "    }\n",
       "</style>\n",
       "<table border=\"1\" class=\"dataframe\">\n",
       "  <thead>\n",
       "    <tr style=\"text-align: right;\">\n",
       "      <th></th>\n",
       "      <th>Perguntas</th>\n",
       "      <th>node.js</th>\n",
       "      <th>jquery</th>\n",
       "      <th>html</th>\n",
       "      <th>angular</th>\n",
       "    </tr>\n",
       "  </thead>\n",
       "  <tbody>\n",
       "    <tr>\n",
       "      <th>1791</th>\n",
       "      <td>Tenho um site e necessito inserir um mapa do a...</td>\n",
       "      <td>0</td>\n",
       "      <td>0</td>\n",
       "      <td>1</td>\n",
       "      <td>0</td>\n",
       "    </tr>\n",
       "    <tr>\n",
       "      <th>4268</th>\n",
       "      <td>Olá, já postei diversas mensagens sobre o assu...</td>\n",
       "      <td>1</td>\n",
       "      <td>0</td>\n",
       "      <td>1</td>\n",
       "      <td>0</td>\n",
       "    </tr>\n",
       "    <tr>\n",
       "      <th>4890</th>\n",
       "      <td>Preciso enviar dados de um formulário via ajax...</td>\n",
       "      <td>0</td>\n",
       "      <td>1</td>\n",
       "      <td>1</td>\n",
       "      <td>0</td>\n",
       "    </tr>\n",
       "    <tr>\n",
       "      <th>2488</th>\n",
       "      <td>Estou com uma dúvida e está meio difícil encon...</td>\n",
       "      <td>0</td>\n",
       "      <td>0</td>\n",
       "      <td>1</td>\n",
       "      <td>0</td>\n",
       "    </tr>\n",
       "    <tr>\n",
       "      <th>1854</th>\n",
       "      <td>Preciso que um GIF fique funcionando enquanto ...</td>\n",
       "      <td>0</td>\n",
       "      <td>1</td>\n",
       "      <td>1</td>\n",
       "      <td>0</td>\n",
       "    </tr>\n",
       "    <tr>\n",
       "      <th>1161</th>\n",
       "      <td>Onde está o erro aqui? Gostaria que a imagem a...</td>\n",
       "      <td>0</td>\n",
       "      <td>0</td>\n",
       "      <td>1</td>\n",
       "      <td>0</td>\n",
       "    </tr>\n",
       "    <tr>\n",
       "      <th>1513</th>\n",
       "      <td>Tenho uma função chamada por dois elementos HT...</td>\n",
       "      <td>0</td>\n",
       "      <td>1</td>\n",
       "      <td>0</td>\n",
       "      <td>0</td>\n",
       "    </tr>\n",
       "    <tr>\n",
       "      <th>674</th>\n",
       "      <td>Como verificar se há algum elemento visível ou...</td>\n",
       "      <td>0</td>\n",
       "      <td>1</td>\n",
       "      <td>0</td>\n",
       "      <td>0</td>\n",
       "    </tr>\n",
       "    <tr>\n",
       "      <th>3683</th>\n",
       "      <td>Estou tentando passar o CODE  do CODE  dentro ...</td>\n",
       "      <td>0</td>\n",
       "      <td>0</td>\n",
       "      <td>0</td>\n",
       "      <td>1</td>\n",
       "    </tr>\n",
       "    <tr>\n",
       "      <th>1905</th>\n",
       "      <td>Galera montei um sistema de abas utilizando jQ...</td>\n",
       "      <td>0</td>\n",
       "      <td>1</td>\n",
       "      <td>1</td>\n",
       "      <td>0</td>\n",
       "    </tr>\n",
       "  </tbody>\n",
       "</table>\n",
       "</div>"
      ],
      "text/plain": [
       "                                              Perguntas  node.js  jquery  \\\n",
       "1791  Tenho um site e necessito inserir um mapa do a...        0       0   \n",
       "4268  Olá, já postei diversas mensagens sobre o assu...        1       0   \n",
       "4890  Preciso enviar dados de um formulário via ajax...        0       1   \n",
       "2488  Estou com uma dúvida e está meio difícil encon...        0       0   \n",
       "1854  Preciso que um GIF fique funcionando enquanto ...        0       1   \n",
       "1161  Onde está o erro aqui? Gostaria que a imagem a...        0       0   \n",
       "1513  Tenho uma função chamada por dois elementos HT...        0       1   \n",
       "674   Como verificar se há algum elemento visível ou...        0       1   \n",
       "3683  Estou tentando passar o CODE  do CODE  dentro ...        0       0   \n",
       "1905  Galera montei um sistema de abas utilizando jQ...        0       1   \n",
       "\n",
       "      html  angular  \n",
       "1791     1        0  \n",
       "4268     1        0  \n",
       "4890     1        0  \n",
       "2488     1        0  \n",
       "1854     1        0  \n",
       "1161     1        0  \n",
       "1513     0        0  \n",
       "674      0        0  \n",
       "3683     0        1  \n",
       "1905     1        0  "
      ]
     },
     "execution_count": 7,
     "metadata": {},
     "output_type": "execute_result"
    }
   ],
   "source": [
    "def tags_categoricas(tags):\n",
    "    dic = dict()\n",
    "    for tag in tags.split():\n",
    "        dic[tag] = 1\n",
    "    return dic\n",
    "\n",
    "dic = df.Tags.apply(tags_categoricas)\n",
    "\n",
    "colunas_de_tags = pd.DataFrame.from_records(dic).fillna(0).astype('int')\n",
    "df = pd.concat([df, colunas_de_tags], axis=1).drop('Tags', axis=1)\n",
    "df.sample(10)"
   ]
  },
  {
   "cell_type": "markdown",
   "id": "e25d2d8e",
   "metadata": {},
   "source": [
    "## Criando uma coluna com todas as tags que serão os labels do modelo"
   ]
  },
  {
   "cell_type": "code",
   "execution_count": 8,
   "id": "7308b073",
   "metadata": {},
   "outputs": [
    {
     "data": {
      "text/html": [
       "<div>\n",
       "<style scoped>\n",
       "    .dataframe tbody tr th:only-of-type {\n",
       "        vertical-align: middle;\n",
       "    }\n",
       "\n",
       "    .dataframe tbody tr th {\n",
       "        vertical-align: top;\n",
       "    }\n",
       "\n",
       "    .dataframe thead th {\n",
       "        text-align: right;\n",
       "    }\n",
       "</style>\n",
       "<table border=\"1\" class=\"dataframe\">\n",
       "  <thead>\n",
       "    <tr style=\"text-align: right;\">\n",
       "      <th></th>\n",
       "      <th>Perguntas</th>\n",
       "      <th>node.js</th>\n",
       "      <th>jquery</th>\n",
       "      <th>html</th>\n",
       "      <th>angular</th>\n",
       "      <th>todas_tags</th>\n",
       "    </tr>\n",
       "  </thead>\n",
       "  <tbody>\n",
       "    <tr>\n",
       "      <th>3363</th>\n",
       "      <td>Estou usando o seguinte código:  CODE   O prob...</td>\n",
       "      <td>0</td>\n",
       "      <td>1</td>\n",
       "      <td>0</td>\n",
       "      <td>0</td>\n",
       "      <td>(1, 0, 0, 0)</td>\n",
       "    </tr>\n",
       "    <tr>\n",
       "      <th>2973</th>\n",
       "      <td>Estou criando um app de smartphone usando Cord...</td>\n",
       "      <td>0</td>\n",
       "      <td>1</td>\n",
       "      <td>1</td>\n",
       "      <td>0</td>\n",
       "      <td>(1, 0, 0, 1)</td>\n",
       "    </tr>\n",
       "    <tr>\n",
       "      <th>555</th>\n",
       "      <td>Estou iniciando meus estudos em Angular 7 e em...</td>\n",
       "      <td>0</td>\n",
       "      <td>0</td>\n",
       "      <td>1</td>\n",
       "      <td>1</td>\n",
       "      <td>(0, 0, 1, 1)</td>\n",
       "    </tr>\n",
       "    <tr>\n",
       "      <th>4204</th>\n",
       "      <td>Tenho uma API e estou a tentar conectar com um...</td>\n",
       "      <td>1</td>\n",
       "      <td>0</td>\n",
       "      <td>0</td>\n",
       "      <td>0</td>\n",
       "      <td>(0, 1, 0, 0)</td>\n",
       "    </tr>\n",
       "    <tr>\n",
       "      <th>1951</th>\n",
       "      <td>Neste script a baixo ele faz uma alternancia e...</td>\n",
       "      <td>0</td>\n",
       "      <td>1</td>\n",
       "      <td>0</td>\n",
       "      <td>0</td>\n",
       "      <td>(1, 0, 0, 0)</td>\n",
       "    </tr>\n",
       "    <tr>\n",
       "      <th>4656</th>\n",
       "      <td>O que desejo fazer  O cara tem no formulário a...</td>\n",
       "      <td>0</td>\n",
       "      <td>1</td>\n",
       "      <td>0</td>\n",
       "      <td>0</td>\n",
       "      <td>(1, 0, 0, 0)</td>\n",
       "    </tr>\n",
       "    <tr>\n",
       "      <th>603</th>\n",
       "      <td>Ao atualizar a biblioteca SweetAlert ela parou...</td>\n",
       "      <td>0</td>\n",
       "      <td>1</td>\n",
       "      <td>0</td>\n",
       "      <td>0</td>\n",
       "      <td>(1, 0, 0, 0)</td>\n",
       "    </tr>\n",
       "    <tr>\n",
       "      <th>3030</th>\n",
       "      <td>CODE</td>\n",
       "      <td>0</td>\n",
       "      <td>1</td>\n",
       "      <td>1</td>\n",
       "      <td>0</td>\n",
       "      <td>(1, 0, 0, 1)</td>\n",
       "    </tr>\n",
       "    <tr>\n",
       "      <th>2970</th>\n",
       "      <td>Existe algum plugin em jQuery que faz este tip...</td>\n",
       "      <td>0</td>\n",
       "      <td>1</td>\n",
       "      <td>0</td>\n",
       "      <td>0</td>\n",
       "      <td>(1, 0, 0, 0)</td>\n",
       "    </tr>\n",
       "    <tr>\n",
       "      <th>207</th>\n",
       "      <td>Gostaria de formatar texto na seguinte linha: ...</td>\n",
       "      <td>0</td>\n",
       "      <td>1</td>\n",
       "      <td>0</td>\n",
       "      <td>0</td>\n",
       "      <td>(1, 0, 0, 0)</td>\n",
       "    </tr>\n",
       "  </tbody>\n",
       "</table>\n",
       "</div>"
      ],
      "text/plain": [
       "                                              Perguntas  node.js  jquery  \\\n",
       "3363  Estou usando o seguinte código:  CODE   O prob...        0       1   \n",
       "2973  Estou criando um app de smartphone usando Cord...        0       1   \n",
       "555   Estou iniciando meus estudos em Angular 7 e em...        0       0   \n",
       "4204  Tenho uma API e estou a tentar conectar com um...        1       0   \n",
       "1951  Neste script a baixo ele faz uma alternancia e...        0       1   \n",
       "4656  O que desejo fazer  O cara tem no formulário a...        0       1   \n",
       "603   Ao atualizar a biblioteca SweetAlert ela parou...        0       1   \n",
       "3030                                               CODE        0       1   \n",
       "2970  Existe algum plugin em jQuery que faz este tip...        0       1   \n",
       "207   Gostaria de formatar texto na seguinte linha: ...        0       1   \n",
       "\n",
       "      html  angular    todas_tags  \n",
       "3363     0        0  (1, 0, 0, 0)  \n",
       "2973     1        0  (1, 0, 0, 1)  \n",
       "555      1        1  (0, 0, 1, 1)  \n",
       "4204     0        0  (0, 1, 0, 0)  \n",
       "1951     0        0  (1, 0, 0, 0)  \n",
       "4656     0        0  (1, 0, 0, 0)  \n",
       "603      0        0  (1, 0, 0, 0)  \n",
       "3030     1        0  (1, 0, 0, 1)  \n",
       "2970     0        0  (1, 0, 0, 0)  \n",
       "207      0        0  (1, 0, 0, 0)  "
      ]
     },
     "execution_count": 8,
     "metadata": {},
     "output_type": "execute_result"
    }
   ],
   "source": [
    "lista_de_tags = list(lista_de_tags)\n",
    "lista_zip_tags = list(zip(df[lista_de_tags[0]],\n",
    "                          df[lista_de_tags[1]],\n",
    "                          df[lista_de_tags[2]],\n",
    "                          df[lista_de_tags[3]]))\n",
    "df['todas_tags'] = lista_zip_tags\n",
    "df.sample(10)"
   ]
  },
  {
   "cell_type": "code",
   "execution_count": 9,
   "id": "1e142fc3",
   "metadata": {},
   "outputs": [],
   "source": [
    "X = df['Perguntas']\n",
    "y = df.todas_tags\n",
    "\n",
    "X_train, X_test, y_train, y_test = train_test_split(X, y,\n",
    "                                                    test_size=0.2,\n",
    "                                                    random_state=123)\n",
    "\n",
    "y_train_array = np.asarray(list(y_train))\n",
    "y_test_array = np.asarray(list(y_test))"
   ]
  },
  {
   "cell_type": "code",
   "execution_count": 10,
   "id": "ad41c79d",
   "metadata": {},
   "outputs": [
    {
     "name": "stdout",
     "output_type": "stream",
     "text": [
      "(4326, 5000)\n",
      "(1082, 5000)\n"
     ]
    }
   ],
   "source": [
    "vetorizador = TfidfVectorizer(max_features=5000, max_df=0.85)\n",
    "\n",
    "vetorizador.fit(X)\n",
    "X_train_tfidf = vetorizador.transform(X_train)\n",
    "X_test_tfidf = vetorizador.transform(X_test)\n",
    "print(X_train_tfidf.shape)\n",
    "print(X_test_tfidf.shape)"
   ]
  },
  {
   "cell_type": "markdown",
   "id": "304d5450",
   "metadata": {},
   "source": [
    "## 1º Modelo - Binary Relevance (OneVsRest)\n",
    "Nesse modelo é criado um modelo indepedente para cada label"
   ]
  },
  {
   "cell_type": "code",
   "execution_count": 27,
   "id": "1e006a46",
   "metadata": {},
   "outputs": [
    {
     "name": "stdout",
     "output_type": "stream",
     "text": [
      "O score do modelo OneVsRestClassifier é: 41.68%\n"
     ]
    }
   ],
   "source": [
    "regressao_logistica = LogisticRegression()\n",
    "classificador_onevsrest = OneVsRestClassifier(regressao_logistica)\n",
    "classificador_onevsrest.fit(X_train_tfidf, y_train_array)\n",
    "score_onevsrest = classificador_onevsrest.score(X_test_tfidf, y_test_array)\n",
    "\n",
    "print(f'O score do modelo OneVsRestClassifier é: {score_onevsrest:0.2%}')"
   ]
  },
  {
   "cell_type": "code",
   "execution_count": 28,
   "id": "3bab68ba",
   "metadata": {},
   "outputs": [
    {
     "name": "stdout",
     "output_type": "stream",
     "text": [
      "O hamming loss do modelo OneVsRest é: 0.188\n"
     ]
    }
   ],
   "source": [
    "y_pred_onevsrest = classificador_onevsrest.predict(X_test_tfidf)\n",
    "score_onevsrest_hamming_loss = hamming_loss(y_test_array, y_pred_onevsrest)\n",
    "\n",
    "print(f'O hamming loss do modelo OneVsRest é: {score_onevsrest_hamming_loss:0.3f}')"
   ]
  },
  {
   "cell_type": "code",
   "execution_count": 29,
   "id": "72184a9a",
   "metadata": {},
   "outputs": [
    {
     "data": {
      "text/html": [
       "<div>\n",
       "<style scoped>\n",
       "    .dataframe tbody tr th:only-of-type {\n",
       "        vertical-align: middle;\n",
       "    }\n",
       "\n",
       "    .dataframe tbody tr th {\n",
       "        vertical-align: top;\n",
       "    }\n",
       "\n",
       "    .dataframe thead th {\n",
       "        text-align: right;\n",
       "    }\n",
       "</style>\n",
       "<table border=\"1\" class=\"dataframe\">\n",
       "  <thead>\n",
       "    <tr style=\"text-align: right;\">\n",
       "      <th></th>\n",
       "      <th>node.js</th>\n",
       "      <th>jquery</th>\n",
       "      <th>html</th>\n",
       "      <th>angular</th>\n",
       "    </tr>\n",
       "  </thead>\n",
       "  <tbody>\n",
       "    <tr>\n",
       "      <th>node.js</th>\n",
       "      <td>1.000000</td>\n",
       "      <td>-0.321485</td>\n",
       "      <td>-0.273523</td>\n",
       "      <td>-0.101787</td>\n",
       "    </tr>\n",
       "    <tr>\n",
       "      <th>jquery</th>\n",
       "      <td>-0.321485</td>\n",
       "      <td>1.000000</td>\n",
       "      <td>-0.253977</td>\n",
       "      <td>-0.366269</td>\n",
       "    </tr>\n",
       "    <tr>\n",
       "      <th>html</th>\n",
       "      <td>-0.273523</td>\n",
       "      <td>-0.253977</td>\n",
       "      <td>1.000000</td>\n",
       "      <td>-0.286706</td>\n",
       "    </tr>\n",
       "    <tr>\n",
       "      <th>angular</th>\n",
       "      <td>-0.101787</td>\n",
       "      <td>-0.366269</td>\n",
       "      <td>-0.286706</td>\n",
       "      <td>1.000000</td>\n",
       "    </tr>\n",
       "  </tbody>\n",
       "</table>\n",
       "</div>"
      ],
      "text/plain": [
       "          node.js    jquery      html   angular\n",
       "node.js  1.000000 -0.321485 -0.273523 -0.101787\n",
       "jquery  -0.321485  1.000000 -0.253977 -0.366269\n",
       "html    -0.273523 -0.253977  1.000000 -0.286706\n",
       "angular -0.101787 -0.366269 -0.286706  1.000000"
      ]
     },
     "execution_count": 29,
     "metadata": {},
     "output_type": "execute_result"
    }
   ],
   "source": [
    "df.corr()"
   ]
  },
  {
   "cell_type": "markdown",
   "id": "61cd9214",
   "metadata": {},
   "source": [
    "## 2º modelo - Classificação em cadeia\n",
    "Nesse modelo a correlação entre as tags é levado em consideração para o classificador"
   ]
  },
  {
   "cell_type": "code",
   "execution_count": 30,
   "id": "bacecc5c",
   "metadata": {},
   "outputs": [
    {
     "name": "stdout",
     "output_type": "stream",
     "text": [
      "A acuracia do modelo classificador em cadeia é: 52.31%\n"
     ]
    }
   ],
   "source": [
    "regressao_logistica = LogisticRegression()\n",
    "classificador_cadeia = ClassifierChain(regressao_logistica)\n",
    "classificador_cadeia.fit(X_train_tfidf, y_train_array)\n",
    "score_cadeia = classificador_cadeia.score(X_test_tfidf, y_test_array)\n",
    "\n",
    "print(f'A acuracia do modelo classificador em cadeia é: {score_cadeia:0.2%}')"
   ]
  },
  {
   "cell_type": "code",
   "execution_count": 31,
   "id": "92e38cae",
   "metadata": {},
   "outputs": [
    {
     "name": "stdout",
     "output_type": "stream",
     "text": [
      "O hamming loss do modelo de classificador em cadeia é: 0.201\n"
     ]
    }
   ],
   "source": [
    "y_pred_cadeia = classificador_cadeia.predict(X_test_tfidf)\n",
    "score_cadeia_hamming_loss = hamming_loss(y_test_array, y_pred_cadeia)\n",
    "\n",
    "print(f'O hamming loss do modelo de classificador em cadeia é: {score_cadeia_hamming_loss:0.3f}')"
   ]
  },
  {
   "cell_type": "markdown",
   "id": "5c4e969a",
   "metadata": {},
   "source": [
    "## 3º Modelo - Binary Relevance\n",
    "Utilizando o mesmo modelo do sklearn porem da biblioteca skmultilearn"
   ]
  },
  {
   "cell_type": "code",
   "execution_count": 32,
   "id": "389a5f8d",
   "metadata": {},
   "outputs": [
    {
     "name": "stdout",
     "output_type": "stream",
     "text": [
      "A acuracia do modelo de relevância binaria é: 41.68%\n"
     ]
    }
   ],
   "source": [
    "regressao_logistica = LogisticRegression()\n",
    "classificador_br = BinaryRelevance(regressao_logistica)\n",
    "classificador_br.fit(X_train_tfidf, y_train_array)\n",
    "score_br = classificador_br.score(X_test_tfidf, y_test_array)\n",
    "\n",
    "print(f'A acuracia do modelo de relevância binaria é: {score_br:0.2%}')"
   ]
  },
  {
   "cell_type": "code",
   "execution_count": 34,
   "id": "ed5e4693",
   "metadata": {},
   "outputs": [
    {
     "name": "stdout",
     "output_type": "stream",
     "text": [
      "O hamming loss do modelo de classificador em cadeia é: 0.188\n"
     ]
    }
   ],
   "source": [
    "y_pred_br = classificador_br.predict(X_test_tfidf)\n",
    "hamming_loss_br = hamming_loss(y_test_array, y_pred_br)\n",
    "\n",
    "print(f'O hamming loss do modelo de classificador em cadeia é: {hamming_loss_br:0.3f}')"
   ]
  },
  {
   "cell_type": "markdown",
   "id": "3d1bb668",
   "metadata": {},
   "source": [
    "## 4º Modelo - Multilabel K Nearest Neighbours"
   ]
  },
  {
   "cell_type": "code",
   "execution_count": 47,
   "id": "549348ae",
   "metadata": {},
   "outputs": [
    {
     "name": "stderr",
     "output_type": "stream",
     "text": [
      "E:\\Anaconda3\\lib\\site-packages\\sklearn\\utils\\validation.py:70: FutureWarning: Pass n_neighbors=10 as keyword args. From version 1.0 (renaming of 0.25) passing these as positional arguments will result in an error\n",
      "  warnings.warn(f\"Pass {args_msg} as keyword args. From version \"\n"
     ]
    },
    {
     "name": "stdout",
     "output_type": "stream",
     "text": [
      "A acuracia do modelo mlknn é: 32.53%\n",
      "O hamming loss do modelo mlknn é: 0.252\n"
     ]
    }
   ],
   "source": [
    "classificador_mlknn = MLkNN(k=10)\n",
    "classificador_mlknn.fit(X_train_tfidf, y_train_array)\n",
    "score_mlknn = classificador_mlknn.score(X_test_tfidf, y_test_array)\n",
    "\n",
    "y_pred_mlknn = classificador_mlknn.predict(X_test_tfidf)\n",
    "hamming_loss_mlknn = hamming_loss(y_test_array, y_pred_mlknn)\n",
    "\n",
    "print(f'A acuracia do modelo mlknn é: {score_mlknn:0.2%}')\n",
    "print(f'O hamming loss do modelo mlknn é: {hamming_loss_mlknn:0.3f}')"
   ]
  },
  {
   "cell_type": "markdown",
   "id": "74b0016a",
   "metadata": {},
   "source": [
    "## Resumo"
   ]
  },
  {
   "cell_type": "code",
   "execution_count": 69,
   "id": "ca26fb61",
   "metadata": {},
   "outputs": [
    {
     "data": {
      "text/html": [
       "<div>\n",
       "<style scoped>\n",
       "    .dataframe tbody tr th:only-of-type {\n",
       "        vertical-align: middle;\n",
       "    }\n",
       "\n",
       "    .dataframe tbody tr th {\n",
       "        vertical-align: top;\n",
       "    }\n",
       "\n",
       "    .dataframe thead th {\n",
       "        text-align: right;\n",
       "    }\n",
       "</style>\n",
       "<table border=\"1\" class=\"dataframe\">\n",
       "  <thead>\n",
       "    <tr style=\"text-align: right;\">\n",
       "      <th></th>\n",
       "      <th>Perguntas</th>\n",
       "      <th>Tags reais</th>\n",
       "      <th>Previsto cadeia</th>\n",
       "      <th>Previsto br</th>\n",
       "      <th>Previsto mlknn</th>\n",
       "    </tr>\n",
       "  </thead>\n",
       "  <tbody>\n",
       "    <tr>\n",
       "      <th>0</th>\n",
       "      <td>estou com conflito entre o  CODE   e os  CODE ...</td>\n",
       "      <td>(1, 0, 0, 0)</td>\n",
       "      <td>[1, 0, 0, 0]</td>\n",
       "      <td>[1, 0, 0, 0]</td>\n",
       "      <td>[0, 0, 0, 0]</td>\n",
       "    </tr>\n",
       "    <tr>\n",
       "      <th>1</th>\n",
       "      <td>Estou fazendo um site que eu sou obrigado a us...</td>\n",
       "      <td>(0, 0, 0, 1)</td>\n",
       "      <td>[0, 0, 0, 1]</td>\n",
       "      <td>[0, 0, 0, 1]</td>\n",
       "      <td>[1, 0, 0, 1]</td>\n",
       "    </tr>\n",
       "    <tr>\n",
       "      <th>2</th>\n",
       "      <td>Recentemente fiz um refactor do meu código par...</td>\n",
       "      <td>(0, 1, 0, 0)</td>\n",
       "      <td>[0, 1, 0, 0]</td>\n",
       "      <td>[0, 1, 0, 0]</td>\n",
       "      <td>[0, 1, 0, 0]</td>\n",
       "    </tr>\n",
       "    <tr>\n",
       "      <th>3</th>\n",
       "      <td>Eu tenho esse código em CODE  que passo valore...</td>\n",
       "      <td>(1, 0, 0, 1)</td>\n",
       "      <td>[1, 0, 0, 0]</td>\n",
       "      <td>[1, 0, 0, 0]</td>\n",
       "      <td>[1, 0, 0, 1]</td>\n",
       "    </tr>\n",
       "    <tr>\n",
       "      <th>4</th>\n",
       "      <td>Olá, em minha função tem o evento CODE  que de...</td>\n",
       "      <td>(1, 0, 0, 1)</td>\n",
       "      <td>[1, 0, 0, 0]</td>\n",
       "      <td>[1, 0, 0, 0]</td>\n",
       "      <td>[1, 0, 0, 1]</td>\n",
       "    </tr>\n",
       "  </tbody>\n",
       "</table>\n",
       "</div>"
      ],
      "text/plain": [
       "                                           Perguntas    Tags reais  \\\n",
       "0  estou com conflito entre o  CODE   e os  CODE ...  (1, 0, 0, 0)   \n",
       "1  Estou fazendo um site que eu sou obrigado a us...  (0, 0, 0, 1)   \n",
       "2  Recentemente fiz um refactor do meu código par...  (0, 1, 0, 0)   \n",
       "3  Eu tenho esse código em CODE  que passo valore...  (1, 0, 0, 1)   \n",
       "4  Olá, em minha função tem o evento CODE  que de...  (1, 0, 0, 1)   \n",
       "\n",
       "  Previsto cadeia   Previsto br Previsto mlknn  \n",
       "0    [1, 0, 0, 0]  [1, 0, 0, 0]   [0, 0, 0, 0]  \n",
       "1    [0, 0, 0, 1]  [0, 0, 0, 1]   [1, 0, 0, 1]  \n",
       "2    [0, 1, 0, 0]  [0, 1, 0, 0]   [0, 1, 0, 0]  \n",
       "3    [1, 0, 0, 0]  [1, 0, 0, 0]   [1, 0, 0, 1]  \n",
       "4    [1, 0, 0, 0]  [1, 0, 0, 0]   [1, 0, 0, 1]  "
      ]
     },
     "execution_count": 69,
     "metadata": {},
     "output_type": "execute_result"
    }
   ],
   "source": [
    "resultado_classificacoes = pd.DataFrame()\n",
    "resultado_classificacoes['Perguntas'] = X_test.values\n",
    "resultado_classificacoes['Tags reais'] = y_test.values\n",
    "resultado_classificacoes['Previsto cadeia'] = list(y_pred_cadeia.toarray().astype('int'))\n",
    "resultado_classificacoes['Previsto br'] = list(y_pred_br.toarray())\n",
    "resultado_classificacoes['Previsto mlknn'] = list(y_pred_mlknn.toarray())\n",
    "\n",
    "resultado_classificacoes.head()"
   ]
  },
  {
   "cell_type": "code",
   "execution_count": null,
   "id": "11d466dd",
   "metadata": {},
   "outputs": [],
   "source": []
  }
 ],
 "metadata": {
  "kernelspec": {
   "display_name": "Python 3 (ipykernel)",
   "language": "python",
   "name": "python3"
  },
  "language_info": {
   "codemirror_mode": {
    "name": "ipython",
    "version": 3
   },
   "file_extension": ".py",
   "mimetype": "text/x-python",
   "name": "python",
   "nbconvert_exporter": "python",
   "pygments_lexer": "ipython3",
   "version": "3.8.11"
  }
 },
 "nbformat": 4,
 "nbformat_minor": 5
}
